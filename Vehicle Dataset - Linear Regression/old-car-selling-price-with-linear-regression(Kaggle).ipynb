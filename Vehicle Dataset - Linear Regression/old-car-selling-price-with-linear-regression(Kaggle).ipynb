{
 "cells": [
  {
   "cell_type": "code",
   "execution_count": 4,
   "metadata": {
    "ExecuteTime": {
     "end_time": "2021-03-19T16:01:34.764718Z",
     "start_time": "2021-03-19T16:01:34.753747Z"
    },
    "_cell_guid": "b1076dfc-b9ad-4769-8c92-a6c4dae69d19",
    "_uuid": "8f2839f25d086af736a60e9eeb907d3b93b6e0e5"
   },
   "outputs": [
    {
     "data": {
      "text/plain": [
       "'# This Python 3 environment comes with many helpful analytics libraries installed\\n# It is defined by the kaggle/python Docker image: https://github.com/kaggle/docker-python\\n# For example, here\\'s several helpful packages to load\\n\\nimport numpy as np # linear algebra\\nimport pandas as pd # data processing, CSV file I/O (e.g. pd.read_csv)\\n\\n# Input data files are available in the read-only \"../input/\" directory\\n# For example, running this (by clicking run or pressing Shift+Enter) will list all files under the input directory\\n\\nimport os\\nfor dirname, _, filenames in os.walk(\\'/kaggle/input\\'):\\n    for filename in filenames:\\n        print(os.path.join(dirname, filename))\\n\\n# You can write up to 5GB to the current directory (/kaggle/working/) that gets preserved as output when you create a version using \"Save & Run All\" \\n# You can also write temporary files to /kaggle/temp/, but they won\\'t be saved outside of the current session'"
      ]
     },
     "execution_count": 4,
     "metadata": {},
     "output_type": "execute_result"
    }
   ],
   "source": [
    "'''# This Python 3 environment comes with many helpful analytics libraries installed\n",
    "# It is defined by the kaggle/python Docker image: https://github.com/kaggle/docker-python\n",
    "# For example, here's several helpful packages to load\n",
    "\n",
    "import numpy as np # linear algebra\n",
    "import pandas as pd # data processing, CSV file I/O (e.g. pd.read_csv)\n",
    "\n",
    "# Input data files are available in the read-only \"../input/\" directory\n",
    "# For example, running this (by clicking run or pressing Shift+Enter) will list all files under the input directory\n",
    "\n",
    "import os\n",
    "for dirname, _, filenames in os.walk('/kaggle/input'):\n",
    "    for filename in filenames:\n",
    "        print(os.path.join(dirname, filename))\n",
    "\n",
    "# You can write up to 5GB to the current directory (/kaggle/working/) that gets preserved as output when you create a version using \"Save & Run All\" \n",
    "# You can also write temporary files to /kaggle/temp/, but they won't be saved outside of the current session'''"
   ]
  },
  {
   "cell_type": "code",
   "execution_count": 5,
   "metadata": {
    "ExecuteTime": {
     "end_time": "2021-03-19T16:01:34.841512Z",
     "start_time": "2021-03-19T16:01:34.766713Z"
    },
    "_cell_guid": "79c7e3d0-c299-4dcb-8224-4455121ee9b0",
    "_uuid": "d629ff2d2480ee46fbb7e2d37f6b5fab8052498a"
   },
   "outputs": [],
   "source": [
    "import warnings\n",
    "warnings.filterwarnings('ignore')\n"
   ]
  },
  {
   "cell_type": "code",
   "execution_count": 6,
   "metadata": {
    "ExecuteTime": {
     "end_time": "2021-03-19T16:01:34.856472Z",
     "start_time": "2021-03-19T16:01:34.843507Z"
    }
   },
   "outputs": [],
   "source": [
    "import numpy as np\n",
    "import pandas as pd\n",
    "import matplotlib.pyplot as plt\n",
    "import seaborn as sns\n",
    "%matplotlib inline"
   ]
  },
  {
   "cell_type": "code",
   "execution_count": 7,
   "metadata": {
    "ExecuteTime": {
     "end_time": "2021-03-19T16:01:34.888423Z",
     "start_time": "2021-03-19T16:01:34.858469Z"
    }
   },
   "outputs": [],
   "source": [
    "# car = pd.read_csv(\"/kaggle/input/vehicle-dataset-from-cardekho/CAR DETAILS FROM CAR DEKHO.csv\")\n",
    "car = pd.read_csv(\"CAR_DETAILS_FROM_CAR_DEKHO.csv\")"
   ]
  },
  {
   "cell_type": "code",
   "execution_count": 8,
   "metadata": {
    "ExecuteTime": {
     "end_time": "2021-03-19T16:01:34.904344Z",
     "start_time": "2021-03-19T16:01:34.889384Z"
    }
   },
   "outputs": [
    {
     "data": {
      "text/html": [
       "<div>\n",
       "<style scoped>\n",
       "    .dataframe tbody tr th:only-of-type {\n",
       "        vertical-align: middle;\n",
       "    }\n",
       "\n",
       "    .dataframe tbody tr th {\n",
       "        vertical-align: top;\n",
       "    }\n",
       "\n",
       "    .dataframe thead th {\n",
       "        text-align: right;\n",
       "    }\n",
       "</style>\n",
       "<table border=\"1\" class=\"dataframe\">\n",
       "  <thead>\n",
       "    <tr style=\"text-align: right;\">\n",
       "      <th></th>\n",
       "      <th>name</th>\n",
       "      <th>year</th>\n",
       "      <th>selling_price</th>\n",
       "      <th>km_driven</th>\n",
       "      <th>fuel</th>\n",
       "      <th>seller_type</th>\n",
       "      <th>transmission</th>\n",
       "      <th>owner</th>\n",
       "    </tr>\n",
       "  </thead>\n",
       "  <tbody>\n",
       "    <tr>\n",
       "      <th>0</th>\n",
       "      <td>Maruti 800 AC</td>\n",
       "      <td>2007</td>\n",
       "      <td>60000</td>\n",
       "      <td>70000</td>\n",
       "      <td>Petrol</td>\n",
       "      <td>Individual</td>\n",
       "      <td>Manual</td>\n",
       "      <td>First Owner</td>\n",
       "    </tr>\n",
       "    <tr>\n",
       "      <th>1</th>\n",
       "      <td>Maruti Wagon R LXI Minor</td>\n",
       "      <td>2007</td>\n",
       "      <td>135000</td>\n",
       "      <td>50000</td>\n",
       "      <td>Petrol</td>\n",
       "      <td>Individual</td>\n",
       "      <td>Manual</td>\n",
       "      <td>First Owner</td>\n",
       "    </tr>\n",
       "    <tr>\n",
       "      <th>2</th>\n",
       "      <td>Hyundai Verna 1.6 SX</td>\n",
       "      <td>2012</td>\n",
       "      <td>600000</td>\n",
       "      <td>100000</td>\n",
       "      <td>Diesel</td>\n",
       "      <td>Individual</td>\n",
       "      <td>Manual</td>\n",
       "      <td>First Owner</td>\n",
       "    </tr>\n",
       "    <tr>\n",
       "      <th>3</th>\n",
       "      <td>Datsun RediGO T Option</td>\n",
       "      <td>2017</td>\n",
       "      <td>250000</td>\n",
       "      <td>46000</td>\n",
       "      <td>Petrol</td>\n",
       "      <td>Individual</td>\n",
       "      <td>Manual</td>\n",
       "      <td>First Owner</td>\n",
       "    </tr>\n",
       "    <tr>\n",
       "      <th>4</th>\n",
       "      <td>Honda Amaze VX i-DTEC</td>\n",
       "      <td>2014</td>\n",
       "      <td>450000</td>\n",
       "      <td>141000</td>\n",
       "      <td>Diesel</td>\n",
       "      <td>Individual</td>\n",
       "      <td>Manual</td>\n",
       "      <td>Second Owner</td>\n",
       "    </tr>\n",
       "  </tbody>\n",
       "</table>\n",
       "</div>"
      ],
      "text/plain": [
       "                       name  year  selling_price  km_driven    fuel  \\\n",
       "0             Maruti 800 AC  2007          60000      70000  Petrol   \n",
       "1  Maruti Wagon R LXI Minor  2007         135000      50000  Petrol   \n",
       "2      Hyundai Verna 1.6 SX  2012         600000     100000  Diesel   \n",
       "3    Datsun RediGO T Option  2017         250000      46000  Petrol   \n",
       "4     Honda Amaze VX i-DTEC  2014         450000     141000  Diesel   \n",
       "\n",
       "  seller_type transmission         owner  \n",
       "0  Individual       Manual   First Owner  \n",
       "1  Individual       Manual   First Owner  \n",
       "2  Individual       Manual   First Owner  \n",
       "3  Individual       Manual   First Owner  \n",
       "4  Individual       Manual  Second Owner  "
      ]
     },
     "execution_count": 8,
     "metadata": {},
     "output_type": "execute_result"
    }
   ],
   "source": [
    "car.head()"
   ]
  },
  {
   "cell_type": "markdown",
   "metadata": {},
   "source": [
    "### Adding new Variable for reference "
   ]
  },
  {
   "cell_type": "code",
   "execution_count": 9,
   "metadata": {
    "ExecuteTime": {
     "end_time": "2021-03-19T16:01:34.920338Z",
     "start_time": "2021-03-19T16:01:34.906340Z"
    }
   },
   "outputs": [],
   "source": [
    "car['current']= 2020"
   ]
  },
  {
   "cell_type": "markdown",
   "metadata": {},
   "source": [
    "### Adding new variable for Age column"
   ]
  },
  {
   "cell_type": "code",
   "execution_count": 10,
   "metadata": {
    "ExecuteTime": {
     "end_time": "2021-03-19T16:01:34.950222Z",
     "start_time": "2021-03-19T16:01:34.921299Z"
    }
   },
   "outputs": [],
   "source": [
    "car['age']=car['current']-car['year']"
   ]
  },
  {
   "cell_type": "markdown",
   "metadata": {},
   "source": [
    "### Drop all non required or repeative data"
   ]
  },
  {
   "cell_type": "code",
   "execution_count": 11,
   "metadata": {
    "ExecuteTime": {
     "end_time": "2021-03-19T16:01:34.965218Z",
     "start_time": "2021-03-19T16:01:34.952216Z"
    }
   },
   "outputs": [
    {
     "data": {
      "text/html": [
       "<div>\n",
       "<style scoped>\n",
       "    .dataframe tbody tr th:only-of-type {\n",
       "        vertical-align: middle;\n",
       "    }\n",
       "\n",
       "    .dataframe tbody tr th {\n",
       "        vertical-align: top;\n",
       "    }\n",
       "\n",
       "    .dataframe thead th {\n",
       "        text-align: right;\n",
       "    }\n",
       "</style>\n",
       "<table border=\"1\" class=\"dataframe\">\n",
       "  <thead>\n",
       "    <tr style=\"text-align: right;\">\n",
       "      <th></th>\n",
       "      <th>selling_price</th>\n",
       "      <th>km_driven</th>\n",
       "      <th>fuel</th>\n",
       "      <th>seller_type</th>\n",
       "      <th>transmission</th>\n",
       "      <th>owner</th>\n",
       "      <th>age</th>\n",
       "    </tr>\n",
       "  </thead>\n",
       "  <tbody>\n",
       "    <tr>\n",
       "      <th>0</th>\n",
       "      <td>60000</td>\n",
       "      <td>70000</td>\n",
       "      <td>Petrol</td>\n",
       "      <td>Individual</td>\n",
       "      <td>Manual</td>\n",
       "      <td>First Owner</td>\n",
       "      <td>13</td>\n",
       "    </tr>\n",
       "    <tr>\n",
       "      <th>1</th>\n",
       "      <td>135000</td>\n",
       "      <td>50000</td>\n",
       "      <td>Petrol</td>\n",
       "      <td>Individual</td>\n",
       "      <td>Manual</td>\n",
       "      <td>First Owner</td>\n",
       "      <td>13</td>\n",
       "    </tr>\n",
       "    <tr>\n",
       "      <th>2</th>\n",
       "      <td>600000</td>\n",
       "      <td>100000</td>\n",
       "      <td>Diesel</td>\n",
       "      <td>Individual</td>\n",
       "      <td>Manual</td>\n",
       "      <td>First Owner</td>\n",
       "      <td>8</td>\n",
       "    </tr>\n",
       "    <tr>\n",
       "      <th>3</th>\n",
       "      <td>250000</td>\n",
       "      <td>46000</td>\n",
       "      <td>Petrol</td>\n",
       "      <td>Individual</td>\n",
       "      <td>Manual</td>\n",
       "      <td>First Owner</td>\n",
       "      <td>3</td>\n",
       "    </tr>\n",
       "    <tr>\n",
       "      <th>4</th>\n",
       "      <td>450000</td>\n",
       "      <td>141000</td>\n",
       "      <td>Diesel</td>\n",
       "      <td>Individual</td>\n",
       "      <td>Manual</td>\n",
       "      <td>Second Owner</td>\n",
       "      <td>6</td>\n",
       "    </tr>\n",
       "  </tbody>\n",
       "</table>\n",
       "</div>"
      ],
      "text/plain": [
       "   selling_price  km_driven    fuel seller_type transmission         owner  \\\n",
       "0          60000      70000  Petrol  Individual       Manual   First Owner   \n",
       "1         135000      50000  Petrol  Individual       Manual   First Owner   \n",
       "2         600000     100000  Diesel  Individual       Manual   First Owner   \n",
       "3         250000      46000  Petrol  Individual       Manual   First Owner   \n",
       "4         450000     141000  Diesel  Individual       Manual  Second Owner   \n",
       "\n",
       "   age  \n",
       "0   13  \n",
       "1   13  \n",
       "2    8  \n",
       "3    3  \n",
       "4    6  "
      ]
     },
     "execution_count": 11,
     "metadata": {},
     "output_type": "execute_result"
    }
   ],
   "source": [
    "car.drop(['current','year','name'],axis=1,inplace=True)\n",
    "car.head()"
   ]
  },
  {
   "cell_type": "code",
   "execution_count": 12,
   "metadata": {
    "ExecuteTime": {
     "end_time": "2021-03-19T16:01:34.980223Z",
     "start_time": "2021-03-19T16:01:34.967177Z"
    }
   },
   "outputs": [
    {
     "name": "stdout",
     "output_type": "stream",
     "text": [
      "<class 'pandas.core.frame.DataFrame'>\n",
      "RangeIndex: 4340 entries, 0 to 4339\n",
      "Data columns (total 7 columns):\n",
      " #   Column         Non-Null Count  Dtype \n",
      "---  ------         --------------  ----- \n",
      " 0   selling_price  4340 non-null   int64 \n",
      " 1   km_driven      4340 non-null   int64 \n",
      " 2   fuel           4340 non-null   object\n",
      " 3   seller_type    4340 non-null   object\n",
      " 4   transmission   4340 non-null   object\n",
      " 5   owner          4340 non-null   object\n",
      " 6   age            4340 non-null   int64 \n",
      "dtypes: int64(3), object(4)\n",
      "memory usage: 237.5+ KB\n"
     ]
    }
   ],
   "source": [
    "car.info()"
   ]
  },
  {
   "cell_type": "code",
   "execution_count": 13,
   "metadata": {
    "ExecuteTime": {
     "end_time": "2021-03-19T16:01:34.996144Z",
     "start_time": "2021-03-19T16:01:34.982137Z"
    }
   },
   "outputs": [
    {
     "data": {
      "text/plain": [
       "(4340, 7)"
      ]
     },
     "execution_count": 13,
     "metadata": {},
     "output_type": "execute_result"
    }
   ],
   "source": [
    "car.shape"
   ]
  },
  {
   "cell_type": "code",
   "execution_count": 14,
   "metadata": {
    "ExecuteTime": {
     "end_time": "2021-03-19T16:01:35.027985Z",
     "start_time": "2021-03-19T16:01:34.997097Z"
    }
   },
   "outputs": [
    {
     "data": {
      "text/html": [
       "<div>\n",
       "<style scoped>\n",
       "    .dataframe tbody tr th:only-of-type {\n",
       "        vertical-align: middle;\n",
       "    }\n",
       "\n",
       "    .dataframe tbody tr th {\n",
       "        vertical-align: top;\n",
       "    }\n",
       "\n",
       "    .dataframe thead th {\n",
       "        text-align: right;\n",
       "    }\n",
       "</style>\n",
       "<table border=\"1\" class=\"dataframe\">\n",
       "  <thead>\n",
       "    <tr style=\"text-align: right;\">\n",
       "      <th></th>\n",
       "      <th>selling_price</th>\n",
       "      <th>km_driven</th>\n",
       "      <th>age</th>\n",
       "    </tr>\n",
       "  </thead>\n",
       "  <tbody>\n",
       "    <tr>\n",
       "      <th>count</th>\n",
       "      <td>4.340000e+03</td>\n",
       "      <td>4340.000000</td>\n",
       "      <td>4340.000000</td>\n",
       "    </tr>\n",
       "    <tr>\n",
       "      <th>mean</th>\n",
       "      <td>5.041273e+05</td>\n",
       "      <td>66215.777419</td>\n",
       "      <td>6.909217</td>\n",
       "    </tr>\n",
       "    <tr>\n",
       "      <th>std</th>\n",
       "      <td>5.785487e+05</td>\n",
       "      <td>46644.102194</td>\n",
       "      <td>4.215344</td>\n",
       "    </tr>\n",
       "    <tr>\n",
       "      <th>min</th>\n",
       "      <td>2.000000e+04</td>\n",
       "      <td>1.000000</td>\n",
       "      <td>0.000000</td>\n",
       "    </tr>\n",
       "    <tr>\n",
       "      <th>25%</th>\n",
       "      <td>2.087498e+05</td>\n",
       "      <td>35000.000000</td>\n",
       "      <td>4.000000</td>\n",
       "    </tr>\n",
       "    <tr>\n",
       "      <th>50%</th>\n",
       "      <td>3.500000e+05</td>\n",
       "      <td>60000.000000</td>\n",
       "      <td>6.000000</td>\n",
       "    </tr>\n",
       "    <tr>\n",
       "      <th>75%</th>\n",
       "      <td>6.000000e+05</td>\n",
       "      <td>90000.000000</td>\n",
       "      <td>9.000000</td>\n",
       "    </tr>\n",
       "    <tr>\n",
       "      <th>max</th>\n",
       "      <td>8.900000e+06</td>\n",
       "      <td>806599.000000</td>\n",
       "      <td>28.000000</td>\n",
       "    </tr>\n",
       "  </tbody>\n",
       "</table>\n",
       "</div>"
      ],
      "text/plain": [
       "       selling_price      km_driven          age\n",
       "count   4.340000e+03    4340.000000  4340.000000\n",
       "mean    5.041273e+05   66215.777419     6.909217\n",
       "std     5.785487e+05   46644.102194     4.215344\n",
       "min     2.000000e+04       1.000000     0.000000\n",
       "25%     2.087498e+05   35000.000000     4.000000\n",
       "50%     3.500000e+05   60000.000000     6.000000\n",
       "75%     6.000000e+05   90000.000000     9.000000\n",
       "max     8.900000e+06  806599.000000    28.000000"
      ]
     },
     "execution_count": 14,
     "metadata": {},
     "output_type": "execute_result"
    }
   ],
   "source": [
    "car.describe()"
   ]
  },
  {
   "cell_type": "markdown",
   "metadata": {},
   "source": [
    "#Point to note\n",
    "- Dataset has 4340 rows and 7 columns.\n",
    "- Looking at the data, there seems to be some fields that are categorical in nature, but in integer/float type.\n",
    "\n",
    "- We will analyse and finalize whether to convert them to categorical or treat as integer."
   ]
  },
  {
   "cell_type": "markdown",
   "metadata": {},
   "source": [
    "# DATA QUALITY CHECK"
   ]
  },
  {
   "cell_type": "markdown",
   "metadata": {},
   "source": [
    "## Check for NULL/MISSING values"
   ]
  },
  {
   "cell_type": "code",
   "execution_count": 15,
   "metadata": {
    "ExecuteTime": {
     "end_time": "2021-03-19T16:01:35.043942Z",
     "start_time": "2021-03-19T16:01:35.028983Z"
    }
   },
   "outputs": [
    {
     "data": {
      "text/plain": [
       "age              0.0\n",
       "owner            0.0\n",
       "transmission     0.0\n",
       "seller_type      0.0\n",
       "fuel             0.0\n",
       "km_driven        0.0\n",
       "selling_price    0.0\n",
       "dtype: float64"
      ]
     },
     "execution_count": 15,
     "metadata": {},
     "output_type": "execute_result"
    }
   ],
   "source": [
    "# percentage of missing values in each column\n",
    "round(100*(car.isnull().sum()/len(car)),2).sort_values(ascending = False)"
   ]
  },
  {
   "cell_type": "code",
   "execution_count": 16,
   "metadata": {
    "ExecuteTime": {
     "end_time": "2021-03-19T16:01:35.059900Z",
     "start_time": "2021-03-19T16:01:35.045938Z"
    }
   },
   "outputs": [
    {
     "data": {
      "text/plain": [
       "4339    0.0\n",
       "1440    0.0\n",
       "1454    0.0\n",
       "1453    0.0\n",
       "1452    0.0\n",
       "       ... \n",
       "2888    0.0\n",
       "2887    0.0\n",
       "2886    0.0\n",
       "2885    0.0\n",
       "0       0.0\n",
       "Length: 4340, dtype: float64"
      ]
     },
     "execution_count": 16,
     "metadata": {},
     "output_type": "execute_result"
    }
   ],
   "source": [
    "# percentage of missing values in each row\n",
    "round(100*(car.isnull().sum(axis=1)/len(car)),2).sort_values(ascending = False)"
   ]
  },
  {
   "cell_type": "markdown",
   "metadata": {},
   "source": [
    "## Finding\n",
    "- There are no missing / Null values either in columns or rows\n"
   ]
  },
  {
   "cell_type": "markdown",
   "metadata": {},
   "source": [
    "## Duplicate Check"
   ]
  },
  {
   "cell_type": "code",
   "execution_count": 17,
   "metadata": {
    "ExecuteTime": {
     "end_time": "2021-03-19T16:01:35.074860Z",
     "start_time": "2021-03-19T16:01:35.061896Z"
    }
   },
   "outputs": [],
   "source": [
    "car_dub=car.copy()\n",
    "# Checking for duplicates and dropping the entire duplicate row if any\n",
    "car_dub.drop_duplicates(subset=None, inplace=True)"
   ]
  },
  {
   "cell_type": "code",
   "execution_count": 18,
   "metadata": {
    "ExecuteTime": {
     "end_time": "2021-03-19T16:01:35.089819Z",
     "start_time": "2021-03-19T16:01:35.076855Z"
    }
   },
   "outputs": [
    {
     "data": {
      "text/plain": [
       "(3498, 7)"
      ]
     },
     "execution_count": 18,
     "metadata": {},
     "output_type": "execute_result"
    }
   ],
   "source": [
    "car_dub.shape"
   ]
  },
  {
   "cell_type": "code",
   "execution_count": 19,
   "metadata": {
    "ExecuteTime": {
     "end_time": "2021-03-19T16:01:35.105777Z",
     "start_time": "2021-03-19T16:01:35.091815Z"
    }
   },
   "outputs": [
    {
     "data": {
      "text/plain": [
       "(4340, 7)"
      ]
     },
     "execution_count": 19,
     "metadata": {},
     "output_type": "execute_result"
    }
   ],
   "source": [
    "car.shape"
   ]
  },
  {
   "cell_type": "markdown",
   "metadata": {},
   "source": [
    "# Insights\n",
    "- The shape after running the drop duplicate command is not same as the original dataframe.\n",
    "\n"
   ]
  },
  {
   "cell_type": "markdown",
   "metadata": {},
   "source": [
    "## Assign non duplicates records to orginal record "
   ]
  },
  {
   "cell_type": "code",
   "execution_count": 20,
   "metadata": {
    "ExecuteTime": {
     "end_time": "2021-03-19T16:01:35.121734Z",
     "start_time": "2021-03-19T16:01:35.107772Z"
    }
   },
   "outputs": [
    {
     "data": {
      "text/html": [
       "<div>\n",
       "<style scoped>\n",
       "    .dataframe tbody tr th:only-of-type {\n",
       "        vertical-align: middle;\n",
       "    }\n",
       "\n",
       "    .dataframe tbody tr th {\n",
       "        vertical-align: top;\n",
       "    }\n",
       "\n",
       "    .dataframe thead th {\n",
       "        text-align: right;\n",
       "    }\n",
       "</style>\n",
       "<table border=\"1\" class=\"dataframe\">\n",
       "  <thead>\n",
       "    <tr style=\"text-align: right;\">\n",
       "      <th></th>\n",
       "      <th>selling_price</th>\n",
       "      <th>km_driven</th>\n",
       "      <th>fuel</th>\n",
       "      <th>seller_type</th>\n",
       "      <th>transmission</th>\n",
       "      <th>owner</th>\n",
       "      <th>age</th>\n",
       "    </tr>\n",
       "  </thead>\n",
       "  <tbody>\n",
       "    <tr>\n",
       "      <th>0</th>\n",
       "      <td>60000</td>\n",
       "      <td>70000</td>\n",
       "      <td>Petrol</td>\n",
       "      <td>Individual</td>\n",
       "      <td>Manual</td>\n",
       "      <td>First Owner</td>\n",
       "      <td>13</td>\n",
       "    </tr>\n",
       "    <tr>\n",
       "      <th>1</th>\n",
       "      <td>135000</td>\n",
       "      <td>50000</td>\n",
       "      <td>Petrol</td>\n",
       "      <td>Individual</td>\n",
       "      <td>Manual</td>\n",
       "      <td>First Owner</td>\n",
       "      <td>13</td>\n",
       "    </tr>\n",
       "    <tr>\n",
       "      <th>2</th>\n",
       "      <td>600000</td>\n",
       "      <td>100000</td>\n",
       "      <td>Diesel</td>\n",
       "      <td>Individual</td>\n",
       "      <td>Manual</td>\n",
       "      <td>First Owner</td>\n",
       "      <td>8</td>\n",
       "    </tr>\n",
       "    <tr>\n",
       "      <th>3</th>\n",
       "      <td>250000</td>\n",
       "      <td>46000</td>\n",
       "      <td>Petrol</td>\n",
       "      <td>Individual</td>\n",
       "      <td>Manual</td>\n",
       "      <td>First Owner</td>\n",
       "      <td>3</td>\n",
       "    </tr>\n",
       "    <tr>\n",
       "      <th>4</th>\n",
       "      <td>450000</td>\n",
       "      <td>141000</td>\n",
       "      <td>Diesel</td>\n",
       "      <td>Individual</td>\n",
       "      <td>Manual</td>\n",
       "      <td>Second Owner</td>\n",
       "      <td>6</td>\n",
       "    </tr>\n",
       "  </tbody>\n",
       "</table>\n",
       "</div>"
      ],
      "text/plain": [
       "   selling_price  km_driven    fuel seller_type transmission         owner  \\\n",
       "0          60000      70000  Petrol  Individual       Manual   First Owner   \n",
       "1         135000      50000  Petrol  Individual       Manual   First Owner   \n",
       "2         600000     100000  Diesel  Individual       Manual   First Owner   \n",
       "3         250000      46000  Petrol  Individual       Manual   First Owner   \n",
       "4         450000     141000  Diesel  Individual       Manual  Second Owner   \n",
       "\n",
       "   age  \n",
       "0   13  \n",
       "1   13  \n",
       "2    8  \n",
       "3    3  \n",
       "4    6  "
      ]
     },
     "execution_count": 20,
     "metadata": {},
     "output_type": "execute_result"
    }
   ],
   "source": [
    "car=car_dub\n",
    "car.head()"
   ]
  },
  {
   "cell_type": "code",
   "execution_count": 21,
   "metadata": {
    "ExecuteTime": {
     "end_time": "2021-03-19T16:01:35.137691Z",
     "start_time": "2021-03-19T16:01:35.122732Z"
    }
   },
   "outputs": [
    {
     "name": "stdout",
     "output_type": "stream",
     "text": [
      "<class 'pandas.core.frame.DataFrame'>\n",
      "Int64Index: 3498 entries, 0 to 4339\n",
      "Data columns (total 7 columns):\n",
      " #   Column         Non-Null Count  Dtype \n",
      "---  ------         --------------  ----- \n",
      " 0   selling_price  3498 non-null   int64 \n",
      " 1   km_driven      3498 non-null   int64 \n",
      " 2   fuel           3498 non-null   object\n",
      " 3   seller_type    3498 non-null   object\n",
      " 4   transmission   3498 non-null   object\n",
      " 5   owner          3498 non-null   object\n",
      " 6   age            3498 non-null   int64 \n",
      "dtypes: int64(3), object(4)\n",
      "memory usage: 218.6+ KB\n"
     ]
    }
   ],
   "source": [
    "car.info()"
   ]
  },
  {
   "cell_type": "code",
   "execution_count": 22,
   "metadata": {
    "ExecuteTime": {
     "end_time": "2021-03-19T16:01:35.153649Z",
     "start_time": "2021-03-19T16:01:35.138689Z"
    }
   },
   "outputs": [
    {
     "data": {
      "text/plain": [
       "(3498, 7)"
      ]
     },
     "execution_count": 22,
     "metadata": {},
     "output_type": "execute_result"
    }
   ],
   "source": [
    "car.shape"
   ]
  },
  {
   "cell_type": "markdown",
   "metadata": {},
   "source": [
    "# Data Cleaning\n",
    "\n",
    "Checking value_counts() for entire dataframe.\n",
    "\n",
    "This will help to identify any Unknow/Junk values present in the dataset."
   ]
  },
  {
   "cell_type": "code",
   "execution_count": 23,
   "metadata": {
    "ExecuteTime": {
     "end_time": "2021-03-19T16:01:35.184594Z",
     "start_time": "2021-03-19T16:01:35.154646Z"
    }
   },
   "outputs": [
    {
     "name": "stdout",
     "output_type": "stream",
     "text": [
      "300000     122\n",
      "250000     107\n",
      "350000     104\n",
      "550000      82\n",
      "500000      81\n",
      "          ... \n",
      "1735000      1\n",
      "755000       1\n",
      "30000        1\n",
      "841000       1\n",
      "1825000      1\n",
      "Name: selling_price, Length: 445, dtype: int64 \n",
      "\n",
      "\n",
      "\n",
      "70000     202\n",
      "80000     197\n",
      "120000    192\n",
      "60000     189\n",
      "50000     171\n",
      "         ... \n",
      "141440      1\n",
      "74113       1\n",
      "240000      1\n",
      "22288       1\n",
      "34823       1\n",
      "Name: km_driven, Length: 770, dtype: int64 \n",
      "\n",
      "\n",
      "\n",
      "Diesel      1762\n",
      "Petrol      1676\n",
      "CNG           37\n",
      "LPG           22\n",
      "Electric       1\n",
      "Name: fuel, dtype: int64 \n",
      "\n",
      "\n",
      "\n",
      "Individual          2753\n",
      "Dealer               712\n",
      "Trustmark Dealer      33\n",
      "Name: seller_type, dtype: int64 \n",
      "\n",
      "\n",
      "\n",
      "Manual       3187\n",
      "Automatic     311\n",
      "Name: transmission, dtype: int64 \n",
      "\n",
      "\n",
      "\n",
      "First Owner             2157\n",
      "Second Owner             964\n",
      "Third Owner              285\n",
      "Fourth & Above Owner      75\n",
      "Test Drive Car            17\n",
      "Name: owner, dtype: int64 \n",
      "\n",
      "\n",
      "\n",
      "3     336\n",
      "8     332\n",
      "5     327\n",
      "6     315\n",
      "7     290\n",
      "2     285\n",
      "4     273\n",
      "9     244\n",
      "10    205\n",
      "11    167\n",
      "1     156\n",
      "12    127\n",
      "13    114\n",
      "14     93\n",
      "15     60\n",
      "0      45\n",
      "16     37\n",
      "17     22\n",
      "18     17\n",
      "19     16\n",
      "20     12\n",
      "22      9\n",
      "21      9\n",
      "23      3\n",
      "24      2\n",
      "25      1\n",
      "28      1\n",
      "Name: age, dtype: int64 \n",
      "\n",
      "\n",
      "\n"
     ]
    }
   ],
   "source": [
    "for col in car:\n",
    "    print(car[col].value_counts(ascending=False), '\\n\\n\\n')"
   ]
  },
  {
   "cell_type": "markdown",
   "metadata": {},
   "source": [
    "### Insights\n",
    "- There seems to be no Junk/Unknown values in the entire dataset."
   ]
  },
  {
   "cell_type": "markdown",
   "metadata": {},
   "source": [
    "# Creating Dummy Variables\n",
    "- We will create DUMMY variables for 4 categorical variables 'mnth', 'weekday', 'season' & 'weathersit'.\n",
    "\n",
    "- Before creating dummy variables, we will have to convert them into 'category' data types."
   ]
  },
  {
   "cell_type": "code",
   "execution_count": 24,
   "metadata": {
    "ExecuteTime": {
     "end_time": "2021-03-19T16:01:35.199528Z",
     "start_time": "2021-03-19T16:01:35.185564Z"
    }
   },
   "outputs": [],
   "source": [
    "#To hold original data & column after duplicates are removed\n",
    "car_o=car.copy()"
   ]
  },
  {
   "cell_type": "code",
   "execution_count": 25,
   "metadata": {
    "ExecuteTime": {
     "end_time": "2021-03-19T16:01:35.215485Z",
     "start_time": "2021-03-19T16:01:35.200525Z"
    }
   },
   "outputs": [
    {
     "name": "stdout",
     "output_type": "stream",
     "text": [
      "<class 'pandas.core.frame.DataFrame'>\n",
      "Int64Index: 3498 entries, 0 to 4339\n",
      "Data columns (total 7 columns):\n",
      " #   Column         Non-Null Count  Dtype \n",
      "---  ------         --------------  ----- \n",
      " 0   selling_price  3498 non-null   int64 \n",
      " 1   km_driven      3498 non-null   int64 \n",
      " 2   fuel           3498 non-null   object\n",
      " 3   seller_type    3498 non-null   object\n",
      " 4   transmission   3498 non-null   object\n",
      " 5   owner          3498 non-null   object\n",
      " 6   age            3498 non-null   int64 \n",
      "dtypes: int64(3), object(4)\n",
      "memory usage: 218.6+ KB\n"
     ]
    }
   ],
   "source": [
    "car.info()"
   ]
  },
  {
   "cell_type": "code",
   "execution_count": 26,
   "metadata": {
    "ExecuteTime": {
     "end_time": "2021-03-19T16:01:35.231517Z",
     "start_time": "2021-03-19T16:01:35.219509Z"
    }
   },
   "outputs": [],
   "source": [
    "# Convert to 'category' data type\n",
    "car['fuel']=car['fuel'].astype('category')\n",
    "car['seller_type']=car['seller_type'].astype('category')\n",
    "car['transmission']=car['transmission'].astype('category')\n",
    "car['owner']=car['owner'].astype('category')"
   ]
  },
  {
   "cell_type": "code",
   "execution_count": 27,
   "metadata": {
    "ExecuteTime": {
     "end_time": "2021-03-19T16:01:35.247399Z",
     "start_time": "2021-03-19T16:01:35.233436Z"
    }
   },
   "outputs": [
    {
     "name": "stdout",
     "output_type": "stream",
     "text": [
      "<class 'pandas.core.frame.DataFrame'>\n",
      "Int64Index: 3498 entries, 0 to 4339\n",
      "Data columns (total 7 columns):\n",
      " #   Column         Non-Null Count  Dtype   \n",
      "---  ------         --------------  -----   \n",
      " 0   selling_price  3498 non-null   int64   \n",
      " 1   km_driven      3498 non-null   int64   \n",
      " 2   fuel           3498 non-null   category\n",
      " 3   seller_type    3498 non-null   category\n",
      " 4   transmission   3498 non-null   category\n",
      " 5   owner          3498 non-null   category\n",
      " 6   age            3498 non-null   int64   \n",
      "dtypes: category(4), int64(3)\n",
      "memory usage: 123.6 KB\n"
     ]
    }
   ],
   "source": [
    "car.info()"
   ]
  },
  {
   "cell_type": "code",
   "execution_count": 28,
   "metadata": {
    "ExecuteTime": {
     "end_time": "2021-03-19T16:01:35.311228Z",
     "start_time": "2021-03-19T16:01:35.248397Z"
    }
   },
   "outputs": [
    {
     "name": "stdout",
     "output_type": "stream",
     "text": [
      "<class 'pandas.core.frame.DataFrame'>\n",
      "Int64Index: 3498 entries, 0 to 4339\n",
      "Data columns (total 14 columns):\n",
      " #   Column                        Non-Null Count  Dtype\n",
      "---  ------                        --------------  -----\n",
      " 0   selling_price                 3498 non-null   int64\n",
      " 1   km_driven                     3498 non-null   int64\n",
      " 2   age                           3498 non-null   int64\n",
      " 3   fuel_Diesel                   3498 non-null   uint8\n",
      " 4   fuel_Electric                 3498 non-null   uint8\n",
      " 5   fuel_LPG                      3498 non-null   uint8\n",
      " 6   fuel_Petrol                   3498 non-null   uint8\n",
      " 7   seller_type_Individual        3498 non-null   uint8\n",
      " 8   seller_type_Trustmark Dealer  3498 non-null   uint8\n",
      " 9   transmission_Manual           3498 non-null   uint8\n",
      " 10  owner_Fourth & Above Owner    3498 non-null   uint8\n",
      " 11  owner_Second Owner            3498 non-null   uint8\n",
      " 12  owner_Test Drive Car          3498 non-null   uint8\n",
      " 13  owner_Third Owner             3498 non-null   uint8\n",
      "dtypes: int64(3), uint8(11)\n",
      "memory usage: 146.9 KB\n"
     ]
    }
   ],
   "source": [
    "# This code does 3 things:\n",
    "# 1) Create Dummy variable\n",
    "# 2) Drop original variable for which the dummy was created\n",
    "# 3) Drop first dummy variable for each set of dummies created.\n",
    "\n",
    "car = pd.get_dummies(car, drop_first=True)\n",
    "car.info()"
   ]
  },
  {
   "cell_type": "markdown",
   "metadata": {},
   "source": [
    "# SPLITTING THE DATA\n",
    "- Splitting the data to Train and Test: - We will now split the data into TRAIN and TEST (70:30 ratio)\n",
    "- We will use train_test_split method from sklearn package for this"
   ]
  },
  {
   "cell_type": "code",
   "execution_count": 29,
   "metadata": {
    "ExecuteTime": {
     "end_time": "2021-03-19T16:01:35.326226Z",
     "start_time": "2021-03-19T16:01:35.313223Z"
    }
   },
   "outputs": [
    {
     "data": {
      "text/plain": [
       "(3498, 14)"
      ]
     },
     "execution_count": 29,
     "metadata": {},
     "output_type": "execute_result"
    }
   ],
   "source": [
    "# Check the shape before spliting\n",
    "\n",
    "car.shape\n"
   ]
  },
  {
   "cell_type": "code",
   "execution_count": 30,
   "metadata": {
    "ExecuteTime": {
     "end_time": "2021-03-19T16:01:35.342180Z",
     "start_time": "2021-03-19T16:01:35.327185Z"
    }
   },
   "outputs": [
    {
     "name": "stdout",
     "output_type": "stream",
     "text": [
      "<class 'pandas.core.frame.DataFrame'>\n",
      "Int64Index: 3498 entries, 0 to 4339\n",
      "Data columns (total 14 columns):\n",
      " #   Column                        Non-Null Count  Dtype\n",
      "---  ------                        --------------  -----\n",
      " 0   selling_price                 3498 non-null   int64\n",
      " 1   km_driven                     3498 non-null   int64\n",
      " 2   age                           3498 non-null   int64\n",
      " 3   fuel_Diesel                   3498 non-null   uint8\n",
      " 4   fuel_Electric                 3498 non-null   uint8\n",
      " 5   fuel_LPG                      3498 non-null   uint8\n",
      " 6   fuel_Petrol                   3498 non-null   uint8\n",
      " 7   seller_type_Individual        3498 non-null   uint8\n",
      " 8   seller_type_Trustmark Dealer  3498 non-null   uint8\n",
      " 9   transmission_Manual           3498 non-null   uint8\n",
      " 10  owner_Fourth & Above Owner    3498 non-null   uint8\n",
      " 11  owner_Second Owner            3498 non-null   uint8\n",
      " 12  owner_Test Drive Car          3498 non-null   uint8\n",
      " 13  owner_Third Owner             3498 non-null   uint8\n",
      "dtypes: int64(3), uint8(11)\n",
      "memory usage: 146.9 KB\n"
     ]
    }
   ],
   "source": [
    "# Check the info before spliting\n",
    "\n",
    "car.info()"
   ]
  },
  {
   "cell_type": "code",
   "execution_count": 31,
   "metadata": {
    "ExecuteTime": {
     "end_time": "2021-03-19T16:01:35.406010Z",
     "start_time": "2021-03-19T16:01:35.343145Z"
    }
   },
   "outputs": [],
   "source": [
    "from sklearn.model_selection import train_test_split\n",
    "\n",
    "# We should specify 'random_state' so that the train and test data set always have the same rows, respectively\n",
    "\n",
    "np.random.seed(0)\n",
    "df_train, df_test = train_test_split(car, train_size = 0.70, test_size = 0.30, random_state = 100)"
   ]
  },
  {
   "cell_type": "markdown",
   "metadata": {},
   "source": [
    "- Verify the info and shape of the dataframes after split:"
   ]
  },
  {
   "cell_type": "code",
   "execution_count": 32,
   "metadata": {
    "ExecuteTime": {
     "end_time": "2021-03-19T16:01:35.421959Z",
     "start_time": "2021-03-19T16:01:35.406971Z"
    }
   },
   "outputs": [
    {
     "name": "stdout",
     "output_type": "stream",
     "text": [
      "<class 'pandas.core.frame.DataFrame'>\n",
      "Int64Index: 2448 entries, 3797 to 1725\n",
      "Data columns (total 14 columns):\n",
      " #   Column                        Non-Null Count  Dtype\n",
      "---  ------                        --------------  -----\n",
      " 0   selling_price                 2448 non-null   int64\n",
      " 1   km_driven                     2448 non-null   int64\n",
      " 2   age                           2448 non-null   int64\n",
      " 3   fuel_Diesel                   2448 non-null   uint8\n",
      " 4   fuel_Electric                 2448 non-null   uint8\n",
      " 5   fuel_LPG                      2448 non-null   uint8\n",
      " 6   fuel_Petrol                   2448 non-null   uint8\n",
      " 7   seller_type_Individual        2448 non-null   uint8\n",
      " 8   seller_type_Trustmark Dealer  2448 non-null   uint8\n",
      " 9   transmission_Manual           2448 non-null   uint8\n",
      " 10  owner_Fourth & Above Owner    2448 non-null   uint8\n",
      " 11  owner_Second Owner            2448 non-null   uint8\n",
      " 12  owner_Test Drive Car          2448 non-null   uint8\n",
      " 13  owner_Third Owner             2448 non-null   uint8\n",
      "dtypes: int64(3), uint8(11)\n",
      "memory usage: 102.8 KB\n"
     ]
    }
   ],
   "source": [
    "df_train.info()"
   ]
  },
  {
   "cell_type": "code",
   "execution_count": 33,
   "metadata": {
    "ExecuteTime": {
     "end_time": "2021-03-19T16:01:35.437889Z",
     "start_time": "2021-03-19T16:01:35.422929Z"
    }
   },
   "outputs": [
    {
     "data": {
      "text/plain": [
       "(2448, 14)"
      ]
     },
     "execution_count": 33,
     "metadata": {},
     "output_type": "execute_result"
    }
   ],
   "source": [
    "df_train.shape"
   ]
  },
  {
   "cell_type": "code",
   "execution_count": 34,
   "metadata": {
    "ExecuteTime": {
     "end_time": "2021-03-19T16:01:35.453846Z",
     "start_time": "2021-03-19T16:01:35.438887Z"
    }
   },
   "outputs": [
    {
     "name": "stdout",
     "output_type": "stream",
     "text": [
      "<class 'pandas.core.frame.DataFrame'>\n",
      "Int64Index: 1050 entries, 982 to 4291\n",
      "Data columns (total 14 columns):\n",
      " #   Column                        Non-Null Count  Dtype\n",
      "---  ------                        --------------  -----\n",
      " 0   selling_price                 1050 non-null   int64\n",
      " 1   km_driven                     1050 non-null   int64\n",
      " 2   age                           1050 non-null   int64\n",
      " 3   fuel_Diesel                   1050 non-null   uint8\n",
      " 4   fuel_Electric                 1050 non-null   uint8\n",
      " 5   fuel_LPG                      1050 non-null   uint8\n",
      " 6   fuel_Petrol                   1050 non-null   uint8\n",
      " 7   seller_type_Individual        1050 non-null   uint8\n",
      " 8   seller_type_Trustmark Dealer  1050 non-null   uint8\n",
      " 9   transmission_Manual           1050 non-null   uint8\n",
      " 10  owner_Fourth & Above Owner    1050 non-null   uint8\n",
      " 11  owner_Second Owner            1050 non-null   uint8\n",
      " 12  owner_Test Drive Car          1050 non-null   uint8\n",
      " 13  owner_Third Owner             1050 non-null   uint8\n",
      "dtypes: int64(3), uint8(11)\n",
      "memory usage: 44.1 KB\n"
     ]
    }
   ],
   "source": [
    "df_test.info()"
   ]
  },
  {
   "cell_type": "code",
   "execution_count": 35,
   "metadata": {
    "ExecuteTime": {
     "end_time": "2021-03-19T16:01:35.469803Z",
     "start_time": "2021-03-19T16:01:35.454844Z"
    }
   },
   "outputs": [
    {
     "data": {
      "text/plain": [
       "(1050, 14)"
      ]
     },
     "execution_count": 35,
     "metadata": {},
     "output_type": "execute_result"
    }
   ],
   "source": [
    "df_test.shape"
   ]
  },
  {
   "cell_type": "markdown",
   "metadata": {},
   "source": [
    "# EXPLORATORY DATA ANALYSIS\n",
    "- We need to perform the EDA on TRAINING (df_train) Dataset.\n",
    "\n",
    "\n",
    "## Visualising Numeric Variables\n",
    "- Let's make a pairplot of all the numeric variables."
   ]
  },
  {
   "cell_type": "code",
   "execution_count": 36,
   "metadata": {
    "ExecuteTime": {
     "end_time": "2021-03-19T16:01:35.485762Z",
     "start_time": "2021-03-19T16:01:35.470803Z"
    }
   },
   "outputs": [
    {
     "name": "stdout",
     "output_type": "stream",
     "text": [
      "<class 'pandas.core.frame.DataFrame'>\n",
      "Int64Index: 2448 entries, 3797 to 1725\n",
      "Data columns (total 14 columns):\n",
      " #   Column                        Non-Null Count  Dtype\n",
      "---  ------                        --------------  -----\n",
      " 0   selling_price                 2448 non-null   int64\n",
      " 1   km_driven                     2448 non-null   int64\n",
      " 2   age                           2448 non-null   int64\n",
      " 3   fuel_Diesel                   2448 non-null   uint8\n",
      " 4   fuel_Electric                 2448 non-null   uint8\n",
      " 5   fuel_LPG                      2448 non-null   uint8\n",
      " 6   fuel_Petrol                   2448 non-null   uint8\n",
      " 7   seller_type_Individual        2448 non-null   uint8\n",
      " 8   seller_type_Trustmark Dealer  2448 non-null   uint8\n",
      " 9   transmission_Manual           2448 non-null   uint8\n",
      " 10  owner_Fourth & Above Owner    2448 non-null   uint8\n",
      " 11  owner_Second Owner            2448 non-null   uint8\n",
      " 12  owner_Test Drive Car          2448 non-null   uint8\n",
      " 13  owner_Third Owner             2448 non-null   uint8\n",
      "dtypes: int64(3), uint8(11)\n",
      "memory usage: 102.8 KB\n"
     ]
    }
   ],
   "source": [
    "df_train.info()\n"
   ]
  },
  {
   "cell_type": "code",
   "execution_count": 37,
   "metadata": {
    "ExecuteTime": {
     "end_time": "2021-03-19T16:01:35.501720Z",
     "start_time": "2021-03-19T16:01:35.486759Z"
    }
   },
   "outputs": [
    {
     "data": {
      "text/plain": [
       "Index(['selling_price', 'km_driven', 'age', 'fuel_Diesel', 'fuel_Electric',\n",
       "       'fuel_LPG', 'fuel_Petrol', 'seller_type_Individual',\n",
       "       'seller_type_Trustmark Dealer', 'transmission_Manual',\n",
       "       'owner_Fourth & Above Owner', 'owner_Second Owner',\n",
       "       'owner_Test Drive Car', 'owner_Third Owner'],\n",
       "      dtype='object')"
      ]
     },
     "execution_count": 37,
     "metadata": {},
     "output_type": "execute_result"
    }
   ],
   "source": [
    "df_train.columns"
   ]
  },
  {
   "cell_type": "code",
   "execution_count": 38,
   "metadata": {
    "ExecuteTime": {
     "end_time": "2021-03-19T16:01:37.302796Z",
     "start_time": "2021-03-19T16:01:35.502716Z"
    }
   },
   "outputs": [
    {
     "data": {
      "image/png": "[encoded data removed]",
      "text/plain": [
       "<Figure size 540x540 with 12 Axes>"
      ]
     },
     "metadata": {
      "needs_background": "light"
     },
     "output_type": "display_data"
    }
   ],
   "source": [
    "# Create a new dataframe of only numeric variables:\n",
    "\n",
    "car_n=df_train[[ 'selling_price', 'km_driven', 'age']]\n",
    "\n",
    "sns.pairplot(car_n, diag_kind='kde')\n",
    "plt.show()"
   ]
  },
  {
   "cell_type": "markdown",
   "metadata": {},
   "source": [
    "### Insights\n",
    "- The above Pair-Plot tells us that there is a LINEAR RELATION between 'selling_price','km_driven' and 'age'"
   ]
  },
  {
   "cell_type": "markdown",
   "metadata": {},
   "source": [
    "## Visualising Catagorical Variables"
   ]
  },
  {
   "cell_type": "code",
   "execution_count": 39,
   "metadata": {
    "ExecuteTime": {
     "end_time": "2021-03-19T16:01:37.317758Z",
     "start_time": "2021-03-19T16:01:37.303795Z"
    }
   },
   "outputs": [
    {
     "name": "stdout",
     "output_type": "stream",
     "text": [
      "<class 'pandas.core.frame.DataFrame'>\n",
      "Int64Index: 2448 entries, 3797 to 1725\n",
      "Data columns (total 14 columns):\n",
      " #   Column                        Non-Null Count  Dtype\n",
      "---  ------                        --------------  -----\n",
      " 0   selling_price                 2448 non-null   int64\n",
      " 1   km_driven                     2448 non-null   int64\n",
      " 2   age                           2448 non-null   int64\n",
      " 3   fuel_Diesel                   2448 non-null   uint8\n",
      " 4   fuel_Electric                 2448 non-null   uint8\n",
      " 5   fuel_LPG                      2448 non-null   uint8\n",
      " 6   fuel_Petrol                   2448 non-null   uint8\n",
      " 7   seller_type_Individual        2448 non-null   uint8\n",
      " 8   seller_type_Trustmark Dealer  2448 non-null   uint8\n",
      " 9   transmission_Manual           2448 non-null   uint8\n",
      " 10  owner_Fourth & Above Owner    2448 non-null   uint8\n",
      " 11  owner_Second Owner            2448 non-null   uint8\n",
      " 12  owner_Test Drive Car          2448 non-null   uint8\n",
      " 13  owner_Third Owner             2448 non-null   uint8\n",
      "dtypes: int64(3), uint8(11)\n",
      "memory usage: 182.8 KB\n"
     ]
    }
   ],
   "source": [
    "df_train.info()"
   ]
  },
  {
   "cell_type": "code",
   "execution_count": 40,
   "metadata": {
    "ExecuteTime": {
     "end_time": "2021-03-19T16:01:37.840582Z",
     "start_time": "2021-03-19T16:01:37.319751Z"
    }
   },
   "outputs": [
    {
     "data": {
      "image/png": "[encoded data removed]",
      "text/plain": [
       "<Figure size 1800x720 with 4 Axes>"
      ]
     },
     "metadata": {
      "needs_background": "light"
     },
     "output_type": "display_data"
    }
   ],
   "source": [
    "# Build boxplot of all categorical variables (before creating dummies) againt the target variable 'selling_price' \n",
    "# to see how each of the predictor variable stackup against the target variable.\n",
    "\n",
    "plt.figure(figsize=(25, 10))\n",
    "plt.subplot(2,2,1)\n",
    "sns.boxplot(x = 'fuel', y = 'selling_price', data = car_o)\n",
    "plt.subplot(2,2,2)\n",
    "sns.boxplot(x = 'seller_type', y = 'selling_price', data = car_o)\n",
    "plt.subplot(2,2,3)\n",
    "sns.boxplot(x = 'transmission', y = 'selling_price', data = car_o)\n",
    "plt.subplot(2,2,4)\n",
    "sns.boxplot(x = 'owner', y = 'selling_price', data = car_o)\n",
    "\n",
    "plt.show()"
   ]
  },
  {
   "cell_type": "markdown",
   "metadata": {},
   "source": [
    "- There were 4 categorical variables in the dataset.\n",
    "\n",
    "We used Box plot (refer the fig above) to study their effect on the dependent variable (‘selling_price’) .\n",
    "\n",
    "The inference that We could derive were:\n",
    "\n",
    "- **season :** Diesel & Petrol consists of 99% of all available fuel column data available. \n",
    "- **transmission :** Manual consists of 91% of all available transmission column data available.\n",
    "- **seller_type :** Individual consists of 79% of all available seller_type column data available, i.e. highest in all.\n",
    "- **seller_type :** First Owner consists of 61% of all available owner column data available, i.e. highest in all.\n",
    "\n",
    "\n"
   ]
  },
  {
   "cell_type": "markdown",
   "metadata": {},
   "source": [
    "## Correlation Matrix"
   ]
  },
  {
   "cell_type": "code",
   "execution_count": 41,
   "metadata": {
    "ExecuteTime": {
     "end_time": "2021-03-19T16:01:38.710064Z",
     "start_time": "2021-03-19T16:01:37.841579Z"
    }
   },
   "outputs": [
    {
     "data": {
      "image/png": "[encoded data removed]",
      "text/plain": [
       "<Figure size 1800x1440 with 2 Axes>"
      ]
     },
     "metadata": {
      "needs_background": "light"
     },
     "output_type": "display_data"
    }
   ],
   "source": [
    "# Let's check the correlation coefficients to see which variables are highly correlated. Note:\n",
    "# here we are considering only those variables (dataframe: car) that were chosen for analysis\n",
    "\n",
    "plt.figure(figsize = (25,20))\n",
    "sns.heatmap(car.corr(), annot = True, cmap=\"RdBu\")\n",
    "plt.show()"
   ]
  },
  {
   "cell_type": "markdown",
   "metadata": {},
   "source": [
    "### Insights:\n",
    "- The heatmap clearly shows which all variable are multicollinear in nature, and which variable have high collinearity with the target variable.\n",
    "- We will refer this map back-and-forth while building the linear model so as to validate different correlated values along with VIF & p-value, for identifying the correct variable to select/eliminate from the model."
   ]
  },
  {
   "cell_type": "markdown",
   "metadata": {},
   "source": [
    "## RESCALING THE FEATURES"
   ]
  },
  {
   "cell_type": "code",
   "execution_count": 42,
   "metadata": {
    "ExecuteTime": {
     "end_time": "2021-03-19T16:01:38.725024Z",
     "start_time": "2021-03-19T16:01:38.712059Z"
    }
   },
   "outputs": [],
   "source": [
    "from sklearn.preprocessing import MinMaxScaler"
   ]
  },
  {
   "cell_type": "code",
   "execution_count": 43,
   "metadata": {
    "ExecuteTime": {
     "end_time": "2021-03-19T16:01:38.756351Z",
     "start_time": "2021-03-19T16:01:38.728030Z"
    }
   },
   "outputs": [],
   "source": [
    "scaler = MinMaxScaler()"
   ]
  },
  {
   "cell_type": "code",
   "execution_count": 44,
   "metadata": {
    "ExecuteTime": {
     "end_time": "2021-03-19T16:01:38.788194Z",
     "start_time": "2021-03-19T16:01:38.758271Z"
    }
   },
   "outputs": [
    {
     "data": {
      "text/html": [
       "<div>\n",
       "<style scoped>\n",
       "    .dataframe tbody tr th:only-of-type {\n",
       "        vertical-align: middle;\n",
       "    }\n",
       "\n",
       "    .dataframe tbody tr th {\n",
       "        vertical-align: top;\n",
       "    }\n",
       "\n",
       "    .dataframe thead th {\n",
       "        text-align: right;\n",
       "    }\n",
       "</style>\n",
       "<table border=\"1\" class=\"dataframe\">\n",
       "  <thead>\n",
       "    <tr style=\"text-align: right;\">\n",
       "      <th></th>\n",
       "      <th>selling_price</th>\n",
       "      <th>km_driven</th>\n",
       "      <th>age</th>\n",
       "      <th>fuel_Diesel</th>\n",
       "      <th>fuel_Electric</th>\n",
       "      <th>fuel_LPG</th>\n",
       "      <th>fuel_Petrol</th>\n",
       "      <th>seller_type_Individual</th>\n",
       "      <th>seller_type_Trustmark Dealer</th>\n",
       "      <th>transmission_Manual</th>\n",
       "      <th>owner_Fourth &amp; Above Owner</th>\n",
       "      <th>owner_Second Owner</th>\n",
       "      <th>owner_Test Drive Car</th>\n",
       "      <th>owner_Third Owner</th>\n",
       "    </tr>\n",
       "  </thead>\n",
       "  <tbody>\n",
       "    <tr>\n",
       "      <th>3797</th>\n",
       "      <td>150000</td>\n",
       "      <td>60000</td>\n",
       "      <td>6</td>\n",
       "      <td>0</td>\n",
       "      <td>0</td>\n",
       "      <td>0</td>\n",
       "      <td>1</td>\n",
       "      <td>1</td>\n",
       "      <td>0</td>\n",
       "      <td>1</td>\n",
       "      <td>0</td>\n",
       "      <td>1</td>\n",
       "      <td>0</td>\n",
       "      <td>0</td>\n",
       "    </tr>\n",
       "    <tr>\n",
       "      <th>56</th>\n",
       "      <td>750000</td>\n",
       "      <td>29000</td>\n",
       "      <td>2</td>\n",
       "      <td>1</td>\n",
       "      <td>0</td>\n",
       "      <td>0</td>\n",
       "      <td>0</td>\n",
       "      <td>0</td>\n",
       "      <td>0</td>\n",
       "      <td>1</td>\n",
       "      <td>0</td>\n",
       "      <td>0</td>\n",
       "      <td>0</td>\n",
       "      <td>0</td>\n",
       "    </tr>\n",
       "    <tr>\n",
       "      <th>67</th>\n",
       "      <td>151000</td>\n",
       "      <td>66764</td>\n",
       "      <td>11</td>\n",
       "      <td>0</td>\n",
       "      <td>0</td>\n",
       "      <td>0</td>\n",
       "      <td>1</td>\n",
       "      <td>0</td>\n",
       "      <td>0</td>\n",
       "      <td>1</td>\n",
       "      <td>0</td>\n",
       "      <td>1</td>\n",
       "      <td>0</td>\n",
       "      <td>0</td>\n",
       "    </tr>\n",
       "    <tr>\n",
       "      <th>2710</th>\n",
       "      <td>250000</td>\n",
       "      <td>70000</td>\n",
       "      <td>11</td>\n",
       "      <td>0</td>\n",
       "      <td>0</td>\n",
       "      <td>0</td>\n",
       "      <td>1</td>\n",
       "      <td>1</td>\n",
       "      <td>0</td>\n",
       "      <td>1</td>\n",
       "      <td>0</td>\n",
       "      <td>0</td>\n",
       "      <td>0</td>\n",
       "      <td>1</td>\n",
       "    </tr>\n",
       "    <tr>\n",
       "      <th>3579</th>\n",
       "      <td>65000</td>\n",
       "      <td>60000</td>\n",
       "      <td>9</td>\n",
       "      <td>0</td>\n",
       "      <td>0</td>\n",
       "      <td>0</td>\n",
       "      <td>1</td>\n",
       "      <td>1</td>\n",
       "      <td>0</td>\n",
       "      <td>1</td>\n",
       "      <td>0</td>\n",
       "      <td>1</td>\n",
       "      <td>0</td>\n",
       "      <td>0</td>\n",
       "    </tr>\n",
       "  </tbody>\n",
       "</table>\n",
       "</div>"
      ],
      "text/plain": [
       "      selling_price  km_driven  age  fuel_Diesel  fuel_Electric  fuel_LPG  \\\n",
       "3797         150000      60000    6            0              0         0   \n",
       "56           750000      29000    2            1              0         0   \n",
       "67           151000      66764   11            0              0         0   \n",
       "2710         250000      70000   11            0              0         0   \n",
       "3579          65000      60000    9            0              0         0   \n",
       "\n",
       "      fuel_Petrol  seller_type_Individual  seller_type_Trustmark Dealer  \\\n",
       "3797            1                       1                             0   \n",
       "56              0                       0                             0   \n",
       "67              1                       0                             0   \n",
       "2710            1                       1                             0   \n",
       "3579            1                       1                             0   \n",
       "\n",
       "      transmission_Manual  owner_Fourth & Above Owner  owner_Second Owner  \\\n",
       "3797                    1                           0                   1   \n",
       "56                      1                           0                   0   \n",
       "67                      1                           0                   1   \n",
       "2710                    1                           0                   0   \n",
       "3579                    1                           0                   1   \n",
       "\n",
       "      owner_Test Drive Car  owner_Third Owner  \n",
       "3797                     0                  0  \n",
       "56                       0                  0  \n",
       "67                       0                  0  \n",
       "2710                     0                  1  \n",
       "3579                     0                  0  "
      ]
     },
     "execution_count": 44,
     "metadata": {},
     "output_type": "execute_result"
    }
   ],
   "source": [
    "# Checking the values before scaling\n",
    "df_train.head()"
   ]
  },
  {
   "cell_type": "code",
   "execution_count": 45,
   "metadata": {
    "ExecuteTime": {
     "end_time": "2021-03-19T16:01:38.804148Z",
     "start_time": "2021-03-19T16:01:38.790185Z"
    }
   },
   "outputs": [
    {
     "data": {
      "text/plain": [
       "Index(['selling_price', 'km_driven', 'age', 'fuel_Diesel', 'fuel_Electric',\n",
       "       'fuel_LPG', 'fuel_Petrol', 'seller_type_Individual',\n",
       "       'seller_type_Trustmark Dealer', 'transmission_Manual',\n",
       "       'owner_Fourth & Above Owner', 'owner_Second Owner',\n",
       "       'owner_Test Drive Car', 'owner_Third Owner'],\n",
       "      dtype='object')"
      ]
     },
     "execution_count": 45,
     "metadata": {},
     "output_type": "execute_result"
    }
   ],
   "source": [
    "df_train.columns"
   ]
  },
  {
   "cell_type": "code",
   "execution_count": 46,
   "metadata": {
    "ExecuteTime": {
     "end_time": "2021-03-19T16:01:38.819162Z",
     "start_time": "2021-03-19T16:01:38.806144Z"
    }
   },
   "outputs": [],
   "source": [
    " #Apply scaler() to all the numeric variables\n",
    "\n",
    "num_vars = ['selling_price', 'km_driven', 'age']\n",
    "\n",
    "df_train[num_vars] = scaler.fit_transform(df_train[num_vars])"
   ]
  },
  {
   "cell_type": "code",
   "execution_count": 47,
   "metadata": {
    "ExecuteTime": {
     "end_time": "2021-03-19T16:01:38.835101Z",
     "start_time": "2021-03-19T16:01:38.820142Z"
    }
   },
   "outputs": [
    {
     "data": {
      "text/html": [
       "<div>\n",
       "<style scoped>\n",
       "    .dataframe tbody tr th:only-of-type {\n",
       "        vertical-align: middle;\n",
       "    }\n",
       "\n",
       "    .dataframe tbody tr th {\n",
       "        vertical-align: top;\n",
       "    }\n",
       "\n",
       "    .dataframe thead th {\n",
       "        text-align: right;\n",
       "    }\n",
       "</style>\n",
       "<table border=\"1\" class=\"dataframe\">\n",
       "  <thead>\n",
       "    <tr style=\"text-align: right;\">\n",
       "      <th></th>\n",
       "      <th>selling_price</th>\n",
       "      <th>km_driven</th>\n",
       "      <th>age</th>\n",
       "      <th>fuel_Diesel</th>\n",
       "      <th>fuel_Electric</th>\n",
       "      <th>fuel_LPG</th>\n",
       "      <th>fuel_Petrol</th>\n",
       "      <th>seller_type_Individual</th>\n",
       "      <th>seller_type_Trustmark Dealer</th>\n",
       "      <th>transmission_Manual</th>\n",
       "      <th>owner_Fourth &amp; Above Owner</th>\n",
       "      <th>owner_Second Owner</th>\n",
       "      <th>owner_Test Drive Car</th>\n",
       "      <th>owner_Third Owner</th>\n",
       "    </tr>\n",
       "  </thead>\n",
       "  <tbody>\n",
       "    <tr>\n",
       "      <th>3797</th>\n",
       "      <td>0.015990</td>\n",
       "      <td>0.074270</td>\n",
       "      <td>0.214286</td>\n",
       "      <td>0</td>\n",
       "      <td>0</td>\n",
       "      <td>0</td>\n",
       "      <td>1</td>\n",
       "      <td>1</td>\n",
       "      <td>0</td>\n",
       "      <td>1</td>\n",
       "      <td>0</td>\n",
       "      <td>1</td>\n",
       "      <td>0</td>\n",
       "      <td>0</td>\n",
       "    </tr>\n",
       "    <tr>\n",
       "      <th>56</th>\n",
       "      <td>0.089791</td>\n",
       "      <td>0.035833</td>\n",
       "      <td>0.071429</td>\n",
       "      <td>1</td>\n",
       "      <td>0</td>\n",
       "      <td>0</td>\n",
       "      <td>0</td>\n",
       "      <td>0</td>\n",
       "      <td>0</td>\n",
       "      <td>1</td>\n",
       "      <td>0</td>\n",
       "      <td>0</td>\n",
       "      <td>0</td>\n",
       "      <td>0</td>\n",
       "    </tr>\n",
       "    <tr>\n",
       "      <th>67</th>\n",
       "      <td>0.016113</td>\n",
       "      <td>0.082657</td>\n",
       "      <td>0.392857</td>\n",
       "      <td>0</td>\n",
       "      <td>0</td>\n",
       "      <td>0</td>\n",
       "      <td>1</td>\n",
       "      <td>0</td>\n",
       "      <td>0</td>\n",
       "      <td>1</td>\n",
       "      <td>0</td>\n",
       "      <td>1</td>\n",
       "      <td>0</td>\n",
       "      <td>0</td>\n",
       "    </tr>\n",
       "    <tr>\n",
       "      <th>2710</th>\n",
       "      <td>0.028290</td>\n",
       "      <td>0.086670</td>\n",
       "      <td>0.392857</td>\n",
       "      <td>0</td>\n",
       "      <td>0</td>\n",
       "      <td>0</td>\n",
       "      <td>1</td>\n",
       "      <td>1</td>\n",
       "      <td>0</td>\n",
       "      <td>1</td>\n",
       "      <td>0</td>\n",
       "      <td>0</td>\n",
       "      <td>0</td>\n",
       "      <td>1</td>\n",
       "    </tr>\n",
       "    <tr>\n",
       "      <th>3579</th>\n",
       "      <td>0.005535</td>\n",
       "      <td>0.074270</td>\n",
       "      <td>0.321429</td>\n",
       "      <td>0</td>\n",
       "      <td>0</td>\n",
       "      <td>0</td>\n",
       "      <td>1</td>\n",
       "      <td>1</td>\n",
       "      <td>0</td>\n",
       "      <td>1</td>\n",
       "      <td>0</td>\n",
       "      <td>1</td>\n",
       "      <td>0</td>\n",
       "      <td>0</td>\n",
       "    </tr>\n",
       "  </tbody>\n",
       "</table>\n",
       "</div>"
      ],
      "text/plain": [
       "      selling_price  km_driven       age  fuel_Diesel  fuel_Electric  \\\n",
       "3797       0.015990   0.074270  0.214286            0              0   \n",
       "56         0.089791   0.035833  0.071429            1              0   \n",
       "67         0.016113   0.082657  0.392857            0              0   \n",
       "2710       0.028290   0.086670  0.392857            0              0   \n",
       "3579       0.005535   0.074270  0.321429            0              0   \n",
       "\n",
       "      fuel_LPG  fuel_Petrol  seller_type_Individual  \\\n",
       "3797         0            1                       1   \n",
       "56           0            0                       0   \n",
       "67           0            1                       0   \n",
       "2710         0            1                       1   \n",
       "3579         0            1                       1   \n",
       "\n",
       "      seller_type_Trustmark Dealer  transmission_Manual  \\\n",
       "3797                             0                    1   \n",
       "56                               0                    1   \n",
       "67                               0                    1   \n",
       "2710                             0                    1   \n",
       "3579                             0                    1   \n",
       "\n",
       "      owner_Fourth & Above Owner  owner_Second Owner  owner_Test Drive Car  \\\n",
       "3797                           0                   1                     0   \n",
       "56                             0                   0                     0   \n",
       "67                             0                   1                     0   \n",
       "2710                           0                   0                     0   \n",
       "3579                           0                   1                     0   \n",
       "\n",
       "      owner_Third Owner  \n",
       "3797                  0  \n",
       "56                    0  \n",
       "67                    0  \n",
       "2710                  1  \n",
       "3579                  0  "
      ]
     },
     "execution_count": 47,
     "metadata": {},
     "output_type": "execute_result"
    }
   ],
   "source": [
    "df_train.head()"
   ]
  },
  {
   "cell_type": "code",
   "execution_count": 48,
   "metadata": {
    "ExecuteTime": {
     "end_time": "2021-03-19T16:01:38.898895Z",
     "start_time": "2021-03-19T16:01:38.836063Z"
    }
   },
   "outputs": [
    {
     "data": {
      "text/html": [
       "<div>\n",
       "<style scoped>\n",
       "    .dataframe tbody tr th:only-of-type {\n",
       "        vertical-align: middle;\n",
       "    }\n",
       "\n",
       "    .dataframe tbody tr th {\n",
       "        vertical-align: top;\n",
       "    }\n",
       "\n",
       "    .dataframe thead th {\n",
       "        text-align: right;\n",
       "    }\n",
       "</style>\n",
       "<table border=\"1\" class=\"dataframe\">\n",
       "  <thead>\n",
       "    <tr style=\"text-align: right;\">\n",
       "      <th></th>\n",
       "      <th>selling_price</th>\n",
       "      <th>km_driven</th>\n",
       "      <th>age</th>\n",
       "      <th>fuel_Diesel</th>\n",
       "      <th>fuel_Electric</th>\n",
       "      <th>fuel_LPG</th>\n",
       "      <th>fuel_Petrol</th>\n",
       "      <th>seller_type_Individual</th>\n",
       "      <th>seller_type_Trustmark Dealer</th>\n",
       "      <th>transmission_Manual</th>\n",
       "      <th>owner_Fourth &amp; Above Owner</th>\n",
       "      <th>owner_Second Owner</th>\n",
       "      <th>owner_Test Drive Car</th>\n",
       "      <th>owner_Third Owner</th>\n",
       "    </tr>\n",
       "  </thead>\n",
       "  <tbody>\n",
       "    <tr>\n",
       "      <th>count</th>\n",
       "      <td>2448.000000</td>\n",
       "      <td>2448.000000</td>\n",
       "      <td>2448.000000</td>\n",
       "      <td>2448.000000</td>\n",
       "      <td>2448.000000</td>\n",
       "      <td>2448.000000</td>\n",
       "      <td>2448.000000</td>\n",
       "      <td>2448.000000</td>\n",
       "      <td>2448.000000</td>\n",
       "      <td>2448.000000</td>\n",
       "      <td>2448.000000</td>\n",
       "      <td>2448.000000</td>\n",
       "      <td>2448.000000</td>\n",
       "      <td>2448.000000</td>\n",
       "    </tr>\n",
       "    <tr>\n",
       "      <th>mean</th>\n",
       "      <td>0.055326</td>\n",
       "      <td>0.087130</td>\n",
       "      <td>0.252086</td>\n",
       "      <td>0.501634</td>\n",
       "      <td>0.000408</td>\n",
       "      <td>0.006127</td>\n",
       "      <td>0.479575</td>\n",
       "      <td>0.784314</td>\n",
       "      <td>0.009804</td>\n",
       "      <td>0.912173</td>\n",
       "      <td>0.022059</td>\n",
       "      <td>0.274918</td>\n",
       "      <td>0.004493</td>\n",
       "      <td>0.081291</td>\n",
       "    </tr>\n",
       "    <tr>\n",
       "      <th>std</th>\n",
       "      <td>0.059725</td>\n",
       "      <td>0.061750</td>\n",
       "      <td>0.151644</td>\n",
       "      <td>0.500099</td>\n",
       "      <td>0.020211</td>\n",
       "      <td>0.078054</td>\n",
       "      <td>0.499685</td>\n",
       "      <td>0.411382</td>\n",
       "      <td>0.098548</td>\n",
       "      <td>0.283101</td>\n",
       "      <td>0.146905</td>\n",
       "      <td>0.446564</td>\n",
       "      <td>0.066896</td>\n",
       "      <td>0.273337</td>\n",
       "    </tr>\n",
       "    <tr>\n",
       "      <th>min</th>\n",
       "      <td>0.000000</td>\n",
       "      <td>0.000000</td>\n",
       "      <td>0.000000</td>\n",
       "      <td>0.000000</td>\n",
       "      <td>0.000000</td>\n",
       "      <td>0.000000</td>\n",
       "      <td>0.000000</td>\n",
       "      <td>0.000000</td>\n",
       "      <td>0.000000</td>\n",
       "      <td>0.000000</td>\n",
       "      <td>0.000000</td>\n",
       "      <td>0.000000</td>\n",
       "      <td>0.000000</td>\n",
       "      <td>0.000000</td>\n",
       "    </tr>\n",
       "    <tr>\n",
       "      <th>25%</th>\n",
       "      <td>0.022140</td>\n",
       "      <td>0.045752</td>\n",
       "      <td>0.142857</td>\n",
       "      <td>0.000000</td>\n",
       "      <td>0.000000</td>\n",
       "      <td>0.000000</td>\n",
       "      <td>0.000000</td>\n",
       "      <td>1.000000</td>\n",
       "      <td>0.000000</td>\n",
       "      <td>1.000000</td>\n",
       "      <td>0.000000</td>\n",
       "      <td>0.000000</td>\n",
       "      <td>0.000000</td>\n",
       "      <td>0.000000</td>\n",
       "    </tr>\n",
       "    <tr>\n",
       "      <th>50%</th>\n",
       "      <td>0.040590</td>\n",
       "      <td>0.078360</td>\n",
       "      <td>0.250000</td>\n",
       "      <td>1.000000</td>\n",
       "      <td>0.000000</td>\n",
       "      <td>0.000000</td>\n",
       "      <td>0.000000</td>\n",
       "      <td>1.000000</td>\n",
       "      <td>0.000000</td>\n",
       "      <td>1.000000</td>\n",
       "      <td>0.000000</td>\n",
       "      <td>0.000000</td>\n",
       "      <td>0.000000</td>\n",
       "      <td>0.000000</td>\n",
       "    </tr>\n",
       "    <tr>\n",
       "      <th>75%</th>\n",
       "      <td>0.071341</td>\n",
       "      <td>0.111468</td>\n",
       "      <td>0.357143</td>\n",
       "      <td>1.000000</td>\n",
       "      <td>0.000000</td>\n",
       "      <td>0.000000</td>\n",
       "      <td>1.000000</td>\n",
       "      <td>1.000000</td>\n",
       "      <td>0.000000</td>\n",
       "      <td>1.000000</td>\n",
       "      <td>0.000000</td>\n",
       "      <td>1.000000</td>\n",
       "      <td>0.000000</td>\n",
       "      <td>0.000000</td>\n",
       "    </tr>\n",
       "    <tr>\n",
       "      <th>max</th>\n",
       "      <td>1.000000</td>\n",
       "      <td>1.000000</td>\n",
       "      <td>1.000000</td>\n",
       "      <td>1.000000</td>\n",
       "      <td>1.000000</td>\n",
       "      <td>1.000000</td>\n",
       "      <td>1.000000</td>\n",
       "      <td>1.000000</td>\n",
       "      <td>1.000000</td>\n",
       "      <td>1.000000</td>\n",
       "      <td>1.000000</td>\n",
       "      <td>1.000000</td>\n",
       "      <td>1.000000</td>\n",
       "      <td>1.000000</td>\n",
       "    </tr>\n",
       "  </tbody>\n",
       "</table>\n",
       "</div>"
      ],
      "text/plain": [
       "       selling_price    km_driven          age  fuel_Diesel  fuel_Electric  \\\n",
       "count    2448.000000  2448.000000  2448.000000  2448.000000    2448.000000   \n",
       "mean        0.055326     0.087130     0.252086     0.501634       0.000408   \n",
       "std         0.059725     0.061750     0.151644     0.500099       0.020211   \n",
       "min         0.000000     0.000000     0.000000     0.000000       0.000000   \n",
       "25%         0.022140     0.045752     0.142857     0.000000       0.000000   \n",
       "50%         0.040590     0.078360     0.250000     1.000000       0.000000   \n",
       "75%         0.071341     0.111468     0.357143     1.000000       0.000000   \n",
       "max         1.000000     1.000000     1.000000     1.000000       1.000000   \n",
       "\n",
       "          fuel_LPG  fuel_Petrol  seller_type_Individual  \\\n",
       "count  2448.000000  2448.000000             2448.000000   \n",
       "mean      0.006127     0.479575                0.784314   \n",
       "std       0.078054     0.499685                0.411382   \n",
       "min       0.000000     0.000000                0.000000   \n",
       "25%       0.000000     0.000000                1.000000   \n",
       "50%       0.000000     0.000000                1.000000   \n",
       "75%       0.000000     1.000000                1.000000   \n",
       "max       1.000000     1.000000                1.000000   \n",
       "\n",
       "       seller_type_Trustmark Dealer  transmission_Manual  \\\n",
       "count                   2448.000000          2448.000000   \n",
       "mean                       0.009804             0.912173   \n",
       "std                        0.098548             0.283101   \n",
       "min                        0.000000             0.000000   \n",
       "25%                        0.000000             1.000000   \n",
       "50%                        0.000000             1.000000   \n",
       "75%                        0.000000             1.000000   \n",
       "max                        1.000000             1.000000   \n",
       "\n",
       "       owner_Fourth & Above Owner  owner_Second Owner  owner_Test Drive Car  \\\n",
       "count                 2448.000000         2448.000000           2448.000000   \n",
       "mean                     0.022059            0.274918              0.004493   \n",
       "std                      0.146905            0.446564              0.066896   \n",
       "min                      0.000000            0.000000              0.000000   \n",
       "25%                      0.000000            0.000000              0.000000   \n",
       "50%                      0.000000            0.000000              0.000000   \n",
       "75%                      0.000000            1.000000              0.000000   \n",
       "max                      1.000000            1.000000              1.000000   \n",
       "\n",
       "       owner_Third Owner  \n",
       "count        2448.000000  \n",
       "mean            0.081291  \n",
       "std             0.273337  \n",
       "min             0.000000  \n",
       "25%             0.000000  \n",
       "50%             0.000000  \n",
       "75%             0.000000  \n",
       "max             1.000000  "
      ]
     },
     "execution_count": 48,
     "metadata": {},
     "output_type": "execute_result"
    }
   ],
   "source": [
    "df_train.describe()"
   ]
  },
  {
   "cell_type": "markdown",
   "metadata": {},
   "source": [
    "# BUILDING A LINEAR MODEL\n",
    "\n"
   ]
  },
  {
   "cell_type": "markdown",
   "metadata": {},
   "source": [
    "## Dividing into X and Y sets for the model building"
   ]
  },
  {
   "cell_type": "code",
   "execution_count": 49,
   "metadata": {
    "ExecuteTime": {
     "end_time": "2021-03-19T16:01:38.914853Z",
     "start_time": "2021-03-19T16:01:38.900892Z"
    }
   },
   "outputs": [],
   "source": [
    "y_train = df_train.pop('selling_price')\n",
    "X_train = df_train"
   ]
  },
  {
   "cell_type": "markdown",
   "metadata": {},
   "source": [
    "### RFE\n",
    "Recursive feature elimination: We will be using the **LinearRegression function from SciKit Learn** for its compatibility with RFE (which is a utility from sklearn)"
   ]
  },
  {
   "cell_type": "code",
   "execution_count": 50,
   "metadata": {
    "ExecuteTime": {
     "end_time": "2021-03-19T16:01:39.255941Z",
     "start_time": "2021-03-19T16:01:38.915850Z"
    }
   },
   "outputs": [],
   "source": [
    "# Importing RFE and LinearRegression\n",
    "from sklearn.feature_selection import RFE\n",
    "from sklearn.linear_model import LinearRegression"
   ]
  },
  {
   "cell_type": "code",
   "execution_count": 51,
   "metadata": {
    "ExecuteTime": {
     "end_time": "2021-03-19T16:01:39.303812Z",
     "start_time": "2021-03-19T16:01:39.257935Z"
    }
   },
   "outputs": [],
   "source": [
    "# Running RFE with the output number of the variable equal to 7\n",
    "lm = LinearRegression()\n",
    "lm.fit(X_train, y_train)\n",
    "\n",
    "rfe = RFE(lm, 7)             # running RFE\n",
    "rfe = rfe.fit(X_train, y_train)\n"
   ]
  },
  {
   "cell_type": "code",
   "execution_count": 52,
   "metadata": {
    "ExecuteTime": {
     "end_time": "2021-03-19T16:01:39.319770Z",
     "start_time": "2021-03-19T16:01:39.305807Z"
    }
   },
   "outputs": [
    {
     "data": {
      "text/plain": [
       "[('km_driven', True, 1),\n",
       " ('age', True, 1),\n",
       " ('fuel_Diesel', True, 1),\n",
       " ('fuel_Electric', True, 1),\n",
       " ('fuel_LPG', False, 5),\n",
       " ('fuel_Petrol', False, 6),\n",
       " ('seller_type_Individual', False, 4),\n",
       " ('seller_type_Trustmark Dealer', True, 1),\n",
       " ('transmission_Manual', True, 1),\n",
       " ('owner_Fourth & Above Owner', False, 7),\n",
       " ('owner_Second Owner', False, 3),\n",
       " ('owner_Test Drive Car', True, 1),\n",
       " ('owner_Third Owner', False, 2)]"
      ]
     },
     "execution_count": 52,
     "metadata": {},
     "output_type": "execute_result"
    }
   ],
   "source": [
    "list(zip(X_train.columns,rfe.support_,rfe.ranking_))"
   ]
  },
  {
   "cell_type": "code",
   "execution_count": 53,
   "metadata": {
    "ExecuteTime": {
     "end_time": "2021-03-19T16:01:39.335727Z",
     "start_time": "2021-03-19T16:01:39.322763Z"
    }
   },
   "outputs": [
    {
     "data": {
      "text/plain": [
       "Index(['km_driven', 'age', 'fuel_Diesel', 'fuel_Electric',\n",
       "       'seller_type_Trustmark Dealer', 'transmission_Manual',\n",
       "       'owner_Test Drive Car'],\n",
       "      dtype='object')"
      ]
     },
     "execution_count": 53,
     "metadata": {},
     "output_type": "execute_result"
    }
   ],
   "source": [
    "col = X_train.columns[rfe.support_]\n",
    "col"
   ]
  },
  {
   "cell_type": "code",
   "execution_count": 54,
   "metadata": {
    "ExecuteTime": {
     "end_time": "2021-03-19T16:01:39.350688Z",
     "start_time": "2021-03-19T16:01:39.338719Z"
    }
   },
   "outputs": [
    {
     "data": {
      "text/plain": [
       "Index(['fuel_LPG', 'fuel_Petrol', 'seller_type_Individual',\n",
       "       'owner_Fourth & Above Owner', 'owner_Second Owner',\n",
       "       'owner_Third Owner'],\n",
       "      dtype='object')"
      ]
     },
     "execution_count": 54,
     "metadata": {},
     "output_type": "execute_result"
    }
   ],
   "source": [
    "X_train.columns[~rfe.support_]"
   ]
  },
  {
   "cell_type": "code",
   "execution_count": 55,
   "metadata": {
    "ExecuteTime": {
     "end_time": "2021-03-19T16:01:39.365647Z",
     "start_time": "2021-03-19T16:01:39.352682Z"
    }
   },
   "outputs": [],
   "source": [
    "# Creating X_test dataframe with RFE selected variables\n",
    "X_train_rfe = X_train[col]"
   ]
  },
  {
   "cell_type": "markdown",
   "metadata": {},
   "source": [
    "# Building Linear Model using 'STATS MODEL'"
   ]
  },
  {
   "cell_type": "markdown",
   "metadata": {},
   "source": [
    "## Model 1"
   ]
  },
  {
   "cell_type": "markdown",
   "metadata": {},
   "source": [
    "### VIF Check"
   ]
  },
  {
   "cell_type": "code",
   "execution_count": 56,
   "metadata": {
    "ExecuteTime": {
     "end_time": "2021-03-19T16:01:39.475353Z",
     "start_time": "2021-03-19T16:01:39.367642Z"
    }
   },
   "outputs": [
    {
     "data": {
      "text/html": [
       "<div>\n",
       "<style scoped>\n",
       "    .dataframe tbody tr th:only-of-type {\n",
       "        vertical-align: middle;\n",
       "    }\n",
       "\n",
       "    .dataframe tbody tr th {\n",
       "        vertical-align: top;\n",
       "    }\n",
       "\n",
       "    .dataframe thead th {\n",
       "        text-align: right;\n",
       "    }\n",
       "</style>\n",
       "<table border=\"1\" class=\"dataframe\">\n",
       "  <thead>\n",
       "    <tr style=\"text-align: right;\">\n",
       "      <th></th>\n",
       "      <th>Features</th>\n",
       "      <th>VIF</th>\n",
       "    </tr>\n",
       "  </thead>\n",
       "  <tbody>\n",
       "    <tr>\n",
       "      <th>1</th>\n",
       "      <td>age</td>\n",
       "      <td>4.44</td>\n",
       "    </tr>\n",
       "    <tr>\n",
       "      <th>5</th>\n",
       "      <td>transmission_Manual</td>\n",
       "      <td>4.32</td>\n",
       "    </tr>\n",
       "    <tr>\n",
       "      <th>0</th>\n",
       "      <td>km_driven</td>\n",
       "      <td>4.22</td>\n",
       "    </tr>\n",
       "    <tr>\n",
       "      <th>2</th>\n",
       "      <td>fuel_Diesel</td>\n",
       "      <td>2.20</td>\n",
       "    </tr>\n",
       "    <tr>\n",
       "      <th>4</th>\n",
       "      <td>seller_type_Trustmark Dealer</td>\n",
       "      <td>1.01</td>\n",
       "    </tr>\n",
       "    <tr>\n",
       "      <th>6</th>\n",
       "      <td>owner_Test Drive Car</td>\n",
       "      <td>1.01</td>\n",
       "    </tr>\n",
       "    <tr>\n",
       "      <th>3</th>\n",
       "      <td>fuel_Electric</td>\n",
       "      <td>1.00</td>\n",
       "    </tr>\n",
       "  </tbody>\n",
       "</table>\n",
       "</div>"
      ],
      "text/plain": [
       "                       Features   VIF\n",
       "1                           age  4.44\n",
       "5           transmission_Manual  4.32\n",
       "0                     km_driven  4.22\n",
       "2                   fuel_Diesel  2.20\n",
       "4  seller_type_Trustmark Dealer  1.01\n",
       "6          owner_Test Drive Car  1.01\n",
       "3                 fuel_Electric  1.00"
      ]
     },
     "execution_count": 56,
     "metadata": {},
     "output_type": "execute_result"
    }
   ],
   "source": [
    "# Check for the VIF values of the feature variables. \n",
    "from statsmodels.stats.outliers_influence import variance_inflation_factor\n",
    "\n",
    "# Create a dataframe that will contain the names of all the feature variables and their respective VIFs\n",
    "vif = pd.DataFrame()\n",
    "vif['Features'] = X_train_rfe.columns\n",
    "vif['VIF'] = [variance_inflation_factor(X_train_rfe.values, i) for i in range(X_train_rfe.shape[1])]\n",
    "vif['VIF'] = round(vif['VIF'], 2)\n",
    "vif = vif.sort_values(by = \"VIF\", ascending = False)\n",
    "vif"
   ]
  },
  {
   "cell_type": "code",
   "execution_count": 57,
   "metadata": {
    "ExecuteTime": {
     "end_time": "2021-03-19T16:01:39.837315Z",
     "start_time": "2021-03-19T16:01:39.477348Z"
    }
   },
   "outputs": [],
   "source": [
    "import statsmodels.api as sm\n",
    "\n",
    "# Add a constant\n",
    "X_train_lm1 = sm.add_constant(X_train_rfe)\n",
    "\n",
    "# Create a first fitted model\n",
    "lr1 = sm.OLS(y_train, X_train_lm1).fit()"
   ]
  },
  {
   "cell_type": "code",
   "execution_count": 58,
   "metadata": {
    "ExecuteTime": {
     "end_time": "2021-03-19T16:01:39.853272Z",
     "start_time": "2021-03-19T16:01:39.839309Z"
    }
   },
   "outputs": [
    {
     "data": {
      "text/plain": [
       "const                           0.158445\n",
       "km_driven                      -0.078702\n",
       "age                            -0.130406\n",
       "fuel_Diesel                     0.032372\n",
       "fuel_Electric                  -0.051531\n",
       "seller_type_Trustmark Dealer    0.023867\n",
       "transmission_Manual            -0.087648\n",
       "owner_Test Drive Car            0.024443\n",
       "dtype: float64"
      ]
     },
     "execution_count": 58,
     "metadata": {},
     "output_type": "execute_result"
    }
   ],
   "source": [
    "# Check the parameters obtained\n",
    "\n",
    "lr1.params"
   ]
  },
  {
   "cell_type": "code",
   "execution_count": 59,
   "metadata": {
    "ExecuteTime": {
     "end_time": "2021-03-19T16:01:39.885186Z",
     "start_time": "2021-03-19T16:01:39.855267Z"
    }
   },
   "outputs": [
    {
     "name": "stdout",
     "output_type": "stream",
     "text": [
      "                            OLS Regression Results                            \n",
      "==============================================================================\n",
      "Dep. Variable:          selling_price   R-squared:                       0.436\n",
      "Model:                            OLS   Adj. R-squared:                  0.434\n",
      "Method:                 Least Squares   F-statistic:                     269.2\n",
      "Date:                Fri, 19 Mar 2021   Prob (F-statistic):          1.33e-297\n",
      "Time:                        21:31:39   Log-Likelihood:                 4125.8\n",
      "No. Observations:                2448   AIC:                            -8236.\n",
      "Df Residuals:                    2440   BIC:                            -8189.\n",
      "Df Model:                           7                                         \n",
      "Covariance Type:            nonrobust                                         \n",
      "================================================================================================\n",
      "                                   coef    std err          t      P>|t|      [0.025      0.975]\n",
      "------------------------------------------------------------------------------------------------\n",
      "const                            0.1584      0.003     45.326      0.000       0.152       0.165\n",
      "km_driven                       -0.0787      0.017     -4.498      0.000      -0.113      -0.044\n",
      "age                             -0.1304      0.007    -18.977      0.000      -0.144      -0.117\n",
      "fuel_Diesel                      0.0324      0.002     16.364      0.000       0.028       0.036\n",
      "fuel_Electric                   -0.0515      0.045     -1.143      0.253      -0.140       0.037\n",
      "seller_type_Trustmark Dealer     0.0239      0.009      2.580      0.010       0.006       0.042\n",
      "transmission_Manual             -0.0876      0.003    -27.051      0.000      -0.094      -0.081\n",
      "owner_Test Drive Car             0.0244      0.014      1.788      0.074      -0.002       0.051\n",
      "==============================================================================\n",
      "Omnibus:                     2679.573   Durbin-Watson:                   2.022\n",
      "Prob(Omnibus):                  0.000   Jarque-Bera (JB):           453952.531\n",
      "Skew:                           5.176   Prob(JB):                         0.00\n",
      "Kurtosis:                      68.904   Cond. No.                         73.9\n",
      "==============================================================================\n",
      "\n",
      "Warnings:\n",
      "[1] Standard Errors assume that the covariance matrix of the errors is correctly specified.\n"
     ]
    }
   ],
   "source": [
    "# Print a summary of the linear regression model obtained\n",
    "print(lr1.summary())"
   ]
  },
  {
   "cell_type": "markdown",
   "metadata": {},
   "source": [
    "## Model 2\n",
    "- Removing the variable 'fuel_Electric' based on its High p-value "
   ]
  },
  {
   "cell_type": "code",
   "execution_count": 60,
   "metadata": {
    "ExecuteTime": {
     "end_time": "2021-03-19T16:01:39.901145Z",
     "start_time": "2021-03-19T16:01:39.887183Z"
    }
   },
   "outputs": [],
   "source": [
    "X_train_new = X_train_rfe.drop([\"fuel_Electric\"], axis = 1)"
   ]
  },
  {
   "cell_type": "markdown",
   "metadata": {},
   "source": [
    "### VIF"
   ]
  },
  {
   "cell_type": "code",
   "execution_count": 61,
   "metadata": {
    "ExecuteTime": {
     "end_time": "2021-03-19T16:01:39.933124Z",
     "start_time": "2021-03-19T16:01:39.903139Z"
    }
   },
   "outputs": [
    {
     "data": {
      "text/html": [
       "<div>\n",
       "<style scoped>\n",
       "    .dataframe tbody tr th:only-of-type {\n",
       "        vertical-align: middle;\n",
       "    }\n",
       "\n",
       "    .dataframe tbody tr th {\n",
       "        vertical-align: top;\n",
       "    }\n",
       "\n",
       "    .dataframe thead th {\n",
       "        text-align: right;\n",
       "    }\n",
       "</style>\n",
       "<table border=\"1\" class=\"dataframe\">\n",
       "  <thead>\n",
       "    <tr style=\"text-align: right;\">\n",
       "      <th></th>\n",
       "      <th>Features</th>\n",
       "      <th>VIF</th>\n",
       "    </tr>\n",
       "  </thead>\n",
       "  <tbody>\n",
       "    <tr>\n",
       "      <th>1</th>\n",
       "      <td>age</td>\n",
       "      <td>4.42</td>\n",
       "    </tr>\n",
       "    <tr>\n",
       "      <th>4</th>\n",
       "      <td>transmission_Manual</td>\n",
       "      <td>4.31</td>\n",
       "    </tr>\n",
       "    <tr>\n",
       "      <th>0</th>\n",
       "      <td>km_driven</td>\n",
       "      <td>4.22</td>\n",
       "    </tr>\n",
       "    <tr>\n",
       "      <th>2</th>\n",
       "      <td>fuel_Diesel</td>\n",
       "      <td>2.20</td>\n",
       "    </tr>\n",
       "    <tr>\n",
       "      <th>3</th>\n",
       "      <td>seller_type_Trustmark Dealer</td>\n",
       "      <td>1.01</td>\n",
       "    </tr>\n",
       "    <tr>\n",
       "      <th>5</th>\n",
       "      <td>owner_Test Drive Car</td>\n",
       "      <td>1.01</td>\n",
       "    </tr>\n",
       "  </tbody>\n",
       "</table>\n",
       "</div>"
      ],
      "text/plain": [
       "                       Features   VIF\n",
       "1                           age  4.42\n",
       "4           transmission_Manual  4.31\n",
       "0                     km_driven  4.22\n",
       "2                   fuel_Diesel  2.20\n",
       "3  seller_type_Trustmark Dealer  1.01\n",
       "5          owner_Test Drive Car  1.01"
      ]
     },
     "execution_count": 61,
     "metadata": {},
     "output_type": "execute_result"
    }
   ],
   "source": [
    "# Check for the VIF values of the feature variables. \n",
    "from statsmodels.stats.outliers_influence import variance_inflation_factor\n",
    "\n",
    "# Create a dataframe that will contain the names of all the feature variables and their respective VIFs\n",
    "vif = pd.DataFrame()\n",
    "vif['Features'] = X_train_new.columns\n",
    "vif['VIF'] = [variance_inflation_factor(X_train_new.values, i) for i in range(X_train_new.shape[1])]\n",
    "vif['VIF'] = round(vif['VIF'], 2)\n",
    "vif = vif.sort_values(by = \"VIF\", ascending = False)\n",
    "vif"
   ]
  },
  {
   "cell_type": "code",
   "execution_count": 62,
   "metadata": {
    "ExecuteTime": {
     "end_time": "2021-03-19T16:01:39.949017Z",
     "start_time": "2021-03-19T16:01:39.935053Z"
    }
   },
   "outputs": [],
   "source": [
    "# Add a constant\n",
    "X_train_lm2 = sm.add_constant(X_train_new)\n",
    "\n",
    "# Create a first fitted model\n",
    "lr2 = sm.OLS(y_train, X_train_lm2).fit()"
   ]
  },
  {
   "cell_type": "code",
   "execution_count": 63,
   "metadata": {
    "ExecuteTime": {
     "end_time": "2021-03-19T16:01:39.963977Z",
     "start_time": "2021-03-19T16:01:39.951011Z"
    }
   },
   "outputs": [
    {
     "data": {
      "text/plain": [
       "const                           0.158239\n",
       "km_driven                      -0.078528\n",
       "age                            -0.130701\n",
       "fuel_Diesel                     0.032399\n",
       "seller_type_Trustmark Dealer    0.023874\n",
       "transmission_Manual            -0.087395\n",
       "owner_Test Drive Car            0.024413\n",
       "dtype: float64"
      ]
     },
     "execution_count": 63,
     "metadata": {},
     "output_type": "execute_result"
    }
   ],
   "source": [
    "# Check the parameters obtained\n",
    "\n",
    "lr2.params"
   ]
  },
  {
   "cell_type": "code",
   "execution_count": 64,
   "metadata": {
    "ExecuteTime": {
     "end_time": "2021-03-19T16:01:39.994899Z",
     "start_time": "2021-03-19T16:01:39.965971Z"
    }
   },
   "outputs": [
    {
     "name": "stdout",
     "output_type": "stream",
     "text": [
      "                            OLS Regression Results                            \n",
      "==============================================================================\n",
      "Dep. Variable:          selling_price   R-squared:                       0.435\n",
      "Model:                            OLS   Adj. R-squared:                  0.434\n",
      "Method:                 Least Squares   F-statistic:                     313.8\n",
      "Date:                Fri, 19 Mar 2021   Prob (F-statistic):          1.38e-298\n",
      "Time:                        21:31:39   Log-Likelihood:                 4125.1\n",
      "No. Observations:                2448   AIC:                            -8236.\n",
      "Df Residuals:                    2441   BIC:                            -8196.\n",
      "Df Model:                           6                                         \n",
      "Covariance Type:            nonrobust                                         \n",
      "================================================================================================\n",
      "                                   coef    std err          t      P>|t|      [0.025      0.975]\n",
      "------------------------------------------------------------------------------------------------\n",
      "const                            0.1582      0.003     45.324      0.000       0.151       0.165\n",
      "km_driven                       -0.0785      0.017     -4.488      0.000      -0.113      -0.044\n",
      "age                             -0.1307      0.007    -19.032      0.000      -0.144      -0.117\n",
      "fuel_Diesel                      0.0324      0.002     16.377      0.000       0.029       0.036\n",
      "seller_type_Trustmark Dealer     0.0239      0.009      2.581      0.010       0.006       0.042\n",
      "transmission_Manual             -0.0874      0.003    -27.034      0.000      -0.094      -0.081\n",
      "owner_Test Drive Car             0.0244      0.014      1.786      0.074      -0.002       0.051\n",
      "==============================================================================\n",
      "Omnibus:                     2680.976   Durbin-Watson:                   2.022\n",
      "Prob(Omnibus):                  0.000   Jarque-Bera (JB):           454198.240\n",
      "Skew:                           5.182   Prob(JB):                         0.00\n",
      "Kurtosis:                      68.921   Cond. No.                         29.3\n",
      "==============================================================================\n",
      "\n",
      "Warnings:\n",
      "[1] Standard Errors assume that the covariance matrix of the errors is correctly specified.\n"
     ]
    }
   ],
   "source": [
    "# Print a summary of the linear regression model obtained\n",
    "print(lr2.summary())"
   ]
  },
  {
   "cell_type": "markdown",
   "metadata": {},
   "source": [
    "## Model 3  \n",
    "- Removing the variable 'owner_Test Drive Car' based on its High p-value"
   ]
  },
  {
   "cell_type": "code",
   "execution_count": 65,
   "metadata": {
    "ExecuteTime": {
     "end_time": "2021-03-19T16:01:40.009853Z",
     "start_time": "2021-03-19T16:01:39.997887Z"
    }
   },
   "outputs": [],
   "source": [
    "X_train_new = X_train_new.drop([\"owner_Test Drive Car\"], axis = 1)"
   ]
  },
  {
   "cell_type": "markdown",
   "metadata": {},
   "source": [
    "### VIF Check"
   ]
  },
  {
   "cell_type": "code",
   "execution_count": 66,
   "metadata": {
    "ExecuteTime": {
     "end_time": "2021-03-19T16:01:40.040282Z",
     "start_time": "2021-03-19T16:01:40.011848Z"
    }
   },
   "outputs": [
    {
     "data": {
      "text/html": [
       "<div>\n",
       "<style scoped>\n",
       "    .dataframe tbody tr th:only-of-type {\n",
       "        vertical-align: middle;\n",
       "    }\n",
       "\n",
       "    .dataframe tbody tr th {\n",
       "        vertical-align: top;\n",
       "    }\n",
       "\n",
       "    .dataframe thead th {\n",
       "        text-align: right;\n",
       "    }\n",
       "</style>\n",
       "<table border=\"1\" class=\"dataframe\">\n",
       "  <thead>\n",
       "    <tr style=\"text-align: right;\">\n",
       "      <th></th>\n",
       "      <th>Features</th>\n",
       "      <th>VIF</th>\n",
       "    </tr>\n",
       "  </thead>\n",
       "  <tbody>\n",
       "    <tr>\n",
       "      <th>1</th>\n",
       "      <td>age</td>\n",
       "      <td>4.41</td>\n",
       "    </tr>\n",
       "    <tr>\n",
       "      <th>4</th>\n",
       "      <td>transmission_Manual</td>\n",
       "      <td>4.26</td>\n",
       "    </tr>\n",
       "    <tr>\n",
       "      <th>0</th>\n",
       "      <td>km_driven</td>\n",
       "      <td>4.22</td>\n",
       "    </tr>\n",
       "    <tr>\n",
       "      <th>2</th>\n",
       "      <td>fuel_Diesel</td>\n",
       "      <td>2.20</td>\n",
       "    </tr>\n",
       "    <tr>\n",
       "      <th>3</th>\n",
       "      <td>seller_type_Trustmark Dealer</td>\n",
       "      <td>1.01</td>\n",
       "    </tr>\n",
       "  </tbody>\n",
       "</table>\n",
       "</div>"
      ],
      "text/plain": [
       "                       Features   VIF\n",
       "1                           age  4.41\n",
       "4           transmission_Manual  4.26\n",
       "0                     km_driven  4.22\n",
       "2                   fuel_Diesel  2.20\n",
       "3  seller_type_Trustmark Dealer  1.01"
      ]
     },
     "execution_count": 66,
     "metadata": {},
     "output_type": "execute_result"
    }
   ],
   "source": [
    "# Check for the VIF values of the feature variables. \n",
    "from statsmodels.stats.outliers_influence import variance_inflation_factor\n",
    "\n",
    "# Create a dataframe that will contain the names of all the feature variables and their respective VIFs\n",
    "vif = pd.DataFrame()\n",
    "vif['Features'] = X_train_new.columns\n",
    "vif['VIF'] = [variance_inflation_factor(X_train_new.values, i) for i in range(X_train_new.shape[1])]\n",
    "vif['VIF'] = round(vif['VIF'], 2)\n",
    "vif = vif.sort_values(by = \"VIF\", ascending = False)\n",
    "vif"
   ]
  },
  {
   "cell_type": "code",
   "execution_count": 67,
   "metadata": {
    "ExecuteTime": {
     "end_time": "2021-03-19T16:01:40.056238Z",
     "start_time": "2021-03-19T16:01:40.042276Z"
    }
   },
   "outputs": [],
   "source": [
    "# Add a constant\n",
    "X_train_lm3 = sm.add_constant(X_train_new)\n",
    "\n",
    "# Create a first fitted model\n",
    "lr3 = sm.OLS(y_train, X_train_lm3).fit()"
   ]
  },
  {
   "cell_type": "code",
   "execution_count": 68,
   "metadata": {
    "ExecuteTime": {
     "end_time": "2021-03-19T16:01:40.072196Z",
     "start_time": "2021-03-19T16:01:40.059231Z"
    }
   },
   "outputs": [
    {
     "data": {
      "text/plain": [
       "const                           0.158632\n",
       "km_driven                      -0.080031\n",
       "age                            -0.131571\n",
       "fuel_Diesel                     0.032402\n",
       "seller_type_Trustmark Dealer    0.023609\n",
       "transmission_Manual            -0.087321\n",
       "dtype: float64"
      ]
     },
     "execution_count": 68,
     "metadata": {},
     "output_type": "execute_result"
    }
   ],
   "source": [
    "# Check the parameters obtained\n",
    "\n",
    "lr3.params"
   ]
  },
  {
   "cell_type": "code",
   "execution_count": 69,
   "metadata": {
    "ExecuteTime": {
     "end_time": "2021-03-19T16:01:40.088153Z",
     "start_time": "2021-03-19T16:01:40.074191Z"
    }
   },
   "outputs": [
    {
     "name": "stdout",
     "output_type": "stream",
     "text": [
      "                            OLS Regression Results                            \n",
      "==============================================================================\n",
      "Dep. Variable:          selling_price   R-squared:                       0.435\n",
      "Model:                            OLS   Adj. R-squared:                  0.434\n",
      "Method:                 Least Squares   F-statistic:                     375.5\n",
      "Date:                Fri, 19 Mar 2021   Prob (F-statistic):          3.32e-299\n",
      "Time:                        21:31:40   Log-Likelihood:                 4123.5\n",
      "No. Observations:                2448   AIC:                            -8235.\n",
      "Df Residuals:                    2442   BIC:                            -8200.\n",
      "Df Model:                           5                                         \n",
      "Covariance Type:            nonrobust                                         \n",
      "================================================================================================\n",
      "                                   coef    std err          t      P>|t|      [0.025      0.975]\n",
      "------------------------------------------------------------------------------------------------\n",
      "const                            0.1586      0.003     45.507      0.000       0.152       0.165\n",
      "km_driven                       -0.0800      0.017     -4.577      0.000      -0.114      -0.046\n",
      "age                             -0.1316      0.007    -19.199      0.000      -0.145      -0.118\n",
      "fuel_Diesel                      0.0324      0.002     16.371      0.000       0.029       0.036\n",
      "seller_type_Trustmark Dealer     0.0236      0.009      2.551      0.011       0.005       0.042\n",
      "transmission_Manual             -0.0873      0.003    -27.001      0.000      -0.094      -0.081\n",
      "==============================================================================\n",
      "Omnibus:                     2674.832   Durbin-Watson:                   2.024\n",
      "Prob(Omnibus):                  0.000   Jarque-Bera (JB):           450162.190\n",
      "Skew:                           5.162   Prob(JB):                         0.00\n",
      "Kurtosis:                      68.626   Cond. No.                         29.2\n",
      "==============================================================================\n",
      "\n",
      "Warnings:\n",
      "[1] Standard Errors assume that the covariance matrix of the errors is correctly specified.\n"
     ]
    }
   ],
   "source": [
    "# Print a summary of the linear regression model obtained\n",
    "print(lr3.summary())"
   ]
  },
  {
   "cell_type": "markdown",
   "metadata": {},
   "source": [
    "## Model 4\n",
    "-Removing the variable 'seller_type_Trustmark Dealer ' based on its High p-value"
   ]
  },
  {
   "cell_type": "code",
   "execution_count": 70,
   "metadata": {
    "ExecuteTime": {
     "end_time": "2021-03-19T16:01:40.104111Z",
     "start_time": "2021-03-19T16:01:40.090148Z"
    }
   },
   "outputs": [],
   "source": [
    "X_train_new = X_train_new.drop([\"seller_type_Trustmark Dealer\"], axis = 1)"
   ]
  },
  {
   "cell_type": "markdown",
   "metadata": {},
   "source": [
    "### VIF Check"
   ]
  },
  {
   "cell_type": "code",
   "execution_count": 71,
   "metadata": {
    "ExecuteTime": {
     "end_time": "2021-03-19T16:01:40.135028Z",
     "start_time": "2021-03-19T16:01:40.106106Z"
    }
   },
   "outputs": [
    {
     "data": {
      "text/html": [
       "<div>\n",
       "<style scoped>\n",
       "    .dataframe tbody tr th:only-of-type {\n",
       "        vertical-align: middle;\n",
       "    }\n",
       "\n",
       "    .dataframe tbody tr th {\n",
       "        vertical-align: top;\n",
       "    }\n",
       "\n",
       "    .dataframe thead th {\n",
       "        text-align: right;\n",
       "    }\n",
       "</style>\n",
       "<table border=\"1\" class=\"dataframe\">\n",
       "  <thead>\n",
       "    <tr style=\"text-align: right;\">\n",
       "      <th></th>\n",
       "      <th>Features</th>\n",
       "      <th>VIF</th>\n",
       "    </tr>\n",
       "  </thead>\n",
       "  <tbody>\n",
       "    <tr>\n",
       "      <th>1</th>\n",
       "      <td>age</td>\n",
       "      <td>4.41</td>\n",
       "    </tr>\n",
       "    <tr>\n",
       "      <th>3</th>\n",
       "      <td>transmission_Manual</td>\n",
       "      <td>4.23</td>\n",
       "    </tr>\n",
       "    <tr>\n",
       "      <th>0</th>\n",
       "      <td>km_driven</td>\n",
       "      <td>4.21</td>\n",
       "    </tr>\n",
       "    <tr>\n",
       "      <th>2</th>\n",
       "      <td>fuel_Diesel</td>\n",
       "      <td>2.20</td>\n",
       "    </tr>\n",
       "  </tbody>\n",
       "</table>\n",
       "</div>"
      ],
      "text/plain": [
       "              Features   VIF\n",
       "1                  age  4.41\n",
       "3  transmission_Manual  4.23\n",
       "0            km_driven  4.21\n",
       "2          fuel_Diesel  2.20"
      ]
     },
     "execution_count": 71,
     "metadata": {},
     "output_type": "execute_result"
    }
   ],
   "source": [
    "# Check for the VIF values of the feature variables. \n",
    "from statsmodels.stats.outliers_influence import variance_inflation_factor\n",
    "\n",
    "# Create a dataframe that will contain the names of all the feature variables and their respective VIFs\n",
    "vif = pd.DataFrame()\n",
    "vif['Features'] = X_train_new.columns\n",
    "vif['VIF'] = [variance_inflation_factor(X_train_new.values, i) for i in range(X_train_new.shape[1])]\n",
    "vif['VIF'] = round(vif['VIF'], 2)\n",
    "vif = vif.sort_values(by = \"VIF\", ascending = False)\n",
    "vif"
   ]
  },
  {
   "cell_type": "code",
   "execution_count": 72,
   "metadata": {
    "ExecuteTime": {
     "end_time": "2021-03-19T16:01:40.149995Z",
     "start_time": "2021-03-19T16:01:40.137023Z"
    }
   },
   "outputs": [],
   "source": [
    "# Add a constant\n",
    "X_train_lm4 = sm.add_constant(X_train_new)\n",
    "\n",
    "# Create a first fitted model\n",
    "lr4 = sm.OLS(y_train, X_train_lm4).fit()"
   ]
  },
  {
   "cell_type": "code",
   "execution_count": 73,
   "metadata": {
    "ExecuteTime": {
     "end_time": "2021-03-19T16:01:40.164948Z",
     "start_time": "2021-03-19T16:01:40.151983Z"
    }
   },
   "outputs": [
    {
     "data": {
      "text/plain": [
       "const                  0.159292\n",
       "km_driven             -0.081104\n",
       "age                   -0.132559\n",
       "fuel_Diesel            0.032289\n",
       "transmission_Manual   -0.087353\n",
       "dtype: float64"
      ]
     },
     "execution_count": 73,
     "metadata": {},
     "output_type": "execute_result"
    }
   ],
   "source": [
    "# Check the parameters obtained\n",
    "\n",
    "lr4.params"
   ]
  },
  {
   "cell_type": "code",
   "execution_count": 74,
   "metadata": {
    "ExecuteTime": {
     "end_time": "2021-03-19T16:01:40.179908Z",
     "start_time": "2021-03-19T16:01:40.166942Z"
    }
   },
   "outputs": [
    {
     "name": "stdout",
     "output_type": "stream",
     "text": [
      "                            OLS Regression Results                            \n",
      "==============================================================================\n",
      "Dep. Variable:          selling_price   R-squared:                       0.433\n",
      "Model:                            OLS   Adj. R-squared:                  0.432\n",
      "Method:                 Least Squares   F-statistic:                     466.7\n",
      "Date:                Fri, 19 Mar 2021   Prob (F-statistic):          3.70e-299\n",
      "Time:                        21:31:40   Log-Likelihood:                 4120.3\n",
      "No. Observations:                2448   AIC:                            -8231.\n",
      "Df Residuals:                    2443   BIC:                            -8202.\n",
      "Df Model:                           4                                         \n",
      "Covariance Type:            nonrobust                                         \n",
      "=======================================================================================\n",
      "                          coef    std err          t      P>|t|      [0.025      0.975]\n",
      "---------------------------------------------------------------------------------------\n",
      "const                   0.1593      0.003     45.771      0.000       0.152       0.166\n",
      "km_driven              -0.0811      0.018     -4.634      0.000      -0.115      -0.047\n",
      "age                    -0.1326      0.007    -19.352      0.000      -0.146      -0.119\n",
      "fuel_Diesel             0.0323      0.002     16.300      0.000       0.028       0.036\n",
      "transmission_Manual    -0.0874      0.003    -26.981      0.000      -0.094      -0.081\n",
      "==============================================================================\n",
      "Omnibus:                     2665.316   Durbin-Watson:                   2.026\n",
      "Prob(Omnibus):                  0.000   Jarque-Bera (JB):           442938.191\n",
      "Skew:                           5.133   Prob(JB):                         0.00\n",
      "Kurtosis:                      68.093   Cond. No.                         29.2\n",
      "==============================================================================\n",
      "\n",
      "Warnings:\n",
      "[1] Standard Errors assume that the covariance matrix of the errors is correctly specified.\n"
     ]
    }
   ],
   "source": [
    "# Print a summary of the linear regression model obtained\n",
    "print(lr4.summary())"
   ]
  },
  {
   "cell_type": "markdown",
   "metadata": {},
   "source": [
    "### Insights\n",
    "- This model looks good, as there seems to be VERY LOW Multicollinearity between the predictors and the p-values for all the predictors seems to be significant. For now, we will consider this as our final model (unless the Test data metrics are not significantly close to this number)."
   ]
  },
  {
   "cell_type": "markdown",
   "metadata": {},
   "source": [
    "# Final Model Interpretation"
   ]
  },
  {
   "cell_type": "markdown",
   "metadata": {},
   "source": [
    "## Hypothesis Testing:"
   ]
  },
  {
   "cell_type": "markdown",
   "metadata": {},
   "source": [
    "### Hypothesis testing states that:\n",
    "\n",
    "- H0:B1=B2=...=Bn=0\n",
    "- H1: at least one Bi!=0\n",
    "\n",
    "lr4 model coefficient values\n",
    "- const                  0.159292\n",
    "- km_driven             -0.081104\n",
    "- age                   -0.132559\n",
    "- fuel_Diesel            0.032289\n",
    "- transmission_Manual   -0.087353"
   ]
  },
  {
   "cell_type": "markdown",
   "metadata": {},
   "source": [
    "### Insights\n",
    "- From the lr4  model summary, it is evident that all our coefficients are not equal to zero which means We REJECT the NULL HYPOTHESIS"
   ]
  },
  {
   "cell_type": "markdown",
   "metadata": {},
   "source": [
    "### F Statistics\n",
    "\n",
    "#### F-Statistics is used for testing the overall significance of the Model: Higher the F-Statistics, more significant the Model is.\n",
    "\n",
    "- F-statistic:                     466.7\n",
    "- Prob (F-statistic):          3.70e-299\n",
    "The F-Statistics value of 466.7 (which is greater than 1) and the p-value of '~0.0000' states that the overall model is significant"
   ]
  },
  {
   "cell_type": "markdown",
   "metadata": {},
   "source": [
    "# The equation of best fitted surface based on model lr4:"
   ]
  },
  {
   "cell_type": "markdown",
   "metadata": {},
   "source": [
    "**selling_price** = 0.159292 - (**km_driven** * **0.081104**) - (**age** * 0.132559) + ( **fuel_Diesel** * 0.032289) - ( **transmission_Manual** * 0.087353)"
   ]
  },
  {
   "cell_type": "markdown",
   "metadata": {},
   "source": [
    "### Interpretation of Coefficients:\n",
    "\n",
    "- **km_driven**: A coefficient value of ‘0.081104’ indicated that a unit increase in km_driven variable, decreases the selling_price numbers by 0.081104 units.\n",
    "\n",
    "- **age**: A coefficient value of ‘-0.132559’ indicated that, a unit increase in age  variable, decreases the selling_price numbers by 0.132559 units.\n",
    "\n",
    "- **fuel_Diesel**: A coefficient value of ‘0.032289’ indicated that w.r.t Petrol, a unit increase in fuel_Diesel variable increases the selling_price numbers by 0.032289 units.\n",
    "\n",
    "- **transmission_Manual**: A coefficient value of ‘-0.087353’ indicated that w.r.t Automatic, a unit increase in transmission_Manual variable decreases the selling_price numbers by 0.087353 units."
   ]
  },
  {
   "cell_type": "markdown",
   "metadata": {},
   "source": [
    "#  ASSUMPTIONS"
   ]
  },
  {
   "cell_type": "markdown",
   "metadata": {},
   "source": [
    "## Error terms are normally distributed with mean zero (not X, Y)\n",
    "\n",
    "- Residual Analysis Of Training Data"
   ]
  },
  {
   "cell_type": "code",
   "execution_count": 75,
   "metadata": {
    "ExecuteTime": {
     "end_time": "2021-03-19T16:01:40.195866Z",
     "start_time": "2021-03-19T16:01:40.181903Z"
    }
   },
   "outputs": [],
   "source": [
    "y_train_pred = lr4.predict(X_train_lm4)"
   ]
  },
  {
   "cell_type": "code",
   "execution_count": 76,
   "metadata": {
    "ExecuteTime": {
     "end_time": "2021-03-19T16:01:40.383366Z",
     "start_time": "2021-03-19T16:01:40.197860Z"
    }
   },
   "outputs": [
    {
     "data": {
      "text/plain": [
       "Text(0.5, 0, 'Errors')"
      ]
     },
     "execution_count": 76,
     "metadata": {},
     "output_type": "execute_result"
    },
    {
     "data": {
      "image/png": "[encoded data removed]",
      "text/plain": [
       "<Figure size 432x288 with 1 Axes>"
      ]
     },
     "metadata": {
      "needs_background": "light"
     },
     "output_type": "display_data"
    }
   ],
   "source": [
    "res = y_train-y_train_pred\n",
    "# Plot the histogram of the error terms\n",
    "fig = plt.figure()\n",
    "sns.distplot((res), bins = 20)\n",
    "fig.suptitle('Error Terms', fontsize = 20)                  # Plot heading \n",
    "plt.xlabel('Errors', fontsize = 18)  "
   ]
  },
  {
   "cell_type": "markdown",
   "metadata": {},
   "source": [
    "### Insights\n",
    "- From the above histogram, we could see that the Residuals are normally distributed. Hence our assumption for Linear Regression is valid."
   ]
  },
  {
   "cell_type": "markdown",
   "metadata": {},
   "source": [
    "## There is a linear relationship between X and Y"
   ]
  },
  {
   "cell_type": "code",
   "execution_count": 77,
   "metadata": {
    "ExecuteTime": {
     "end_time": "2021-03-19T16:01:42.012345Z",
     "start_time": "2021-03-19T16:01:40.384362Z"
    }
   },
   "outputs": [
    {
     "data": {
      "image/png": "[encoded data removed]",
      "text/plain": [
       "<Figure size 540x540 with 12 Axes>"
      ]
     },
     "metadata": {
      "needs_background": "light"
     },
     "output_type": "display_data"
    }
   ],
   "source": [
    "car_n=car[[ 'selling_price', 'km_driven', 'age']]\n",
    "\n",
    "sns.pairplot(car_n, diag_kind='kde')\n",
    "plt.show()"
   ]
  },
  {
   "cell_type": "markdown",
   "metadata": {},
   "source": [
    "### Insight\n",
    "- Using the pair plot, we could see there is a linear relation between km_driven and age variable with the predictor ‘selling_price’."
   ]
  },
  {
   "cell_type": "markdown",
   "metadata": {},
   "source": [
    "## There is No Multicollinearity between the predictor variables"
   ]
  },
  {
   "cell_type": "code",
   "execution_count": 78,
   "metadata": {
    "ExecuteTime": {
     "end_time": "2021-03-19T16:01:42.042259Z",
     "start_time": "2021-03-19T16:01:42.013367Z"
    }
   },
   "outputs": [
    {
     "data": {
      "text/html": [
       "<div>\n",
       "<style scoped>\n",
       "    .dataframe tbody tr th:only-of-type {\n",
       "        vertical-align: middle;\n",
       "    }\n",
       "\n",
       "    .dataframe tbody tr th {\n",
       "        vertical-align: top;\n",
       "    }\n",
       "\n",
       "    .dataframe thead th {\n",
       "        text-align: right;\n",
       "    }\n",
       "</style>\n",
       "<table border=\"1\" class=\"dataframe\">\n",
       "  <thead>\n",
       "    <tr style=\"text-align: right;\">\n",
       "      <th></th>\n",
       "      <th>Features</th>\n",
       "      <th>VIF</th>\n",
       "    </tr>\n",
       "  </thead>\n",
       "  <tbody>\n",
       "    <tr>\n",
       "      <th>1</th>\n",
       "      <td>age</td>\n",
       "      <td>4.41</td>\n",
       "    </tr>\n",
       "    <tr>\n",
       "      <th>3</th>\n",
       "      <td>transmission_Manual</td>\n",
       "      <td>4.23</td>\n",
       "    </tr>\n",
       "    <tr>\n",
       "      <th>0</th>\n",
       "      <td>km_driven</td>\n",
       "      <td>4.21</td>\n",
       "    </tr>\n",
       "    <tr>\n",
       "      <th>2</th>\n",
       "      <td>fuel_Diesel</td>\n",
       "      <td>2.20</td>\n",
       "    </tr>\n",
       "  </tbody>\n",
       "</table>\n",
       "</div>"
      ],
      "text/plain": [
       "              Features   VIF\n",
       "1                  age  4.41\n",
       "3  transmission_Manual  4.23\n",
       "0            km_driven  4.21\n",
       "2          fuel_Diesel  2.20"
      ]
     },
     "execution_count": 78,
     "metadata": {},
     "output_type": "execute_result"
    }
   ],
   "source": [
    "# Check for the VIF values of the feature variables. \n",
    "from statsmodels.stats.outliers_influence import variance_inflation_factor\n",
    "\n",
    "# Create a dataframe that will contain the names of all the feature variables and their respective VIFs\n",
    "vif = pd.DataFrame()\n",
    "vif['Features'] = X_train_new.columns\n",
    "vif['VIF'] = [variance_inflation_factor(X_train_new.values, i) for i in range(X_train_new.shape[1])]\n",
    "vif['VIF'] = round(vif['VIF'], 2)\n",
    "vif = vif.sort_values(by = \"VIF\", ascending = False)\n",
    "vif\n"
   ]
  },
  {
   "cell_type": "markdown",
   "metadata": {},
   "source": [
    "### Insight\n",
    "- From the VIF calculation we could find that there is no multicollinearity existing between the predictor variables, as all the values are within permissible range of below 5"
   ]
  },
  {
   "cell_type": "markdown",
   "metadata": {},
   "source": [
    "# MAKING PREDICTION USING FINAL MODEL\n"
   ]
  },
  {
   "cell_type": "markdown",
   "metadata": {},
   "source": [
    "Now that we have fitted the model and checked the assumptions, it's time to go ahead and make predictions using the final model (lr4)"
   ]
  },
  {
   "cell_type": "markdown",
   "metadata": {},
   "source": [
    "### Applying the scaling on the test sets"
   ]
  },
  {
   "cell_type": "code",
   "execution_count": 79,
   "metadata": {
    "ExecuteTime": {
     "end_time": "2021-03-19T16:01:42.087139Z",
     "start_time": "2021-03-19T16:01:42.044255Z"
    }
   },
   "outputs": [],
   "source": [
    "#Apply scaler() to all the numeric variables\n",
    "\n",
    "num_vars = ['selling_price', 'km_driven', 'age']\n",
    "\n",
    "df_test[num_vars] = scaler.fit_transform(df_test[num_vars])"
   ]
  },
  {
   "cell_type": "code",
   "execution_count": 80,
   "metadata": {
    "ExecuteTime": {
     "end_time": "2021-03-19T16:01:42.118056Z",
     "start_time": "2021-03-19T16:01:42.089134Z"
    }
   },
   "outputs": [
    {
     "data": {
      "text/html": [
       "<div>\n",
       "<style scoped>\n",
       "    .dataframe tbody tr th:only-of-type {\n",
       "        vertical-align: middle;\n",
       "    }\n",
       "\n",
       "    .dataframe tbody tr th {\n",
       "        vertical-align: top;\n",
       "    }\n",
       "\n",
       "    .dataframe thead th {\n",
       "        text-align: right;\n",
       "    }\n",
       "</style>\n",
       "<table border=\"1\" class=\"dataframe\">\n",
       "  <thead>\n",
       "    <tr style=\"text-align: right;\">\n",
       "      <th></th>\n",
       "      <th>selling_price</th>\n",
       "      <th>km_driven</th>\n",
       "      <th>age</th>\n",
       "      <th>fuel_Diesel</th>\n",
       "      <th>fuel_Electric</th>\n",
       "      <th>fuel_LPG</th>\n",
       "      <th>fuel_Petrol</th>\n",
       "      <th>seller_type_Individual</th>\n",
       "      <th>seller_type_Trustmark Dealer</th>\n",
       "      <th>transmission_Manual</th>\n",
       "      <th>owner_Fourth &amp; Above Owner</th>\n",
       "      <th>owner_Second Owner</th>\n",
       "      <th>owner_Test Drive Car</th>\n",
       "      <th>owner_Third Owner</th>\n",
       "    </tr>\n",
       "  </thead>\n",
       "  <tbody>\n",
       "    <tr>\n",
       "      <th>982</th>\n",
       "      <td>0.073553</td>\n",
       "      <td>0.219997</td>\n",
       "      <td>0.208333</td>\n",
       "      <td>0</td>\n",
       "      <td>0</td>\n",
       "      <td>0</td>\n",
       "      <td>1</td>\n",
       "      <td>1</td>\n",
       "      <td>0</td>\n",
       "      <td>1</td>\n",
       "      <td>0</td>\n",
       "      <td>0</td>\n",
       "      <td>0</td>\n",
       "      <td>0</td>\n",
       "    </tr>\n",
       "    <tr>\n",
       "      <th>2309</th>\n",
       "      <td>0.025681</td>\n",
       "      <td>0.063330</td>\n",
       "      <td>0.125000</td>\n",
       "      <td>0</td>\n",
       "      <td>0</td>\n",
       "      <td>0</td>\n",
       "      <td>1</td>\n",
       "      <td>1</td>\n",
       "      <td>0</td>\n",
       "      <td>1</td>\n",
       "      <td>0</td>\n",
       "      <td>0</td>\n",
       "      <td>0</td>\n",
       "      <td>0</td>\n",
       "    </tr>\n",
       "    <tr>\n",
       "      <th>1025</th>\n",
       "      <td>0.008223</td>\n",
       "      <td>0.233331</td>\n",
       "      <td>0.375000</td>\n",
       "      <td>1</td>\n",
       "      <td>0</td>\n",
       "      <td>0</td>\n",
       "      <td>0</td>\n",
       "      <td>1</td>\n",
       "      <td>0</td>\n",
       "      <td>1</td>\n",
       "      <td>0</td>\n",
       "      <td>0</td>\n",
       "      <td>0</td>\n",
       "      <td>0</td>\n",
       "    </tr>\n",
       "    <tr>\n",
       "      <th>3744</th>\n",
       "      <td>0.038635</td>\n",
       "      <td>0.399998</td>\n",
       "      <td>0.291667</td>\n",
       "      <td>1</td>\n",
       "      <td>0</td>\n",
       "      <td>0</td>\n",
       "      <td>0</td>\n",
       "      <td>1</td>\n",
       "      <td>0</td>\n",
       "      <td>1</td>\n",
       "      <td>0</td>\n",
       "      <td>0</td>\n",
       "      <td>0</td>\n",
       "      <td>0</td>\n",
       "    </tr>\n",
       "    <tr>\n",
       "      <th>1552</th>\n",
       "      <td>0.017234</td>\n",
       "      <td>0.453332</td>\n",
       "      <td>0.458333</td>\n",
       "      <td>1</td>\n",
       "      <td>0</td>\n",
       "      <td>0</td>\n",
       "      <td>0</td>\n",
       "      <td>1</td>\n",
       "      <td>0</td>\n",
       "      <td>1</td>\n",
       "      <td>0</td>\n",
       "      <td>1</td>\n",
       "      <td>0</td>\n",
       "      <td>0</td>\n",
       "    </tr>\n",
       "  </tbody>\n",
       "</table>\n",
       "</div>"
      ],
      "text/plain": [
       "      selling_price  km_driven       age  fuel_Diesel  fuel_Electric  \\\n",
       "982        0.073553   0.219997  0.208333            0              0   \n",
       "2309       0.025681   0.063330  0.125000            0              0   \n",
       "1025       0.008223   0.233331  0.375000            1              0   \n",
       "3744       0.038635   0.399998  0.291667            1              0   \n",
       "1552       0.017234   0.453332  0.458333            1              0   \n",
       "\n",
       "      fuel_LPG  fuel_Petrol  seller_type_Individual  \\\n",
       "982          0            1                       1   \n",
       "2309         0            1                       1   \n",
       "1025         0            0                       1   \n",
       "3744         0            0                       1   \n",
       "1552         0            0                       1   \n",
       "\n",
       "      seller_type_Trustmark Dealer  transmission_Manual  \\\n",
       "982                              0                    1   \n",
       "2309                             0                    1   \n",
       "1025                             0                    1   \n",
       "3744                             0                    1   \n",
       "1552                             0                    1   \n",
       "\n",
       "      owner_Fourth & Above Owner  owner_Second Owner  owner_Test Drive Car  \\\n",
       "982                            0                   0                     0   \n",
       "2309                           0                   0                     0   \n",
       "1025                           0                   0                     0   \n",
       "3744                           0                   0                     0   \n",
       "1552                           0                   1                     0   \n",
       "\n",
       "      owner_Third Owner  \n",
       "982                   0  \n",
       "2309                  0  \n",
       "1025                  0  \n",
       "3744                  0  \n",
       "1552                  0  "
      ]
     },
     "execution_count": 80,
     "metadata": {},
     "output_type": "execute_result"
    }
   ],
   "source": [
    "df_test.head()"
   ]
  },
  {
   "cell_type": "code",
   "execution_count": 81,
   "metadata": {
    "ExecuteTime": {
     "end_time": "2021-03-19T16:01:42.179890Z",
     "start_time": "2021-03-19T16:01:42.120051Z"
    }
   },
   "outputs": [
    {
     "data": {
      "text/html": [
       "<div>\n",
       "<style scoped>\n",
       "    .dataframe tbody tr th:only-of-type {\n",
       "        vertical-align: middle;\n",
       "    }\n",
       "\n",
       "    .dataframe tbody tr th {\n",
       "        vertical-align: top;\n",
       "    }\n",
       "\n",
       "    .dataframe thead th {\n",
       "        text-align: right;\n",
       "    }\n",
       "</style>\n",
       "<table border=\"1\" class=\"dataframe\">\n",
       "  <thead>\n",
       "    <tr style=\"text-align: right;\">\n",
       "      <th></th>\n",
       "      <th>selling_price</th>\n",
       "      <th>km_driven</th>\n",
       "      <th>age</th>\n",
       "      <th>fuel_Diesel</th>\n",
       "      <th>fuel_Electric</th>\n",
       "      <th>fuel_LPG</th>\n",
       "      <th>fuel_Petrol</th>\n",
       "      <th>seller_type_Individual</th>\n",
       "      <th>seller_type_Trustmark Dealer</th>\n",
       "      <th>transmission_Manual</th>\n",
       "      <th>owner_Fourth &amp; Above Owner</th>\n",
       "      <th>owner_Second Owner</th>\n",
       "      <th>owner_Test Drive Car</th>\n",
       "      <th>owner_Third Owner</th>\n",
       "    </tr>\n",
       "  </thead>\n",
       "  <tbody>\n",
       "    <tr>\n",
       "      <th>count</th>\n",
       "      <td>1050.000000</td>\n",
       "      <td>1050.000000</td>\n",
       "      <td>1050.000000</td>\n",
       "      <td>1050.000000</td>\n",
       "      <td>1050.0</td>\n",
       "      <td>1050.000000</td>\n",
       "      <td>1050.000000</td>\n",
       "      <td>1050.000000</td>\n",
       "      <td>1050.000000</td>\n",
       "      <td>1050.000000</td>\n",
       "      <td>1050.000000</td>\n",
       "      <td>1050.000000</td>\n",
       "      <td>1050.000000</td>\n",
       "      <td>1050.000000</td>\n",
       "    </tr>\n",
       "    <tr>\n",
       "      <th>mean</th>\n",
       "      <td>0.052495</td>\n",
       "      <td>0.225113</td>\n",
       "      <td>0.294524</td>\n",
       "      <td>0.508571</td>\n",
       "      <td>0.0</td>\n",
       "      <td>0.006667</td>\n",
       "      <td>0.478095</td>\n",
       "      <td>0.793333</td>\n",
       "      <td>0.008571</td>\n",
       "      <td>0.908571</td>\n",
       "      <td>0.020000</td>\n",
       "      <td>0.277143</td>\n",
       "      <td>0.005714</td>\n",
       "      <td>0.081905</td>\n",
       "    </tr>\n",
       "    <tr>\n",
       "      <th>std</th>\n",
       "      <td>0.064583</td>\n",
       "      <td>0.142527</td>\n",
       "      <td>0.178533</td>\n",
       "      <td>0.500165</td>\n",
       "      <td>0.0</td>\n",
       "      <td>0.081416</td>\n",
       "      <td>0.499758</td>\n",
       "      <td>0.405107</td>\n",
       "      <td>0.092228</td>\n",
       "      <td>0.288355</td>\n",
       "      <td>0.140067</td>\n",
       "      <td>0.447801</td>\n",
       "      <td>0.075413</td>\n",
       "      <td>0.274350</td>\n",
       "    </tr>\n",
       "    <tr>\n",
       "      <th>min</th>\n",
       "      <td>0.000000</td>\n",
       "      <td>0.000000</td>\n",
       "      <td>0.000000</td>\n",
       "      <td>0.000000</td>\n",
       "      <td>0.0</td>\n",
       "      <td>0.000000</td>\n",
       "      <td>0.000000</td>\n",
       "      <td>0.000000</td>\n",
       "      <td>0.000000</td>\n",
       "      <td>0.000000</td>\n",
       "      <td>0.000000</td>\n",
       "      <td>0.000000</td>\n",
       "      <td>0.000000</td>\n",
       "      <td>0.000000</td>\n",
       "    </tr>\n",
       "    <tr>\n",
       "      <th>25%</th>\n",
       "      <td>0.020050</td>\n",
       "      <td>0.120830</td>\n",
       "      <td>0.166667</td>\n",
       "      <td>0.000000</td>\n",
       "      <td>0.0</td>\n",
       "      <td>0.000000</td>\n",
       "      <td>0.000000</td>\n",
       "      <td>1.000000</td>\n",
       "      <td>0.000000</td>\n",
       "      <td>1.000000</td>\n",
       "      <td>0.000000</td>\n",
       "      <td>0.000000</td>\n",
       "      <td>0.000000</td>\n",
       "      <td>0.000000</td>\n",
       "    </tr>\n",
       "    <tr>\n",
       "      <th>50%</th>\n",
       "      <td>0.036157</td>\n",
       "      <td>0.199997</td>\n",
       "      <td>0.250000</td>\n",
       "      <td>1.000000</td>\n",
       "      <td>0.0</td>\n",
       "      <td>0.000000</td>\n",
       "      <td>0.000000</td>\n",
       "      <td>1.000000</td>\n",
       "      <td>0.000000</td>\n",
       "      <td>1.000000</td>\n",
       "      <td>0.000000</td>\n",
       "      <td>0.000000</td>\n",
       "      <td>0.000000</td>\n",
       "      <td>0.000000</td>\n",
       "    </tr>\n",
       "    <tr>\n",
       "      <th>75%</th>\n",
       "      <td>0.064908</td>\n",
       "      <td>0.299998</td>\n",
       "      <td>0.416667</td>\n",
       "      <td>1.000000</td>\n",
       "      <td>0.0</td>\n",
       "      <td>0.000000</td>\n",
       "      <td>1.000000</td>\n",
       "      <td>1.000000</td>\n",
       "      <td>0.000000</td>\n",
       "      <td>1.000000</td>\n",
       "      <td>0.000000</td>\n",
       "      <td>1.000000</td>\n",
       "      <td>0.000000</td>\n",
       "      <td>0.000000</td>\n",
       "    </tr>\n",
       "    <tr>\n",
       "      <th>max</th>\n",
       "      <td>1.000000</td>\n",
       "      <td>1.000000</td>\n",
       "      <td>1.000000</td>\n",
       "      <td>1.000000</td>\n",
       "      <td>0.0</td>\n",
       "      <td>1.000000</td>\n",
       "      <td>1.000000</td>\n",
       "      <td>1.000000</td>\n",
       "      <td>1.000000</td>\n",
       "      <td>1.000000</td>\n",
       "      <td>1.000000</td>\n",
       "      <td>1.000000</td>\n",
       "      <td>1.000000</td>\n",
       "      <td>1.000000</td>\n",
       "    </tr>\n",
       "  </tbody>\n",
       "</table>\n",
       "</div>"
      ],
      "text/plain": [
       "       selling_price    km_driven          age  fuel_Diesel  fuel_Electric  \\\n",
       "count    1050.000000  1050.000000  1050.000000  1050.000000         1050.0   \n",
       "mean        0.052495     0.225113     0.294524     0.508571            0.0   \n",
       "std         0.064583     0.142527     0.178533     0.500165            0.0   \n",
       "min         0.000000     0.000000     0.000000     0.000000            0.0   \n",
       "25%         0.020050     0.120830     0.166667     0.000000            0.0   \n",
       "50%         0.036157     0.199997     0.250000     1.000000            0.0   \n",
       "75%         0.064908     0.299998     0.416667     1.000000            0.0   \n",
       "max         1.000000     1.000000     1.000000     1.000000            0.0   \n",
       "\n",
       "          fuel_LPG  fuel_Petrol  seller_type_Individual  \\\n",
       "count  1050.000000  1050.000000             1050.000000   \n",
       "mean      0.006667     0.478095                0.793333   \n",
       "std       0.081416     0.499758                0.405107   \n",
       "min       0.000000     0.000000                0.000000   \n",
       "25%       0.000000     0.000000                1.000000   \n",
       "50%       0.000000     0.000000                1.000000   \n",
       "75%       0.000000     1.000000                1.000000   \n",
       "max       1.000000     1.000000                1.000000   \n",
       "\n",
       "       seller_type_Trustmark Dealer  transmission_Manual  \\\n",
       "count                   1050.000000          1050.000000   \n",
       "mean                       0.008571             0.908571   \n",
       "std                        0.092228             0.288355   \n",
       "min                        0.000000             0.000000   \n",
       "25%                        0.000000             1.000000   \n",
       "50%                        0.000000             1.000000   \n",
       "75%                        0.000000             1.000000   \n",
       "max                        1.000000             1.000000   \n",
       "\n",
       "       owner_Fourth & Above Owner  owner_Second Owner  owner_Test Drive Car  \\\n",
       "count                 1050.000000         1050.000000           1050.000000   \n",
       "mean                     0.020000            0.277143              0.005714   \n",
       "std                      0.140067            0.447801              0.075413   \n",
       "min                      0.000000            0.000000              0.000000   \n",
       "25%                      0.000000            0.000000              0.000000   \n",
       "50%                      0.000000            0.000000              0.000000   \n",
       "75%                      0.000000            1.000000              0.000000   \n",
       "max                      1.000000            1.000000              1.000000   \n",
       "\n",
       "       owner_Third Owner  \n",
       "count        1050.000000  \n",
       "mean            0.081905  \n",
       "std             0.274350  \n",
       "min             0.000000  \n",
       "25%             0.000000  \n",
       "50%             0.000000  \n",
       "75%             0.000000  \n",
       "max             1.000000  "
      ]
     },
     "execution_count": 81,
     "metadata": {},
     "output_type": "execute_result"
    }
   ],
   "source": [
    "df_test.describe()"
   ]
  },
  {
   "cell_type": "markdown",
   "metadata": {},
   "source": [
    "### Dividing into X_test and y_test"
   ]
  },
  {
   "cell_type": "code",
   "execution_count": 82,
   "metadata": {
    "ExecuteTime": {
     "end_time": "2021-03-19T16:01:42.195849Z",
     "start_time": "2021-03-19T16:01:42.181885Z"
    }
   },
   "outputs": [
    {
     "name": "stdout",
     "output_type": "stream",
     "text": [
      "<class 'pandas.core.frame.DataFrame'>\n",
      "Int64Index: 1050 entries, 982 to 4291\n",
      "Data columns (total 13 columns):\n",
      " #   Column                        Non-Null Count  Dtype  \n",
      "---  ------                        --------------  -----  \n",
      " 0   km_driven                     1050 non-null   float64\n",
      " 1   age                           1050 non-null   float64\n",
      " 2   fuel_Diesel                   1050 non-null   uint8  \n",
      " 3   fuel_Electric                 1050 non-null   uint8  \n",
      " 4   fuel_LPG                      1050 non-null   uint8  \n",
      " 5   fuel_Petrol                   1050 non-null   uint8  \n",
      " 6   seller_type_Individual        1050 non-null   uint8  \n",
      " 7   seller_type_Trustmark Dealer  1050 non-null   uint8  \n",
      " 8   transmission_Manual           1050 non-null   uint8  \n",
      " 9   owner_Fourth & Above Owner    1050 non-null   uint8  \n",
      " 10  owner_Second Owner            1050 non-null   uint8  \n",
      " 11  owner_Test Drive Car          1050 non-null   uint8  \n",
      " 12  owner_Third Owner             1050 non-null   uint8  \n",
      "dtypes: float64(2), uint8(11)\n",
      "memory usage: 35.9 KB\n"
     ]
    }
   ],
   "source": [
    "y_test = df_test.pop('selling_price')\n",
    "X_test = df_test\n",
    "X_test.info()\n"
   ]
  },
  {
   "cell_type": "code",
   "execution_count": 83,
   "metadata": {
    "ExecuteTime": {
     "end_time": "2021-03-19T16:01:42.227762Z",
     "start_time": "2021-03-19T16:01:42.197842Z"
    }
   },
   "outputs": [
    {
     "name": "stdout",
     "output_type": "stream",
     "text": [
      "<class 'pandas.core.frame.DataFrame'>\n",
      "Int64Index: 1050 entries, 982 to 4291\n",
      "Data columns (total 5 columns):\n",
      " #   Column               Non-Null Count  Dtype  \n",
      "---  ------               --------------  -----  \n",
      " 0   const                1050 non-null   float64\n",
      " 1   km_driven            1050 non-null   float64\n",
      " 2   age                  1050 non-null   float64\n",
      " 3   fuel_Diesel          1050 non-null   uint8  \n",
      " 4   transmission_Manual  1050 non-null   uint8  \n",
      "dtypes: float64(3), uint8(2)\n",
      "memory usage: 34.9 KB\n"
     ]
    }
   ],
   "source": [
    "#Selecting the variables that were part of final model.\n",
    "col1=X_train_new.columns\n",
    "X_test=X_test[col1]\n",
    "# Adding constant variable to test dataframe\n",
    "X_test_lm4 = sm.add_constant(X_test)\n",
    "X_test_lm4.info()"
   ]
  },
  {
   "cell_type": "code",
   "execution_count": 84,
   "metadata": {
    "ExecuteTime": {
     "end_time": "2021-03-19T16:01:42.243722Z",
     "start_time": "2021-03-19T16:01:42.229758Z"
    }
   },
   "outputs": [],
   "source": [
    "# Making predictions using the final model (lr6)\n",
    "\n",
    "y_pred = lr4.predict(X_test_lm4)"
   ]
  },
  {
   "cell_type": "markdown",
   "metadata": {},
   "source": [
    "# MODEL EVALUATION"
   ]
  },
  {
   "cell_type": "code",
   "execution_count": 85,
   "metadata": {
    "ExecuteTime": {
     "end_time": "2021-03-19T16:01:42.385342Z",
     "start_time": "2021-03-19T16:01:42.244719Z"
    }
   },
   "outputs": [
    {
     "data": {
      "image/png": "[encoded data removed]",
      "text/plain": [
       "<Figure size 432x288 with 1 Axes>"
      ]
     },
     "metadata": {
      "needs_background": "light"
     },
     "output_type": "display_data"
    }
   ],
   "source": [
    "# Plotting y_test and y_pred to understand the spread\n",
    "\n",
    "fig = plt.figure()\n",
    "plt.scatter(y_test, y_pred, alpha=.5)\n",
    "fig.suptitle('y_test vs y_pred', fontsize = 20)              # Plot heading \n",
    "plt.xlabel('y_test', fontsize = 18)                          # X-label\n",
    "plt.ylabel('y_pred', fontsize = 16) \n",
    "plt.show()"
   ]
  },
  {
   "cell_type": "markdown",
   "metadata": {},
   "source": [
    "## R^2 Value for TEST"
   ]
  },
  {
   "cell_type": "code",
   "execution_count": 86,
   "metadata": {
    "ExecuteTime": {
     "end_time": "2021-03-19T16:01:42.400314Z",
     "start_time": "2021-03-19T16:01:42.387349Z"
    }
   },
   "outputs": [
    {
     "data": {
      "text/plain": [
       "0.36183712560830605"
      ]
     },
     "execution_count": 86,
     "metadata": {},
     "output_type": "execute_result"
    }
   ],
   "source": [
    "from sklearn.metrics import r2_score\n",
    "r2_score(y_test, y_pred)"
   ]
  },
  {
   "cell_type": "markdown",
   "metadata": {},
   "source": [
    "### Adjusted R^2 Value for TEST"
   ]
  },
  {
   "cell_type": "code",
   "execution_count": 87,
   "metadata": {
    "ExecuteTime": {
     "end_time": "2021-03-19T16:01:42.415261Z",
     "start_time": "2021-03-19T16:01:42.402297Z"
    }
   },
   "outputs": [],
   "source": [
    "# We already have the value of R^2 (calculated in above step)\n",
    "\n",
    "r2=0.3618371256083056 "
   ]
  },
  {
   "cell_type": "code",
   "execution_count": 88,
   "metadata": {
    "ExecuteTime": {
     "end_time": "2021-03-19T16:01:42.445181Z",
     "start_time": "2021-03-19T16:01:42.416259Z"
    }
   },
   "outputs": [
    {
     "data": {
      "text/plain": [
       "(1050, 4)"
      ]
     },
     "execution_count": 88,
     "metadata": {},
     "output_type": "execute_result"
    }
   ],
   "source": [
    "# Get the shape of X_test\n",
    "X_test.shape"
   ]
  },
  {
   "cell_type": "code",
   "execution_count": 89,
   "metadata": {
    "ExecuteTime": {
     "end_time": "2021-03-19T16:01:42.460184Z",
     "start_time": "2021-03-19T16:01:42.447178Z"
    }
   },
   "outputs": [
    {
     "data": {
      "text/plain": [
       "0.3593943969025001"
      ]
     },
     "execution_count": 89,
     "metadata": {},
     "output_type": "execute_result"
    }
   ],
   "source": [
    "# n is number of rows in X\n",
    "\n",
    "n = X_test.shape[0]\n",
    "\n",
    "\n",
    "# Number of features (predictors, p) is the shape along axis 1\n",
    "p = X_test.shape[1]\n",
    "\n",
    "# We find the Adjusted R-squared using the formula\n",
    "\n",
    "adjusted_r2 = 1-(1-r2)*(n-1)/(n-p-1)\n",
    "adjusted_r2"
   ]
  },
  {
   "cell_type": "markdown",
   "metadata": {},
   "source": [
    "### Final Result Comparison\n",
    "- Train R^2 :0.433\n",
    "- Train Adjusted R^2 :0.432\n",
    "- Test R^2 :0.362 \n",
    "- Test Adjusted R^2 :0.360\n",
    "\n",
    "This seems to be a really good model that can moderate 'Generalize' various datasets."
   ]
  },
  {
   "cell_type": "markdown",
   "metadata": {},
   "source": [
    "# FINAL REPORT"
   ]
  },
  {
   "cell_type": "markdown",
   "metadata": {},
   "source": [
    "As per our final Model, the top predictor variables that influences the selling_prize are:\n",
    "- **km_driven**: A coefficient value of ‘0.081104’ indicated that a unit increase in km_driven variable, decreases the selling_price numbers by 0.081104 units.\n",
    "\n",
    "- **age**: A coefficient value of ‘-0.132559’ indicated that, a unit increase in age  variable, decreases the selling_price numbers by 0.132559 units.\n",
    "\n",
    "- **fuel_Diesel**: A coefficient value of ‘0.032289’ indicated that w.r.t Petrol, a unit increase in fuel_Diesel variable increases the selling_price numbers by 0.032289 units.\n",
    "\n",
    "- **transmission_Manual**: A coefficient value of ‘-0.087353’ indicated that w.r.t Automatic, a unit increase in transmission_Manual variable decreases the selling_price numbers by 0.087353 units."
   ]
  }
 ],
 "metadata": {
  "kernelspec": {
   "display_name": "Python 3",
   "language": "python",
   "name": "python3"
  },
  "language_info": {
   "codemirror_mode": {
    "name": "ipython",
    "version": 3
   },
   "file_extension": ".py",
   "mimetype": "text/x-python",
   "name": "python",
   "nbconvert_exporter": "python",
   "pygments_lexer": "ipython3",
   "version": "3.8.3"
  },
  "toc": {
   "base_numbering": 1,
   "nav_menu": {},
   "number_sections": true,
   "sideBar": true,
   "skip_h1_title": false,
   "title_cell": "Table of Contents",
   "title_sidebar": "Contents",
   "toc_cell": false,
   "toc_position": {},
   "toc_section_display": true,
   "toc_window_display": false
  },
  "varInspector": {
   "cols": {
    "lenName": 16,
    "lenType": 16,
    "lenVar": 40
   },
   "kernels_config": {
    "python": {
     "delete_cmd_postfix": "",
     "delete_cmd_prefix": "del ",
     "library": "var_list.py",
     "varRefreshCmd": "print(var_dic_list())"
    },
    "r": {
     "delete_cmd_postfix": ") ",
     "delete_cmd_prefix": "rm(",
     "library": "var_list.r",
     "varRefreshCmd": "cat(var_dic_list()) "
    }
   },
   "types_to_exclude": [
    "module",
    "function",
    "builtin_function_or_method",
    "instance",
    "_Feature"
   ],
   "window_display": false
  }
 },
 "nbformat": 4,
 "nbformat_minor": 4
}
