{
 "cells": [
  {
   "cell_type": "markdown",
   "metadata": {},
   "source": [
    "# Imports"
   ]
  },
  {
   "cell_type": "code",
   "execution_count": 1,
   "metadata": {},
   "outputs": [
    {
     "data": {
      "text/html": [
       "        <script type=\"text/javascript\">\n",
       "        window.PlotlyConfig = {MathJaxConfig: 'local'};\n",
       "        if (window.MathJax) {MathJax.Hub.Config({SVG: {font: \"STIX-Web\"}});}\n",
       "        if (typeof require !== 'undefined') {\n",
       "        require.undef(\"plotly\");\n",
       "        requirejs.config({\n",
       "            paths: {\n",
       "                'plotly': ['https://cdn.plot.ly/plotly-latest.min']\n",
       "            }\n",
       "        });\n",
       "        require(['plotly'], function(Plotly) {\n",
       "            window._Plotly = Plotly;\n",
       "        });\n",
       "        }\n",
       "        </script>\n",
       "        "
      ]
     },
     "metadata": {},
     "output_type": "display_data"
    }
   ],
   "source": [
    "import numpy as np # linear algebra\n",
    "import pandas as pd # data processing, CSV file I/O (e.g. pd.read_csv)\n",
    "import plotly as py\n",
    "import plotly.express as px\n",
    "py.offline.init_notebook_mode(connected = True)\n",
    "import plotly.graph_objects as go\n",
    "import plotly.figure_factory as ff\n",
    "from plotly.subplots import make_subplots"
   ]
  },
  {
   "cell_type": "code",
   "execution_count": 2,
   "metadata": {},
   "outputs": [],
   "source": [
    "'''Import the e-commerce csv to a pandas df'''\n",
    "df = pd.read_csv('data.csv',encoding= 'ISO-8859-1')\n",
    "global separator\n",
    "separator = '\\n***********************************************************************\\n'"
   ]
  },
  {
   "cell_type": "markdown",
   "metadata": {},
   "source": [
    "# Basic info, describe and summary on the data set to get an initial feel of it."
   ]
  },
  {
   "cell_type": "code",
   "execution_count": 3,
   "metadata": {},
   "outputs": [
    {
     "name": "stdout",
     "output_type": "stream",
     "text": [
      "\n",
      "***********************************************************************\n",
      "\n",
      "<class 'pandas.core.frame.DataFrame'>\n",
      "RangeIndex: 7685 entries, 0 to 7684\n",
      "Data columns (total 15 columns):\n",
      " #   Column           Non-Null Count  Dtype \n",
      "---  ------           --------------  ----- \n",
      " 0   Full Name        7685 non-null   object\n",
      " 1   Description      7638 non-null   object\n",
      " 2   Job              7574 non-null   object\n",
      " 3   Education Place  1675 non-null   object\n",
      " 4   Native Language  572 non-null    object\n",
      " 5   Country          7685 non-null   object\n",
      " 6   Father           360 non-null    object\n",
      " 7   Mother           214 non-null    object\n",
      " 8   Spouse           872 non-null    object\n",
      " 9   Birth Date       6322 non-null   object\n",
      " 10  Death Date       1155 non-null   object\n",
      " 11  Birth Place      5110 non-null   object\n",
      " 12  Death Place      620 non-null    object\n",
      " 13  Death Method     130 non-null    object\n",
      " 14  Death Reason     176 non-null    object\n",
      "dtypes: object(15)\n",
      "memory usage: 900.7+ KB\n",
      "None\n",
      "\n",
      "***********************************************************************\n",
      "\n",
      "          Full Name     Description    Job         Education Place  \\\n",
      "count          7685            7638   7574                    1675   \n",
      "unique         7576            2095    348                     498   \n",
      "top     Neetu Singh  Indian Actress  Actor  University Of Calcutta   \n",
      "freq              3            1639   2534                     150   \n",
      "\n",
      "       Native Language Country                Father       Mother  \\\n",
      "count              572    7685                   360          214   \n",
      "unique              17      26                   314          185   \n",
      "top               Odia   India  Deenanath Mangeshkar  Manik Varma   \n",
      "freq               252    7471                     4            3   \n",
      "\n",
      "               Spouse  Birth Date  Death Date Birth Place Death Place  \\\n",
      "count             872        6322        1155        5110         620   \n",
      "unique            846        4723        1033        1073         184   \n",
      "top     Kishore Kumar  2000-00-00  1990-01-01      Mumbai      Mumbai   \n",
      "freq                3          32           6         651         106   \n",
      "\n",
      "          Death Method           Death Reason  \n",
      "count              130                    176  \n",
      "unique               5                     54  \n",
      "top     Natural Causes  Myocardial Infarction  \n",
      "freq                75                     28  \n",
      "\n",
      "***********************************************************************\n",
      "\n",
      "         Full Name                                       Description  \\\n",
      "0    Shanta Shelke                           Marathi Poet And Writer   \n",
      "1    Sonali Bendre                          Indian Actress And Model   \n",
      "2    Indira Gandhi  Indian Prime Minister And Politician (1917-1984)   \n",
      "3      Baby Halder                       Indian Housemaid And Author   \n",
      "4  Genelia D'Souza                                    Indian Actress   \n",
      "\n",
      "          Job               Education Place Native Language Country  \\\n",
      "0        Poet                           NaN             NaN   India   \n",
      "1       Model            Kendriya Vidyalaya           Hindi   India   \n",
      "2  Politician            Somerville College             NaN   India   \n",
      "3      Writer                           NaN         Bengali   India   \n",
      "4       Actor  St. Andrew'S College, Mumbai             NaN   India   \n",
      "\n",
      "             Father        Mother            Spouse  Birth Date  Death Date  \\\n",
      "0               NaN           NaN               NaN  1922-10-19  2002-06-06   \n",
      "1               NaN           NaN       Goldie Behl  1975-01-01         NaN   \n",
      "2  Jawaharlal Nehru  Kamala Nehru     Feroze Gandhi  1917-11-19  1984-10-31   \n",
      "3               NaN           NaN               NaN  1973-06-19         NaN   \n",
      "4               NaN           NaN  Riteish Deshmukh  1982-08-05         NaN   \n",
      "\n",
      "  Birth Place Death Place    Death Method      Death Reason  \n",
      "0        Pune         NaN  Natural Causes            Cancer  \n",
      "1      Mumbai         NaN             NaN               NaN  \n",
      "2   Allahabad   New Delhi        Homicide  Ballistic Trauma  \n",
      "3     Kashmir         NaN             NaN               NaN  \n",
      "4      Mumbai         NaN             NaN               NaN  \n",
      "\n",
      "***********************************************************************\n",
      "\n",
      "Index                 128\n",
      "Full Name          546755\n",
      "Description        594284\n",
      "Job                497942\n",
      "Education Place    328507\n",
      "Native Language    263522\n",
      "Country            478464\n",
      "Father             260377\n",
      "Mother             254136\n",
      "Spouse             280247\n",
      "Birth Date         467193\n",
      "Death Date         286345\n",
      "Birth Place        415206\n",
      "Death Place        266255\n",
      "Death Method       250636\n",
      "Death Reason       252781\n",
      "dtype: int64\n",
      "\n",
      "***********************************************************************\n",
      "\n"
     ]
    }
   ],
   "source": [
    "print(separator)\n",
    "print(df.info())\n",
    "print(separator)\n",
    "print(df.describe())\n",
    "print(separator)\n",
    "print(df.head())\n",
    "print(separator)\n",
    "print(df.memory_usage(deep=True))\n",
    "print(separator)"
   ]
  },
  {
   "cell_type": "markdown",
   "metadata": {},
   "source": [
    "# Reformatting of column names and memory optimisation"
   ]
  },
  {
   "cell_type": "code",
   "execution_count": 4,
   "metadata": {},
   "outputs": [
    {
     "name": "stdout",
     "output_type": "stream",
     "text": [
      "         full_name                                       description  \\\n",
      "0    Shanta Shelke                           Marathi Poet And Writer   \n",
      "1    Sonali Bendre                          Indian Actress And Model   \n",
      "2    Indira Gandhi  Indian Prime Minister And Politician (1917-1984)   \n",
      "3      Baby Halder                       Indian Housemaid And Author   \n",
      "4  Genelia D'Souza                                    Indian Actress   \n",
      "\n",
      "          job               education_place native_language country  \\\n",
      "0        Poet                           NaN             NaN   India   \n",
      "1       Model            Kendriya Vidyalaya           Hindi   India   \n",
      "2  Politician            Somerville College             NaN   India   \n",
      "3      Writer                           NaN         Bengali   India   \n",
      "4       Actor  St. Andrew'S College, Mumbai             NaN   India   \n",
      "\n",
      "             father        mother            spouse  birth_date  death_date  \\\n",
      "0               NaN           NaN               NaN  1922-10-19  2002-06-06   \n",
      "1               NaN           NaN       Goldie Behl  1975-01-01         NaN   \n",
      "2  Jawaharlal Nehru  Kamala Nehru     Feroze Gandhi  1917-11-19  1984-10-31   \n",
      "3               NaN           NaN               NaN  1973-06-19         NaN   \n",
      "4               NaN           NaN  Riteish Deshmukh  1982-08-05         NaN   \n",
      "\n",
      "  birth_place death_place    death_method      death_reason  \n",
      "0        Pune         NaN  Natural Causes            Cancer  \n",
      "1      Mumbai         NaN             NaN               NaN  \n",
      "2   Allahabad   New Delhi        Homicide  Ballistic Trauma  \n",
      "3     Kashmir         NaN             NaN               NaN  \n",
      "4      Mumbai         NaN             NaN               NaN  \n",
      "\n",
      "***********************************************************************\n",
      "\n",
      "Index                 128\n",
      "full_name          546755\n",
      "description        594284\n",
      "job                 49621\n",
      "education_place    328507\n",
      "native_language      9406\n",
      "country             10704\n",
      "father             260377\n",
      "mother             254136\n",
      "spouse             280247\n",
      "birth_date         467193\n",
      "death_date         286345\n",
      "birth_place        415206\n",
      "death_place        266255\n",
      "death_method       250636\n",
      "death_reason       252781\n",
      "dtype: int64\n",
      "\n",
      "***********************************************************************\n",
      "\n"
     ]
    }
   ],
   "source": [
    "df.columns = df.columns.str.strip().str.lower().str.replace(' ', '_').str.replace('(', '').str.replace(')', '')\n",
    "print(df.head())\n",
    "      \n",
    "\"\"\"Let's optimise the memory a bit.\"\"\"\n",
    "\n",
    "df[\"job\"] = df[\"job\"].astype(\"category\")\n",
    "df[\"native_language\"] = df[\"native_language\"].astype(\"category\")\n",
    "df[\"country\"] = df[\"country\"].astype(\"category\")\n",
    "print(separator)\n",
    "print(df.memory_usage(deep=True))\n",
    "print(separator)"
   ]
  },
  {
   "cell_type": "code",
   "execution_count": null,
   "metadata": {},
   "outputs": [],
   "source": []
  },
  {
   "cell_type": "code",
   "execution_count": null,
   "metadata": {},
   "outputs": [],
   "source": []
  },
  {
   "cell_type": "code",
   "execution_count": null,
   "metadata": {},
   "outputs": [],
   "source": []
  },
  {
   "cell_type": "code",
   "execution_count": null,
   "metadata": {},
   "outputs": [],
   "source": []
  },
  {
   "cell_type": "code",
   "execution_count": null,
   "metadata": {},
   "outputs": [],
   "source": []
  },
  {
   "cell_type": "code",
   "execution_count": null,
   "metadata": {},
   "outputs": [],
   "source": []
  },
  {
   "cell_type": "code",
   "execution_count": null,
   "metadata": {},
   "outputs": [],
   "source": []
  },
  {
   "cell_type": "code",
   "execution_count": null,
   "metadata": {},
   "outputs": [],
   "source": []
  },
  {
   "cell_type": "code",
   "execution_count": null,
   "metadata": {},
   "outputs": [],
   "source": []
  },
  {
   "cell_type": "code",
   "execution_count": null,
   "metadata": {},
   "outputs": [],
   "source": []
  },
  {
   "cell_type": "code",
   "execution_count": null,
   "metadata": {},
   "outputs": [],
   "source": []
  },
  {
   "cell_type": "code",
   "execution_count": null,
   "metadata": {},
   "outputs": [],
   "source": []
  },
  {
   "cell_type": "code",
   "execution_count": null,
   "metadata": {},
   "outputs": [],
   "source": []
  },
  {
   "cell_type": "code",
   "execution_count": null,
   "metadata": {},
   "outputs": [],
   "source": []
  },
  {
   "cell_type": "code",
   "execution_count": null,
   "metadata": {},
   "outputs": [],
   "source": []
  },
  {
   "cell_type": "code",
   "execution_count": null,
   "metadata": {},
   "outputs": [],
   "source": []
  },
  {
   "cell_type": "code",
   "execution_count": null,
   "metadata": {},
   "outputs": [],
   "source": []
  }
 ],
 "metadata": {
  "kernelspec": {
   "display_name": "Python 3",
   "language": "python",
   "name": "python3"
  },
  "language_info": {
   "codemirror_mode": {
    "name": "ipython",
    "version": 3
   },
   "file_extension": ".py",
   "mimetype": "text/x-python",
   "name": "python",
   "nbconvert_exporter": "python",
   "pygments_lexer": "ipython3",
   "version": "3.8.3"
  }
 },
 "nbformat": 4,
 "nbformat_minor": 4
}
