{
 "cells": [
  {
   "cell_type": "code",
   "execution_count": 1,
   "metadata": {
    "ExecuteTime": {
     "end_time": "2021-06-04T14:39:20.614512Z",
     "start_time": "2021-06-04T14:39:14.297558Z"
    }
   },
   "outputs": [],
   "source": [
    "import pandas as pd\n",
    "import numpy as np\n",
    "from sklearn import preprocessing\n",
    "from sklearn.model_selection import train_test_split\n",
    "from sklearn.tree import DecisionTreeClassifier\n",
    "from sklearn.linear_model import LogisticRegression\n",
    "from sklearn.metrics import confusion_matrix\n",
    "from sklearn.metrics import accuracy_score\n",
    "from sklearn.metrics import roc_curve, auc\n",
    "import seaborn as sns\n",
    "import matplotlib.pyplot as plt\n",
    "from sklearn.model_selection import train_test_split, GridSearchCV\n",
    "from sklearn.ensemble import RandomForestClassifier"
   ]
  },
  {
   "cell_type": "code",
   "execution_count": 2,
   "metadata": {
    "ExecuteTime": {
     "end_time": "2021-06-04T14:39:49.440008Z",
     "start_time": "2021-06-04T14:39:20.622444Z"
    },
    "scrolled": true
   },
   "outputs": [
    {
     "name": "stderr",
     "output_type": "stream",
     "text": [
      "C:\\ProgramData\\Anaconda3\\lib\\site-packages\\IPython\\core\\interactiveshell.py:3071: DtypeWarning: Columns (19,55) have mixed types.Specify dtype option on import or set low_memory=False.\n",
      "  has_raised = await self.run_ast_nodes(code_ast.body, cell_name,\n"
     ]
    }
   ],
   "source": [
    "df_loan = pd.read_csv('loan.csv')"
   ]
  },
  {
   "cell_type": "code",
   "execution_count": 3,
   "metadata": {
    "ExecuteTime": {
     "end_time": "2021-06-04T14:39:49.486041Z",
     "start_time": "2021-06-04T14:39:49.460983Z"
    }
   },
   "outputs": [],
   "source": [
    "pd.set_option('display.max_columns',None)"
   ]
  },
  {
   "cell_type": "code",
   "execution_count": 4,
   "metadata": {
    "ExecuteTime": {
     "end_time": "2021-06-04T14:39:49.515953Z",
     "start_time": "2021-06-04T14:39:49.492158Z"
    }
   },
   "outputs": [],
   "source": [
    "import warnings\n",
    "warnings.filterwarnings('ignore')"
   ]
  },
  {
   "cell_type": "code",
   "execution_count": 5,
   "metadata": {
    "ExecuteTime": {
     "end_time": "2021-06-04T14:39:49.546352Z",
     "start_time": "2021-06-04T14:39:49.521938Z"
    },
    "scrolled": true
   },
   "outputs": [
    {
     "data": {
      "text/plain": [
       "(887379, 74)"
      ]
     },
     "execution_count": 5,
     "metadata": {},
     "output_type": "execute_result"
    }
   ],
   "source": [
    "df_loan.shape"
   ]
  },
  {
   "cell_type": "code",
   "execution_count": 6,
   "metadata": {
    "ExecuteTime": {
     "end_time": "2021-06-04T14:39:49.979492Z",
     "start_time": "2021-06-04T14:39:49.552504Z"
    },
    "scrolled": true
   },
   "outputs": [
    {
     "data": {
      "text/html": [
       "<div>\n",
       "<style scoped>\n",
       "    .dataframe tbody tr th:only-of-type {\n",
       "        vertical-align: middle;\n",
       "    }\n",
       "\n",
       "    .dataframe tbody tr th {\n",
       "        vertical-align: top;\n",
       "    }\n",
       "\n",
       "    .dataframe thead th {\n",
       "        text-align: right;\n",
       "    }\n",
       "</style>\n",
       "<table border=\"1\" class=\"dataframe\">\n",
       "  <thead>\n",
       "    <tr style=\"text-align: right;\">\n",
       "      <th></th>\n",
       "      <th>id</th>\n",
       "      <th>member_id</th>\n",
       "      <th>loan_amnt</th>\n",
       "      <th>funded_amnt</th>\n",
       "      <th>funded_amnt_inv</th>\n",
       "      <th>term</th>\n",
       "      <th>int_rate</th>\n",
       "      <th>installment</th>\n",
       "      <th>grade</th>\n",
       "      <th>sub_grade</th>\n",
       "      <th>emp_title</th>\n",
       "      <th>emp_length</th>\n",
       "      <th>home_ownership</th>\n",
       "      <th>annual_inc</th>\n",
       "      <th>verification_status</th>\n",
       "      <th>issue_d</th>\n",
       "      <th>loan_status</th>\n",
       "      <th>pymnt_plan</th>\n",
       "      <th>url</th>\n",
       "      <th>desc</th>\n",
       "      <th>purpose</th>\n",
       "      <th>title</th>\n",
       "      <th>zip_code</th>\n",
       "      <th>addr_state</th>\n",
       "      <th>dti</th>\n",
       "      <th>delinq_2yrs</th>\n",
       "      <th>earliest_cr_line</th>\n",
       "      <th>inq_last_6mths</th>\n",
       "      <th>mths_since_last_delinq</th>\n",
       "      <th>mths_since_last_record</th>\n",
       "      <th>open_acc</th>\n",
       "      <th>pub_rec</th>\n",
       "      <th>revol_bal</th>\n",
       "      <th>revol_util</th>\n",
       "      <th>total_acc</th>\n",
       "      <th>initial_list_status</th>\n",
       "      <th>out_prncp</th>\n",
       "      <th>out_prncp_inv</th>\n",
       "      <th>total_pymnt</th>\n",
       "      <th>total_pymnt_inv</th>\n",
       "      <th>total_rec_prncp</th>\n",
       "      <th>total_rec_int</th>\n",
       "      <th>total_rec_late_fee</th>\n",
       "      <th>recoveries</th>\n",
       "      <th>collection_recovery_fee</th>\n",
       "      <th>last_pymnt_d</th>\n",
       "      <th>last_pymnt_amnt</th>\n",
       "      <th>next_pymnt_d</th>\n",
       "      <th>last_credit_pull_d</th>\n",
       "      <th>collections_12_mths_ex_med</th>\n",
       "      <th>mths_since_last_major_derog</th>\n",
       "      <th>policy_code</th>\n",
       "      <th>application_type</th>\n",
       "      <th>annual_inc_joint</th>\n",
       "      <th>dti_joint</th>\n",
       "      <th>verification_status_joint</th>\n",
       "      <th>acc_now_delinq</th>\n",
       "      <th>tot_coll_amt</th>\n",
       "      <th>tot_cur_bal</th>\n",
       "      <th>open_acc_6m</th>\n",
       "      <th>open_il_6m</th>\n",
       "      <th>open_il_12m</th>\n",
       "      <th>open_il_24m</th>\n",
       "      <th>mths_since_rcnt_il</th>\n",
       "      <th>total_bal_il</th>\n",
       "      <th>il_util</th>\n",
       "      <th>open_rv_12m</th>\n",
       "      <th>open_rv_24m</th>\n",
       "      <th>max_bal_bc</th>\n",
       "      <th>all_util</th>\n",
       "      <th>total_rev_hi_lim</th>\n",
       "      <th>inq_fi</th>\n",
       "      <th>total_cu_tl</th>\n",
       "      <th>inq_last_12m</th>\n",
       "    </tr>\n",
       "  </thead>\n",
       "  <tbody>\n",
       "    <tr>\n",
       "      <th>0</th>\n",
       "      <td>1077501</td>\n",
       "      <td>1296599</td>\n",
       "      <td>5000.0</td>\n",
       "      <td>5000.0</td>\n",
       "      <td>4975.0</td>\n",
       "      <td>36 months</td>\n",
       "      <td>10.65</td>\n",
       "      <td>162.87</td>\n",
       "      <td>B</td>\n",
       "      <td>B2</td>\n",
       "      <td>NaN</td>\n",
       "      <td>10+ years</td>\n",
       "      <td>RENT</td>\n",
       "      <td>24000.00</td>\n",
       "      <td>Verified</td>\n",
       "      <td>Dec-2011</td>\n",
       "      <td>Fully Paid</td>\n",
       "      <td>n</td>\n",
       "      <td>https://www.lendingclub.com/browse/loanDetail....</td>\n",
       "      <td>Borrower added on 12/22/11 &gt; I need to upgra...</td>\n",
       "      <td>credit_card</td>\n",
       "      <td>Computer</td>\n",
       "      <td>860xx</td>\n",
       "      <td>AZ</td>\n",
       "      <td>27.65</td>\n",
       "      <td>0.0</td>\n",
       "      <td>Jan-1985</td>\n",
       "      <td>1.0</td>\n",
       "      <td>NaN</td>\n",
       "      <td>NaN</td>\n",
       "      <td>3.0</td>\n",
       "      <td>0.0</td>\n",
       "      <td>13648.0</td>\n",
       "      <td>83.70</td>\n",
       "      <td>9.0</td>\n",
       "      <td>f</td>\n",
       "      <td>0.00</td>\n",
       "      <td>0.00</td>\n",
       "      <td>5861.071414</td>\n",
       "      <td>5831.78</td>\n",
       "      <td>5000.00</td>\n",
       "      <td>861.07</td>\n",
       "      <td>0.00</td>\n",
       "      <td>0.00</td>\n",
       "      <td>0.0000</td>\n",
       "      <td>Jan-2015</td>\n",
       "      <td>171.62</td>\n",
       "      <td>NaN</td>\n",
       "      <td>Jan-2016</td>\n",
       "      <td>0.0</td>\n",
       "      <td>NaN</td>\n",
       "      <td>1.0</td>\n",
       "      <td>INDIVIDUAL</td>\n",
       "      <td>NaN</td>\n",
       "      <td>NaN</td>\n",
       "      <td>NaN</td>\n",
       "      <td>0.0</td>\n",
       "      <td>NaN</td>\n",
       "      <td>NaN</td>\n",
       "      <td>NaN</td>\n",
       "      <td>NaN</td>\n",
       "      <td>NaN</td>\n",
       "      <td>NaN</td>\n",
       "      <td>NaN</td>\n",
       "      <td>NaN</td>\n",
       "      <td>NaN</td>\n",
       "      <td>NaN</td>\n",
       "      <td>NaN</td>\n",
       "      <td>NaN</td>\n",
       "      <td>NaN</td>\n",
       "      <td>NaN</td>\n",
       "      <td>NaN</td>\n",
       "      <td>NaN</td>\n",
       "      <td>NaN</td>\n",
       "    </tr>\n",
       "    <tr>\n",
       "      <th>1</th>\n",
       "      <td>1077430</td>\n",
       "      <td>1314167</td>\n",
       "      <td>2500.0</td>\n",
       "      <td>2500.0</td>\n",
       "      <td>2500.0</td>\n",
       "      <td>60 months</td>\n",
       "      <td>15.27</td>\n",
       "      <td>59.83</td>\n",
       "      <td>C</td>\n",
       "      <td>C4</td>\n",
       "      <td>Ryder</td>\n",
       "      <td>&lt; 1 year</td>\n",
       "      <td>RENT</td>\n",
       "      <td>30000.00</td>\n",
       "      <td>Source Verified</td>\n",
       "      <td>Dec-2011</td>\n",
       "      <td>Charged Off</td>\n",
       "      <td>n</td>\n",
       "      <td>https://www.lendingclub.com/browse/loanDetail....</td>\n",
       "      <td>Borrower added on 12/22/11 &gt; I plan to use t...</td>\n",
       "      <td>car</td>\n",
       "      <td>bike</td>\n",
       "      <td>309xx</td>\n",
       "      <td>GA</td>\n",
       "      <td>1.00</td>\n",
       "      <td>0.0</td>\n",
       "      <td>Apr-1999</td>\n",
       "      <td>5.0</td>\n",
       "      <td>NaN</td>\n",
       "      <td>NaN</td>\n",
       "      <td>3.0</td>\n",
       "      <td>0.0</td>\n",
       "      <td>1687.0</td>\n",
       "      <td>9.40</td>\n",
       "      <td>4.0</td>\n",
       "      <td>f</td>\n",
       "      <td>0.00</td>\n",
       "      <td>0.00</td>\n",
       "      <td>1008.710000</td>\n",
       "      <td>1008.71</td>\n",
       "      <td>456.46</td>\n",
       "      <td>435.17</td>\n",
       "      <td>0.00</td>\n",
       "      <td>117.08</td>\n",
       "      <td>1.1100</td>\n",
       "      <td>Apr-2013</td>\n",
       "      <td>119.66</td>\n",
       "      <td>NaN</td>\n",
       "      <td>Sep-2013</td>\n",
       "      <td>0.0</td>\n",
       "      <td>NaN</td>\n",
       "      <td>1.0</td>\n",
       "      <td>INDIVIDUAL</td>\n",
       "      <td>NaN</td>\n",
       "      <td>NaN</td>\n",
       "      <td>NaN</td>\n",
       "      <td>0.0</td>\n",
       "      <td>NaN</td>\n",
       "      <td>NaN</td>\n",
       "      <td>NaN</td>\n",
       "      <td>NaN</td>\n",
       "      <td>NaN</td>\n",
       "      <td>NaN</td>\n",
       "      <td>NaN</td>\n",
       "      <td>NaN</td>\n",
       "      <td>NaN</td>\n",
       "      <td>NaN</td>\n",
       "      <td>NaN</td>\n",
       "      <td>NaN</td>\n",
       "      <td>NaN</td>\n",
       "      <td>NaN</td>\n",
       "      <td>NaN</td>\n",
       "      <td>NaN</td>\n",
       "      <td>NaN</td>\n",
       "    </tr>\n",
       "    <tr>\n",
       "      <th>2</th>\n",
       "      <td>1077175</td>\n",
       "      <td>1313524</td>\n",
       "      <td>2400.0</td>\n",
       "      <td>2400.0</td>\n",
       "      <td>2400.0</td>\n",
       "      <td>36 months</td>\n",
       "      <td>15.96</td>\n",
       "      <td>84.33</td>\n",
       "      <td>C</td>\n",
       "      <td>C5</td>\n",
       "      <td>NaN</td>\n",
       "      <td>10+ years</td>\n",
       "      <td>RENT</td>\n",
       "      <td>12252.00</td>\n",
       "      <td>Not Verified</td>\n",
       "      <td>Dec-2011</td>\n",
       "      <td>Fully Paid</td>\n",
       "      <td>n</td>\n",
       "      <td>https://www.lendingclub.com/browse/loanDetail....</td>\n",
       "      <td>NaN</td>\n",
       "      <td>small_business</td>\n",
       "      <td>real estate business</td>\n",
       "      <td>606xx</td>\n",
       "      <td>IL</td>\n",
       "      <td>8.72</td>\n",
       "      <td>0.0</td>\n",
       "      <td>Nov-2001</td>\n",
       "      <td>2.0</td>\n",
       "      <td>NaN</td>\n",
       "      <td>NaN</td>\n",
       "      <td>2.0</td>\n",
       "      <td>0.0</td>\n",
       "      <td>2956.0</td>\n",
       "      <td>98.50</td>\n",
       "      <td>10.0</td>\n",
       "      <td>f</td>\n",
       "      <td>0.00</td>\n",
       "      <td>0.00</td>\n",
       "      <td>3003.653644</td>\n",
       "      <td>3003.65</td>\n",
       "      <td>2400.00</td>\n",
       "      <td>603.65</td>\n",
       "      <td>0.00</td>\n",
       "      <td>0.00</td>\n",
       "      <td>0.0000</td>\n",
       "      <td>Jun-2014</td>\n",
       "      <td>649.91</td>\n",
       "      <td>NaN</td>\n",
       "      <td>Jan-2016</td>\n",
       "      <td>0.0</td>\n",
       "      <td>NaN</td>\n",
       "      <td>1.0</td>\n",
       "      <td>INDIVIDUAL</td>\n",
       "      <td>NaN</td>\n",
       "      <td>NaN</td>\n",
       "      <td>NaN</td>\n",
       "      <td>0.0</td>\n",
       "      <td>NaN</td>\n",
       "      <td>NaN</td>\n",
       "      <td>NaN</td>\n",
       "      <td>NaN</td>\n",
       "      <td>NaN</td>\n",
       "      <td>NaN</td>\n",
       "      <td>NaN</td>\n",
       "      <td>NaN</td>\n",
       "      <td>NaN</td>\n",
       "      <td>NaN</td>\n",
       "      <td>NaN</td>\n",
       "      <td>NaN</td>\n",
       "      <td>NaN</td>\n",
       "      <td>NaN</td>\n",
       "      <td>NaN</td>\n",
       "      <td>NaN</td>\n",
       "      <td>NaN</td>\n",
       "    </tr>\n",
       "    <tr>\n",
       "      <th>3</th>\n",
       "      <td>1076863</td>\n",
       "      <td>1277178</td>\n",
       "      <td>10000.0</td>\n",
       "      <td>10000.0</td>\n",
       "      <td>10000.0</td>\n",
       "      <td>36 months</td>\n",
       "      <td>13.49</td>\n",
       "      <td>339.31</td>\n",
       "      <td>C</td>\n",
       "      <td>C1</td>\n",
       "      <td>AIR RESOURCES BOARD</td>\n",
       "      <td>10+ years</td>\n",
       "      <td>RENT</td>\n",
       "      <td>49200.00</td>\n",
       "      <td>Source Verified</td>\n",
       "      <td>Dec-2011</td>\n",
       "      <td>Fully Paid</td>\n",
       "      <td>n</td>\n",
       "      <td>https://www.lendingclub.com/browse/loanDetail....</td>\n",
       "      <td>Borrower added on 12/21/11 &gt; to pay for prop...</td>\n",
       "      <td>other</td>\n",
       "      <td>personel</td>\n",
       "      <td>917xx</td>\n",
       "      <td>CA</td>\n",
       "      <td>20.00</td>\n",
       "      <td>0.0</td>\n",
       "      <td>Feb-1996</td>\n",
       "      <td>1.0</td>\n",
       "      <td>35.0</td>\n",
       "      <td>NaN</td>\n",
       "      <td>10.0</td>\n",
       "      <td>0.0</td>\n",
       "      <td>5598.0</td>\n",
       "      <td>21.00</td>\n",
       "      <td>37.0</td>\n",
       "      <td>f</td>\n",
       "      <td>0.00</td>\n",
       "      <td>0.00</td>\n",
       "      <td>12226.302212</td>\n",
       "      <td>12226.30</td>\n",
       "      <td>10000.00</td>\n",
       "      <td>2209.33</td>\n",
       "      <td>16.97</td>\n",
       "      <td>0.00</td>\n",
       "      <td>0.0000</td>\n",
       "      <td>Jan-2015</td>\n",
       "      <td>357.48</td>\n",
       "      <td>NaN</td>\n",
       "      <td>Jan-2015</td>\n",
       "      <td>0.0</td>\n",
       "      <td>NaN</td>\n",
       "      <td>1.0</td>\n",
       "      <td>INDIVIDUAL</td>\n",
       "      <td>NaN</td>\n",
       "      <td>NaN</td>\n",
       "      <td>NaN</td>\n",
       "      <td>0.0</td>\n",
       "      <td>NaN</td>\n",
       "      <td>NaN</td>\n",
       "      <td>NaN</td>\n",
       "      <td>NaN</td>\n",
       "      <td>NaN</td>\n",
       "      <td>NaN</td>\n",
       "      <td>NaN</td>\n",
       "      <td>NaN</td>\n",
       "      <td>NaN</td>\n",
       "      <td>NaN</td>\n",
       "      <td>NaN</td>\n",
       "      <td>NaN</td>\n",
       "      <td>NaN</td>\n",
       "      <td>NaN</td>\n",
       "      <td>NaN</td>\n",
       "      <td>NaN</td>\n",
       "      <td>NaN</td>\n",
       "    </tr>\n",
       "    <tr>\n",
       "      <th>4</th>\n",
       "      <td>1075358</td>\n",
       "      <td>1311748</td>\n",
       "      <td>3000.0</td>\n",
       "      <td>3000.0</td>\n",
       "      <td>3000.0</td>\n",
       "      <td>60 months</td>\n",
       "      <td>12.69</td>\n",
       "      <td>67.79</td>\n",
       "      <td>B</td>\n",
       "      <td>B5</td>\n",
       "      <td>University Medical Group</td>\n",
       "      <td>1 year</td>\n",
       "      <td>RENT</td>\n",
       "      <td>80000.00</td>\n",
       "      <td>Source Verified</td>\n",
       "      <td>Dec-2011</td>\n",
       "      <td>Current</td>\n",
       "      <td>n</td>\n",
       "      <td>https://www.lendingclub.com/browse/loanDetail....</td>\n",
       "      <td>Borrower added on 12/21/11 &gt; I plan on combi...</td>\n",
       "      <td>other</td>\n",
       "      <td>Personal</td>\n",
       "      <td>972xx</td>\n",
       "      <td>OR</td>\n",
       "      <td>17.94</td>\n",
       "      <td>0.0</td>\n",
       "      <td>Jan-1996</td>\n",
       "      <td>0.0</td>\n",
       "      <td>38.0</td>\n",
       "      <td>NaN</td>\n",
       "      <td>15.0</td>\n",
       "      <td>0.0</td>\n",
       "      <td>27783.0</td>\n",
       "      <td>53.90</td>\n",
       "      <td>38.0</td>\n",
       "      <td>f</td>\n",
       "      <td>766.90</td>\n",
       "      <td>766.90</td>\n",
       "      <td>3242.170000</td>\n",
       "      <td>3242.17</td>\n",
       "      <td>2233.10</td>\n",
       "      <td>1009.07</td>\n",
       "      <td>0.00</td>\n",
       "      <td>0.00</td>\n",
       "      <td>0.0000</td>\n",
       "      <td>Jan-2016</td>\n",
       "      <td>67.79</td>\n",
       "      <td>Feb-2016</td>\n",
       "      <td>Jan-2016</td>\n",
       "      <td>0.0</td>\n",
       "      <td>NaN</td>\n",
       "      <td>1.0</td>\n",
       "      <td>INDIVIDUAL</td>\n",
       "      <td>NaN</td>\n",
       "      <td>NaN</td>\n",
       "      <td>NaN</td>\n",
       "      <td>0.0</td>\n",
       "      <td>NaN</td>\n",
       "      <td>NaN</td>\n",
       "      <td>NaN</td>\n",
       "      <td>NaN</td>\n",
       "      <td>NaN</td>\n",
       "      <td>NaN</td>\n",
       "      <td>NaN</td>\n",
       "      <td>NaN</td>\n",
       "      <td>NaN</td>\n",
       "      <td>NaN</td>\n",
       "      <td>NaN</td>\n",
       "      <td>NaN</td>\n",
       "      <td>NaN</td>\n",
       "      <td>NaN</td>\n",
       "      <td>NaN</td>\n",
       "      <td>NaN</td>\n",
       "      <td>NaN</td>\n",
       "    </tr>\n",
       "    <tr>\n",
       "      <th>5</th>\n",
       "      <td>1075269</td>\n",
       "      <td>1311441</td>\n",
       "      <td>5000.0</td>\n",
       "      <td>5000.0</td>\n",
       "      <td>5000.0</td>\n",
       "      <td>36 months</td>\n",
       "      <td>7.90</td>\n",
       "      <td>156.46</td>\n",
       "      <td>A</td>\n",
       "      <td>A4</td>\n",
       "      <td>Veolia Transportaton</td>\n",
       "      <td>3 years</td>\n",
       "      <td>RENT</td>\n",
       "      <td>36000.00</td>\n",
       "      <td>Source Verified</td>\n",
       "      <td>Dec-2011</td>\n",
       "      <td>Fully Paid</td>\n",
       "      <td>n</td>\n",
       "      <td>https://www.lendingclub.com/browse/loanDetail....</td>\n",
       "      <td>NaN</td>\n",
       "      <td>wedding</td>\n",
       "      <td>My wedding loan I promise to pay back</td>\n",
       "      <td>852xx</td>\n",
       "      <td>AZ</td>\n",
       "      <td>11.20</td>\n",
       "      <td>0.0</td>\n",
       "      <td>Nov-2004</td>\n",
       "      <td>3.0</td>\n",
       "      <td>NaN</td>\n",
       "      <td>NaN</td>\n",
       "      <td>9.0</td>\n",
       "      <td>0.0</td>\n",
       "      <td>7963.0</td>\n",
       "      <td>28.30</td>\n",
       "      <td>12.0</td>\n",
       "      <td>f</td>\n",
       "      <td>0.00</td>\n",
       "      <td>0.00</td>\n",
       "      <td>5631.377753</td>\n",
       "      <td>5631.38</td>\n",
       "      <td>5000.00</td>\n",
       "      <td>631.38</td>\n",
       "      <td>0.00</td>\n",
       "      <td>0.00</td>\n",
       "      <td>0.0000</td>\n",
       "      <td>Jan-2015</td>\n",
       "      <td>161.03</td>\n",
       "      <td>NaN</td>\n",
       "      <td>Sep-2015</td>\n",
       "      <td>0.0</td>\n",
       "      <td>NaN</td>\n",
       "      <td>1.0</td>\n",
       "      <td>INDIVIDUAL</td>\n",
       "      <td>NaN</td>\n",
       "      <td>NaN</td>\n",
       "      <td>NaN</td>\n",
       "      <td>0.0</td>\n",
       "      <td>NaN</td>\n",
       "      <td>NaN</td>\n",
       "      <td>NaN</td>\n",
       "      <td>NaN</td>\n",
       "      <td>NaN</td>\n",
       "      <td>NaN</td>\n",
       "      <td>NaN</td>\n",
       "      <td>NaN</td>\n",
       "      <td>NaN</td>\n",
       "      <td>NaN</td>\n",
       "      <td>NaN</td>\n",
       "      <td>NaN</td>\n",
       "      <td>NaN</td>\n",
       "      <td>NaN</td>\n",
       "      <td>NaN</td>\n",
       "      <td>NaN</td>\n",
       "      <td>NaN</td>\n",
       "    </tr>\n",
       "    <tr>\n",
       "      <th>6</th>\n",
       "      <td>1069639</td>\n",
       "      <td>1304742</td>\n",
       "      <td>7000.0</td>\n",
       "      <td>7000.0</td>\n",
       "      <td>7000.0</td>\n",
       "      <td>60 months</td>\n",
       "      <td>15.96</td>\n",
       "      <td>170.08</td>\n",
       "      <td>C</td>\n",
       "      <td>C5</td>\n",
       "      <td>Southern Star Photography</td>\n",
       "      <td>8 years</td>\n",
       "      <td>RENT</td>\n",
       "      <td>47004.00</td>\n",
       "      <td>Not Verified</td>\n",
       "      <td>Dec-2011</td>\n",
       "      <td>Current</td>\n",
       "      <td>n</td>\n",
       "      <td>https://www.lendingclub.com/browse/loanDetail....</td>\n",
       "      <td>Borrower added on 12/18/11 &gt; I am planning o...</td>\n",
       "      <td>debt_consolidation</td>\n",
       "      <td>Loan</td>\n",
       "      <td>280xx</td>\n",
       "      <td>NC</td>\n",
       "      <td>23.51</td>\n",
       "      <td>0.0</td>\n",
       "      <td>Jul-2005</td>\n",
       "      <td>1.0</td>\n",
       "      <td>NaN</td>\n",
       "      <td>NaN</td>\n",
       "      <td>7.0</td>\n",
       "      <td>0.0</td>\n",
       "      <td>17726.0</td>\n",
       "      <td>85.60</td>\n",
       "      <td>11.0</td>\n",
       "      <td>f</td>\n",
       "      <td>1889.15</td>\n",
       "      <td>1889.15</td>\n",
       "      <td>8136.840000</td>\n",
       "      <td>8136.84</td>\n",
       "      <td>5110.85</td>\n",
       "      <td>3025.99</td>\n",
       "      <td>0.00</td>\n",
       "      <td>0.00</td>\n",
       "      <td>0.0000</td>\n",
       "      <td>Jan-2016</td>\n",
       "      <td>170.08</td>\n",
       "      <td>Feb-2016</td>\n",
       "      <td>Jan-2016</td>\n",
       "      <td>0.0</td>\n",
       "      <td>NaN</td>\n",
       "      <td>1.0</td>\n",
       "      <td>INDIVIDUAL</td>\n",
       "      <td>NaN</td>\n",
       "      <td>NaN</td>\n",
       "      <td>NaN</td>\n",
       "      <td>0.0</td>\n",
       "      <td>NaN</td>\n",
       "      <td>NaN</td>\n",
       "      <td>NaN</td>\n",
       "      <td>NaN</td>\n",
       "      <td>NaN</td>\n",
       "      <td>NaN</td>\n",
       "      <td>NaN</td>\n",
       "      <td>NaN</td>\n",
       "      <td>NaN</td>\n",
       "      <td>NaN</td>\n",
       "      <td>NaN</td>\n",
       "      <td>NaN</td>\n",
       "      <td>NaN</td>\n",
       "      <td>NaN</td>\n",
       "      <td>NaN</td>\n",
       "      <td>NaN</td>\n",
       "      <td>NaN</td>\n",
       "    </tr>\n",
       "    <tr>\n",
       "      <th>7</th>\n",
       "      <td>1072053</td>\n",
       "      <td>1288686</td>\n",
       "      <td>3000.0</td>\n",
       "      <td>3000.0</td>\n",
       "      <td>3000.0</td>\n",
       "      <td>36 months</td>\n",
       "      <td>18.64</td>\n",
       "      <td>109.43</td>\n",
       "      <td>E</td>\n",
       "      <td>E1</td>\n",
       "      <td>MKC Accounting</td>\n",
       "      <td>9 years</td>\n",
       "      <td>RENT</td>\n",
       "      <td>48000.00</td>\n",
       "      <td>Source Verified</td>\n",
       "      <td>Dec-2011</td>\n",
       "      <td>Fully Paid</td>\n",
       "      <td>n</td>\n",
       "      <td>https://www.lendingclub.com/browse/loanDetail....</td>\n",
       "      <td>Borrower added on 12/16/11 &gt; Downpayment for...</td>\n",
       "      <td>car</td>\n",
       "      <td>Car Downpayment</td>\n",
       "      <td>900xx</td>\n",
       "      <td>CA</td>\n",
       "      <td>5.35</td>\n",
       "      <td>0.0</td>\n",
       "      <td>Jan-2007</td>\n",
       "      <td>2.0</td>\n",
       "      <td>NaN</td>\n",
       "      <td>NaN</td>\n",
       "      <td>4.0</td>\n",
       "      <td>0.0</td>\n",
       "      <td>8221.0</td>\n",
       "      <td>87.50</td>\n",
       "      <td>4.0</td>\n",
       "      <td>f</td>\n",
       "      <td>0.00</td>\n",
       "      <td>0.00</td>\n",
       "      <td>3938.144334</td>\n",
       "      <td>3938.14</td>\n",
       "      <td>3000.00</td>\n",
       "      <td>938.14</td>\n",
       "      <td>0.00</td>\n",
       "      <td>0.00</td>\n",
       "      <td>0.0000</td>\n",
       "      <td>Jan-2015</td>\n",
       "      <td>111.34</td>\n",
       "      <td>NaN</td>\n",
       "      <td>Dec-2014</td>\n",
       "      <td>0.0</td>\n",
       "      <td>NaN</td>\n",
       "      <td>1.0</td>\n",
       "      <td>INDIVIDUAL</td>\n",
       "      <td>NaN</td>\n",
       "      <td>NaN</td>\n",
       "      <td>NaN</td>\n",
       "      <td>0.0</td>\n",
       "      <td>NaN</td>\n",
       "      <td>NaN</td>\n",
       "      <td>NaN</td>\n",
       "      <td>NaN</td>\n",
       "      <td>NaN</td>\n",
       "      <td>NaN</td>\n",
       "      <td>NaN</td>\n",
       "      <td>NaN</td>\n",
       "      <td>NaN</td>\n",
       "      <td>NaN</td>\n",
       "      <td>NaN</td>\n",
       "      <td>NaN</td>\n",
       "      <td>NaN</td>\n",
       "      <td>NaN</td>\n",
       "      <td>NaN</td>\n",
       "      <td>NaN</td>\n",
       "      <td>NaN</td>\n",
       "    </tr>\n",
       "    <tr>\n",
       "      <th>8</th>\n",
       "      <td>1071795</td>\n",
       "      <td>1306957</td>\n",
       "      <td>5600.0</td>\n",
       "      <td>5600.0</td>\n",
       "      <td>5600.0</td>\n",
       "      <td>60 months</td>\n",
       "      <td>21.28</td>\n",
       "      <td>152.39</td>\n",
       "      <td>F</td>\n",
       "      <td>F2</td>\n",
       "      <td>NaN</td>\n",
       "      <td>4 years</td>\n",
       "      <td>OWN</td>\n",
       "      <td>40000.00</td>\n",
       "      <td>Source Verified</td>\n",
       "      <td>Dec-2011</td>\n",
       "      <td>Charged Off</td>\n",
       "      <td>n</td>\n",
       "      <td>https://www.lendingclub.com/browse/loanDetail....</td>\n",
       "      <td>Borrower added on 12/21/11 &gt; I own a small h...</td>\n",
       "      <td>small_business</td>\n",
       "      <td>Expand Business &amp; Buy Debt Portfolio</td>\n",
       "      <td>958xx</td>\n",
       "      <td>CA</td>\n",
       "      <td>5.55</td>\n",
       "      <td>0.0</td>\n",
       "      <td>Apr-2004</td>\n",
       "      <td>2.0</td>\n",
       "      <td>NaN</td>\n",
       "      <td>NaN</td>\n",
       "      <td>11.0</td>\n",
       "      <td>0.0</td>\n",
       "      <td>5210.0</td>\n",
       "      <td>32.60</td>\n",
       "      <td>13.0</td>\n",
       "      <td>f</td>\n",
       "      <td>0.00</td>\n",
       "      <td>0.00</td>\n",
       "      <td>646.020000</td>\n",
       "      <td>646.02</td>\n",
       "      <td>162.02</td>\n",
       "      <td>294.94</td>\n",
       "      <td>0.00</td>\n",
       "      <td>189.06</td>\n",
       "      <td>2.0900</td>\n",
       "      <td>Apr-2012</td>\n",
       "      <td>152.39</td>\n",
       "      <td>NaN</td>\n",
       "      <td>Aug-2012</td>\n",
       "      <td>0.0</td>\n",
       "      <td>NaN</td>\n",
       "      <td>1.0</td>\n",
       "      <td>INDIVIDUAL</td>\n",
       "      <td>NaN</td>\n",
       "      <td>NaN</td>\n",
       "      <td>NaN</td>\n",
       "      <td>0.0</td>\n",
       "      <td>NaN</td>\n",
       "      <td>NaN</td>\n",
       "      <td>NaN</td>\n",
       "      <td>NaN</td>\n",
       "      <td>NaN</td>\n",
       "      <td>NaN</td>\n",
       "      <td>NaN</td>\n",
       "      <td>NaN</td>\n",
       "      <td>NaN</td>\n",
       "      <td>NaN</td>\n",
       "      <td>NaN</td>\n",
       "      <td>NaN</td>\n",
       "      <td>NaN</td>\n",
       "      <td>NaN</td>\n",
       "      <td>NaN</td>\n",
       "      <td>NaN</td>\n",
       "      <td>NaN</td>\n",
       "    </tr>\n",
       "    <tr>\n",
       "      <th>9</th>\n",
       "      <td>1071570</td>\n",
       "      <td>1306721</td>\n",
       "      <td>5375.0</td>\n",
       "      <td>5375.0</td>\n",
       "      <td>5350.0</td>\n",
       "      <td>60 months</td>\n",
       "      <td>12.69</td>\n",
       "      <td>121.45</td>\n",
       "      <td>B</td>\n",
       "      <td>B5</td>\n",
       "      <td>Starbucks</td>\n",
       "      <td>&lt; 1 year</td>\n",
       "      <td>RENT</td>\n",
       "      <td>15000.00</td>\n",
       "      <td>Verified</td>\n",
       "      <td>Dec-2011</td>\n",
       "      <td>Charged Off</td>\n",
       "      <td>n</td>\n",
       "      <td>https://www.lendingclub.com/browse/loanDetail....</td>\n",
       "      <td>Borrower added on 12/16/11 &gt; I'm trying to b...</td>\n",
       "      <td>other</td>\n",
       "      <td>Building my credit history.</td>\n",
       "      <td>774xx</td>\n",
       "      <td>TX</td>\n",
       "      <td>18.08</td>\n",
       "      <td>0.0</td>\n",
       "      <td>Sep-2004</td>\n",
       "      <td>0.0</td>\n",
       "      <td>NaN</td>\n",
       "      <td>NaN</td>\n",
       "      <td>2.0</td>\n",
       "      <td>0.0</td>\n",
       "      <td>9279.0</td>\n",
       "      <td>36.50</td>\n",
       "      <td>3.0</td>\n",
       "      <td>f</td>\n",
       "      <td>0.00</td>\n",
       "      <td>0.00</td>\n",
       "      <td>1476.190000</td>\n",
       "      <td>1469.34</td>\n",
       "      <td>673.48</td>\n",
       "      <td>533.42</td>\n",
       "      <td>0.00</td>\n",
       "      <td>269.29</td>\n",
       "      <td>2.5200</td>\n",
       "      <td>Nov-2012</td>\n",
       "      <td>121.45</td>\n",
       "      <td>NaN</td>\n",
       "      <td>Mar-2013</td>\n",
       "      <td>0.0</td>\n",
       "      <td>NaN</td>\n",
       "      <td>1.0</td>\n",
       "      <td>INDIVIDUAL</td>\n",
       "      <td>NaN</td>\n",
       "      <td>NaN</td>\n",
       "      <td>NaN</td>\n",
       "      <td>0.0</td>\n",
       "      <td>NaN</td>\n",
       "      <td>NaN</td>\n",
       "      <td>NaN</td>\n",
       "      <td>NaN</td>\n",
       "      <td>NaN</td>\n",
       "      <td>NaN</td>\n",
       "      <td>NaN</td>\n",
       "      <td>NaN</td>\n",
       "      <td>NaN</td>\n",
       "      <td>NaN</td>\n",
       "      <td>NaN</td>\n",
       "      <td>NaN</td>\n",
       "      <td>NaN</td>\n",
       "      <td>NaN</td>\n",
       "      <td>NaN</td>\n",
       "      <td>NaN</td>\n",
       "      <td>NaN</td>\n",
       "    </tr>\n",
       "    <tr>\n",
       "      <th>10</th>\n",
       "      <td>1070078</td>\n",
       "      <td>1305201</td>\n",
       "      <td>6500.0</td>\n",
       "      <td>6500.0</td>\n",
       "      <td>6500.0</td>\n",
       "      <td>60 months</td>\n",
       "      <td>14.65</td>\n",
       "      <td>153.45</td>\n",
       "      <td>C</td>\n",
       "      <td>C3</td>\n",
       "      <td>Southwest Rural metro</td>\n",
       "      <td>5 years</td>\n",
       "      <td>OWN</td>\n",
       "      <td>72000.00</td>\n",
       "      <td>Not Verified</td>\n",
       "      <td>Dec-2011</td>\n",
       "      <td>Fully Paid</td>\n",
       "      <td>n</td>\n",
       "      <td>https://www.lendingclub.com/browse/loanDetail....</td>\n",
       "      <td>Borrower added on 12/15/11 &gt; I had recived a...</td>\n",
       "      <td>debt_consolidation</td>\n",
       "      <td>High intrest Consolidation</td>\n",
       "      <td>853xx</td>\n",
       "      <td>AZ</td>\n",
       "      <td>16.12</td>\n",
       "      <td>0.0</td>\n",
       "      <td>Jan-1998</td>\n",
       "      <td>2.0</td>\n",
       "      <td>NaN</td>\n",
       "      <td>NaN</td>\n",
       "      <td>14.0</td>\n",
       "      <td>0.0</td>\n",
       "      <td>4032.0</td>\n",
       "      <td>20.60</td>\n",
       "      <td>23.0</td>\n",
       "      <td>f</td>\n",
       "      <td>0.00</td>\n",
       "      <td>0.00</td>\n",
       "      <td>7677.520000</td>\n",
       "      <td>7677.52</td>\n",
       "      <td>6500.00</td>\n",
       "      <td>1177.52</td>\n",
       "      <td>0.00</td>\n",
       "      <td>0.00</td>\n",
       "      <td>0.0000</td>\n",
       "      <td>Jun-2013</td>\n",
       "      <td>1655.54</td>\n",
       "      <td>NaN</td>\n",
       "      <td>Dec-2015</td>\n",
       "      <td>0.0</td>\n",
       "      <td>NaN</td>\n",
       "      <td>1.0</td>\n",
       "      <td>INDIVIDUAL</td>\n",
       "      <td>NaN</td>\n",
       "      <td>NaN</td>\n",
       "      <td>NaN</td>\n",
       "      <td>0.0</td>\n",
       "      <td>NaN</td>\n",
       "      <td>NaN</td>\n",
       "      <td>NaN</td>\n",
       "      <td>NaN</td>\n",
       "      <td>NaN</td>\n",
       "      <td>NaN</td>\n",
       "      <td>NaN</td>\n",
       "      <td>NaN</td>\n",
       "      <td>NaN</td>\n",
       "      <td>NaN</td>\n",
       "      <td>NaN</td>\n",
       "      <td>NaN</td>\n",
       "      <td>NaN</td>\n",
       "      <td>NaN</td>\n",
       "      <td>NaN</td>\n",
       "      <td>NaN</td>\n",
       "      <td>NaN</td>\n",
       "    </tr>\n",
       "    <tr>\n",
       "      <th>11</th>\n",
       "      <td>1069908</td>\n",
       "      <td>1305008</td>\n",
       "      <td>12000.0</td>\n",
       "      <td>12000.0</td>\n",
       "      <td>12000.0</td>\n",
       "      <td>36 months</td>\n",
       "      <td>12.69</td>\n",
       "      <td>402.54</td>\n",
       "      <td>B</td>\n",
       "      <td>B5</td>\n",
       "      <td>UCLA</td>\n",
       "      <td>10+ years</td>\n",
       "      <td>OWN</td>\n",
       "      <td>75000.00</td>\n",
       "      <td>Source Verified</td>\n",
       "      <td>Dec-2011</td>\n",
       "      <td>Fully Paid</td>\n",
       "      <td>n</td>\n",
       "      <td>https://www.lendingclub.com/browse/loanDetail....</td>\n",
       "      <td>NaN</td>\n",
       "      <td>debt_consolidation</td>\n",
       "      <td>Consolidation</td>\n",
       "      <td>913xx</td>\n",
       "      <td>CA</td>\n",
       "      <td>10.78</td>\n",
       "      <td>0.0</td>\n",
       "      <td>Oct-1989</td>\n",
       "      <td>0.0</td>\n",
       "      <td>NaN</td>\n",
       "      <td>NaN</td>\n",
       "      <td>12.0</td>\n",
       "      <td>0.0</td>\n",
       "      <td>23336.0</td>\n",
       "      <td>67.10</td>\n",
       "      <td>34.0</td>\n",
       "      <td>f</td>\n",
       "      <td>0.00</td>\n",
       "      <td>0.00</td>\n",
       "      <td>13943.080000</td>\n",
       "      <td>13943.08</td>\n",
       "      <td>12000.00</td>\n",
       "      <td>1943.08</td>\n",
       "      <td>0.00</td>\n",
       "      <td>0.00</td>\n",
       "      <td>0.0000</td>\n",
       "      <td>Sep-2013</td>\n",
       "      <td>6315.30</td>\n",
       "      <td>NaN</td>\n",
       "      <td>Aug-2013</td>\n",
       "      <td>0.0</td>\n",
       "      <td>NaN</td>\n",
       "      <td>1.0</td>\n",
       "      <td>INDIVIDUAL</td>\n",
       "      <td>NaN</td>\n",
       "      <td>NaN</td>\n",
       "      <td>NaN</td>\n",
       "      <td>0.0</td>\n",
       "      <td>NaN</td>\n",
       "      <td>NaN</td>\n",
       "      <td>NaN</td>\n",
       "      <td>NaN</td>\n",
       "      <td>NaN</td>\n",
       "      <td>NaN</td>\n",
       "      <td>NaN</td>\n",
       "      <td>NaN</td>\n",
       "      <td>NaN</td>\n",
       "      <td>NaN</td>\n",
       "      <td>NaN</td>\n",
       "      <td>NaN</td>\n",
       "      <td>NaN</td>\n",
       "      <td>NaN</td>\n",
       "      <td>NaN</td>\n",
       "      <td>NaN</td>\n",
       "      <td>NaN</td>\n",
       "    </tr>\n",
       "    <tr>\n",
       "      <th>12</th>\n",
       "      <td>1064687</td>\n",
       "      <td>1298717</td>\n",
       "      <td>9000.0</td>\n",
       "      <td>9000.0</td>\n",
       "      <td>9000.0</td>\n",
       "      <td>36 months</td>\n",
       "      <td>13.49</td>\n",
       "      <td>305.38</td>\n",
       "      <td>C</td>\n",
       "      <td>C1</td>\n",
       "      <td>Va. Dept of Conservation/Recreation</td>\n",
       "      <td>&lt; 1 year</td>\n",
       "      <td>RENT</td>\n",
       "      <td>30000.00</td>\n",
       "      <td>Source Verified</td>\n",
       "      <td>Dec-2011</td>\n",
       "      <td>Charged Off</td>\n",
       "      <td>n</td>\n",
       "      <td>https://www.lendingclub.com/browse/loanDetail....</td>\n",
       "      <td>Borrower added on 12/15/11 &gt; Plan to pay off...</td>\n",
       "      <td>debt_consolidation</td>\n",
       "      <td>freedom</td>\n",
       "      <td>245xx</td>\n",
       "      <td>VA</td>\n",
       "      <td>10.08</td>\n",
       "      <td>0.0</td>\n",
       "      <td>Apr-2004</td>\n",
       "      <td>1.0</td>\n",
       "      <td>NaN</td>\n",
       "      <td>NaN</td>\n",
       "      <td>4.0</td>\n",
       "      <td>0.0</td>\n",
       "      <td>10452.0</td>\n",
       "      <td>91.70</td>\n",
       "      <td>9.0</td>\n",
       "      <td>f</td>\n",
       "      <td>0.00</td>\n",
       "      <td>0.00</td>\n",
       "      <td>2270.700000</td>\n",
       "      <td>2270.70</td>\n",
       "      <td>1256.14</td>\n",
       "      <td>570.26</td>\n",
       "      <td>0.00</td>\n",
       "      <td>444.30</td>\n",
       "      <td>4.1600</td>\n",
       "      <td>Jul-2012</td>\n",
       "      <td>305.38</td>\n",
       "      <td>NaN</td>\n",
       "      <td>Nov-2012</td>\n",
       "      <td>0.0</td>\n",
       "      <td>NaN</td>\n",
       "      <td>1.0</td>\n",
       "      <td>INDIVIDUAL</td>\n",
       "      <td>NaN</td>\n",
       "      <td>NaN</td>\n",
       "      <td>NaN</td>\n",
       "      <td>0.0</td>\n",
       "      <td>NaN</td>\n",
       "      <td>NaN</td>\n",
       "      <td>NaN</td>\n",
       "      <td>NaN</td>\n",
       "      <td>NaN</td>\n",
       "      <td>NaN</td>\n",
       "      <td>NaN</td>\n",
       "      <td>NaN</td>\n",
       "      <td>NaN</td>\n",
       "      <td>NaN</td>\n",
       "      <td>NaN</td>\n",
       "      <td>NaN</td>\n",
       "      <td>NaN</td>\n",
       "      <td>NaN</td>\n",
       "      <td>NaN</td>\n",
       "      <td>NaN</td>\n",
       "      <td>NaN</td>\n",
       "    </tr>\n",
       "    <tr>\n",
       "      <th>13</th>\n",
       "      <td>1069866</td>\n",
       "      <td>1304956</td>\n",
       "      <td>3000.0</td>\n",
       "      <td>3000.0</td>\n",
       "      <td>3000.0</td>\n",
       "      <td>36 months</td>\n",
       "      <td>9.91</td>\n",
       "      <td>96.68</td>\n",
       "      <td>B</td>\n",
       "      <td>B1</td>\n",
       "      <td>Target</td>\n",
       "      <td>3 years</td>\n",
       "      <td>RENT</td>\n",
       "      <td>15000.00</td>\n",
       "      <td>Source Verified</td>\n",
       "      <td>Dec-2011</td>\n",
       "      <td>Fully Paid</td>\n",
       "      <td>n</td>\n",
       "      <td>https://www.lendingclub.com/browse/loanDetail....</td>\n",
       "      <td>Borrower added on 12/19/11 &gt; I intend to pay...</td>\n",
       "      <td>credit_card</td>\n",
       "      <td>citicard fund</td>\n",
       "      <td>606xx</td>\n",
       "      <td>IL</td>\n",
       "      <td>12.56</td>\n",
       "      <td>0.0</td>\n",
       "      <td>Jul-2003</td>\n",
       "      <td>2.0</td>\n",
       "      <td>NaN</td>\n",
       "      <td>NaN</td>\n",
       "      <td>11.0</td>\n",
       "      <td>0.0</td>\n",
       "      <td>7323.0</td>\n",
       "      <td>43.10</td>\n",
       "      <td>11.0</td>\n",
       "      <td>f</td>\n",
       "      <td>0.00</td>\n",
       "      <td>0.00</td>\n",
       "      <td>3478.981915</td>\n",
       "      <td>3478.98</td>\n",
       "      <td>3000.00</td>\n",
       "      <td>478.98</td>\n",
       "      <td>0.00</td>\n",
       "      <td>0.00</td>\n",
       "      <td>0.0000</td>\n",
       "      <td>Jan-2015</td>\n",
       "      <td>102.43</td>\n",
       "      <td>NaN</td>\n",
       "      <td>Jan-2016</td>\n",
       "      <td>0.0</td>\n",
       "      <td>NaN</td>\n",
       "      <td>1.0</td>\n",
       "      <td>INDIVIDUAL</td>\n",
       "      <td>NaN</td>\n",
       "      <td>NaN</td>\n",
       "      <td>NaN</td>\n",
       "      <td>0.0</td>\n",
       "      <td>NaN</td>\n",
       "      <td>NaN</td>\n",
       "      <td>NaN</td>\n",
       "      <td>NaN</td>\n",
       "      <td>NaN</td>\n",
       "      <td>NaN</td>\n",
       "      <td>NaN</td>\n",
       "      <td>NaN</td>\n",
       "      <td>NaN</td>\n",
       "      <td>NaN</td>\n",
       "      <td>NaN</td>\n",
       "      <td>NaN</td>\n",
       "      <td>NaN</td>\n",
       "      <td>NaN</td>\n",
       "      <td>NaN</td>\n",
       "      <td>NaN</td>\n",
       "      <td>NaN</td>\n",
       "    </tr>\n",
       "    <tr>\n",
       "      <th>14</th>\n",
       "      <td>1069057</td>\n",
       "      <td>1303503</td>\n",
       "      <td>10000.0</td>\n",
       "      <td>10000.0</td>\n",
       "      <td>10000.0</td>\n",
       "      <td>36 months</td>\n",
       "      <td>10.65</td>\n",
       "      <td>325.74</td>\n",
       "      <td>B</td>\n",
       "      <td>B2</td>\n",
       "      <td>SFMTA</td>\n",
       "      <td>3 years</td>\n",
       "      <td>RENT</td>\n",
       "      <td>100000.00</td>\n",
       "      <td>Source Verified</td>\n",
       "      <td>Dec-2011</td>\n",
       "      <td>Charged Off</td>\n",
       "      <td>n</td>\n",
       "      <td>https://www.lendingclub.com/browse/loanDetail....</td>\n",
       "      <td>NaN</td>\n",
       "      <td>other</td>\n",
       "      <td>Other Loan</td>\n",
       "      <td>951xx</td>\n",
       "      <td>CA</td>\n",
       "      <td>7.06</td>\n",
       "      <td>0.0</td>\n",
       "      <td>May-1991</td>\n",
       "      <td>2.0</td>\n",
       "      <td>NaN</td>\n",
       "      <td>NaN</td>\n",
       "      <td>14.0</td>\n",
       "      <td>0.0</td>\n",
       "      <td>11997.0</td>\n",
       "      <td>55.50</td>\n",
       "      <td>29.0</td>\n",
       "      <td>f</td>\n",
       "      <td>0.00</td>\n",
       "      <td>0.00</td>\n",
       "      <td>7471.990000</td>\n",
       "      <td>7471.99</td>\n",
       "      <td>5433.47</td>\n",
       "      <td>1393.42</td>\n",
       "      <td>0.00</td>\n",
       "      <td>645.10</td>\n",
       "      <td>6.3145</td>\n",
       "      <td>Oct-2013</td>\n",
       "      <td>325.74</td>\n",
       "      <td>NaN</td>\n",
       "      <td>Mar-2014</td>\n",
       "      <td>0.0</td>\n",
       "      <td>NaN</td>\n",
       "      <td>1.0</td>\n",
       "      <td>INDIVIDUAL</td>\n",
       "      <td>NaN</td>\n",
       "      <td>NaN</td>\n",
       "      <td>NaN</td>\n",
       "      <td>0.0</td>\n",
       "      <td>NaN</td>\n",
       "      <td>NaN</td>\n",
       "      <td>NaN</td>\n",
       "      <td>NaN</td>\n",
       "      <td>NaN</td>\n",
       "      <td>NaN</td>\n",
       "      <td>NaN</td>\n",
       "      <td>NaN</td>\n",
       "      <td>NaN</td>\n",
       "      <td>NaN</td>\n",
       "      <td>NaN</td>\n",
       "      <td>NaN</td>\n",
       "      <td>NaN</td>\n",
       "      <td>NaN</td>\n",
       "      <td>NaN</td>\n",
       "      <td>NaN</td>\n",
       "      <td>NaN</td>\n",
       "    </tr>\n",
       "    <tr>\n",
       "      <th>15</th>\n",
       "      <td>1069759</td>\n",
       "      <td>1304871</td>\n",
       "      <td>1000.0</td>\n",
       "      <td>1000.0</td>\n",
       "      <td>1000.0</td>\n",
       "      <td>36 months</td>\n",
       "      <td>16.29</td>\n",
       "      <td>35.31</td>\n",
       "      <td>D</td>\n",
       "      <td>D1</td>\n",
       "      <td>Internal revenue Service</td>\n",
       "      <td>&lt; 1 year</td>\n",
       "      <td>RENT</td>\n",
       "      <td>28000.00</td>\n",
       "      <td>Not Verified</td>\n",
       "      <td>Dec-2011</td>\n",
       "      <td>Fully Paid</td>\n",
       "      <td>n</td>\n",
       "      <td>https://www.lendingclub.com/browse/loanDetail....</td>\n",
       "      <td>NaN</td>\n",
       "      <td>debt_consolidation</td>\n",
       "      <td>Debt Consolidation Loan</td>\n",
       "      <td>641xx</td>\n",
       "      <td>MO</td>\n",
       "      <td>20.31</td>\n",
       "      <td>0.0</td>\n",
       "      <td>Sep-2007</td>\n",
       "      <td>1.0</td>\n",
       "      <td>NaN</td>\n",
       "      <td>NaN</td>\n",
       "      <td>11.0</td>\n",
       "      <td>0.0</td>\n",
       "      <td>6524.0</td>\n",
       "      <td>81.50</td>\n",
       "      <td>23.0</td>\n",
       "      <td>f</td>\n",
       "      <td>0.00</td>\n",
       "      <td>0.00</td>\n",
       "      <td>1270.171106</td>\n",
       "      <td>1270.17</td>\n",
       "      <td>1000.00</td>\n",
       "      <td>270.17</td>\n",
       "      <td>0.00</td>\n",
       "      <td>0.00</td>\n",
       "      <td>0.0000</td>\n",
       "      <td>Jan-2015</td>\n",
       "      <td>36.32</td>\n",
       "      <td>NaN</td>\n",
       "      <td>Jan-2016</td>\n",
       "      <td>0.0</td>\n",
       "      <td>NaN</td>\n",
       "      <td>1.0</td>\n",
       "      <td>INDIVIDUAL</td>\n",
       "      <td>NaN</td>\n",
       "      <td>NaN</td>\n",
       "      <td>NaN</td>\n",
       "      <td>0.0</td>\n",
       "      <td>NaN</td>\n",
       "      <td>NaN</td>\n",
       "      <td>NaN</td>\n",
       "      <td>NaN</td>\n",
       "      <td>NaN</td>\n",
       "      <td>NaN</td>\n",
       "      <td>NaN</td>\n",
       "      <td>NaN</td>\n",
       "      <td>NaN</td>\n",
       "      <td>NaN</td>\n",
       "      <td>NaN</td>\n",
       "      <td>NaN</td>\n",
       "      <td>NaN</td>\n",
       "      <td>NaN</td>\n",
       "      <td>NaN</td>\n",
       "      <td>NaN</td>\n",
       "      <td>NaN</td>\n",
       "    </tr>\n",
       "    <tr>\n",
       "      <th>16</th>\n",
       "      <td>1065775</td>\n",
       "      <td>1299699</td>\n",
       "      <td>10000.0</td>\n",
       "      <td>10000.0</td>\n",
       "      <td>10000.0</td>\n",
       "      <td>36 months</td>\n",
       "      <td>15.27</td>\n",
       "      <td>347.98</td>\n",
       "      <td>C</td>\n",
       "      <td>C4</td>\n",
       "      <td>Chin's Restaurant</td>\n",
       "      <td>4 years</td>\n",
       "      <td>RENT</td>\n",
       "      <td>42000.00</td>\n",
       "      <td>Not Verified</td>\n",
       "      <td>Dec-2011</td>\n",
       "      <td>Fully Paid</td>\n",
       "      <td>n</td>\n",
       "      <td>https://www.lendingclub.com/browse/loanDetail....</td>\n",
       "      <td>NaN</td>\n",
       "      <td>home_improvement</td>\n",
       "      <td>Home</td>\n",
       "      <td>921xx</td>\n",
       "      <td>CA</td>\n",
       "      <td>18.60</td>\n",
       "      <td>0.0</td>\n",
       "      <td>Oct-1998</td>\n",
       "      <td>2.0</td>\n",
       "      <td>61.0</td>\n",
       "      <td>NaN</td>\n",
       "      <td>14.0</td>\n",
       "      <td>0.0</td>\n",
       "      <td>24043.0</td>\n",
       "      <td>70.20</td>\n",
       "      <td>28.0</td>\n",
       "      <td>f</td>\n",
       "      <td>0.00</td>\n",
       "      <td>0.00</td>\n",
       "      <td>12519.260450</td>\n",
       "      <td>12519.26</td>\n",
       "      <td>10000.00</td>\n",
       "      <td>2519.26</td>\n",
       "      <td>0.00</td>\n",
       "      <td>0.00</td>\n",
       "      <td>0.0000</td>\n",
       "      <td>Jan-2015</td>\n",
       "      <td>370.46</td>\n",
       "      <td>NaN</td>\n",
       "      <td>Apr-2015</td>\n",
       "      <td>0.0</td>\n",
       "      <td>NaN</td>\n",
       "      <td>1.0</td>\n",
       "      <td>INDIVIDUAL</td>\n",
       "      <td>NaN</td>\n",
       "      <td>NaN</td>\n",
       "      <td>NaN</td>\n",
       "      <td>0.0</td>\n",
       "      <td>NaN</td>\n",
       "      <td>NaN</td>\n",
       "      <td>NaN</td>\n",
       "      <td>NaN</td>\n",
       "      <td>NaN</td>\n",
       "      <td>NaN</td>\n",
       "      <td>NaN</td>\n",
       "      <td>NaN</td>\n",
       "      <td>NaN</td>\n",
       "      <td>NaN</td>\n",
       "      <td>NaN</td>\n",
       "      <td>NaN</td>\n",
       "      <td>NaN</td>\n",
       "      <td>NaN</td>\n",
       "      <td>NaN</td>\n",
       "      <td>NaN</td>\n",
       "      <td>NaN</td>\n",
       "    </tr>\n",
       "    <tr>\n",
       "      <th>17</th>\n",
       "      <td>1069971</td>\n",
       "      <td>1304884</td>\n",
       "      <td>3600.0</td>\n",
       "      <td>3600.0</td>\n",
       "      <td>3600.0</td>\n",
       "      <td>36 months</td>\n",
       "      <td>6.03</td>\n",
       "      <td>109.57</td>\n",
       "      <td>A</td>\n",
       "      <td>A1</td>\n",
       "      <td>Duracell</td>\n",
       "      <td>10+ years</td>\n",
       "      <td>MORTGAGE</td>\n",
       "      <td>110000.00</td>\n",
       "      <td>Not Verified</td>\n",
       "      <td>Dec-2011</td>\n",
       "      <td>Fully Paid</td>\n",
       "      <td>n</td>\n",
       "      <td>https://www.lendingclub.com/browse/loanDetail....</td>\n",
       "      <td>Borrower added on 12/15/11 &gt; Payoff other le...</td>\n",
       "      <td>major_purchase</td>\n",
       "      <td>Holiday</td>\n",
       "      <td>067xx</td>\n",
       "      <td>CT</td>\n",
       "      <td>10.52</td>\n",
       "      <td>0.0</td>\n",
       "      <td>Aug-1993</td>\n",
       "      <td>0.0</td>\n",
       "      <td>NaN</td>\n",
       "      <td>NaN</td>\n",
       "      <td>20.0</td>\n",
       "      <td>0.0</td>\n",
       "      <td>22836.0</td>\n",
       "      <td>16.00</td>\n",
       "      <td>42.0</td>\n",
       "      <td>f</td>\n",
       "      <td>0.00</td>\n",
       "      <td>0.00</td>\n",
       "      <td>3785.020000</td>\n",
       "      <td>3785.02</td>\n",
       "      <td>3600.00</td>\n",
       "      <td>185.02</td>\n",
       "      <td>0.00</td>\n",
       "      <td>0.00</td>\n",
       "      <td>0.0000</td>\n",
       "      <td>May-2013</td>\n",
       "      <td>583.45</td>\n",
       "      <td>NaN</td>\n",
       "      <td>May-2014</td>\n",
       "      <td>0.0</td>\n",
       "      <td>NaN</td>\n",
       "      <td>1.0</td>\n",
       "      <td>INDIVIDUAL</td>\n",
       "      <td>NaN</td>\n",
       "      <td>NaN</td>\n",
       "      <td>NaN</td>\n",
       "      <td>0.0</td>\n",
       "      <td>NaN</td>\n",
       "      <td>NaN</td>\n",
       "      <td>NaN</td>\n",
       "      <td>NaN</td>\n",
       "      <td>NaN</td>\n",
       "      <td>NaN</td>\n",
       "      <td>NaN</td>\n",
       "      <td>NaN</td>\n",
       "      <td>NaN</td>\n",
       "      <td>NaN</td>\n",
       "      <td>NaN</td>\n",
       "      <td>NaN</td>\n",
       "      <td>NaN</td>\n",
       "      <td>NaN</td>\n",
       "      <td>NaN</td>\n",
       "      <td>NaN</td>\n",
       "      <td>NaN</td>\n",
       "    </tr>\n",
       "    <tr>\n",
       "      <th>18</th>\n",
       "      <td>1062474</td>\n",
       "      <td>1294539</td>\n",
       "      <td>6000.0</td>\n",
       "      <td>6000.0</td>\n",
       "      <td>6000.0</td>\n",
       "      <td>36 months</td>\n",
       "      <td>11.71</td>\n",
       "      <td>198.46</td>\n",
       "      <td>B</td>\n",
       "      <td>B3</td>\n",
       "      <td>Connection Inspection</td>\n",
       "      <td>1 year</td>\n",
       "      <td>MORTGAGE</td>\n",
       "      <td>84000.00</td>\n",
       "      <td>Verified</td>\n",
       "      <td>Dec-2011</td>\n",
       "      <td>Fully Paid</td>\n",
       "      <td>n</td>\n",
       "      <td>https://www.lendingclub.com/browse/loanDetail....</td>\n",
       "      <td>Borrower added on 12/16/11 &gt; This is a loan ...</td>\n",
       "      <td>medical</td>\n",
       "      <td>Medical</td>\n",
       "      <td>890xx</td>\n",
       "      <td>UT</td>\n",
       "      <td>18.44</td>\n",
       "      <td>2.0</td>\n",
       "      <td>Oct-2003</td>\n",
       "      <td>0.0</td>\n",
       "      <td>8.0</td>\n",
       "      <td>NaN</td>\n",
       "      <td>4.0</td>\n",
       "      <td>0.0</td>\n",
       "      <td>0.0</td>\n",
       "      <td>37.73</td>\n",
       "      <td>14.0</td>\n",
       "      <td>f</td>\n",
       "      <td>0.00</td>\n",
       "      <td>0.00</td>\n",
       "      <td>7164.499852</td>\n",
       "      <td>7164.50</td>\n",
       "      <td>6000.00</td>\n",
       "      <td>1149.50</td>\n",
       "      <td>15.00</td>\n",
       "      <td>0.00</td>\n",
       "      <td>0.0000</td>\n",
       "      <td>Feb-2015</td>\n",
       "      <td>16.98</td>\n",
       "      <td>NaN</td>\n",
       "      <td>Jul-2015</td>\n",
       "      <td>0.0</td>\n",
       "      <td>NaN</td>\n",
       "      <td>1.0</td>\n",
       "      <td>INDIVIDUAL</td>\n",
       "      <td>NaN</td>\n",
       "      <td>NaN</td>\n",
       "      <td>NaN</td>\n",
       "      <td>0.0</td>\n",
       "      <td>NaN</td>\n",
       "      <td>NaN</td>\n",
       "      <td>NaN</td>\n",
       "      <td>NaN</td>\n",
       "      <td>NaN</td>\n",
       "      <td>NaN</td>\n",
       "      <td>NaN</td>\n",
       "      <td>NaN</td>\n",
       "      <td>NaN</td>\n",
       "      <td>NaN</td>\n",
       "      <td>NaN</td>\n",
       "      <td>NaN</td>\n",
       "      <td>NaN</td>\n",
       "      <td>NaN</td>\n",
       "      <td>NaN</td>\n",
       "      <td>NaN</td>\n",
       "      <td>NaN</td>\n",
       "    </tr>\n",
       "    <tr>\n",
       "      <th>19</th>\n",
       "      <td>1069742</td>\n",
       "      <td>1304855</td>\n",
       "      <td>9200.0</td>\n",
       "      <td>9200.0</td>\n",
       "      <td>9200.0</td>\n",
       "      <td>36 months</td>\n",
       "      <td>6.03</td>\n",
       "      <td>280.01</td>\n",
       "      <td>A</td>\n",
       "      <td>A1</td>\n",
       "      <td>Network Interpreting Service</td>\n",
       "      <td>6 years</td>\n",
       "      <td>RENT</td>\n",
       "      <td>77385.19</td>\n",
       "      <td>Not Verified</td>\n",
       "      <td>Dec-2011</td>\n",
       "      <td>Fully Paid</td>\n",
       "      <td>n</td>\n",
       "      <td>https://www.lendingclub.com/browse/loanDetail....</td>\n",
       "      <td>NaN</td>\n",
       "      <td>debt_consolidation</td>\n",
       "      <td>lowerratemeanseasiertogetoutofdebt!</td>\n",
       "      <td>921xx</td>\n",
       "      <td>CA</td>\n",
       "      <td>9.86</td>\n",
       "      <td>0.0</td>\n",
       "      <td>Jan-2001</td>\n",
       "      <td>0.0</td>\n",
       "      <td>NaN</td>\n",
       "      <td>NaN</td>\n",
       "      <td>8.0</td>\n",
       "      <td>0.0</td>\n",
       "      <td>7314.0</td>\n",
       "      <td>23.10</td>\n",
       "      <td>28.0</td>\n",
       "      <td>f</td>\n",
       "      <td>0.00</td>\n",
       "      <td>0.00</td>\n",
       "      <td>9459.960000</td>\n",
       "      <td>9459.96</td>\n",
       "      <td>9200.00</td>\n",
       "      <td>259.96</td>\n",
       "      <td>0.00</td>\n",
       "      <td>0.00</td>\n",
       "      <td>0.0000</td>\n",
       "      <td>Jul-2012</td>\n",
       "      <td>8061.10</td>\n",
       "      <td>NaN</td>\n",
       "      <td>Jul-2012</td>\n",
       "      <td>0.0</td>\n",
       "      <td>NaN</td>\n",
       "      <td>1.0</td>\n",
       "      <td>INDIVIDUAL</td>\n",
       "      <td>NaN</td>\n",
       "      <td>NaN</td>\n",
       "      <td>NaN</td>\n",
       "      <td>0.0</td>\n",
       "      <td>NaN</td>\n",
       "      <td>NaN</td>\n",
       "      <td>NaN</td>\n",
       "      <td>NaN</td>\n",
       "      <td>NaN</td>\n",
       "      <td>NaN</td>\n",
       "      <td>NaN</td>\n",
       "      <td>NaN</td>\n",
       "      <td>NaN</td>\n",
       "      <td>NaN</td>\n",
       "      <td>NaN</td>\n",
       "      <td>NaN</td>\n",
       "      <td>NaN</td>\n",
       "      <td>NaN</td>\n",
       "      <td>NaN</td>\n",
       "      <td>NaN</td>\n",
       "      <td>NaN</td>\n",
       "    </tr>\n",
       "  </tbody>\n",
       "</table>\n",
       "</div>"
      ],
      "text/plain": [
       "         id  member_id  loan_amnt  funded_amnt  funded_amnt_inv        term  \\\n",
       "0   1077501    1296599     5000.0       5000.0           4975.0   36 months   \n",
       "1   1077430    1314167     2500.0       2500.0           2500.0   60 months   \n",
       "2   1077175    1313524     2400.0       2400.0           2400.0   36 months   \n",
       "3   1076863    1277178    10000.0      10000.0          10000.0   36 months   \n",
       "4   1075358    1311748     3000.0       3000.0           3000.0   60 months   \n",
       "5   1075269    1311441     5000.0       5000.0           5000.0   36 months   \n",
       "6   1069639    1304742     7000.0       7000.0           7000.0   60 months   \n",
       "7   1072053    1288686     3000.0       3000.0           3000.0   36 months   \n",
       "8   1071795    1306957     5600.0       5600.0           5600.0   60 months   \n",
       "9   1071570    1306721     5375.0       5375.0           5350.0   60 months   \n",
       "10  1070078    1305201     6500.0       6500.0           6500.0   60 months   \n",
       "11  1069908    1305008    12000.0      12000.0          12000.0   36 months   \n",
       "12  1064687    1298717     9000.0       9000.0           9000.0   36 months   \n",
       "13  1069866    1304956     3000.0       3000.0           3000.0   36 months   \n",
       "14  1069057    1303503    10000.0      10000.0          10000.0   36 months   \n",
       "15  1069759    1304871     1000.0       1000.0           1000.0   36 months   \n",
       "16  1065775    1299699    10000.0      10000.0          10000.0   36 months   \n",
       "17  1069971    1304884     3600.0       3600.0           3600.0   36 months   \n",
       "18  1062474    1294539     6000.0       6000.0           6000.0   36 months   \n",
       "19  1069742    1304855     9200.0       9200.0           9200.0   36 months   \n",
       "\n",
       "    int_rate  installment grade sub_grade  \\\n",
       "0      10.65       162.87     B        B2   \n",
       "1      15.27        59.83     C        C4   \n",
       "2      15.96        84.33     C        C5   \n",
       "3      13.49       339.31     C        C1   \n",
       "4      12.69        67.79     B        B5   \n",
       "5       7.90       156.46     A        A4   \n",
       "6      15.96       170.08     C        C5   \n",
       "7      18.64       109.43     E        E1   \n",
       "8      21.28       152.39     F        F2   \n",
       "9      12.69       121.45     B        B5   \n",
       "10     14.65       153.45     C        C3   \n",
       "11     12.69       402.54     B        B5   \n",
       "12     13.49       305.38     C        C1   \n",
       "13      9.91        96.68     B        B1   \n",
       "14     10.65       325.74     B        B2   \n",
       "15     16.29        35.31     D        D1   \n",
       "16     15.27       347.98     C        C4   \n",
       "17      6.03       109.57     A        A1   \n",
       "18     11.71       198.46     B        B3   \n",
       "19      6.03       280.01     A        A1   \n",
       "\n",
       "                              emp_title emp_length home_ownership  annual_inc  \\\n",
       "0                                   NaN  10+ years           RENT    24000.00   \n",
       "1                                 Ryder   < 1 year           RENT    30000.00   \n",
       "2                                   NaN  10+ years           RENT    12252.00   \n",
       "3                   AIR RESOURCES BOARD  10+ years           RENT    49200.00   \n",
       "4              University Medical Group     1 year           RENT    80000.00   \n",
       "5                  Veolia Transportaton    3 years           RENT    36000.00   \n",
       "6             Southern Star Photography    8 years           RENT    47004.00   \n",
       "7                       MKC Accounting     9 years           RENT    48000.00   \n",
       "8                                   NaN    4 years            OWN    40000.00   \n",
       "9                             Starbucks   < 1 year           RENT    15000.00   \n",
       "10                Southwest Rural metro    5 years            OWN    72000.00   \n",
       "11                                 UCLA  10+ years            OWN    75000.00   \n",
       "12  Va. Dept of Conservation/Recreation   < 1 year           RENT    30000.00   \n",
       "13                               Target    3 years           RENT    15000.00   \n",
       "14                                SFMTA    3 years           RENT   100000.00   \n",
       "15             Internal revenue Service   < 1 year           RENT    28000.00   \n",
       "16                    Chin's Restaurant    4 years           RENT    42000.00   \n",
       "17                             Duracell  10+ years       MORTGAGE   110000.00   \n",
       "18                Connection Inspection     1 year       MORTGAGE    84000.00   \n",
       "19         Network Interpreting Service    6 years           RENT    77385.19   \n",
       "\n",
       "   verification_status   issue_d  loan_status pymnt_plan  \\\n",
       "0             Verified  Dec-2011   Fully Paid          n   \n",
       "1      Source Verified  Dec-2011  Charged Off          n   \n",
       "2         Not Verified  Dec-2011   Fully Paid          n   \n",
       "3      Source Verified  Dec-2011   Fully Paid          n   \n",
       "4      Source Verified  Dec-2011      Current          n   \n",
       "5      Source Verified  Dec-2011   Fully Paid          n   \n",
       "6         Not Verified  Dec-2011      Current          n   \n",
       "7      Source Verified  Dec-2011   Fully Paid          n   \n",
       "8      Source Verified  Dec-2011  Charged Off          n   \n",
       "9             Verified  Dec-2011  Charged Off          n   \n",
       "10        Not Verified  Dec-2011   Fully Paid          n   \n",
       "11     Source Verified  Dec-2011   Fully Paid          n   \n",
       "12     Source Verified  Dec-2011  Charged Off          n   \n",
       "13     Source Verified  Dec-2011   Fully Paid          n   \n",
       "14     Source Verified  Dec-2011  Charged Off          n   \n",
       "15        Not Verified  Dec-2011   Fully Paid          n   \n",
       "16        Not Verified  Dec-2011   Fully Paid          n   \n",
       "17        Not Verified  Dec-2011   Fully Paid          n   \n",
       "18            Verified  Dec-2011   Fully Paid          n   \n",
       "19        Not Verified  Dec-2011   Fully Paid          n   \n",
       "\n",
       "                                                  url  \\\n",
       "0   https://www.lendingclub.com/browse/loanDetail....   \n",
       "1   https://www.lendingclub.com/browse/loanDetail....   \n",
       "2   https://www.lendingclub.com/browse/loanDetail....   \n",
       "3   https://www.lendingclub.com/browse/loanDetail....   \n",
       "4   https://www.lendingclub.com/browse/loanDetail....   \n",
       "5   https://www.lendingclub.com/browse/loanDetail....   \n",
       "6   https://www.lendingclub.com/browse/loanDetail....   \n",
       "7   https://www.lendingclub.com/browse/loanDetail....   \n",
       "8   https://www.lendingclub.com/browse/loanDetail....   \n",
       "9   https://www.lendingclub.com/browse/loanDetail....   \n",
       "10  https://www.lendingclub.com/browse/loanDetail....   \n",
       "11  https://www.lendingclub.com/browse/loanDetail....   \n",
       "12  https://www.lendingclub.com/browse/loanDetail....   \n",
       "13  https://www.lendingclub.com/browse/loanDetail....   \n",
       "14  https://www.lendingclub.com/browse/loanDetail....   \n",
       "15  https://www.lendingclub.com/browse/loanDetail....   \n",
       "16  https://www.lendingclub.com/browse/loanDetail....   \n",
       "17  https://www.lendingclub.com/browse/loanDetail....   \n",
       "18  https://www.lendingclub.com/browse/loanDetail....   \n",
       "19  https://www.lendingclub.com/browse/loanDetail....   \n",
       "\n",
       "                                                 desc             purpose  \\\n",
       "0     Borrower added on 12/22/11 > I need to upgra...         credit_card   \n",
       "1     Borrower added on 12/22/11 > I plan to use t...                 car   \n",
       "2                                                 NaN      small_business   \n",
       "3     Borrower added on 12/21/11 > to pay for prop...               other   \n",
       "4     Borrower added on 12/21/11 > I plan on combi...               other   \n",
       "5                                                 NaN             wedding   \n",
       "6     Borrower added on 12/18/11 > I am planning o...  debt_consolidation   \n",
       "7     Borrower added on 12/16/11 > Downpayment for...                 car   \n",
       "8     Borrower added on 12/21/11 > I own a small h...      small_business   \n",
       "9     Borrower added on 12/16/11 > I'm trying to b...               other   \n",
       "10    Borrower added on 12/15/11 > I had recived a...  debt_consolidation   \n",
       "11                                                NaN  debt_consolidation   \n",
       "12    Borrower added on 12/15/11 > Plan to pay off...  debt_consolidation   \n",
       "13    Borrower added on 12/19/11 > I intend to pay...         credit_card   \n",
       "14                                                NaN               other   \n",
       "15                                                NaN  debt_consolidation   \n",
       "16                                                NaN    home_improvement   \n",
       "17    Borrower added on 12/15/11 > Payoff other le...      major_purchase   \n",
       "18    Borrower added on 12/16/11 > This is a loan ...             medical   \n",
       "19                                                NaN  debt_consolidation   \n",
       "\n",
       "                                    title zip_code addr_state    dti  \\\n",
       "0                                Computer    860xx         AZ  27.65   \n",
       "1                                    bike    309xx         GA   1.00   \n",
       "2                    real estate business    606xx         IL   8.72   \n",
       "3                                personel    917xx         CA  20.00   \n",
       "4                                Personal    972xx         OR  17.94   \n",
       "5   My wedding loan I promise to pay back    852xx         AZ  11.20   \n",
       "6                                    Loan    280xx         NC  23.51   \n",
       "7                         Car Downpayment    900xx         CA   5.35   \n",
       "8    Expand Business & Buy Debt Portfolio    958xx         CA   5.55   \n",
       "9             Building my credit history.    774xx         TX  18.08   \n",
       "10             High intrest Consolidation    853xx         AZ  16.12   \n",
       "11                          Consolidation    913xx         CA  10.78   \n",
       "12                                freedom    245xx         VA  10.08   \n",
       "13                          citicard fund    606xx         IL  12.56   \n",
       "14                             Other Loan    951xx         CA   7.06   \n",
       "15                Debt Consolidation Loan    641xx         MO  20.31   \n",
       "16                                   Home    921xx         CA  18.60   \n",
       "17                                Holiday    067xx         CT  10.52   \n",
       "18                                Medical    890xx         UT  18.44   \n",
       "19    lowerratemeanseasiertogetoutofdebt!    921xx         CA   9.86   \n",
       "\n",
       "    delinq_2yrs earliest_cr_line  inq_last_6mths  mths_since_last_delinq  \\\n",
       "0           0.0         Jan-1985             1.0                     NaN   \n",
       "1           0.0         Apr-1999             5.0                     NaN   \n",
       "2           0.0         Nov-2001             2.0                     NaN   \n",
       "3           0.0         Feb-1996             1.0                    35.0   \n",
       "4           0.0         Jan-1996             0.0                    38.0   \n",
       "5           0.0         Nov-2004             3.0                     NaN   \n",
       "6           0.0         Jul-2005             1.0                     NaN   \n",
       "7           0.0         Jan-2007             2.0                     NaN   \n",
       "8           0.0         Apr-2004             2.0                     NaN   \n",
       "9           0.0         Sep-2004             0.0                     NaN   \n",
       "10          0.0         Jan-1998             2.0                     NaN   \n",
       "11          0.0         Oct-1989             0.0                     NaN   \n",
       "12          0.0         Apr-2004             1.0                     NaN   \n",
       "13          0.0         Jul-2003             2.0                     NaN   \n",
       "14          0.0         May-1991             2.0                     NaN   \n",
       "15          0.0         Sep-2007             1.0                     NaN   \n",
       "16          0.0         Oct-1998             2.0                    61.0   \n",
       "17          0.0         Aug-1993             0.0                     NaN   \n",
       "18          2.0         Oct-2003             0.0                     8.0   \n",
       "19          0.0         Jan-2001             0.0                     NaN   \n",
       "\n",
       "    mths_since_last_record  open_acc  pub_rec  revol_bal  revol_util  \\\n",
       "0                      NaN       3.0      0.0    13648.0       83.70   \n",
       "1                      NaN       3.0      0.0     1687.0        9.40   \n",
       "2                      NaN       2.0      0.0     2956.0       98.50   \n",
       "3                      NaN      10.0      0.0     5598.0       21.00   \n",
       "4                      NaN      15.0      0.0    27783.0       53.90   \n",
       "5                      NaN       9.0      0.0     7963.0       28.30   \n",
       "6                      NaN       7.0      0.0    17726.0       85.60   \n",
       "7                      NaN       4.0      0.0     8221.0       87.50   \n",
       "8                      NaN      11.0      0.0     5210.0       32.60   \n",
       "9                      NaN       2.0      0.0     9279.0       36.50   \n",
       "10                     NaN      14.0      0.0     4032.0       20.60   \n",
       "11                     NaN      12.0      0.0    23336.0       67.10   \n",
       "12                     NaN       4.0      0.0    10452.0       91.70   \n",
       "13                     NaN      11.0      0.0     7323.0       43.10   \n",
       "14                     NaN      14.0      0.0    11997.0       55.50   \n",
       "15                     NaN      11.0      0.0     6524.0       81.50   \n",
       "16                     NaN      14.0      0.0    24043.0       70.20   \n",
       "17                     NaN      20.0      0.0    22836.0       16.00   \n",
       "18                     NaN       4.0      0.0        0.0       37.73   \n",
       "19                     NaN       8.0      0.0     7314.0       23.10   \n",
       "\n",
       "    total_acc initial_list_status  out_prncp  out_prncp_inv   total_pymnt  \\\n",
       "0         9.0                   f       0.00           0.00   5861.071414   \n",
       "1         4.0                   f       0.00           0.00   1008.710000   \n",
       "2        10.0                   f       0.00           0.00   3003.653644   \n",
       "3        37.0                   f       0.00           0.00  12226.302212   \n",
       "4        38.0                   f     766.90         766.90   3242.170000   \n",
       "5        12.0                   f       0.00           0.00   5631.377753   \n",
       "6        11.0                   f    1889.15        1889.15   8136.840000   \n",
       "7         4.0                   f       0.00           0.00   3938.144334   \n",
       "8        13.0                   f       0.00           0.00    646.020000   \n",
       "9         3.0                   f       0.00           0.00   1476.190000   \n",
       "10       23.0                   f       0.00           0.00   7677.520000   \n",
       "11       34.0                   f       0.00           0.00  13943.080000   \n",
       "12        9.0                   f       0.00           0.00   2270.700000   \n",
       "13       11.0                   f       0.00           0.00   3478.981915   \n",
       "14       29.0                   f       0.00           0.00   7471.990000   \n",
       "15       23.0                   f       0.00           0.00   1270.171106   \n",
       "16       28.0                   f       0.00           0.00  12519.260450   \n",
       "17       42.0                   f       0.00           0.00   3785.020000   \n",
       "18       14.0                   f       0.00           0.00   7164.499852   \n",
       "19       28.0                   f       0.00           0.00   9459.960000   \n",
       "\n",
       "    total_pymnt_inv  total_rec_prncp  total_rec_int  total_rec_late_fee  \\\n",
       "0           5831.78          5000.00         861.07                0.00   \n",
       "1           1008.71           456.46         435.17                0.00   \n",
       "2           3003.65          2400.00         603.65                0.00   \n",
       "3          12226.30         10000.00        2209.33               16.97   \n",
       "4           3242.17          2233.10        1009.07                0.00   \n",
       "5           5631.38          5000.00         631.38                0.00   \n",
       "6           8136.84          5110.85        3025.99                0.00   \n",
       "7           3938.14          3000.00         938.14                0.00   \n",
       "8            646.02           162.02         294.94                0.00   \n",
       "9           1469.34           673.48         533.42                0.00   \n",
       "10          7677.52          6500.00        1177.52                0.00   \n",
       "11         13943.08         12000.00        1943.08                0.00   \n",
       "12          2270.70          1256.14         570.26                0.00   \n",
       "13          3478.98          3000.00         478.98                0.00   \n",
       "14          7471.99          5433.47        1393.42                0.00   \n",
       "15          1270.17          1000.00         270.17                0.00   \n",
       "16         12519.26         10000.00        2519.26                0.00   \n",
       "17          3785.02          3600.00         185.02                0.00   \n",
       "18          7164.50          6000.00        1149.50               15.00   \n",
       "19          9459.96          9200.00         259.96                0.00   \n",
       "\n",
       "    recoveries  collection_recovery_fee last_pymnt_d  last_pymnt_amnt  \\\n",
       "0         0.00                   0.0000     Jan-2015           171.62   \n",
       "1       117.08                   1.1100     Apr-2013           119.66   \n",
       "2         0.00                   0.0000     Jun-2014           649.91   \n",
       "3         0.00                   0.0000     Jan-2015           357.48   \n",
       "4         0.00                   0.0000     Jan-2016            67.79   \n",
       "5         0.00                   0.0000     Jan-2015           161.03   \n",
       "6         0.00                   0.0000     Jan-2016           170.08   \n",
       "7         0.00                   0.0000     Jan-2015           111.34   \n",
       "8       189.06                   2.0900     Apr-2012           152.39   \n",
       "9       269.29                   2.5200     Nov-2012           121.45   \n",
       "10        0.00                   0.0000     Jun-2013          1655.54   \n",
       "11        0.00                   0.0000     Sep-2013          6315.30   \n",
       "12      444.30                   4.1600     Jul-2012           305.38   \n",
       "13        0.00                   0.0000     Jan-2015           102.43   \n",
       "14      645.10                   6.3145     Oct-2013           325.74   \n",
       "15        0.00                   0.0000     Jan-2015            36.32   \n",
       "16        0.00                   0.0000     Jan-2015           370.46   \n",
       "17        0.00                   0.0000     May-2013           583.45   \n",
       "18        0.00                   0.0000     Feb-2015            16.98   \n",
       "19        0.00                   0.0000     Jul-2012          8061.10   \n",
       "\n",
       "   next_pymnt_d last_credit_pull_d  collections_12_mths_ex_med  \\\n",
       "0           NaN           Jan-2016                         0.0   \n",
       "1           NaN           Sep-2013                         0.0   \n",
       "2           NaN           Jan-2016                         0.0   \n",
       "3           NaN           Jan-2015                         0.0   \n",
       "4      Feb-2016           Jan-2016                         0.0   \n",
       "5           NaN           Sep-2015                         0.0   \n",
       "6      Feb-2016           Jan-2016                         0.0   \n",
       "7           NaN           Dec-2014                         0.0   \n",
       "8           NaN           Aug-2012                         0.0   \n",
       "9           NaN           Mar-2013                         0.0   \n",
       "10          NaN           Dec-2015                         0.0   \n",
       "11          NaN           Aug-2013                         0.0   \n",
       "12          NaN           Nov-2012                         0.0   \n",
       "13          NaN           Jan-2016                         0.0   \n",
       "14          NaN           Mar-2014                         0.0   \n",
       "15          NaN           Jan-2016                         0.0   \n",
       "16          NaN           Apr-2015                         0.0   \n",
       "17          NaN           May-2014                         0.0   \n",
       "18          NaN           Jul-2015                         0.0   \n",
       "19          NaN           Jul-2012                         0.0   \n",
       "\n",
       "    mths_since_last_major_derog  policy_code application_type  \\\n",
       "0                           NaN          1.0       INDIVIDUAL   \n",
       "1                           NaN          1.0       INDIVIDUAL   \n",
       "2                           NaN          1.0       INDIVIDUAL   \n",
       "3                           NaN          1.0       INDIVIDUAL   \n",
       "4                           NaN          1.0       INDIVIDUAL   \n",
       "5                           NaN          1.0       INDIVIDUAL   \n",
       "6                           NaN          1.0       INDIVIDUAL   \n",
       "7                           NaN          1.0       INDIVIDUAL   \n",
       "8                           NaN          1.0       INDIVIDUAL   \n",
       "9                           NaN          1.0       INDIVIDUAL   \n",
       "10                          NaN          1.0       INDIVIDUAL   \n",
       "11                          NaN          1.0       INDIVIDUAL   \n",
       "12                          NaN          1.0       INDIVIDUAL   \n",
       "13                          NaN          1.0       INDIVIDUAL   \n",
       "14                          NaN          1.0       INDIVIDUAL   \n",
       "15                          NaN          1.0       INDIVIDUAL   \n",
       "16                          NaN          1.0       INDIVIDUAL   \n",
       "17                          NaN          1.0       INDIVIDUAL   \n",
       "18                          NaN          1.0       INDIVIDUAL   \n",
       "19                          NaN          1.0       INDIVIDUAL   \n",
       "\n",
       "    annual_inc_joint  dti_joint verification_status_joint  acc_now_delinq  \\\n",
       "0                NaN        NaN                       NaN             0.0   \n",
       "1                NaN        NaN                       NaN             0.0   \n",
       "2                NaN        NaN                       NaN             0.0   \n",
       "3                NaN        NaN                       NaN             0.0   \n",
       "4                NaN        NaN                       NaN             0.0   \n",
       "5                NaN        NaN                       NaN             0.0   \n",
       "6                NaN        NaN                       NaN             0.0   \n",
       "7                NaN        NaN                       NaN             0.0   \n",
       "8                NaN        NaN                       NaN             0.0   \n",
       "9                NaN        NaN                       NaN             0.0   \n",
       "10               NaN        NaN                       NaN             0.0   \n",
       "11               NaN        NaN                       NaN             0.0   \n",
       "12               NaN        NaN                       NaN             0.0   \n",
       "13               NaN        NaN                       NaN             0.0   \n",
       "14               NaN        NaN                       NaN             0.0   \n",
       "15               NaN        NaN                       NaN             0.0   \n",
       "16               NaN        NaN                       NaN             0.0   \n",
       "17               NaN        NaN                       NaN             0.0   \n",
       "18               NaN        NaN                       NaN             0.0   \n",
       "19               NaN        NaN                       NaN             0.0   \n",
       "\n",
       "    tot_coll_amt  tot_cur_bal  open_acc_6m  open_il_6m  open_il_12m  \\\n",
       "0            NaN          NaN          NaN         NaN          NaN   \n",
       "1            NaN          NaN          NaN         NaN          NaN   \n",
       "2            NaN          NaN          NaN         NaN          NaN   \n",
       "3            NaN          NaN          NaN         NaN          NaN   \n",
       "4            NaN          NaN          NaN         NaN          NaN   \n",
       "5            NaN          NaN          NaN         NaN          NaN   \n",
       "6            NaN          NaN          NaN         NaN          NaN   \n",
       "7            NaN          NaN          NaN         NaN          NaN   \n",
       "8            NaN          NaN          NaN         NaN          NaN   \n",
       "9            NaN          NaN          NaN         NaN          NaN   \n",
       "10           NaN          NaN          NaN         NaN          NaN   \n",
       "11           NaN          NaN          NaN         NaN          NaN   \n",
       "12           NaN          NaN          NaN         NaN          NaN   \n",
       "13           NaN          NaN          NaN         NaN          NaN   \n",
       "14           NaN          NaN          NaN         NaN          NaN   \n",
       "15           NaN          NaN          NaN         NaN          NaN   \n",
       "16           NaN          NaN          NaN         NaN          NaN   \n",
       "17           NaN          NaN          NaN         NaN          NaN   \n",
       "18           NaN          NaN          NaN         NaN          NaN   \n",
       "19           NaN          NaN          NaN         NaN          NaN   \n",
       "\n",
       "    open_il_24m  mths_since_rcnt_il  total_bal_il  il_util  open_rv_12m  \\\n",
       "0           NaN                 NaN           NaN      NaN          NaN   \n",
       "1           NaN                 NaN           NaN      NaN          NaN   \n",
       "2           NaN                 NaN           NaN      NaN          NaN   \n",
       "3           NaN                 NaN           NaN      NaN          NaN   \n",
       "4           NaN                 NaN           NaN      NaN          NaN   \n",
       "5           NaN                 NaN           NaN      NaN          NaN   \n",
       "6           NaN                 NaN           NaN      NaN          NaN   \n",
       "7           NaN                 NaN           NaN      NaN          NaN   \n",
       "8           NaN                 NaN           NaN      NaN          NaN   \n",
       "9           NaN                 NaN           NaN      NaN          NaN   \n",
       "10          NaN                 NaN           NaN      NaN          NaN   \n",
       "11          NaN                 NaN           NaN      NaN          NaN   \n",
       "12          NaN                 NaN           NaN      NaN          NaN   \n",
       "13          NaN                 NaN           NaN      NaN          NaN   \n",
       "14          NaN                 NaN           NaN      NaN          NaN   \n",
       "15          NaN                 NaN           NaN      NaN          NaN   \n",
       "16          NaN                 NaN           NaN      NaN          NaN   \n",
       "17          NaN                 NaN           NaN      NaN          NaN   \n",
       "18          NaN                 NaN           NaN      NaN          NaN   \n",
       "19          NaN                 NaN           NaN      NaN          NaN   \n",
       "\n",
       "    open_rv_24m  max_bal_bc  all_util  total_rev_hi_lim  inq_fi  total_cu_tl  \\\n",
       "0           NaN         NaN       NaN               NaN     NaN          NaN   \n",
       "1           NaN         NaN       NaN               NaN     NaN          NaN   \n",
       "2           NaN         NaN       NaN               NaN     NaN          NaN   \n",
       "3           NaN         NaN       NaN               NaN     NaN          NaN   \n",
       "4           NaN         NaN       NaN               NaN     NaN          NaN   \n",
       "5           NaN         NaN       NaN               NaN     NaN          NaN   \n",
       "6           NaN         NaN       NaN               NaN     NaN          NaN   \n",
       "7           NaN         NaN       NaN               NaN     NaN          NaN   \n",
       "8           NaN         NaN       NaN               NaN     NaN          NaN   \n",
       "9           NaN         NaN       NaN               NaN     NaN          NaN   \n",
       "10          NaN         NaN       NaN               NaN     NaN          NaN   \n",
       "11          NaN         NaN       NaN               NaN     NaN          NaN   \n",
       "12          NaN         NaN       NaN               NaN     NaN          NaN   \n",
       "13          NaN         NaN       NaN               NaN     NaN          NaN   \n",
       "14          NaN         NaN       NaN               NaN     NaN          NaN   \n",
       "15          NaN         NaN       NaN               NaN     NaN          NaN   \n",
       "16          NaN         NaN       NaN               NaN     NaN          NaN   \n",
       "17          NaN         NaN       NaN               NaN     NaN          NaN   \n",
       "18          NaN         NaN       NaN               NaN     NaN          NaN   \n",
       "19          NaN         NaN       NaN               NaN     NaN          NaN   \n",
       "\n",
       "    inq_last_12m  \n",
       "0            NaN  \n",
       "1            NaN  \n",
       "2            NaN  \n",
       "3            NaN  \n",
       "4            NaN  \n",
       "5            NaN  \n",
       "6            NaN  \n",
       "7            NaN  \n",
       "8            NaN  \n",
       "9            NaN  \n",
       "10           NaN  \n",
       "11           NaN  \n",
       "12           NaN  \n",
       "13           NaN  \n",
       "14           NaN  \n",
       "15           NaN  \n",
       "16           NaN  \n",
       "17           NaN  \n",
       "18           NaN  \n",
       "19           NaN  "
      ]
     },
     "execution_count": 6,
     "metadata": {},
     "output_type": "execute_result"
    }
   ],
   "source": [
    "df_loan.head(20)"
   ]
  },
  {
   "cell_type": "code",
   "execution_count": 7,
   "metadata": {
    "ExecuteTime": {
     "end_time": "2021-06-04T14:39:54.016424Z",
     "start_time": "2021-06-04T14:39:49.981491Z"
    }
   },
   "outputs": [],
   "source": [
    "# Compulsory drop of ID type of Features\n",
    "# 1) ID type features simply act as row identifiers when data get built into the database\n",
    "# 2) ID can falsely become the best predictor when it ideally should not be a driving factor for the outcome\n",
    "df_loan=df_loan.drop(['id','member_id','url','title', 'addr_state', 'zip_code', 'desc','emp_title'],axis=1)"
   ]
  },
  {
   "cell_type": "code",
   "execution_count": 8,
   "metadata": {
    "ExecuteTime": {
     "end_time": "2021-06-04T14:39:54.032485Z",
     "start_time": "2021-06-04T14:39:54.027398Z"
    },
    "scrolled": false
   },
   "outputs": [],
   "source": [
    "#pd.set_option('max_columns',None)\n",
    "#df_loan.head()"
   ]
  },
  {
   "cell_type": "code",
   "execution_count": 9,
   "metadata": {
    "ExecuteTime": {
     "end_time": "2021-06-04T14:39:54.093330Z",
     "start_time": "2021-06-04T14:39:54.037390Z"
    },
    "scrolled": true
   },
   "outputs": [
    {
     "data": {
      "text/plain": [
       "loan_amnt           float64\n",
       "funded_amnt         float64\n",
       "funded_amnt_inv     float64\n",
       "term                 object\n",
       "int_rate            float64\n",
       "                     ...   \n",
       "all_util            float64\n",
       "total_rev_hi_lim    float64\n",
       "inq_fi              float64\n",
       "total_cu_tl         float64\n",
       "inq_last_12m        float64\n",
       "Length: 66, dtype: object"
      ]
     },
     "execution_count": 9,
     "metadata": {},
     "output_type": "execute_result"
    }
   ],
   "source": [
    "df_loan.dtypes"
   ]
  },
  {
   "cell_type": "code",
   "execution_count": 10,
   "metadata": {
    "ExecuteTime": {
     "end_time": "2021-06-04T14:39:54.108714Z",
     "start_time": "2021-06-04T14:39:54.098366Z"
    }
   },
   "outputs": [],
   "source": [
    "# Creating a Frequency Table in Pandas for each categorical\n",
    "# dataframe['categorical feature'].value_counts()  --- value_counts() function will show you which all values the categorical \n",
    "# feature will take and also how many observations are there for each of them"
   ]
  },
  {
   "cell_type": "code",
   "execution_count": 11,
   "metadata": {
    "ExecuteTime": {
     "end_time": "2021-06-04T14:39:54.319508Z",
     "start_time": "2021-06-04T14:39:54.112818Z"
    },
    "scrolled": true
   },
   "outputs": [
    {
     "data": {
      "text/plain": [
       "Current                                                601779\n",
       "Fully Paid                                             207723\n",
       "Charged Off                                             45248\n",
       "Late (31-120 days)                                      11591\n",
       "Issued                                                   8460\n",
       "In Grace Period                                          6253\n",
       "Late (16-30 days)                                        2357\n",
       "Does not meet the credit policy. Status:Fully Paid       1988\n",
       "Default                                                  1219\n",
       "Does not meet the credit policy. Status:Charged Off       761\n",
       "Name: loan_status, dtype: int64"
      ]
     },
     "execution_count": 11,
     "metadata": {},
     "output_type": "execute_result"
    }
   ],
   "source": [
    "#Analyzing loan_status variable for getting a better understanding of the categories and the counts\n",
    "df_loan['loan_status'].value_counts()"
   ]
  },
  {
   "cell_type": "code",
   "execution_count": 12,
   "metadata": {
    "ExecuteTime": {
     "end_time": "2021-06-04T14:39:54.334377Z",
     "start_time": "2021-06-04T14:39:54.325403Z"
    }
   },
   "outputs": [],
   "source": [
    "# Define the Dependent Variable "
   ]
  },
  {
   "cell_type": "code",
   "execution_count": 13,
   "metadata": {
    "ExecuteTime": {
     "end_time": "2021-06-04T14:39:54.411286Z",
     "start_time": "2021-06-04T14:39:54.337370Z"
    }
   },
   "outputs": [],
   "source": [
    "\n",
    "df_loan['target']=np.where(df_loan['loan_status'].isin(['Default','Charged Off','Does not meet the credit policy. Status:Charged Off']),1,0)\n"
   ]
  },
  {
   "cell_type": "code",
   "execution_count": 14,
   "metadata": {
    "ExecuteTime": {
     "end_time": "2021-06-04T14:39:56.632268Z",
     "start_time": "2021-06-04T14:39:54.416553Z"
    }
   },
   "outputs": [],
   "source": [
    "# Drop the loan_status variable\n",
    "df_loan=df_loan.drop(['loan_status'],axis=1)"
   ]
  },
  {
   "cell_type": "code",
   "execution_count": 15,
   "metadata": {
    "ExecuteTime": {
     "end_time": "2021-06-04T14:39:56.648336Z",
     "start_time": "2021-06-04T14:39:56.635235Z"
    }
   },
   "outputs": [],
   "source": [
    "# Calculate the default rate or event rate in the data"
   ]
  },
  {
   "cell_type": "code",
   "execution_count": 16,
   "metadata": {
    "ExecuteTime": {
     "end_time": "2021-06-04T14:39:56.679149Z",
     "start_time": "2021-06-04T14:39:56.653237Z"
    }
   },
   "outputs": [
    {
     "data": {
      "text/plain": [
       "0.053221904056778443"
      ]
     },
     "execution_count": 16,
     "metadata": {},
     "output_type": "execute_result"
    }
   ],
   "source": [
    "df_loan['target'].mean()"
   ]
  },
  {
   "cell_type": "code",
   "execution_count": 17,
   "metadata": {
    "ExecuteTime": {
     "end_time": "2021-06-04T14:39:56.695182Z",
     "start_time": "2021-06-04T14:39:56.684139Z"
    }
   },
   "outputs": [
    {
     "data": {
      "text/plain": [
       "(887379, 66)"
      ]
     },
     "execution_count": 17,
     "metadata": {},
     "output_type": "execute_result"
    }
   ],
   "source": [
    "df_loan.shape"
   ]
  },
  {
   "cell_type": "code",
   "execution_count": 18,
   "metadata": {
    "ExecuteTime": {
     "end_time": "2021-06-04T14:39:56.710613Z",
     "start_time": "2021-06-04T14:39:56.699170Z"
    }
   },
   "outputs": [],
   "source": [
    "# Missing Value Analysis"
   ]
  },
  {
   "cell_type": "code",
   "execution_count": 19,
   "metadata": {
    "ExecuteTime": {
     "end_time": "2021-06-04T14:39:58.676326Z",
     "start_time": "2021-06-04T14:39:56.714847Z"
    }
   },
   "outputs": [
    {
     "data": {
      "text/plain": [
       "loan_amnt           0.000000\n",
       "funded_amnt         0.000000\n",
       "funded_amnt_inv     0.000000\n",
       "term                0.000000\n",
       "int_rate            0.000000\n",
       "                      ...   \n",
       "total_rev_hi_lim    0.079195\n",
       "inq_fi              0.975916\n",
       "total_cu_tl         0.975916\n",
       "inq_last_12m        0.975916\n",
       "target              0.000000\n",
       "Length: 66, dtype: float64"
      ]
     },
     "execution_count": 19,
     "metadata": {},
     "output_type": "execute_result"
    }
   ],
   "source": [
    "df_loan.isnull().mean()"
   ]
  },
  {
   "cell_type": "code",
   "execution_count": 20,
   "metadata": {
    "ExecuteTime": {
     "end_time": "2021-06-04T14:39:58.691323Z",
     "start_time": "2021-06-04T14:39:58.679491Z"
    }
   },
   "outputs": [],
   "source": [
    "#data['open_acc_6m_Rank']=pd.qcut(data['open_acc_6m'].rank(method='first').values,10,duplicates='drop').codes+1"
   ]
  },
  {
   "cell_type": "code",
   "execution_count": 21,
   "metadata": {
    "ExecuteTime": {
     "end_time": "2021-06-04T14:40:01.103865Z",
     "start_time": "2021-06-04T14:39:58.701793Z"
    }
   },
   "outputs": [],
   "source": [
    "# Selecting all rows and only those columns where the missing value percentage is <=25%\n",
    "data=df_loan.loc[:,df_loan.isnull().mean()<=0.25]"
   ]
  },
  {
   "cell_type": "code",
   "execution_count": 22,
   "metadata": {
    "ExecuteTime": {
     "end_time": "2021-06-04T14:40:01.135084Z",
     "start_time": "2021-06-04T14:40:01.111176Z"
    }
   },
   "outputs": [
    {
     "data": {
      "text/plain": [
       "(887379, 45)"
      ]
     },
     "execution_count": 22,
     "metadata": {},
     "output_type": "execute_result"
    }
   ],
   "source": [
    "data.shape"
   ]
  },
  {
   "cell_type": "code",
   "execution_count": 23,
   "metadata": {
    "ExecuteTime": {
     "end_time": "2021-06-04T14:40:01.182125Z",
     "start_time": "2021-06-04T14:40:01.163146Z"
    }
   },
   "outputs": [],
   "source": [
    "# 19 Features dropped Due to more than 25% Missing Values"
   ]
  },
  {
   "cell_type": "code",
   "execution_count": 24,
   "metadata": {
    "ExecuteTime": {
     "end_time": "2021-06-04T14:40:02.275250Z",
     "start_time": "2021-06-04T14:40:01.192552Z"
    }
   },
   "outputs": [],
   "source": [
    "# Creating a dataset with only dependent and independent\n",
    "Y=data[['target']]\n",
    "X=data.drop(['target'],axis=1)"
   ]
  },
  {
   "cell_type": "code",
   "execution_count": 25,
   "metadata": {
    "ExecuteTime": {
     "end_time": "2021-06-04T14:40:02.306189Z",
     "start_time": "2021-06-04T14:40:02.280238Z"
    }
   },
   "outputs": [
    {
     "data": {
      "text/plain": [
       "loan_amnt                     float64\n",
       "funded_amnt                   float64\n",
       "funded_amnt_inv               float64\n",
       "term                           object\n",
       "int_rate                      float64\n",
       "installment                   float64\n",
       "grade                          object\n",
       "sub_grade                      object\n",
       "emp_length                     object\n",
       "home_ownership                 object\n",
       "annual_inc                    float64\n",
       "verification_status            object\n",
       "issue_d                        object\n",
       "pymnt_plan                     object\n",
       "purpose                        object\n",
       "dti                           float64\n",
       "delinq_2yrs                   float64\n",
       "earliest_cr_line               object\n",
       "inq_last_6mths                float64\n",
       "open_acc                      float64\n",
       "pub_rec                       float64\n",
       "revol_bal                     float64\n",
       "revol_util                    float64\n",
       "total_acc                     float64\n",
       "initial_list_status            object\n",
       "out_prncp                     float64\n",
       "out_prncp_inv                 float64\n",
       "total_pymnt                   float64\n",
       "total_pymnt_inv               float64\n",
       "total_rec_prncp               float64\n",
       "total_rec_int                 float64\n",
       "total_rec_late_fee            float64\n",
       "recoveries                    float64\n",
       "collection_recovery_fee       float64\n",
       "last_pymnt_d                   object\n",
       "last_pymnt_amnt               float64\n",
       "last_credit_pull_d             object\n",
       "collections_12_mths_ex_med    float64\n",
       "policy_code                   float64\n",
       "application_type               object\n",
       "acc_now_delinq                float64\n",
       "tot_coll_amt                  float64\n",
       "tot_cur_bal                   float64\n",
       "total_rev_hi_lim              float64\n",
       "dtype: object"
      ]
     },
     "execution_count": 25,
     "metadata": {},
     "output_type": "execute_result"
    }
   ],
   "source": [
    "X.dtypes"
   ]
  },
  {
   "cell_type": "code",
   "execution_count": 26,
   "metadata": {
    "ExecuteTime": {
     "end_time": "2021-06-04T14:40:05.500321Z",
     "start_time": "2021-06-04T14:40:02.315666Z"
    }
   },
   "outputs": [],
   "source": [
    "char=X.select_dtypes(include='object')\n",
    "num=X.select_dtypes(include='number')"
   ]
  },
  {
   "cell_type": "code",
   "execution_count": 27,
   "metadata": {
    "ExecuteTime": {
     "end_time": "2021-06-04T14:40:05.515142Z",
     "start_time": "2021-06-04T14:40:05.506091Z"
    }
   },
   "outputs": [
    {
     "data": {
      "text/plain": [
       "(887379, 14)"
      ]
     },
     "execution_count": 27,
     "metadata": {},
     "output_type": "execute_result"
    }
   ],
   "source": [
    "# We have 14 Categorical features\n",
    "char.shape"
   ]
  },
  {
   "cell_type": "code",
   "execution_count": 28,
   "metadata": {
    "ExecuteTime": {
     "end_time": "2021-06-04T14:40:05.545205Z",
     "start_time": "2021-06-04T14:40:05.519131Z"
    }
   },
   "outputs": [
    {
     "data": {
      "text/plain": [
       "(887379, 30)"
      ]
     },
     "execution_count": 28,
     "metadata": {},
     "output_type": "execute_result"
    }
   ],
   "source": [
    "# We have 30 numeric features\n",
    "num.shape"
   ]
  },
  {
   "cell_type": "code",
   "execution_count": 29,
   "metadata": {
    "ExecuteTime": {
     "end_time": "2021-06-04T14:40:05.747642Z",
     "start_time": "2021-06-04T14:40:05.548196Z"
    },
    "scrolled": false
   },
   "outputs": [
    {
     "data": {
      "text/plain": [
       "loan_amnt                     0.000000\n",
       "funded_amnt                   0.000000\n",
       "funded_amnt_inv               0.000000\n",
       "int_rate                      0.000000\n",
       "installment                   0.000000\n",
       "annual_inc                    0.000005\n",
       "dti                           0.000000\n",
       "delinq_2yrs                   0.000033\n",
       "inq_last_6mths                0.000033\n",
       "open_acc                      0.000033\n",
       "pub_rec                       0.000033\n",
       "revol_bal                     0.000000\n",
       "revol_util                    0.000566\n",
       "total_acc                     0.000033\n",
       "out_prncp                     0.000000\n",
       "out_prncp_inv                 0.000000\n",
       "total_pymnt                   0.000000\n",
       "total_pymnt_inv               0.000000\n",
       "total_rec_prncp               0.000000\n",
       "total_rec_int                 0.000000\n",
       "total_rec_late_fee            0.000000\n",
       "recoveries                    0.000000\n",
       "collection_recovery_fee       0.000000\n",
       "last_pymnt_amnt               0.000000\n",
       "collections_12_mths_ex_med    0.000163\n",
       "policy_code                   0.000000\n",
       "acc_now_delinq                0.000033\n",
       "tot_coll_amt                  0.079195\n",
       "tot_cur_bal                   0.079195\n",
       "total_rev_hi_lim              0.079195\n",
       "dtype: float64"
      ]
     },
     "execution_count": 29,
     "metadata": {},
     "output_type": "execute_result"
    }
   ],
   "source": [
    "num.isnull().mean()"
   ]
  },
  {
   "cell_type": "code",
   "execution_count": 30,
   "metadata": {
    "ExecuteTime": {
     "end_time": "2021-06-04T14:40:05.779257Z",
     "start_time": "2021-06-04T14:40:05.751577Z"
    }
   },
   "outputs": [],
   "source": [
    "def outlier_cap(x):\n",
    "    x=x.clip(lower=x.quantile(0.01))\n",
    "    x=x.clip(upper=x.quantile(0.99))\n",
    "    return(x)"
   ]
  },
  {
   "cell_type": "code",
   "execution_count": 31,
   "metadata": {
    "ExecuteTime": {
     "end_time": "2021-06-04T14:40:09.162549Z",
     "start_time": "2021-06-04T14:40:05.783212Z"
    }
   },
   "outputs": [],
   "source": [
    "num=num.apply(lambda x : outlier_cap(x))"
   ]
  },
  {
   "cell_type": "code",
   "execution_count": 32,
   "metadata": {
    "ExecuteTime": {
     "end_time": "2021-06-04T14:40:10.627374Z",
     "start_time": "2021-06-04T14:40:09.165545Z"
    },
    "scrolled": true
   },
   "outputs": [],
   "source": [
    "from sklearn.impute import SimpleImputer\n",
    "imputer = SimpleImputer(missing_values=np.nan, strategy='mean')\n",
    "num_1=pd.DataFrame(imputer.fit_transform(num),index=num.index,columns=num.columns)"
   ]
  },
  {
   "cell_type": "code",
   "execution_count": 33,
   "metadata": {
    "ExecuteTime": {
     "end_time": "2021-06-04T14:40:10.796416Z",
     "start_time": "2021-06-04T14:40:10.683255Z"
    },
    "scrolled": true
   },
   "outputs": [
    {
     "data": {
      "text/plain": [
       "loan_amnt                     0.0\n",
       "funded_amnt                   0.0\n",
       "funded_amnt_inv               0.0\n",
       "int_rate                      0.0\n",
       "installment                   0.0\n",
       "annual_inc                    0.0\n",
       "dti                           0.0\n",
       "delinq_2yrs                   0.0\n",
       "inq_last_6mths                0.0\n",
       "open_acc                      0.0\n",
       "pub_rec                       0.0\n",
       "revol_bal                     0.0\n",
       "revol_util                    0.0\n",
       "total_acc                     0.0\n",
       "out_prncp                     0.0\n",
       "out_prncp_inv                 0.0\n",
       "total_pymnt                   0.0\n",
       "total_pymnt_inv               0.0\n",
       "total_rec_prncp               0.0\n",
       "total_rec_int                 0.0\n",
       "total_rec_late_fee            0.0\n",
       "recoveries                    0.0\n",
       "collection_recovery_fee       0.0\n",
       "last_pymnt_amnt               0.0\n",
       "collections_12_mths_ex_med    0.0\n",
       "policy_code                   0.0\n",
       "acc_now_delinq                0.0\n",
       "tot_coll_amt                  0.0\n",
       "tot_cur_bal                   0.0\n",
       "total_rev_hi_lim              0.0\n",
       "dtype: float64"
      ]
     },
     "execution_count": 33,
     "metadata": {},
     "output_type": "execute_result"
    }
   ],
   "source": [
    "num_1.isnull().mean()"
   ]
  },
  {
   "cell_type": "markdown",
   "metadata": {},
   "source": [
    "# Replace the missing valus in Categorical using the Mode or the Most Frequent Strategy\n",
    "from sklearn.impute import SimpleImputer\n",
    "imputer=SimpleImputer(missing_values=np.nan, strategy='most_frequent')\n",
    "char_1=pd.DataFrame(imputer.fit_transform(char),index=char.index,columns=char.columns)"
   ]
  },
  {
   "cell_type": "code",
   "execution_count": 34,
   "metadata": {
    "ExecuteTime": {
     "end_time": "2021-06-04T14:40:11.883599Z",
     "start_time": "2021-06-04T14:40:10.799421Z"
    }
   },
   "outputs": [],
   "source": [
    "char_1=char.fillna(0)"
   ]
  },
  {
   "cell_type": "code",
   "execution_count": 35,
   "metadata": {
    "ExecuteTime": {
     "end_time": "2021-06-04T14:40:13.326160Z",
     "start_time": "2021-06-04T14:40:11.890486Z"
    },
    "scrolled": false
   },
   "outputs": [
    {
     "data": {
      "text/plain": [
       "term                   0.0\n",
       "grade                  0.0\n",
       "sub_grade              0.0\n",
       "emp_length             0.0\n",
       "home_ownership         0.0\n",
       "verification_status    0.0\n",
       "issue_d                0.0\n",
       "pymnt_plan             0.0\n",
       "purpose                0.0\n",
       "earliest_cr_line       0.0\n",
       "initial_list_status    0.0\n",
       "last_pymnt_d           0.0\n",
       "last_credit_pull_d     0.0\n",
       "application_type       0.0\n",
       "dtype: float64"
      ]
     },
     "execution_count": 35,
     "metadata": {},
     "output_type": "execute_result"
    }
   ],
   "source": [
    "char_1.isnull().mean()"
   ]
  },
  {
   "cell_type": "code",
   "execution_count": 36,
   "metadata": {
    "ExecuteTime": {
     "end_time": "2021-06-04T14:40:13.525526Z",
     "start_time": "2021-06-04T14:40:13.330518Z"
    }
   },
   "outputs": [],
   "source": [
    "# To avoid discrimation an enable fair lending, we are not using any title variables are risk identifier factors\n",
    "char_1=char_1.drop(['issue_d','last_credit_pull_d','earliest_cr_line','last_pymnt_d'],axis=1)"
   ]
  },
  {
   "cell_type": "code",
   "execution_count": 37,
   "metadata": {
    "ExecuteTime": {
     "end_time": "2021-06-04T14:40:13.541289Z",
     "start_time": "2021-06-04T14:40:13.532316Z"
    }
   },
   "outputs": [],
   "source": [
    "# 10 Categorical Features droppping based on Fair Lending Considerations"
   ]
  },
  {
   "cell_type": "code",
   "execution_count": 38,
   "metadata": {
    "ExecuteTime": {
     "end_time": "2021-06-04T14:40:13.572611Z",
     "start_time": "2021-06-04T14:40:13.547825Z"
    }
   },
   "outputs": [],
   "source": [
    "# Joining back the target  variable and exporting the pivot table for a BiVariate Analysis\n",
    "#categorical_variable_chk=pd.concat([Y,char_1],axis=1,join='inner')\n",
    "#categorical_variable_chk.to_csv('C:/Users/aksin52/Documents/My Webinars/Credit Risk Datasets and Projects/Lending Data and Project/lending-club-loan-data/categorical_data_chk.csv')"
   ]
  },
  {
   "cell_type": "code",
   "execution_count": 39,
   "metadata": {
    "ExecuteTime": {
     "end_time": "2021-06-04T14:40:16.318692Z",
     "start_time": "2021-06-04T14:40:13.579592Z"
    }
   },
   "outputs": [
    {
     "data": {
      "text/html": [
       "<div>\n",
       "<style scoped>\n",
       "    .dataframe tbody tr th:only-of-type {\n",
       "        vertical-align: middle;\n",
       "    }\n",
       "\n",
       "    .dataframe tbody tr th {\n",
       "        vertical-align: top;\n",
       "    }\n",
       "\n",
       "    .dataframe thead th {\n",
       "        text-align: right;\n",
       "    }\n",
       "</style>\n",
       "<table border=\"1\" class=\"dataframe\">\n",
       "  <thead>\n",
       "    <tr style=\"text-align: right;\">\n",
       "      <th></th>\n",
       "      <th>loan_amnt_Rank</th>\n",
       "      <th>funded_amnt_Rank</th>\n",
       "      <th>funded_amnt_inv_Rank</th>\n",
       "      <th>int_rate_Rank</th>\n",
       "      <th>installment_Rank</th>\n",
       "      <th>annual_inc_Rank</th>\n",
       "      <th>dti_Rank</th>\n",
       "      <th>delinq_2yrs_Rank</th>\n",
       "      <th>inq_last_6mths_Rank</th>\n",
       "      <th>open_acc_Rank</th>\n",
       "      <th>pub_rec_Rank</th>\n",
       "      <th>revol_bal_Rank</th>\n",
       "      <th>revol_util_Rank</th>\n",
       "      <th>total_acc_Rank</th>\n",
       "      <th>out_prncp_Rank</th>\n",
       "      <th>out_prncp_inv_Rank</th>\n",
       "      <th>total_pymnt_Rank</th>\n",
       "      <th>total_pymnt_inv_Rank</th>\n",
       "      <th>total_rec_prncp_Rank</th>\n",
       "      <th>total_rec_int_Rank</th>\n",
       "      <th>total_rec_late_fee_Rank</th>\n",
       "      <th>recoveries_Rank</th>\n",
       "      <th>collection_recovery_fee_Rank</th>\n",
       "      <th>last_pymnt_amnt_Rank</th>\n",
       "      <th>collections_12_mths_ex_med_Rank</th>\n",
       "      <th>policy_code_Rank</th>\n",
       "      <th>acc_now_delinq_Rank</th>\n",
       "      <th>tot_coll_amt_Rank</th>\n",
       "      <th>tot_cur_bal_Rank</th>\n",
       "      <th>total_rev_hi_lim_Rank</th>\n",
       "    </tr>\n",
       "  </thead>\n",
       "  <tbody>\n",
       "    <tr>\n",
       "      <th>0</th>\n",
       "      <td>1.0</td>\n",
       "      <td>1.0</td>\n",
       "      <td>0.0</td>\n",
       "      <td>2.0</td>\n",
       "      <td>0.0</td>\n",
       "      <td>0.0</td>\n",
       "      <td>8.0</td>\n",
       "      <td>0.0</td>\n",
       "      <td>1.0</td>\n",
       "      <td>0.0</td>\n",
       "      <td>0.0</td>\n",
       "      <td>5.0</td>\n",
       "      <td>8.0</td>\n",
       "      <td>0.0</td>\n",
       "      <td>0.0</td>\n",
       "      <td>0.0</td>\n",
       "      <td>5.0</td>\n",
       "      <td>5.0</td>\n",
       "      <td>6.0</td>\n",
       "      <td>4.0</td>\n",
       "      <td>0.0</td>\n",
       "      <td>0.0</td>\n",
       "      <td>0.0</td>\n",
       "      <td>1.0</td>\n",
       "      <td>0.0</td>\n",
       "      <td>0.0</td>\n",
       "      <td>0.0</td>\n",
       "      <td>2.0</td>\n",
       "      <td>6.0</td>\n",
       "      <td>6.0</td>\n",
       "    </tr>\n",
       "    <tr>\n",
       "      <th>1</th>\n",
       "      <td>0.0</td>\n",
       "      <td>0.0</td>\n",
       "      <td>0.0</td>\n",
       "      <td>6.0</td>\n",
       "      <td>0.0</td>\n",
       "      <td>0.0</td>\n",
       "      <td>0.0</td>\n",
       "      <td>0.0</td>\n",
       "      <td>2.0</td>\n",
       "      <td>0.0</td>\n",
       "      <td>0.0</td>\n",
       "      <td>0.0</td>\n",
       "      <td>0.0</td>\n",
       "      <td>0.0</td>\n",
       "      <td>0.0</td>\n",
       "      <td>0.0</td>\n",
       "      <td>1.0</td>\n",
       "      <td>1.0</td>\n",
       "      <td>1.0</td>\n",
       "      <td>2.0</td>\n",
       "      <td>0.0</td>\n",
       "      <td>0.0</td>\n",
       "      <td>0.0</td>\n",
       "      <td>0.0</td>\n",
       "      <td>0.0</td>\n",
       "      <td>0.0</td>\n",
       "      <td>0.0</td>\n",
       "      <td>2.0</td>\n",
       "      <td>6.0</td>\n",
       "      <td>6.0</td>\n",
       "    </tr>\n",
       "    <tr>\n",
       "      <th>2</th>\n",
       "      <td>0.0</td>\n",
       "      <td>0.0</td>\n",
       "      <td>0.0</td>\n",
       "      <td>7.0</td>\n",
       "      <td>0.0</td>\n",
       "      <td>0.0</td>\n",
       "      <td>1.0</td>\n",
       "      <td>0.0</td>\n",
       "      <td>2.0</td>\n",
       "      <td>0.0</td>\n",
       "      <td>0.0</td>\n",
       "      <td>0.0</td>\n",
       "      <td>9.0</td>\n",
       "      <td>0.0</td>\n",
       "      <td>0.0</td>\n",
       "      <td>0.0</td>\n",
       "      <td>3.0</td>\n",
       "      <td>3.0</td>\n",
       "      <td>4.0</td>\n",
       "      <td>3.0</td>\n",
       "      <td>0.0</td>\n",
       "      <td>0.0</td>\n",
       "      <td>0.0</td>\n",
       "      <td>6.0</td>\n",
       "      <td>0.0</td>\n",
       "      <td>0.0</td>\n",
       "      <td>0.0</td>\n",
       "      <td>2.0</td>\n",
       "      <td>6.0</td>\n",
       "      <td>6.0</td>\n",
       "    </tr>\n",
       "    <tr>\n",
       "      <th>3</th>\n",
       "      <td>3.0</td>\n",
       "      <td>3.0</td>\n",
       "      <td>3.0</td>\n",
       "      <td>5.0</td>\n",
       "      <td>4.0</td>\n",
       "      <td>2.0</td>\n",
       "      <td>6.0</td>\n",
       "      <td>0.0</td>\n",
       "      <td>1.0</td>\n",
       "      <td>4.0</td>\n",
       "      <td>0.0</td>\n",
       "      <td>2.0</td>\n",
       "      <td>0.0</td>\n",
       "      <td>8.0</td>\n",
       "      <td>0.0</td>\n",
       "      <td>0.0</td>\n",
       "      <td>7.0</td>\n",
       "      <td>7.0</td>\n",
       "      <td>8.0</td>\n",
       "      <td>7.0</td>\n",
       "      <td>0.0</td>\n",
       "      <td>0.0</td>\n",
       "      <td>0.0</td>\n",
       "      <td>3.0</td>\n",
       "      <td>0.0</td>\n",
       "      <td>0.0</td>\n",
       "      <td>0.0</td>\n",
       "      <td>2.0</td>\n",
       "      <td>6.0</td>\n",
       "      <td>6.0</td>\n",
       "    </tr>\n",
       "    <tr>\n",
       "      <th>4</th>\n",
       "      <td>0.0</td>\n",
       "      <td>0.0</td>\n",
       "      <td>0.0</td>\n",
       "      <td>4.0</td>\n",
       "      <td>0.0</td>\n",
       "      <td>6.0</td>\n",
       "      <td>5.0</td>\n",
       "      <td>0.0</td>\n",
       "      <td>0.0</td>\n",
       "      <td>8.0</td>\n",
       "      <td>0.0</td>\n",
       "      <td>8.0</td>\n",
       "      <td>4.0</td>\n",
       "      <td>8.0</td>\n",
       "      <td>0.0</td>\n",
       "      <td>0.0</td>\n",
       "      <td>3.0</td>\n",
       "      <td>3.0</td>\n",
       "      <td>3.0</td>\n",
       "      <td>4.0</td>\n",
       "      <td>0.0</td>\n",
       "      <td>0.0</td>\n",
       "      <td>0.0</td>\n",
       "      <td>0.0</td>\n",
       "      <td>0.0</td>\n",
       "      <td>0.0</td>\n",
       "      <td>0.0</td>\n",
       "      <td>2.0</td>\n",
       "      <td>6.0</td>\n",
       "      <td>6.0</td>\n",
       "    </tr>\n",
       "    <tr>\n",
       "      <th>5</th>\n",
       "      <td>1.0</td>\n",
       "      <td>1.0</td>\n",
       "      <td>1.0</td>\n",
       "      <td>1.0</td>\n",
       "      <td>0.0</td>\n",
       "      <td>1.0</td>\n",
       "      <td>2.0</td>\n",
       "      <td>0.0</td>\n",
       "      <td>2.0</td>\n",
       "      <td>4.0</td>\n",
       "      <td>0.0</td>\n",
       "      <td>3.0</td>\n",
       "      <td>1.0</td>\n",
       "      <td>1.0</td>\n",
       "      <td>0.0</td>\n",
       "      <td>0.0</td>\n",
       "      <td>5.0</td>\n",
       "      <td>5.0</td>\n",
       "      <td>6.0</td>\n",
       "      <td>3.0</td>\n",
       "      <td>0.0</td>\n",
       "      <td>0.0</td>\n",
       "      <td>0.0</td>\n",
       "      <td>0.0</td>\n",
       "      <td>0.0</td>\n",
       "      <td>0.0</td>\n",
       "      <td>0.0</td>\n",
       "      <td>2.0</td>\n",
       "      <td>6.0</td>\n",
       "      <td>6.0</td>\n",
       "    </tr>\n",
       "    <tr>\n",
       "      <th>6</th>\n",
       "      <td>1.0</td>\n",
       "      <td>1.0</td>\n",
       "      <td>2.0</td>\n",
       "      <td>7.0</td>\n",
       "      <td>1.0</td>\n",
       "      <td>2.0</td>\n",
       "      <td>7.0</td>\n",
       "      <td>0.0</td>\n",
       "      <td>1.0</td>\n",
       "      <td>2.0</td>\n",
       "      <td>0.0</td>\n",
       "      <td>6.0</td>\n",
       "      <td>8.0</td>\n",
       "      <td>0.0</td>\n",
       "      <td>1.0</td>\n",
       "      <td>1.0</td>\n",
       "      <td>6.0</td>\n",
       "      <td>6.0</td>\n",
       "      <td>6.0</td>\n",
       "      <td>8.0</td>\n",
       "      <td>0.0</td>\n",
       "      <td>0.0</td>\n",
       "      <td>0.0</td>\n",
       "      <td>1.0</td>\n",
       "      <td>0.0</td>\n",
       "      <td>0.0</td>\n",
       "      <td>0.0</td>\n",
       "      <td>2.0</td>\n",
       "      <td>6.0</td>\n",
       "      <td>6.0</td>\n",
       "    </tr>\n",
       "    <tr>\n",
       "      <th>7</th>\n",
       "      <td>0.0</td>\n",
       "      <td>0.0</td>\n",
       "      <td>0.0</td>\n",
       "      <td>8.0</td>\n",
       "      <td>0.0</td>\n",
       "      <td>2.0</td>\n",
       "      <td>0.0</td>\n",
       "      <td>0.0</td>\n",
       "      <td>2.0</td>\n",
       "      <td>0.0</td>\n",
       "      <td>0.0</td>\n",
       "      <td>3.0</td>\n",
       "      <td>9.0</td>\n",
       "      <td>0.0</td>\n",
       "      <td>0.0</td>\n",
       "      <td>0.0</td>\n",
       "      <td>4.0</td>\n",
       "      <td>4.0</td>\n",
       "      <td>4.0</td>\n",
       "      <td>4.0</td>\n",
       "      <td>0.0</td>\n",
       "      <td>0.0</td>\n",
       "      <td>0.0</td>\n",
       "      <td>0.0</td>\n",
       "      <td>0.0</td>\n",
       "      <td>0.0</td>\n",
       "      <td>0.0</td>\n",
       "      <td>2.0</td>\n",
       "      <td>6.0</td>\n",
       "      <td>6.0</td>\n",
       "    </tr>\n",
       "    <tr>\n",
       "      <th>8</th>\n",
       "      <td>1.0</td>\n",
       "      <td>1.0</td>\n",
       "      <td>1.0</td>\n",
       "      <td>9.0</td>\n",
       "      <td>0.0</td>\n",
       "      <td>1.0</td>\n",
       "      <td>0.0</td>\n",
       "      <td>0.0</td>\n",
       "      <td>2.0</td>\n",
       "      <td>5.0</td>\n",
       "      <td>0.0</td>\n",
       "      <td>1.0</td>\n",
       "      <td>1.0</td>\n",
       "      <td>1.0</td>\n",
       "      <td>0.0</td>\n",
       "      <td>0.0</td>\n",
       "      <td>0.0</td>\n",
       "      <td>0.0</td>\n",
       "      <td>0.0</td>\n",
       "      <td>1.0</td>\n",
       "      <td>0.0</td>\n",
       "      <td>0.0</td>\n",
       "      <td>0.0</td>\n",
       "      <td>0.0</td>\n",
       "      <td>0.0</td>\n",
       "      <td>0.0</td>\n",
       "      <td>0.0</td>\n",
       "      <td>2.0</td>\n",
       "      <td>6.0</td>\n",
       "      <td>6.0</td>\n",
       "    </tr>\n",
       "    <tr>\n",
       "      <th>9</th>\n",
       "      <td>1.0</td>\n",
       "      <td>1.0</td>\n",
       "      <td>1.0</td>\n",
       "      <td>4.0</td>\n",
       "      <td>0.0</td>\n",
       "      <td>0.0</td>\n",
       "      <td>5.0</td>\n",
       "      <td>0.0</td>\n",
       "      <td>0.0</td>\n",
       "      <td>0.0</td>\n",
       "      <td>0.0</td>\n",
       "      <td>3.0</td>\n",
       "      <td>2.0</td>\n",
       "      <td>0.0</td>\n",
       "      <td>0.0</td>\n",
       "      <td>0.0</td>\n",
       "      <td>1.0</td>\n",
       "      <td>2.0</td>\n",
       "      <td>1.0</td>\n",
       "      <td>2.0</td>\n",
       "      <td>0.0</td>\n",
       "      <td>0.0</td>\n",
       "      <td>0.0</td>\n",
       "      <td>0.0</td>\n",
       "      <td>0.0</td>\n",
       "      <td>0.0</td>\n",
       "      <td>0.0</td>\n",
       "      <td>2.0</td>\n",
       "      <td>6.0</td>\n",
       "      <td>6.0</td>\n",
       "    </tr>\n",
       "  </tbody>\n",
       "</table>\n",
       "</div>"
      ],
      "text/plain": [
       "   loan_amnt_Rank  funded_amnt_Rank  funded_amnt_inv_Rank  int_rate_Rank  \\\n",
       "0             1.0               1.0                   0.0            2.0   \n",
       "1             0.0               0.0                   0.0            6.0   \n",
       "2             0.0               0.0                   0.0            7.0   \n",
       "3             3.0               3.0                   3.0            5.0   \n",
       "4             0.0               0.0                   0.0            4.0   \n",
       "5             1.0               1.0                   1.0            1.0   \n",
       "6             1.0               1.0                   2.0            7.0   \n",
       "7             0.0               0.0                   0.0            8.0   \n",
       "8             1.0               1.0                   1.0            9.0   \n",
       "9             1.0               1.0                   1.0            4.0   \n",
       "\n",
       "   installment_Rank  annual_inc_Rank  dti_Rank  delinq_2yrs_Rank  \\\n",
       "0               0.0              0.0       8.0               0.0   \n",
       "1               0.0              0.0       0.0               0.0   \n",
       "2               0.0              0.0       1.0               0.0   \n",
       "3               4.0              2.0       6.0               0.0   \n",
       "4               0.0              6.0       5.0               0.0   \n",
       "5               0.0              1.0       2.0               0.0   \n",
       "6               1.0              2.0       7.0               0.0   \n",
       "7               0.0              2.0       0.0               0.0   \n",
       "8               0.0              1.0       0.0               0.0   \n",
       "9               0.0              0.0       5.0               0.0   \n",
       "\n",
       "   inq_last_6mths_Rank  open_acc_Rank  pub_rec_Rank  revol_bal_Rank  \\\n",
       "0                  1.0            0.0           0.0             5.0   \n",
       "1                  2.0            0.0           0.0             0.0   \n",
       "2                  2.0            0.0           0.0             0.0   \n",
       "3                  1.0            4.0           0.0             2.0   \n",
       "4                  0.0            8.0           0.0             8.0   \n",
       "5                  2.0            4.0           0.0             3.0   \n",
       "6                  1.0            2.0           0.0             6.0   \n",
       "7                  2.0            0.0           0.0             3.0   \n",
       "8                  2.0            5.0           0.0             1.0   \n",
       "9                  0.0            0.0           0.0             3.0   \n",
       "\n",
       "   revol_util_Rank  total_acc_Rank  out_prncp_Rank  out_prncp_inv_Rank  \\\n",
       "0              8.0             0.0             0.0                 0.0   \n",
       "1              0.0             0.0             0.0                 0.0   \n",
       "2              9.0             0.0             0.0                 0.0   \n",
       "3              0.0             8.0             0.0                 0.0   \n",
       "4              4.0             8.0             0.0                 0.0   \n",
       "5              1.0             1.0             0.0                 0.0   \n",
       "6              8.0             0.0             1.0                 1.0   \n",
       "7              9.0             0.0             0.0                 0.0   \n",
       "8              1.0             1.0             0.0                 0.0   \n",
       "9              2.0             0.0             0.0                 0.0   \n",
       "\n",
       "   total_pymnt_Rank  total_pymnt_inv_Rank  total_rec_prncp_Rank  \\\n",
       "0               5.0                   5.0                   6.0   \n",
       "1               1.0                   1.0                   1.0   \n",
       "2               3.0                   3.0                   4.0   \n",
       "3               7.0                   7.0                   8.0   \n",
       "4               3.0                   3.0                   3.0   \n",
       "5               5.0                   5.0                   6.0   \n",
       "6               6.0                   6.0                   6.0   \n",
       "7               4.0                   4.0                   4.0   \n",
       "8               0.0                   0.0                   0.0   \n",
       "9               1.0                   2.0                   1.0   \n",
       "\n",
       "   total_rec_int_Rank  total_rec_late_fee_Rank  recoveries_Rank  \\\n",
       "0                 4.0                      0.0              0.0   \n",
       "1                 2.0                      0.0              0.0   \n",
       "2                 3.0                      0.0              0.0   \n",
       "3                 7.0                      0.0              0.0   \n",
       "4                 4.0                      0.0              0.0   \n",
       "5                 3.0                      0.0              0.0   \n",
       "6                 8.0                      0.0              0.0   \n",
       "7                 4.0                      0.0              0.0   \n",
       "8                 1.0                      0.0              0.0   \n",
       "9                 2.0                      0.0              0.0   \n",
       "\n",
       "   collection_recovery_fee_Rank  last_pymnt_amnt_Rank  \\\n",
       "0                           0.0                   1.0   \n",
       "1                           0.0                   0.0   \n",
       "2                           0.0                   6.0   \n",
       "3                           0.0                   3.0   \n",
       "4                           0.0                   0.0   \n",
       "5                           0.0                   0.0   \n",
       "6                           0.0                   1.0   \n",
       "7                           0.0                   0.0   \n",
       "8                           0.0                   0.0   \n",
       "9                           0.0                   0.0   \n",
       "\n",
       "   collections_12_mths_ex_med_Rank  policy_code_Rank  acc_now_delinq_Rank  \\\n",
       "0                              0.0               0.0                  0.0   \n",
       "1                              0.0               0.0                  0.0   \n",
       "2                              0.0               0.0                  0.0   \n",
       "3                              0.0               0.0                  0.0   \n",
       "4                              0.0               0.0                  0.0   \n",
       "5                              0.0               0.0                  0.0   \n",
       "6                              0.0               0.0                  0.0   \n",
       "7                              0.0               0.0                  0.0   \n",
       "8                              0.0               0.0                  0.0   \n",
       "9                              0.0               0.0                  0.0   \n",
       "\n",
       "   tot_coll_amt_Rank  tot_cur_bal_Rank  total_rev_hi_lim_Rank  \n",
       "0                2.0               6.0                    6.0  \n",
       "1                2.0               6.0                    6.0  \n",
       "2                2.0               6.0                    6.0  \n",
       "3                2.0               6.0                    6.0  \n",
       "4                2.0               6.0                    6.0  \n",
       "5                2.0               6.0                    6.0  \n",
       "6                2.0               6.0                    6.0  \n",
       "7                2.0               6.0                    6.0  \n",
       "8                2.0               6.0                    6.0  \n",
       "9                2.0               6.0                    6.0  "
      ]
     },
     "execution_count": 39,
     "metadata": {},
     "output_type": "execute_result"
    }
   ],
   "source": [
    "from sklearn.preprocessing import KBinsDiscretizer\n",
    "discrete=KBinsDiscretizer(n_bins=10,encode='ordinal', strategy='quantile')\n",
    "num_binned=pd.DataFrame(discrete.fit_transform(num_1),index=num_1.index, columns=num_1.columns).add_suffix('_Rank')\n",
    "num_binned.head(10)"
   ]
  },
  {
   "cell_type": "code",
   "execution_count": 40,
   "metadata": {
    "ExecuteTime": {
     "end_time": "2021-06-04T14:44:34.734785Z",
     "start_time": "2021-06-04T14:40:16.320643Z"
    }
   },
   "outputs": [
    {
     "data": {
      "image/png": "[encoded data removed]",
      "text/plain": [
       "<Figure size 432x288 with 1 Axes>"
      ]
     },
     "metadata": {
      "needs_background": "light"
     },
     "output_type": "display_data"
    },
    {
     "data": {
      "image/png": "[encoded data removed]",
      "text/plain": [
       "<Figure size 432x288 with 1 Axes>"
      ]
     },
     "metadata": {
      "needs_background": "light"
     },
     "output_type": "display_data"
    },
    {
     "data": {
      "image/png": "[encoded data removed]",
      "text/plain": [
       "<Figure size 432x288 with 1 Axes>"
      ]
     },
     "metadata": {
      "needs_background": "light"
     },
     "output_type": "display_data"
    },
    {
     "data": {
      "image/png": "[encoded data removed]",
      "text/plain": [
       "<Figure size 432x288 with 1 Axes>"
      ]
     },
     "metadata": {
      "needs_background": "light"
     },
     "output_type": "display_data"
    },
    {
     "data": {
      "image/png": "[encoded data removed]",
      "text/plain": [
       "<Figure size 432x288 with 1 Axes>"
      ]
     },
     "metadata": {
      "needs_background": "light"
     },
     "output_type": "display_data"
    },
    {
     "data": {
      "image/png": "[encoded data removed]",
      "text/plain": [
       "<Figure size 432x288 with 1 Axes>"
      ]
     },
     "metadata": {
      "needs_background": "light"
     },
     "output_type": "display_data"
    },
    {
     "data": {
      "image/png": "[encoded data removed]",
      "text/plain": [
       "<Figure size 432x288 with 1 Axes>"
      ]
     },
     "metadata": {
      "needs_background": "light"
     },
     "output_type": "display_data"
    },
    {
     "data": {
      "image/png": "[encoded data removed]",
      "text/plain": [
       "<Figure size 432x288 with 1 Axes>"
      ]
     },
     "metadata": {
      "needs_background": "light"
     },
     "output_type": "display_data"
    },
    {
     "data": {
      "image/png": "[encoded data removed]",
      "text/plain": [
       "<Figure size 432x288 with 1 Axes>"
      ]
     },
     "metadata": {
      "needs_background": "light"
     },
     "output_type": "display_data"
    },
    {
     "data": {
      "image/png": "[encoded data removed]",
      "text/plain": [
       "<Figure size 432x288 with 1 Axes>"
      ]
     },
     "metadata": {
      "needs_background": "light"
     },
     "output_type": "display_data"
    },
    {
     "data": {
      "image/png": "[encoded data removed]",
      "text/plain": [
       "<Figure size 432x288 with 1 Axes>"
      ]
     },
     "metadata": {
      "needs_background": "light"
     },
     "output_type": "display_data"
    },
    {
     "data": {
      "image/png": "[encoded data removed]",
      "text/plain": [
       "<Figure size 432x288 with 1 Axes>"
      ]
     },
     "metadata": {
      "needs_background": "light"
     },
     "output_type": "display_data"
    },
    {
     "data": {
      "image/png": "[encoded data removed]",
      "text/plain": [
       "<Figure size 432x288 with 1 Axes>"
      ]
     },
     "metadata": {
      "needs_background": "light"
     },
     "output_type": "display_data"
    },
    {
     "data": {
      "image/png": "[encoded data removed]",
      "text/plain": [
       "<Figure size 432x288 with 1 Axes>"
      ]
     },
     "metadata": {
      "needs_background": "light"
     },
     "output_type": "display_data"
    },
    {
     "data": {
      "image/png": "[encoded data removed]",
      "text/plain": [
       "<Figure size 432x288 with 1 Axes>"
      ]
     },
     "metadata": {
      "needs_background": "light"
     },
     "output_type": "display_data"
    },
    {
     "data": {
      "image/png": "[encoded data removed]",
      "text/plain": [
       "<Figure size 432x288 with 1 Axes>"
      ]
     },
     "metadata": {
      "needs_background": "light"
     },
     "output_type": "display_data"
    },
    {
     "data": {
      "image/png": "[encoded data removed]",
      "text/plain": [
       "<Figure size 432x288 with 1 Axes>"
      ]
     },
     "metadata": {
      "needs_background": "light"
     },
     "output_type": "display_data"
    },
    {
     "data": {
      "image/png": "[encoded data removed]",
      "text/plain": [
       "<Figure size 432x288 with 1 Axes>"
      ]
     },
     "metadata": {
      "needs_background": "light"
     },
     "output_type": "display_data"
    },
    {
     "data": {
      "image/png": "[encoded data removed]",
      "text/plain": [
       "<Figure size 432x288 with 1 Axes>"
      ]
     },
     "metadata": {
      "needs_background": "light"
     },
     "output_type": "display_data"
    },
    {
     "data": {
      "image/png": "[encoded data removed]",
      "text/plain": [
       "<Figure size 432x288 with 1 Axes>"
      ]
     },
     "metadata": {
      "needs_background": "light"
     },
     "output_type": "display_data"
    },
    {
     "data": {
      "image/png": "[encoded data removed]",
      "text/plain": [
       "<Figure size 432x288 with 1 Axes>"
      ]
     },
     "metadata": {
      "needs_background": "light"
     },
     "output_type": "display_data"
    },
    {
     "data": {
      "image/png": "[encoded data removed]",
      "text/plain": [
       "<Figure size 432x288 with 1 Axes>"
      ]
     },
     "metadata": {
      "needs_background": "light"
     },
     "output_type": "display_data"
    },
    {
     "data": {
      "image/png": "[encoded data removed]",
      "text/plain": [
       "<Figure size 432x288 with 1 Axes>"
      ]
     },
     "metadata": {
      "needs_background": "light"
     },
     "output_type": "display_data"
    },
    {
     "data": {
      "image/png": "[encoded data removed]",
      "text/plain": [
       "<Figure size 432x288 with 1 Axes>"
      ]
     },
     "metadata": {
      "needs_background": "light"
     },
     "output_type": "display_data"
    },
    {
     "data": {
      "image/png": "[encoded data removed]",
      "text/plain": [
       "<Figure size 432x288 with 1 Axes>"
      ]
     },
     "metadata": {
      "needs_background": "light"
     },
     "output_type": "display_data"
    },
    {
     "data": {
      "image/png": "[encoded data removed]",
      "text/plain": [
       "<Figure size 432x288 with 1 Axes>"
      ]
     },
     "metadata": {
      "needs_background": "light"
     },
     "output_type": "display_data"
    },
    {
     "data": {
      "image/png": "[encoded data removed]",
      "text/plain": [
       "<Figure size 432x288 with 1 Axes>"
      ]
     },
     "metadata": {
      "needs_background": "light"
     },
     "output_type": "display_data"
    },
    {
     "data": {
      "image/png": "[encoded data removed]",
      "text/plain": [
       "<Figure size 432x288 with 1 Axes>"
      ]
     },
     "metadata": {
      "needs_background": "light"
     },
     "output_type": "display_data"
    },
    {
     "data": {
      "image/png": "[encoded data removed]",
      "text/plain": [
       "<Figure size 432x288 with 1 Axes>"
      ]
     },
     "metadata": {
      "needs_background": "light"
     },
     "output_type": "display_data"
    },
    {
     "data": {
      "image/png": "[encoded data removed]",
      "text/plain": [
       "<Figure size 432x288 with 1 Axes>"
      ]
     },
     "metadata": {
      "needs_background": "light"
     },
     "output_type": "display_data"
    },
    {
     "data": {
      "image/png": "[encoded data removed]",
      "text/plain": [
       "<Figure size 432x288 with 1 Axes>"
      ]
     },
     "metadata": {
      "needs_background": "light"
     },
     "output_type": "display_data"
    }
   ],
   "source": [
    "#Check if the features show a slope at all\n",
    "#If they do, then do you see some deciles below the population average and some higher than population average?\n",
    "#If that is the case then the slope will be strong\n",
    "#Conclusion: A strong slope is indicative of the features' ability to discriminate the event from non event\n",
    "#            making it a good predictor\n",
    "\n",
    "#percentage_income_goesinto_intallments=Insallment/annual_inc (Derived Variables/Feature Engineering)\n",
    "\n",
    "X_bin_combined=pd.concat([Y,num_binned],axis=1,join='inner')\n",
    "\n",
    "import matplotlib.pyplot as plt\n",
    "import seaborn as sns\n",
    "from numpy import mean\n",
    "for col in (X_bin_combined.columns):\n",
    "    plt.figure()\n",
    "    sns.barplot(x=col, y=\"target\",data=X_bin_combined, estimator=mean )\n",
    "plt.show()"
   ]
  },
  {
   "cell_type": "code",
   "execution_count": 41,
   "metadata": {
    "ExecuteTime": {
     "end_time": "2021-06-04T14:44:36.287872Z",
     "start_time": "2021-06-04T14:44:34.736456Z"
    }
   },
   "outputs": [],
   "source": [
    "# Select K Best for Numerical Features\n",
    "from sklearn.feature_selection import SelectKBest, chi2\n",
    "selector = SelectKBest(chi2, k=15)\n",
    "X_new = selector.fit_transform(num_1, Y)\n",
    "# Get columns to keep and create new dataframe with those only\n",
    "cols = selector.get_support(indices=True)\n",
    "select_features_df_num = num_1.iloc[:,cols]"
   ]
  },
  {
   "cell_type": "code",
   "execution_count": 42,
   "metadata": {
    "ExecuteTime": {
     "end_time": "2021-06-04T14:44:36.333712Z",
     "start_time": "2021-06-04T14:44:36.291825Z"
    },
    "scrolled": true
   },
   "outputs": [
    {
     "data": {
      "text/html": [
       "<div>\n",
       "<style scoped>\n",
       "    .dataframe tbody tr th:only-of-type {\n",
       "        vertical-align: middle;\n",
       "    }\n",
       "\n",
       "    .dataframe tbody tr th {\n",
       "        vertical-align: top;\n",
       "    }\n",
       "\n",
       "    .dataframe thead th {\n",
       "        text-align: right;\n",
       "    }\n",
       "</style>\n",
       "<table border=\"1\" class=\"dataframe\">\n",
       "  <thead>\n",
       "    <tr style=\"text-align: right;\">\n",
       "      <th></th>\n",
       "      <th>funded_amnt_inv</th>\n",
       "      <th>annual_inc</th>\n",
       "      <th>revol_bal</th>\n",
       "      <th>out_prncp</th>\n",
       "      <th>out_prncp_inv</th>\n",
       "      <th>total_pymnt</th>\n",
       "      <th>total_pymnt_inv</th>\n",
       "      <th>total_rec_prncp</th>\n",
       "      <th>total_rec_int</th>\n",
       "      <th>recoveries</th>\n",
       "      <th>collection_recovery_fee</th>\n",
       "      <th>last_pymnt_amnt</th>\n",
       "      <th>tot_coll_amt</th>\n",
       "      <th>tot_cur_bal</th>\n",
       "      <th>total_rev_hi_lim</th>\n",
       "    </tr>\n",
       "  </thead>\n",
       "  <tbody>\n",
       "    <tr>\n",
       "      <th>0</th>\n",
       "      <td>4975.0</td>\n",
       "      <td>24000.0</td>\n",
       "      <td>13648.0</td>\n",
       "      <td>0.0</td>\n",
       "      <td>0.0</td>\n",
       "      <td>5861.071414</td>\n",
       "      <td>5831.78</td>\n",
       "      <td>5000.0</td>\n",
       "      <td>861.07</td>\n",
       "      <td>0.0</td>\n",
       "      <td>0.0</td>\n",
       "      <td>171.62</td>\n",
       "      <td>132.053983</td>\n",
       "      <td>137182.970736</td>\n",
       "      <td>31274.143259</td>\n",
       "    </tr>\n",
       "  </tbody>\n",
       "</table>\n",
       "</div>"
      ],
      "text/plain": [
       "   funded_amnt_inv  annual_inc  revol_bal  out_prncp  out_prncp_inv  \\\n",
       "0           4975.0     24000.0    13648.0        0.0            0.0   \n",
       "\n",
       "   total_pymnt  total_pymnt_inv  total_rec_prncp  total_rec_int  recoveries  \\\n",
       "0  5861.071414          5831.78           5000.0         861.07         0.0   \n",
       "\n",
       "   collection_recovery_fee  last_pymnt_amnt  tot_coll_amt    tot_cur_bal  \\\n",
       "0                      0.0           171.62    132.053983  137182.970736   \n",
       "\n",
       "   total_rev_hi_lim  \n",
       "0      31274.143259  "
      ]
     },
     "execution_count": 42,
     "metadata": {},
     "output_type": "execute_result"
    }
   ],
   "source": [
    "select_features_df_num.loc[:0]"
   ]
  },
  {
   "cell_type": "code",
   "execution_count": 43,
   "metadata": {
    "ExecuteTime": {
     "end_time": "2021-06-04T14:44:36.348673Z",
     "start_time": "2021-06-04T14:44:36.336705Z"
    }
   },
   "outputs": [
    {
     "data": {
      "text/plain": [
       "funded_amnt_inv            float64\n",
       "annual_inc                 float64\n",
       "revol_bal                  float64\n",
       "out_prncp                  float64\n",
       "out_prncp_inv              float64\n",
       "total_pymnt                float64\n",
       "total_pymnt_inv            float64\n",
       "total_rec_prncp            float64\n",
       "total_rec_int              float64\n",
       "recoveries                 float64\n",
       "collection_recovery_fee    float64\n",
       "last_pymnt_amnt            float64\n",
       "tot_coll_amt               float64\n",
       "tot_cur_bal                float64\n",
       "total_rev_hi_lim           float64\n",
       "dtype: object"
      ]
     },
     "execution_count": 43,
     "metadata": {},
     "output_type": "execute_result"
    }
   ],
   "source": [
    "select_features_df_num.dtypes"
   ]
  },
  {
   "cell_type": "code",
   "execution_count": 44,
   "metadata": {
    "ExecuteTime": {
     "end_time": "2021-06-04T14:46:18.839104Z",
     "start_time": "2021-06-04T14:44:36.353659Z"
    }
   },
   "outputs": [
    {
     "data": {
      "image/png": "[encoded data removed]",
      "text/plain": [
       "<Figure size 432x288 with 1 Axes>"
      ]
     },
     "metadata": {
      "needs_background": "light"
     },
     "output_type": "display_data"
    },
    {
     "data": {
      "image/png": "[encoded data removed]",
      "text/plain": [
       "<Figure size 432x288 with 1 Axes>"
      ]
     },
     "metadata": {
      "needs_background": "light"
     },
     "output_type": "display_data"
    },
    {
     "data": {
      "image/png": "[encoded data removed]",
      "text/plain": [
       "<Figure size 432x288 with 1 Axes>"
      ]
     },
     "metadata": {
      "needs_background": "light"
     },
     "output_type": "display_data"
    },
    {
     "data": {
      "image/png": "[encoded data removed]",
      "text/plain": [
       "<Figure size 432x288 with 1 Axes>"
      ]
     },
     "metadata": {
      "needs_background": "light"
     },
     "output_type": "display_data"
    },
    {
     "data": {
      "image/png": "[encoded data removed]",
      "text/plain": [
       "<Figure size 432x288 with 1 Axes>"
      ]
     },
     "metadata": {
      "needs_background": "light"
     },
     "output_type": "display_data"
    },
    {
     "data": {
      "image/png": "[encoded data removed]",
      "text/plain": [
       "<Figure size 432x288 with 1 Axes>"
      ]
     },
     "metadata": {
      "needs_background": "light"
     },
     "output_type": "display_data"
    },
    {
     "data": {
      "image/png": "[encoded data removed]",
      "text/plain": [
       "<Figure size 432x288 with 1 Axes>"
      ]
     },
     "metadata": {
      "needs_background": "light"
     },
     "output_type": "display_data"
    },
    {
     "data": {
      "image/png": "[encoded data removed]",
      "text/plain": [
       "<Figure size 432x288 with 1 Axes>"
      ]
     },
     "metadata": {
      "needs_background": "light"
     },
     "output_type": "display_data"
    },
    {
     "data": {
      "image/png": "[encoded data removed]",
      "text/plain": [
       "<Figure size 432x288 with 1 Axes>"
      ]
     },
     "metadata": {
      "needs_background": "light"
     },
     "output_type": "display_data"
    },
    {
     "data": {
      "image/png": "[encoded data removed]",
      "text/plain": [
       "<Figure size 432x288 with 1 Axes>"
      ]
     },
     "metadata": {
      "needs_background": "light"
     },
     "output_type": "display_data"
    }
   ],
   "source": [
    "import matplotlib.pyplot as plt\n",
    "import seaborn as sns\n",
    "X_char_merged=pd.concat([Y,char_1],axis=1,join='inner')\n",
    "\n",
    "from numpy import mean\n",
    "for col in (char_1.columns):\n",
    "    plt.figure()\n",
    "    sns.barplot(x=col, y=\"target\",data=X_char_merged, estimator=mean )\n",
    "plt.show()"
   ]
  },
  {
   "cell_type": "code",
   "execution_count": 45,
   "metadata": {
    "ExecuteTime": {
     "end_time": "2021-06-04T14:46:19.167248Z",
     "start_time": "2021-06-04T14:46:18.843097Z"
    }
   },
   "outputs": [],
   "source": [
    "# Steps to regroup categorical features in order to achieve linear discrimination\n",
    "# These levels to group have been discovered through the pivot analysis\n",
    "char_1['purpose_1']=np.where(char_1['purpose'].isin(['other','medical','vacation','debt_consolidation','car','major_purchase','home_improvement','credit_card']),'others',char['purpose'])           \n",
    "char_1['verified_1']=np.where(char_1['verification_status'].isin(['Source Verified','Verified']),'Verified',char_1['verification_status'])\n",
    "char_1['home_own_1']=np.where(char_1['home_ownership'].isin(['OWN','MORTGAGE']),'OWN',\n",
    "                     np.where(char_1['home_ownership'].isin(['RENT']),'RENT','OTHER'))\n",
    "char_1['term_1']=np.where(char_1['term'].isin(['60 months']),'60','30')"
   ]
  },
  {
   "cell_type": "code",
   "execution_count": 46,
   "metadata": {
    "ExecuteTime": {
     "end_time": "2021-06-04T14:46:19.521844Z",
     "start_time": "2021-06-04T14:46:19.169241Z"
    }
   },
   "outputs": [],
   "source": [
    "char_2=char_1.loc[:,['purpose_1','verified_1','home_own_1','term_1','grade','emp_length','pymnt_plan','application_type']]"
   ]
  },
  {
   "cell_type": "code",
   "execution_count": 47,
   "metadata": {
    "ExecuteTime": {
     "end_time": "2021-06-04T14:46:30.909593Z",
     "start_time": "2021-06-04T14:46:19.523764Z"
    }
   },
   "outputs": [
    {
     "data": {
      "image/png": "[encoded data removed]",
      "text/plain": [
       "<Figure size 432x288 with 1 Axes>"
      ]
     },
     "metadata": {
      "needs_background": "light"
     },
     "output_type": "display_data"
    }
   ],
   "source": [
    "check=pd.concat([Y,char_2],axis=1,join=\"inner\")\n",
    "ax=sns.barplot(x=\"purpose_1\", y=\"target\",data=check, estimator=mean )"
   ]
  },
  {
   "cell_type": "code",
   "execution_count": 48,
   "metadata": {
    "ExecuteTime": {
     "end_time": "2021-06-04T14:46:31.469714Z",
     "start_time": "2021-06-04T14:46:30.911550Z"
    }
   },
   "outputs": [],
   "source": [
    "# Create dummy features with n-1 levels\n",
    "X_char_dum = pd.get_dummies(char_2, drop_first = True)"
   ]
  },
  {
   "cell_type": "code",
   "execution_count": 49,
   "metadata": {
    "ExecuteTime": {
     "end_time": "2021-06-04T14:46:31.485262Z",
     "start_time": "2021-06-04T14:46:31.472653Z"
    }
   },
   "outputs": [
    {
     "data": {
      "text/plain": [
       "(887379, 28)"
      ]
     },
     "execution_count": 49,
     "metadata": {},
     "output_type": "execute_result"
    }
   ],
   "source": [
    "X_char_dum.shape"
   ]
  },
  {
   "cell_type": "code",
   "execution_count": 50,
   "metadata": {
    "ExecuteTime": {
     "end_time": "2021-06-04T14:46:32.288564Z",
     "start_time": "2021-06-04T14:46:31.488254Z"
    }
   },
   "outputs": [],
   "source": [
    "# Select K Best for Categorical Features\n",
    "from sklearn.feature_selection import SelectKBest, chi2\n",
    "selector = SelectKBest(chi2, k=25)\n",
    "X_new_1 = selector.fit_transform(X_char_dum, Y)\n",
    "# Get columns to keep and create new dataframe with those only\n",
    "cols = selector.get_support(indices=True)\n",
    "select_features_df_char = X_char_dum.iloc[:,cols]"
   ]
  },
  {
   "cell_type": "code",
   "execution_count": 51,
   "metadata": {
    "ExecuteTime": {
     "end_time": "2021-06-04T14:46:32.304198Z",
     "start_time": "2021-06-04T14:46:32.290235Z"
    }
   },
   "outputs": [
    {
     "data": {
      "text/html": [
       "<div>\n",
       "<style scoped>\n",
       "    .dataframe tbody tr th:only-of-type {\n",
       "        vertical-align: middle;\n",
       "    }\n",
       "\n",
       "    .dataframe tbody tr th {\n",
       "        vertical-align: top;\n",
       "    }\n",
       "\n",
       "    .dataframe thead th {\n",
       "        text-align: right;\n",
       "    }\n",
       "</style>\n",
       "<table border=\"1\" class=\"dataframe\">\n",
       "  <thead>\n",
       "    <tr style=\"text-align: right;\">\n",
       "      <th></th>\n",
       "      <th>purpose_1_house</th>\n",
       "      <th>purpose_1_moving</th>\n",
       "      <th>purpose_1_others</th>\n",
       "      <th>purpose_1_renewable_energy</th>\n",
       "      <th>purpose_1_small_business</th>\n",
       "      <th>purpose_1_wedding</th>\n",
       "      <th>verified_1_Verified</th>\n",
       "      <th>home_own_1_OWN</th>\n",
       "      <th>home_own_1_RENT</th>\n",
       "      <th>grade_B</th>\n",
       "      <th>grade_C</th>\n",
       "      <th>grade_D</th>\n",
       "      <th>grade_E</th>\n",
       "      <th>grade_F</th>\n",
       "      <th>grade_G</th>\n",
       "      <th>emp_length_1 year</th>\n",
       "      <th>emp_length_10+ years</th>\n",
       "      <th>emp_length_4 years</th>\n",
       "      <th>emp_length_5 years</th>\n",
       "      <th>emp_length_6 years</th>\n",
       "      <th>emp_length_7 years</th>\n",
       "      <th>emp_length_8 years</th>\n",
       "      <th>emp_length_&lt; 1 year</th>\n",
       "      <th>pymnt_plan_y</th>\n",
       "      <th>application_type_JOINT</th>\n",
       "    </tr>\n",
       "  </thead>\n",
       "  <tbody>\n",
       "    <tr>\n",
       "      <th>0</th>\n",
       "      <td>0</td>\n",
       "      <td>0</td>\n",
       "      <td>1</td>\n",
       "      <td>0</td>\n",
       "      <td>0</td>\n",
       "      <td>0</td>\n",
       "      <td>1</td>\n",
       "      <td>0</td>\n",
       "      <td>1</td>\n",
       "      <td>1</td>\n",
       "      <td>0</td>\n",
       "      <td>0</td>\n",
       "      <td>0</td>\n",
       "      <td>0</td>\n",
       "      <td>0</td>\n",
       "      <td>0</td>\n",
       "      <td>1</td>\n",
       "      <td>0</td>\n",
       "      <td>0</td>\n",
       "      <td>0</td>\n",
       "      <td>0</td>\n",
       "      <td>0</td>\n",
       "      <td>0</td>\n",
       "      <td>0</td>\n",
       "      <td>0</td>\n",
       "    </tr>\n",
       "  </tbody>\n",
       "</table>\n",
       "</div>"
      ],
      "text/plain": [
       "   purpose_1_house  purpose_1_moving  purpose_1_others  \\\n",
       "0                0                 0                 1   \n",
       "\n",
       "   purpose_1_renewable_energy  purpose_1_small_business  purpose_1_wedding  \\\n",
       "0                           0                         0                  0   \n",
       "\n",
       "   verified_1_Verified  home_own_1_OWN  home_own_1_RENT  grade_B  grade_C  \\\n",
       "0                    1               0                1        1        0   \n",
       "\n",
       "   grade_D  grade_E  grade_F  grade_G  emp_length_1 year  \\\n",
       "0        0        0        0        0                  0   \n",
       "\n",
       "   emp_length_10+ years  emp_length_4 years  emp_length_5 years  \\\n",
       "0                     1                   0                   0   \n",
       "\n",
       "   emp_length_6 years  emp_length_7 years  emp_length_8 years  \\\n",
       "0                   0                   0                   0   \n",
       "\n",
       "   emp_length_< 1 year  pymnt_plan_y  application_type_JOINT  \n",
       "0                    0             0                       0  "
      ]
     },
     "execution_count": 51,
     "metadata": {},
     "output_type": "execute_result"
    }
   ],
   "source": [
    "select_features_df_char.loc[:0]"
   ]
  },
  {
   "cell_type": "code",
   "execution_count": 52,
   "metadata": {
    "ExecuteTime": {
     "end_time": "2021-06-04T14:46:32.320155Z",
     "start_time": "2021-06-04T14:46:32.307189Z"
    },
    "scrolled": true
   },
   "outputs": [
    {
     "data": {
      "text/plain": [
       "purpose_1_house               uint8\n",
       "purpose_1_moving              uint8\n",
       "purpose_1_others              uint8\n",
       "purpose_1_renewable_energy    uint8\n",
       "purpose_1_small_business      uint8\n",
       "purpose_1_wedding             uint8\n",
       "verified_1_Verified           uint8\n",
       "home_own_1_OWN                uint8\n",
       "home_own_1_RENT               uint8\n",
       "grade_B                       uint8\n",
       "grade_C                       uint8\n",
       "grade_D                       uint8\n",
       "grade_E                       uint8\n",
       "grade_F                       uint8\n",
       "grade_G                       uint8\n",
       "emp_length_1 year             uint8\n",
       "emp_length_10+ years          uint8\n",
       "emp_length_4 years            uint8\n",
       "emp_length_5 years            uint8\n",
       "emp_length_6 years            uint8\n",
       "emp_length_7 years            uint8\n",
       "emp_length_8 years            uint8\n",
       "emp_length_< 1 year           uint8\n",
       "pymnt_plan_y                  uint8\n",
       "application_type_JOINT        uint8\n",
       "dtype: object"
      ]
     },
     "execution_count": 52,
     "metadata": {},
     "output_type": "execute_result"
    }
   ],
   "source": [
    "select_features_df_char.dtypes"
   ]
  },
  {
   "cell_type": "code",
   "execution_count": 53,
   "metadata": {
    "ExecuteTime": {
     "end_time": "2021-06-04T14:46:32.352070Z",
     "start_time": "2021-06-04T14:46:32.323147Z"
    },
    "scrolled": true
   },
   "outputs": [],
   "source": [
    "num_additional=num_1.loc[:,['int_rate','inq_last_6mths']]"
   ]
  },
  {
   "cell_type": "code",
   "execution_count": 54,
   "metadata": {
    "ExecuteTime": {
     "end_time": "2021-06-04T14:46:32.368027Z",
     "start_time": "2021-06-04T14:46:32.355063Z"
    }
   },
   "outputs": [
    {
     "data": {
      "text/html": [
       "<div>\n",
       "<style scoped>\n",
       "    .dataframe tbody tr th:only-of-type {\n",
       "        vertical-align: middle;\n",
       "    }\n",
       "\n",
       "    .dataframe tbody tr th {\n",
       "        vertical-align: top;\n",
       "    }\n",
       "\n",
       "    .dataframe thead th {\n",
       "        text-align: right;\n",
       "    }\n",
       "</style>\n",
       "<table border=\"1\" class=\"dataframe\">\n",
       "  <thead>\n",
       "    <tr style=\"text-align: right;\">\n",
       "      <th></th>\n",
       "      <th>int_rate</th>\n",
       "      <th>inq_last_6mths</th>\n",
       "    </tr>\n",
       "  </thead>\n",
       "  <tbody>\n",
       "    <tr>\n",
       "      <th>0</th>\n",
       "      <td>10.65</td>\n",
       "      <td>1.0</td>\n",
       "    </tr>\n",
       "    <tr>\n",
       "      <th>1</th>\n",
       "      <td>15.27</td>\n",
       "      <td>4.0</td>\n",
       "    </tr>\n",
       "    <tr>\n",
       "      <th>2</th>\n",
       "      <td>15.96</td>\n",
       "      <td>2.0</td>\n",
       "    </tr>\n",
       "    <tr>\n",
       "      <th>3</th>\n",
       "      <td>13.49</td>\n",
       "      <td>1.0</td>\n",
       "    </tr>\n",
       "    <tr>\n",
       "      <th>4</th>\n",
       "      <td>12.69</td>\n",
       "      <td>0.0</td>\n",
       "    </tr>\n",
       "  </tbody>\n",
       "</table>\n",
       "</div>"
      ],
      "text/plain": [
       "   int_rate  inq_last_6mths\n",
       "0     10.65             1.0\n",
       "1     15.27             4.0\n",
       "2     15.96             2.0\n",
       "3     13.49             1.0\n",
       "4     12.69             0.0"
      ]
     },
     "execution_count": 54,
     "metadata": {},
     "output_type": "execute_result"
    }
   ],
   "source": [
    "num_additional.head()"
   ]
  },
  {
   "cell_type": "code",
   "execution_count": 55,
   "metadata": {
    "ExecuteTime": {
     "end_time": "2021-06-04T14:46:32.460779Z",
     "start_time": "2021-06-04T14:46:32.372020Z"
    }
   },
   "outputs": [],
   "source": [
    "# Bringing it together\n",
    "X_all=pd.concat([select_features_df_char,select_features_df_num,num_additional],axis=1,join=\"inner\")"
   ]
  },
  {
   "cell_type": "code",
   "execution_count": 97,
   "metadata": {
    "ExecuteTime": {
     "end_time": "2021-06-04T15:27:06.479414Z",
     "start_time": "2021-06-04T15:27:06.286946Z"
    }
   },
   "outputs": [
    {
     "data": {
      "text/html": [
       "<div>\n",
       "<style scoped>\n",
       "    .dataframe tbody tr th:only-of-type {\n",
       "        vertical-align: middle;\n",
       "    }\n",
       "\n",
       "    .dataframe tbody tr th {\n",
       "        vertical-align: top;\n",
       "    }\n",
       "\n",
       "    .dataframe thead th {\n",
       "        text-align: right;\n",
       "    }\n",
       "</style>\n",
       "<table border=\"1\" class=\"dataframe\">\n",
       "  <thead>\n",
       "    <tr style=\"text-align: right;\">\n",
       "      <th></th>\n",
       "      <th>purpose_1_house</th>\n",
       "      <th>purpose_1_moving</th>\n",
       "      <th>purpose_1_others</th>\n",
       "      <th>purpose_1_renewable_energy</th>\n",
       "      <th>purpose_1_small_business</th>\n",
       "      <th>purpose_1_wedding</th>\n",
       "      <th>verified_1_Verified</th>\n",
       "      <th>home_own_1_OWN</th>\n",
       "      <th>home_own_1_RENT</th>\n",
       "      <th>grade_B</th>\n",
       "      <th>grade_C</th>\n",
       "      <th>grade_D</th>\n",
       "      <th>grade_E</th>\n",
       "      <th>grade_F</th>\n",
       "      <th>grade_G</th>\n",
       "      <th>emp_length_1 year</th>\n",
       "      <th>emp_length_10+ years</th>\n",
       "      <th>emp_length_4 years</th>\n",
       "      <th>emp_length_5 years</th>\n",
       "      <th>emp_length_6 years</th>\n",
       "      <th>emp_length_7 years</th>\n",
       "      <th>emp_length_8 years</th>\n",
       "      <th>emp_length_&lt; 1 year</th>\n",
       "      <th>pymnt_plan_y</th>\n",
       "      <th>application_type_JOINT</th>\n",
       "      <th>funded_amnt_inv</th>\n",
       "      <th>annual_inc</th>\n",
       "      <th>revol_bal</th>\n",
       "      <th>out_prncp</th>\n",
       "      <th>out_prncp_inv</th>\n",
       "      <th>total_pymnt</th>\n",
       "      <th>total_pymnt_inv</th>\n",
       "      <th>total_rec_prncp</th>\n",
       "      <th>total_rec_int</th>\n",
       "      <th>recoveries</th>\n",
       "      <th>collection_recovery_fee</th>\n",
       "      <th>last_pymnt_amnt</th>\n",
       "      <th>tot_coll_amt</th>\n",
       "      <th>tot_cur_bal</th>\n",
       "      <th>total_rev_hi_lim</th>\n",
       "      <th>int_rate</th>\n",
       "      <th>inq_last_6mths</th>\n",
       "    </tr>\n",
       "  </thead>\n",
       "  <tbody>\n",
       "    <tr>\n",
       "      <th>0</th>\n",
       "      <td>0</td>\n",
       "      <td>0</td>\n",
       "      <td>1</td>\n",
       "      <td>0</td>\n",
       "      <td>0</td>\n",
       "      <td>0</td>\n",
       "      <td>1</td>\n",
       "      <td>0</td>\n",
       "      <td>1</td>\n",
       "      <td>1</td>\n",
       "      <td>0</td>\n",
       "      <td>0</td>\n",
       "      <td>0</td>\n",
       "      <td>0</td>\n",
       "      <td>0</td>\n",
       "      <td>0</td>\n",
       "      <td>1</td>\n",
       "      <td>0</td>\n",
       "      <td>0</td>\n",
       "      <td>0</td>\n",
       "      <td>0</td>\n",
       "      <td>0</td>\n",
       "      <td>0</td>\n",
       "      <td>0</td>\n",
       "      <td>0</td>\n",
       "      <td>4975.0</td>\n",
       "      <td>24000.0</td>\n",
       "      <td>13648.0</td>\n",
       "      <td>0.00</td>\n",
       "      <td>0.00</td>\n",
       "      <td>5861.071414</td>\n",
       "      <td>5831.78</td>\n",
       "      <td>5000.00</td>\n",
       "      <td>861.07</td>\n",
       "      <td>0.00</td>\n",
       "      <td>0.00</td>\n",
       "      <td>171.62</td>\n",
       "      <td>132.053983</td>\n",
       "      <td>137182.970736</td>\n",
       "      <td>31274.143259</td>\n",
       "      <td>10.65</td>\n",
       "      <td>1.0</td>\n",
       "    </tr>\n",
       "    <tr>\n",
       "      <th>1</th>\n",
       "      <td>0</td>\n",
       "      <td>0</td>\n",
       "      <td>1</td>\n",
       "      <td>0</td>\n",
       "      <td>0</td>\n",
       "      <td>0</td>\n",
       "      <td>1</td>\n",
       "      <td>0</td>\n",
       "      <td>1</td>\n",
       "      <td>0</td>\n",
       "      <td>1</td>\n",
       "      <td>0</td>\n",
       "      <td>0</td>\n",
       "      <td>0</td>\n",
       "      <td>0</td>\n",
       "      <td>0</td>\n",
       "      <td>0</td>\n",
       "      <td>0</td>\n",
       "      <td>0</td>\n",
       "      <td>0</td>\n",
       "      <td>0</td>\n",
       "      <td>0</td>\n",
       "      <td>1</td>\n",
       "      <td>0</td>\n",
       "      <td>0</td>\n",
       "      <td>2500.0</td>\n",
       "      <td>30000.0</td>\n",
       "      <td>1687.0</td>\n",
       "      <td>0.00</td>\n",
       "      <td>0.00</td>\n",
       "      <td>1008.710000</td>\n",
       "      <td>1008.71</td>\n",
       "      <td>456.46</td>\n",
       "      <td>435.17</td>\n",
       "      <td>117.08</td>\n",
       "      <td>1.11</td>\n",
       "      <td>119.66</td>\n",
       "      <td>132.053983</td>\n",
       "      <td>137182.970736</td>\n",
       "      <td>31274.143259</td>\n",
       "      <td>15.27</td>\n",
       "      <td>4.0</td>\n",
       "    </tr>\n",
       "    <tr>\n",
       "      <th>2</th>\n",
       "      <td>0</td>\n",
       "      <td>0</td>\n",
       "      <td>0</td>\n",
       "      <td>0</td>\n",
       "      <td>1</td>\n",
       "      <td>0</td>\n",
       "      <td>0</td>\n",
       "      <td>0</td>\n",
       "      <td>1</td>\n",
       "      <td>0</td>\n",
       "      <td>1</td>\n",
       "      <td>0</td>\n",
       "      <td>0</td>\n",
       "      <td>0</td>\n",
       "      <td>0</td>\n",
       "      <td>0</td>\n",
       "      <td>1</td>\n",
       "      <td>0</td>\n",
       "      <td>0</td>\n",
       "      <td>0</td>\n",
       "      <td>0</td>\n",
       "      <td>0</td>\n",
       "      <td>0</td>\n",
       "      <td>0</td>\n",
       "      <td>0</td>\n",
       "      <td>2400.0</td>\n",
       "      <td>19000.0</td>\n",
       "      <td>2956.0</td>\n",
       "      <td>0.00</td>\n",
       "      <td>0.00</td>\n",
       "      <td>3003.653644</td>\n",
       "      <td>3003.65</td>\n",
       "      <td>2400.00</td>\n",
       "      <td>603.65</td>\n",
       "      <td>0.00</td>\n",
       "      <td>0.00</td>\n",
       "      <td>649.91</td>\n",
       "      <td>132.053983</td>\n",
       "      <td>137182.970736</td>\n",
       "      <td>31274.143259</td>\n",
       "      <td>15.96</td>\n",
       "      <td>2.0</td>\n",
       "    </tr>\n",
       "    <tr>\n",
       "      <th>3</th>\n",
       "      <td>0</td>\n",
       "      <td>0</td>\n",
       "      <td>1</td>\n",
       "      <td>0</td>\n",
       "      <td>0</td>\n",
       "      <td>0</td>\n",
       "      <td>1</td>\n",
       "      <td>0</td>\n",
       "      <td>1</td>\n",
       "      <td>0</td>\n",
       "      <td>1</td>\n",
       "      <td>0</td>\n",
       "      <td>0</td>\n",
       "      <td>0</td>\n",
       "      <td>0</td>\n",
       "      <td>0</td>\n",
       "      <td>1</td>\n",
       "      <td>0</td>\n",
       "      <td>0</td>\n",
       "      <td>0</td>\n",
       "      <td>0</td>\n",
       "      <td>0</td>\n",
       "      <td>0</td>\n",
       "      <td>0</td>\n",
       "      <td>0</td>\n",
       "      <td>10000.0</td>\n",
       "      <td>49200.0</td>\n",
       "      <td>5598.0</td>\n",
       "      <td>0.00</td>\n",
       "      <td>0.00</td>\n",
       "      <td>12226.302212</td>\n",
       "      <td>12226.30</td>\n",
       "      <td>10000.00</td>\n",
       "      <td>2209.33</td>\n",
       "      <td>0.00</td>\n",
       "      <td>0.00</td>\n",
       "      <td>357.48</td>\n",
       "      <td>132.053983</td>\n",
       "      <td>137182.970736</td>\n",
       "      <td>31274.143259</td>\n",
       "      <td>13.49</td>\n",
       "      <td>1.0</td>\n",
       "    </tr>\n",
       "    <tr>\n",
       "      <th>4</th>\n",
       "      <td>0</td>\n",
       "      <td>0</td>\n",
       "      <td>1</td>\n",
       "      <td>0</td>\n",
       "      <td>0</td>\n",
       "      <td>0</td>\n",
       "      <td>1</td>\n",
       "      <td>0</td>\n",
       "      <td>1</td>\n",
       "      <td>1</td>\n",
       "      <td>0</td>\n",
       "      <td>0</td>\n",
       "      <td>0</td>\n",
       "      <td>0</td>\n",
       "      <td>0</td>\n",
       "      <td>1</td>\n",
       "      <td>0</td>\n",
       "      <td>0</td>\n",
       "      <td>0</td>\n",
       "      <td>0</td>\n",
       "      <td>0</td>\n",
       "      <td>0</td>\n",
       "      <td>0</td>\n",
       "      <td>0</td>\n",
       "      <td>0</td>\n",
       "      <td>3000.0</td>\n",
       "      <td>80000.0</td>\n",
       "      <td>27783.0</td>\n",
       "      <td>766.90</td>\n",
       "      <td>766.90</td>\n",
       "      <td>3242.170000</td>\n",
       "      <td>3242.17</td>\n",
       "      <td>2233.10</td>\n",
       "      <td>1009.07</td>\n",
       "      <td>0.00</td>\n",
       "      <td>0.00</td>\n",
       "      <td>67.79</td>\n",
       "      <td>132.053983</td>\n",
       "      <td>137182.970736</td>\n",
       "      <td>31274.143259</td>\n",
       "      <td>12.69</td>\n",
       "      <td>0.0</td>\n",
       "    </tr>\n",
       "    <tr>\n",
       "      <th>...</th>\n",
       "      <td>...</td>\n",
       "      <td>...</td>\n",
       "      <td>...</td>\n",
       "      <td>...</td>\n",
       "      <td>...</td>\n",
       "      <td>...</td>\n",
       "      <td>...</td>\n",
       "      <td>...</td>\n",
       "      <td>...</td>\n",
       "      <td>...</td>\n",
       "      <td>...</td>\n",
       "      <td>...</td>\n",
       "      <td>...</td>\n",
       "      <td>...</td>\n",
       "      <td>...</td>\n",
       "      <td>...</td>\n",
       "      <td>...</td>\n",
       "      <td>...</td>\n",
       "      <td>...</td>\n",
       "      <td>...</td>\n",
       "      <td>...</td>\n",
       "      <td>...</td>\n",
       "      <td>...</td>\n",
       "      <td>...</td>\n",
       "      <td>...</td>\n",
       "      <td>...</td>\n",
       "      <td>...</td>\n",
       "      <td>...</td>\n",
       "      <td>...</td>\n",
       "      <td>...</td>\n",
       "      <td>...</td>\n",
       "      <td>...</td>\n",
       "      <td>...</td>\n",
       "      <td>...</td>\n",
       "      <td>...</td>\n",
       "      <td>...</td>\n",
       "      <td>...</td>\n",
       "      <td>...</td>\n",
       "      <td>...</td>\n",
       "      <td>...</td>\n",
       "      <td>...</td>\n",
       "      <td>...</td>\n",
       "    </tr>\n",
       "    <tr>\n",
       "      <th>887374</th>\n",
       "      <td>0</td>\n",
       "      <td>0</td>\n",
       "      <td>1</td>\n",
       "      <td>0</td>\n",
       "      <td>0</td>\n",
       "      <td>0</td>\n",
       "      <td>1</td>\n",
       "      <td>0</td>\n",
       "      <td>1</td>\n",
       "      <td>1</td>\n",
       "      <td>0</td>\n",
       "      <td>0</td>\n",
       "      <td>0</td>\n",
       "      <td>0</td>\n",
       "      <td>0</td>\n",
       "      <td>0</td>\n",
       "      <td>0</td>\n",
       "      <td>0</td>\n",
       "      <td>0</td>\n",
       "      <td>0</td>\n",
       "      <td>0</td>\n",
       "      <td>1</td>\n",
       "      <td>0</td>\n",
       "      <td>0</td>\n",
       "      <td>0</td>\n",
       "      <td>10000.0</td>\n",
       "      <td>31000.0</td>\n",
       "      <td>14037.0</td>\n",
       "      <td>7055.47</td>\n",
       "      <td>7055.47</td>\n",
       "      <td>3971.880000</td>\n",
       "      <td>3971.88</td>\n",
       "      <td>2944.53</td>\n",
       "      <td>1027.35</td>\n",
       "      <td>0.00</td>\n",
       "      <td>0.00</td>\n",
       "      <td>332.10</td>\n",
       "      <td>0.000000</td>\n",
       "      <td>25274.000000</td>\n",
       "      <td>17100.000000</td>\n",
       "      <td>11.99</td>\n",
       "      <td>0.0</td>\n",
       "    </tr>\n",
       "    <tr>\n",
       "      <th>887375</th>\n",
       "      <td>0</td>\n",
       "      <td>0</td>\n",
       "      <td>1</td>\n",
       "      <td>0</td>\n",
       "      <td>0</td>\n",
       "      <td>0</td>\n",
       "      <td>1</td>\n",
       "      <td>1</td>\n",
       "      <td>0</td>\n",
       "      <td>1</td>\n",
       "      <td>0</td>\n",
       "      <td>0</td>\n",
       "      <td>0</td>\n",
       "      <td>0</td>\n",
       "      <td>0</td>\n",
       "      <td>0</td>\n",
       "      <td>1</td>\n",
       "      <td>0</td>\n",
       "      <td>0</td>\n",
       "      <td>0</td>\n",
       "      <td>0</td>\n",
       "      <td>0</td>\n",
       "      <td>0</td>\n",
       "      <td>0</td>\n",
       "      <td>0</td>\n",
       "      <td>24000.0</td>\n",
       "      <td>79000.0</td>\n",
       "      <td>8621.0</td>\n",
       "      <td>16933.26</td>\n",
       "      <td>16933.26</td>\n",
       "      <td>9532.390000</td>\n",
       "      <td>9532.39</td>\n",
       "      <td>7066.74</td>\n",
       "      <td>2465.65</td>\n",
       "      <td>0.00</td>\n",
       "      <td>0.00</td>\n",
       "      <td>797.03</td>\n",
       "      <td>0.000000</td>\n",
       "      <td>140285.000000</td>\n",
       "      <td>10200.000000</td>\n",
       "      <td>11.99</td>\n",
       "      <td>1.0</td>\n",
       "    </tr>\n",
       "    <tr>\n",
       "      <th>887376</th>\n",
       "      <td>0</td>\n",
       "      <td>0</td>\n",
       "      <td>1</td>\n",
       "      <td>0</td>\n",
       "      <td>0</td>\n",
       "      <td>0</td>\n",
       "      <td>1</td>\n",
       "      <td>0</td>\n",
       "      <td>1</td>\n",
       "      <td>0</td>\n",
       "      <td>0</td>\n",
       "      <td>1</td>\n",
       "      <td>0</td>\n",
       "      <td>0</td>\n",
       "      <td>0</td>\n",
       "      <td>0</td>\n",
       "      <td>0</td>\n",
       "      <td>0</td>\n",
       "      <td>1</td>\n",
       "      <td>0</td>\n",
       "      <td>0</td>\n",
       "      <td>0</td>\n",
       "      <td>0</td>\n",
       "      <td>0</td>\n",
       "      <td>0</td>\n",
       "      <td>13000.0</td>\n",
       "      <td>35000.0</td>\n",
       "      <td>11031.0</td>\n",
       "      <td>11155.50</td>\n",
       "      <td>11155.50</td>\n",
       "      <td>3769.740000</td>\n",
       "      <td>3769.74</td>\n",
       "      <td>1844.50</td>\n",
       "      <td>1925.24</td>\n",
       "      <td>0.00</td>\n",
       "      <td>0.00</td>\n",
       "      <td>316.07</td>\n",
       "      <td>0.000000</td>\n",
       "      <td>34178.000000</td>\n",
       "      <td>18000.000000</td>\n",
       "      <td>15.99</td>\n",
       "      <td>0.0</td>\n",
       "    </tr>\n",
       "    <tr>\n",
       "      <th>887377</th>\n",
       "      <td>0</td>\n",
       "      <td>0</td>\n",
       "      <td>1</td>\n",
       "      <td>0</td>\n",
       "      <td>0</td>\n",
       "      <td>0</td>\n",
       "      <td>1</td>\n",
       "      <td>0</td>\n",
       "      <td>1</td>\n",
       "      <td>0</td>\n",
       "      <td>0</td>\n",
       "      <td>0</td>\n",
       "      <td>1</td>\n",
       "      <td>0</td>\n",
       "      <td>0</td>\n",
       "      <td>1</td>\n",
       "      <td>0</td>\n",
       "      <td>0</td>\n",
       "      <td>0</td>\n",
       "      <td>0</td>\n",
       "      <td>0</td>\n",
       "      <td>0</td>\n",
       "      <td>0</td>\n",
       "      <td>0</td>\n",
       "      <td>0</td>\n",
       "      <td>12000.0</td>\n",
       "      <td>64400.0</td>\n",
       "      <td>8254.0</td>\n",
       "      <td>10447.31</td>\n",
       "      <td>10447.31</td>\n",
       "      <td>3787.670000</td>\n",
       "      <td>3787.67</td>\n",
       "      <td>1552.69</td>\n",
       "      <td>2234.98</td>\n",
       "      <td>0.00</td>\n",
       "      <td>0.00</td>\n",
       "      <td>317.86</td>\n",
       "      <td>0.000000</td>\n",
       "      <td>58418.000000</td>\n",
       "      <td>27000.000000</td>\n",
       "      <td>19.99</td>\n",
       "      <td>2.0</td>\n",
       "    </tr>\n",
       "    <tr>\n",
       "      <th>887378</th>\n",
       "      <td>0</td>\n",
       "      <td>0</td>\n",
       "      <td>1</td>\n",
       "      <td>0</td>\n",
       "      <td>0</td>\n",
       "      <td>0</td>\n",
       "      <td>1</td>\n",
       "      <td>0</td>\n",
       "      <td>1</td>\n",
       "      <td>1</td>\n",
       "      <td>0</td>\n",
       "      <td>0</td>\n",
       "      <td>0</td>\n",
       "      <td>0</td>\n",
       "      <td>0</td>\n",
       "      <td>0</td>\n",
       "      <td>1</td>\n",
       "      <td>0</td>\n",
       "      <td>0</td>\n",
       "      <td>0</td>\n",
       "      <td>0</td>\n",
       "      <td>0</td>\n",
       "      <td>0</td>\n",
       "      <td>0</td>\n",
       "      <td>0</td>\n",
       "      <td>20000.0</td>\n",
       "      <td>100000.0</td>\n",
       "      <td>33266.0</td>\n",
       "      <td>14110.94</td>\n",
       "      <td>14110.94</td>\n",
       "      <td>7943.760000</td>\n",
       "      <td>7943.76</td>\n",
       "      <td>5889.06</td>\n",
       "      <td>2054.70</td>\n",
       "      <td>0.00</td>\n",
       "      <td>0.00</td>\n",
       "      <td>664.20</td>\n",
       "      <td>0.000000</td>\n",
       "      <td>33307.000000</td>\n",
       "      <td>41700.000000</td>\n",
       "      <td>11.99</td>\n",
       "      <td>1.0</td>\n",
       "    </tr>\n",
       "  </tbody>\n",
       "</table>\n",
       "<p>887379 rows × 42 columns</p>\n",
       "</div>"
      ],
      "text/plain": [
       "        purpose_1_house  purpose_1_moving  purpose_1_others  \\\n",
       "0                     0                 0                 1   \n",
       "1                     0                 0                 1   \n",
       "2                     0                 0                 0   \n",
       "3                     0                 0                 1   \n",
       "4                     0                 0                 1   \n",
       "...                 ...               ...               ...   \n",
       "887374                0                 0                 1   \n",
       "887375                0                 0                 1   \n",
       "887376                0                 0                 1   \n",
       "887377                0                 0                 1   \n",
       "887378                0                 0                 1   \n",
       "\n",
       "        purpose_1_renewable_energy  purpose_1_small_business  \\\n",
       "0                                0                         0   \n",
       "1                                0                         0   \n",
       "2                                0                         1   \n",
       "3                                0                         0   \n",
       "4                                0                         0   \n",
       "...                            ...                       ...   \n",
       "887374                           0                         0   \n",
       "887375                           0                         0   \n",
       "887376                           0                         0   \n",
       "887377                           0                         0   \n",
       "887378                           0                         0   \n",
       "\n",
       "        purpose_1_wedding  verified_1_Verified  home_own_1_OWN  \\\n",
       "0                       0                    1               0   \n",
       "1                       0                    1               0   \n",
       "2                       0                    0               0   \n",
       "3                       0                    1               0   \n",
       "4                       0                    1               0   \n",
       "...                   ...                  ...             ...   \n",
       "887374                  0                    1               0   \n",
       "887375                  0                    1               1   \n",
       "887376                  0                    1               0   \n",
       "887377                  0                    1               0   \n",
       "887378                  0                    1               0   \n",
       "\n",
       "        home_own_1_RENT  grade_B  grade_C  grade_D  grade_E  grade_F  grade_G  \\\n",
       "0                     1        1        0        0        0        0        0   \n",
       "1                     1        0        1        0        0        0        0   \n",
       "2                     1        0        1        0        0        0        0   \n",
       "3                     1        0        1        0        0        0        0   \n",
       "4                     1        1        0        0        0        0        0   \n",
       "...                 ...      ...      ...      ...      ...      ...      ...   \n",
       "887374                1        1        0        0        0        0        0   \n",
       "887375                0        1        0        0        0        0        0   \n",
       "887376                1        0        0        1        0        0        0   \n",
       "887377                1        0        0        0        1        0        0   \n",
       "887378                1        1        0        0        0        0        0   \n",
       "\n",
       "        emp_length_1 year  emp_length_10+ years  emp_length_4 years  \\\n",
       "0                       0                     1                   0   \n",
       "1                       0                     0                   0   \n",
       "2                       0                     1                   0   \n",
       "3                       0                     1                   0   \n",
       "4                       1                     0                   0   \n",
       "...                   ...                   ...                 ...   \n",
       "887374                  0                     0                   0   \n",
       "887375                  0                     1                   0   \n",
       "887376                  0                     0                   0   \n",
       "887377                  1                     0                   0   \n",
       "887378                  0                     1                   0   \n",
       "\n",
       "        emp_length_5 years  emp_length_6 years  emp_length_7 years  \\\n",
       "0                        0                   0                   0   \n",
       "1                        0                   0                   0   \n",
       "2                        0                   0                   0   \n",
       "3                        0                   0                   0   \n",
       "4                        0                   0                   0   \n",
       "...                    ...                 ...                 ...   \n",
       "887374                   0                   0                   0   \n",
       "887375                   0                   0                   0   \n",
       "887376                   1                   0                   0   \n",
       "887377                   0                   0                   0   \n",
       "887378                   0                   0                   0   \n",
       "\n",
       "        emp_length_8 years  emp_length_< 1 year  pymnt_plan_y  \\\n",
       "0                        0                    0             0   \n",
       "1                        0                    1             0   \n",
       "2                        0                    0             0   \n",
       "3                        0                    0             0   \n",
       "4                        0                    0             0   \n",
       "...                    ...                  ...           ...   \n",
       "887374                   1                    0             0   \n",
       "887375                   0                    0             0   \n",
       "887376                   0                    0             0   \n",
       "887377                   0                    0             0   \n",
       "887378                   0                    0             0   \n",
       "\n",
       "        application_type_JOINT  funded_amnt_inv  annual_inc  revol_bal  \\\n",
       "0                            0           4975.0     24000.0    13648.0   \n",
       "1                            0           2500.0     30000.0     1687.0   \n",
       "2                            0           2400.0     19000.0     2956.0   \n",
       "3                            0          10000.0     49200.0     5598.0   \n",
       "4                            0           3000.0     80000.0    27783.0   \n",
       "...                        ...              ...         ...        ...   \n",
       "887374                       0          10000.0     31000.0    14037.0   \n",
       "887375                       0          24000.0     79000.0     8621.0   \n",
       "887376                       0          13000.0     35000.0    11031.0   \n",
       "887377                       0          12000.0     64400.0     8254.0   \n",
       "887378                       0          20000.0    100000.0    33266.0   \n",
       "\n",
       "        out_prncp  out_prncp_inv   total_pymnt  total_pymnt_inv  \\\n",
       "0            0.00           0.00   5861.071414          5831.78   \n",
       "1            0.00           0.00   1008.710000          1008.71   \n",
       "2            0.00           0.00   3003.653644          3003.65   \n",
       "3            0.00           0.00  12226.302212         12226.30   \n",
       "4          766.90         766.90   3242.170000          3242.17   \n",
       "...           ...            ...           ...              ...   \n",
       "887374    7055.47        7055.47   3971.880000          3971.88   \n",
       "887375   16933.26       16933.26   9532.390000          9532.39   \n",
       "887376   11155.50       11155.50   3769.740000          3769.74   \n",
       "887377   10447.31       10447.31   3787.670000          3787.67   \n",
       "887378   14110.94       14110.94   7943.760000          7943.76   \n",
       "\n",
       "        total_rec_prncp  total_rec_int  recoveries  collection_recovery_fee  \\\n",
       "0               5000.00         861.07        0.00                     0.00   \n",
       "1                456.46         435.17      117.08                     1.11   \n",
       "2               2400.00         603.65        0.00                     0.00   \n",
       "3              10000.00        2209.33        0.00                     0.00   \n",
       "4               2233.10        1009.07        0.00                     0.00   \n",
       "...                 ...            ...         ...                      ...   \n",
       "887374          2944.53        1027.35        0.00                     0.00   \n",
       "887375          7066.74        2465.65        0.00                     0.00   \n",
       "887376          1844.50        1925.24        0.00                     0.00   \n",
       "887377          1552.69        2234.98        0.00                     0.00   \n",
       "887378          5889.06        2054.70        0.00                     0.00   \n",
       "\n",
       "        last_pymnt_amnt  tot_coll_amt    tot_cur_bal  total_rev_hi_lim  \\\n",
       "0                171.62    132.053983  137182.970736      31274.143259   \n",
       "1                119.66    132.053983  137182.970736      31274.143259   \n",
       "2                649.91    132.053983  137182.970736      31274.143259   \n",
       "3                357.48    132.053983  137182.970736      31274.143259   \n",
       "4                 67.79    132.053983  137182.970736      31274.143259   \n",
       "...                 ...           ...            ...               ...   \n",
       "887374           332.10      0.000000   25274.000000      17100.000000   \n",
       "887375           797.03      0.000000  140285.000000      10200.000000   \n",
       "887376           316.07      0.000000   34178.000000      18000.000000   \n",
       "887377           317.86      0.000000   58418.000000      27000.000000   \n",
       "887378           664.20      0.000000   33307.000000      41700.000000   \n",
       "\n",
       "        int_rate  inq_last_6mths  \n",
       "0          10.65             1.0  \n",
       "1          15.27             4.0  \n",
       "2          15.96             2.0  \n",
       "3          13.49             1.0  \n",
       "4          12.69             0.0  \n",
       "...          ...             ...  \n",
       "887374     11.99             0.0  \n",
       "887375     11.99             1.0  \n",
       "887376     15.99             0.0  \n",
       "887377     19.99             2.0  \n",
       "887378     11.99             1.0  \n",
       "\n",
       "[887379 rows x 42 columns]"
      ]
     },
     "execution_count": 97,
     "metadata": {},
     "output_type": "execute_result"
    }
   ],
   "source": [
    "X_all"
   ]
  },
  {
   "cell_type": "code",
   "execution_count": 56,
   "metadata": {
    "ExecuteTime": {
     "end_time": "2021-06-04T14:46:32.491697Z",
     "start_time": "2021-06-04T14:46:32.462802Z"
    }
   },
   "outputs": [
    {
     "data": {
      "text/plain": [
       "0    840151\n",
       "1     47228\n",
       "Name: target, dtype: int64"
      ]
     },
     "execution_count": 56,
     "metadata": {},
     "output_type": "execute_result"
    }
   ],
   "source": [
    "Y['target'].value_counts()"
   ]
  },
  {
   "cell_type": "code",
   "execution_count": 57,
   "metadata": {
    "ExecuteTime": {
     "end_time": "2021-06-04T14:46:32.507653Z",
     "start_time": "2021-06-04T14:46:32.493691Z"
    }
   },
   "outputs": [
    {
     "data": {
      "text/plain": [
       "target    0.053222\n",
       "dtype: float64"
      ]
     },
     "execution_count": 57,
     "metadata": {},
     "output_type": "execute_result"
    }
   ],
   "source": [
    "Y.mean()"
   ]
  },
  {
   "cell_type": "code",
   "execution_count": 58,
   "metadata": {
    "ExecuteTime": {
     "end_time": "2021-06-04T14:46:33.173885Z",
     "start_time": "2021-06-04T14:46:32.509649Z"
    }
   },
   "outputs": [],
   "source": [
    "# Split the data between Train and Testing datasets\n",
    "\n",
    "from sklearn.model_selection import train_test_split\n",
    "X_train, X_test, y_train, y_test=train_test_split(X_all, Y, test_size=0.3, random_state=42)"
   ]
  },
  {
   "cell_type": "code",
   "execution_count": 59,
   "metadata": {
    "ExecuteTime": {
     "end_time": "2021-06-04T14:46:33.219285Z",
     "start_time": "2021-06-04T14:46:33.175874Z"
    }
   },
   "outputs": [
    {
     "data": {
      "text/plain": [
       "count    621165.000000\n",
       "mean      16213.795386\n",
       "std       15199.432137\n",
       "min         309.000000\n",
       "25%        6440.000000\n",
       "50%       11872.000000\n",
       "75%       20813.000000\n",
       "max       93410.660000\n",
       "Name: revol_bal, dtype: float64"
      ]
     },
     "execution_count": 59,
     "metadata": {},
     "output_type": "execute_result"
    }
   ],
   "source": [
    "X_train['revol_bal'].describe()"
   ]
  },
  {
   "cell_type": "code",
   "execution_count": 60,
   "metadata": {
    "ExecuteTime": {
     "end_time": "2021-06-04T14:46:33.250842Z",
     "start_time": "2021-06-04T14:46:33.221283Z"
    }
   },
   "outputs": [
    {
     "data": {
      "text/plain": [
       "count    266214.000000\n",
       "mean      16220.211949\n",
       "std       15176.915439\n",
       "min         309.000000\n",
       "25%        6452.000000\n",
       "50%       11881.000000\n",
       "75%       20872.000000\n",
       "max       93410.660000\n",
       "Name: revol_bal, dtype: float64"
      ]
     },
     "execution_count": 60,
     "metadata": {},
     "output_type": "execute_result"
    }
   ],
   "source": [
    "X_test['revol_bal'].describe()"
   ]
  },
  {
   "cell_type": "code",
   "execution_count": 61,
   "metadata": {
    "ExecuteTime": {
     "end_time": "2021-06-04T14:46:33.311818Z",
     "start_time": "2021-06-04T14:46:33.255837Z"
    }
   },
   "outputs": [
    {
     "data": {
      "text/plain": [
       "count    887379.000000\n",
       "mean      16215.720357\n",
       "std       15192.672358\n",
       "min         309.000000\n",
       "25%        6443.000000\n",
       "50%       11875.000000\n",
       "75%       20829.000000\n",
       "max       93410.660000\n",
       "Name: revol_bal, dtype: float64"
      ]
     },
     "execution_count": 61,
     "metadata": {},
     "output_type": "execute_result"
    }
   ],
   "source": [
    "X_all['revol_bal'].describe()"
   ]
  },
  {
   "cell_type": "code",
   "execution_count": 62,
   "metadata": {
    "ExecuteTime": {
     "end_time": "2021-06-04T14:46:33.326731Z",
     "start_time": "2021-06-04T14:46:33.313737Z"
    }
   },
   "outputs": [
    {
     "data": {
      "text/plain": [
       "target    0.053195\n",
       "dtype: float64"
      ]
     },
     "execution_count": 62,
     "metadata": {},
     "output_type": "execute_result"
    }
   ],
   "source": [
    "y_train.mean()"
   ]
  },
  {
   "cell_type": "code",
   "execution_count": 63,
   "metadata": {
    "ExecuteTime": {
     "end_time": "2021-06-04T14:46:33.341690Z",
     "start_time": "2021-06-04T14:46:33.330695Z"
    },
    "scrolled": true
   },
   "outputs": [
    {
     "data": {
      "text/plain": [
       "target    0.053284\n",
       "dtype: float64"
      ]
     },
     "execution_count": 63,
     "metadata": {},
     "output_type": "execute_result"
    }
   ],
   "source": [
    "y_test.mean()"
   ]
  },
  {
   "cell_type": "code",
   "execution_count": 64,
   "metadata": {
    "ExecuteTime": {
     "end_time": "2021-06-04T14:46:33.357620Z",
     "start_time": "2021-06-04T14:46:33.343657Z"
    }
   },
   "outputs": [],
   "source": [
    "# Non Linearity in feature relationships are observed which makes tree methods a good choice\n",
    "# There are few options to consider among tree methods\n",
    "# White Box (Completely Explainable Set of Rules) - Decision Tree\n",
    "# Ensemble Methods - Random Forest (With Bagging)\n",
    "# Ensemble Methods - GBM/XGBoost (Boosting)"
   ]
  },
  {
   "cell_type": "code",
   "execution_count": null,
   "metadata": {
    "ExecuteTime": {
     "end_time": "2021-06-04T14:55:21.528487Z",
     "start_time": "2021-06-04T14:49:56.837Z"
    }
   },
   "outputs": [],
   "source": [
    "# Building a Decision Tree Model\n",
    "from sklearn.tree import DecisionTreeClassifier\n",
    "dtree=DecisionTreeClassifier(random_state=0)\n",
    "dtree.fit(X_train,y_train)"
   ]
  },
  {
   "cell_type": "markdown",
   "metadata": {},
   "source": [
    "from sklearn import tree\n",
    "import pydotplus\n",
    "import matplotlib.pyplot as plt\n",
    "plt.figure(figsize=[50,10])\n",
    "tree.plot_tree(dtree,filled=True,fontsize=20,rounded=True,feature_names=X_all.columns)\n",
    "plt.show()"
   ]
  },
  {
   "cell_type": "code",
   "execution_count": 66,
   "metadata": {
    "ExecuteTime": {
     "end_time": "2021-06-04T14:50:09.597598Z",
     "start_time": "2021-06-04T14:46:48.905011Z"
    }
   },
   "outputs": [
    {
     "data": {
      "text/plain": [
       "RandomForestClassifier(random_state=0)"
      ]
     },
     "execution_count": 66,
     "metadata": {},
     "output_type": "execute_result"
    }
   ],
   "source": [
    "# Building a Random Forest Model\n",
    "from sklearn.ensemble import RandomForestClassifier\n",
    "rf=RandomForestClassifier(random_state=0, max_depth=4)\n",
    "rf.fit(X_train,y_train)"
   ]
  },
  {
   "cell_type": "code",
   "execution_count": 67,
   "metadata": {
    "ExecuteTime": {
     "end_time": "2021-06-04T14:50:09.692140Z",
     "start_time": "2021-06-04T14:50:09.637001Z"
    }
   },
   "outputs": [
    {
     "data": {
      "text/html": [
       "<div>\n",
       "<style scoped>\n",
       "    .dataframe tbody tr th:only-of-type {\n",
       "        vertical-align: middle;\n",
       "    }\n",
       "\n",
       "    .dataframe tbody tr th {\n",
       "        vertical-align: top;\n",
       "    }\n",
       "\n",
       "    .dataframe thead th {\n",
       "        text-align: right;\n",
       "    }\n",
       "</style>\n",
       "<table border=\"1\" class=\"dataframe\">\n",
       "  <thead>\n",
       "    <tr style=\"text-align: right;\">\n",
       "      <th></th>\n",
       "      <th>importance</th>\n",
       "    </tr>\n",
       "  </thead>\n",
       "  <tbody>\n",
       "    <tr>\n",
       "      <th>recoveries</th>\n",
       "      <td>2.407136e-01</td>\n",
       "    </tr>\n",
       "    <tr>\n",
       "      <th>collection_recovery_fee</th>\n",
       "      <td>1.461739e-01</td>\n",
       "    </tr>\n",
       "    <tr>\n",
       "      <th>total_rec_prncp</th>\n",
       "      <td>9.814089e-02</td>\n",
       "    </tr>\n",
       "    <tr>\n",
       "      <th>funded_amnt_inv</th>\n",
       "      <td>8.950180e-02</td>\n",
       "    </tr>\n",
       "    <tr>\n",
       "      <th>out_prncp_inv</th>\n",
       "      <td>8.215354e-02</td>\n",
       "    </tr>\n",
       "    <tr>\n",
       "      <th>out_prncp</th>\n",
       "      <td>8.074012e-02</td>\n",
       "    </tr>\n",
       "    <tr>\n",
       "      <th>last_pymnt_amnt</th>\n",
       "      <td>7.306237e-02</td>\n",
       "    </tr>\n",
       "    <tr>\n",
       "      <th>total_pymnt_inv</th>\n",
       "      <td>4.481085e-02</td>\n",
       "    </tr>\n",
       "    <tr>\n",
       "      <th>total_pymnt</th>\n",
       "      <td>4.412551e-02</td>\n",
       "    </tr>\n",
       "    <tr>\n",
       "      <th>total_rec_int</th>\n",
       "      <td>3.563622e-02</td>\n",
       "    </tr>\n",
       "    <tr>\n",
       "      <th>int_rate</th>\n",
       "      <td>1.267815e-02</td>\n",
       "    </tr>\n",
       "    <tr>\n",
       "      <th>total_rev_hi_lim</th>\n",
       "      <td>9.648938e-03</td>\n",
       "    </tr>\n",
       "    <tr>\n",
       "      <th>revol_bal</th>\n",
       "      <td>8.551837e-03</td>\n",
       "    </tr>\n",
       "    <tr>\n",
       "      <th>tot_cur_bal</th>\n",
       "      <td>7.245958e-03</td>\n",
       "    </tr>\n",
       "    <tr>\n",
       "      <th>tot_coll_amt</th>\n",
       "      <td>6.495848e-03</td>\n",
       "    </tr>\n",
       "    <tr>\n",
       "      <th>annual_inc</th>\n",
       "      <td>5.258955e-03</td>\n",
       "    </tr>\n",
       "    <tr>\n",
       "      <th>verified_1_Verified</th>\n",
       "      <td>2.640627e-03</td>\n",
       "    </tr>\n",
       "    <tr>\n",
       "      <th>inq_last_6mths</th>\n",
       "      <td>1.981769e-03</td>\n",
       "    </tr>\n",
       "    <tr>\n",
       "      <th>grade_E</th>\n",
       "      <td>1.494442e-03</td>\n",
       "    </tr>\n",
       "    <tr>\n",
       "      <th>grade_D</th>\n",
       "      <td>9.023477e-04</td>\n",
       "    </tr>\n",
       "    <tr>\n",
       "      <th>grade_B</th>\n",
       "      <td>8.811239e-04</td>\n",
       "    </tr>\n",
       "    <tr>\n",
       "      <th>grade_F</th>\n",
       "      <td>8.190804e-04</td>\n",
       "    </tr>\n",
       "    <tr>\n",
       "      <th>grade_C</th>\n",
       "      <td>7.611367e-04</td>\n",
       "    </tr>\n",
       "    <tr>\n",
       "      <th>emp_length_10+ years</th>\n",
       "      <td>6.961683e-04</td>\n",
       "    </tr>\n",
       "    <tr>\n",
       "      <th>home_own_1_OWN</th>\n",
       "      <td>5.936185e-04</td>\n",
       "    </tr>\n",
       "    <tr>\n",
       "      <th>home_own_1_RENT</th>\n",
       "      <td>5.735947e-04</td>\n",
       "    </tr>\n",
       "    <tr>\n",
       "      <th>emp_length_&lt; 1 year</th>\n",
       "      <td>4.332853e-04</td>\n",
       "    </tr>\n",
       "    <tr>\n",
       "      <th>emp_length_1 year</th>\n",
       "      <td>3.883506e-04</td>\n",
       "    </tr>\n",
       "    <tr>\n",
       "      <th>emp_length_5 years</th>\n",
       "      <td>3.669225e-04</td>\n",
       "    </tr>\n",
       "    <tr>\n",
       "      <th>emp_length_4 years</th>\n",
       "      <td>3.504506e-04</td>\n",
       "    </tr>\n",
       "    <tr>\n",
       "      <th>purpose_1_others</th>\n",
       "      <td>3.434810e-04</td>\n",
       "    </tr>\n",
       "    <tr>\n",
       "      <th>emp_length_7 years</th>\n",
       "      <td>3.406705e-04</td>\n",
       "    </tr>\n",
       "    <tr>\n",
       "      <th>emp_length_8 years</th>\n",
       "      <td>3.337327e-04</td>\n",
       "    </tr>\n",
       "    <tr>\n",
       "      <th>emp_length_6 years</th>\n",
       "      <td>2.811978e-04</td>\n",
       "    </tr>\n",
       "    <tr>\n",
       "      <th>purpose_1_small_business</th>\n",
       "      <td>2.634997e-04</td>\n",
       "    </tr>\n",
       "    <tr>\n",
       "      <th>grade_G</th>\n",
       "      <td>2.436831e-04</td>\n",
       "    </tr>\n",
       "    <tr>\n",
       "      <th>purpose_1_moving</th>\n",
       "      <td>1.606530e-04</td>\n",
       "    </tr>\n",
       "    <tr>\n",
       "      <th>purpose_1_wedding</th>\n",
       "      <td>1.043253e-04</td>\n",
       "    </tr>\n",
       "    <tr>\n",
       "      <th>purpose_1_house</th>\n",
       "      <td>8.748108e-05</td>\n",
       "    </tr>\n",
       "    <tr>\n",
       "      <th>purpose_1_renewable_energy</th>\n",
       "      <td>1.912019e-05</td>\n",
       "    </tr>\n",
       "    <tr>\n",
       "      <th>pymnt_plan_y</th>\n",
       "      <td>4.431383e-07</td>\n",
       "    </tr>\n",
       "    <tr>\n",
       "      <th>application_type_JOINT</th>\n",
       "      <td>2.821364e-07</td>\n",
       "    </tr>\n",
       "  </tbody>\n",
       "</table>\n",
       "</div>"
      ],
      "text/plain": [
       "                              importance\n",
       "recoveries                  2.407136e-01\n",
       "collection_recovery_fee     1.461739e-01\n",
       "total_rec_prncp             9.814089e-02\n",
       "funded_amnt_inv             8.950180e-02\n",
       "out_prncp_inv               8.215354e-02\n",
       "out_prncp                   8.074012e-02\n",
       "last_pymnt_amnt             7.306237e-02\n",
       "total_pymnt_inv             4.481085e-02\n",
       "total_pymnt                 4.412551e-02\n",
       "total_rec_int               3.563622e-02\n",
       "int_rate                    1.267815e-02\n",
       "total_rev_hi_lim            9.648938e-03\n",
       "revol_bal                   8.551837e-03\n",
       "tot_cur_bal                 7.245958e-03\n",
       "tot_coll_amt                6.495848e-03\n",
       "annual_inc                  5.258955e-03\n",
       "verified_1_Verified         2.640627e-03\n",
       "inq_last_6mths              1.981769e-03\n",
       "grade_E                     1.494442e-03\n",
       "grade_D                     9.023477e-04\n",
       "grade_B                     8.811239e-04\n",
       "grade_F                     8.190804e-04\n",
       "grade_C                     7.611367e-04\n",
       "emp_length_10+ years        6.961683e-04\n",
       "home_own_1_OWN              5.936185e-04\n",
       "home_own_1_RENT             5.735947e-04\n",
       "emp_length_< 1 year         4.332853e-04\n",
       "emp_length_1 year           3.883506e-04\n",
       "emp_length_5 years          3.669225e-04\n",
       "emp_length_4 years          3.504506e-04\n",
       "purpose_1_others            3.434810e-04\n",
       "emp_length_7 years          3.406705e-04\n",
       "emp_length_8 years          3.337327e-04\n",
       "emp_length_6 years          2.811978e-04\n",
       "purpose_1_small_business    2.634997e-04\n",
       "grade_G                     2.436831e-04\n",
       "purpose_1_moving            1.606530e-04\n",
       "purpose_1_wedding           1.043253e-04\n",
       "purpose_1_house             8.748108e-05\n",
       "purpose_1_renewable_energy  1.912019e-05\n",
       "pymnt_plan_y                4.431383e-07\n",
       "application_type_JOINT      2.821364e-07"
      ]
     },
     "execution_count": 67,
     "metadata": {},
     "output_type": "execute_result"
    }
   ],
   "source": [
    "import pandas as pd\n",
    "feature_importances=pd.DataFrame(rf.feature_importances_,\n",
    "                                 index=X_train.columns,\n",
    "                                 columns=['importance']).sort_values('importance',ascending=False)\n",
    "feature_importances"
   ]
  },
  {
   "cell_type": "code",
   "execution_count": 73,
   "metadata": {
    "ExecuteTime": {
     "end_time": "2021-06-04T15:05:14.595305Z",
     "start_time": "2021-06-04T14:59:58.659131Z"
    }
   },
   "outputs": [
    {
     "data": {
      "text/plain": [
       "GradientBoostingClassifier(random_state=0)"
      ]
     },
     "execution_count": 73,
     "metadata": {},
     "output_type": "execute_result"
    }
   ],
   "source": [
    "# Building a Gradient Boosting Model\n",
    "from sklearn.ensemble import GradientBoostingClassifier\n",
    "clf=GradientBoostingClassifier(random_state=0)\n",
    "clf.fit(X_train,y_train)"
   ]
  },
  {
   "cell_type": "markdown",
   "metadata": {},
   "source": [
    "import pandas as pd\n",
    "feature_importances=pd.DataFrame(clf.feature_importances_,\n",
    "                                 index=X_train.columns,\n",
    "                                 columns=['importance']).sort_values('importance',ascending=False)\n",
    "feature_importances"
   ]
  },
  {
   "cell_type": "code",
   "execution_count": 72,
   "metadata": {
    "ExecuteTime": {
     "end_time": "2021-06-04T14:58:18.880856Z",
     "start_time": "2021-06-04T14:58:18.402600Z"
    }
   },
   "outputs": [
    {
     "ename": "ValueError",
     "evalue": "feature_names must be string, and may not contain [, ] or <",
     "output_type": "error",
     "traceback": [
      "\u001b[1;31m---------------------------------------------------------------------------\u001b[0m",
      "\u001b[1;31mValueError\u001b[0m                                Traceback (most recent call last)",
      "\u001b[1;32m<ipython-input-72-73b6a5507efc>\u001b[0m in \u001b[0;36m<module>\u001b[1;34m\u001b[0m\n\u001b[0;32m      2\u001b[0m \u001b[1;32mfrom\u001b[0m \u001b[0mxgboost\u001b[0m \u001b[1;32mimport\u001b[0m \u001b[0mXGBClassifier\u001b[0m\u001b[1;33m\u001b[0m\u001b[1;33m\u001b[0m\u001b[0m\n\u001b[0;32m      3\u001b[0m \u001b[0mxgb\u001b[0m\u001b[1;33m=\u001b[0m\u001b[0mXGBClassifier\u001b[0m\u001b[1;33m(\u001b[0m\u001b[0mrandom_state\u001b[0m\u001b[1;33m=\u001b[0m\u001b[1;36m0\u001b[0m\u001b[1;33m)\u001b[0m\u001b[1;33m\u001b[0m\u001b[1;33m\u001b[0m\u001b[0m\n\u001b[1;32m----> 4\u001b[1;33m \u001b[0mxgb\u001b[0m\u001b[1;33m.\u001b[0m\u001b[0mfit\u001b[0m\u001b[1;33m(\u001b[0m\u001b[0mX_train\u001b[0m\u001b[1;33m,\u001b[0m\u001b[0my_train\u001b[0m\u001b[1;33m)\u001b[0m\u001b[1;33m\u001b[0m\u001b[1;33m\u001b[0m\u001b[0m\n\u001b[0m",
      "\u001b[1;32mC:\\ProgramData\\Anaconda3\\lib\\site-packages\\xgboost\\core.py\u001b[0m in \u001b[0;36minner_f\u001b[1;34m(*args, **kwargs)\u001b[0m\n\u001b[0;32m    431\u001b[0m         \u001b[1;32mfor\u001b[0m \u001b[0mk\u001b[0m\u001b[1;33m,\u001b[0m \u001b[0marg\u001b[0m \u001b[1;32min\u001b[0m \u001b[0mzip\u001b[0m\u001b[1;33m(\u001b[0m\u001b[0msig\u001b[0m\u001b[1;33m.\u001b[0m\u001b[0mparameters\u001b[0m\u001b[1;33m,\u001b[0m \u001b[0margs\u001b[0m\u001b[1;33m)\u001b[0m\u001b[1;33m:\u001b[0m\u001b[1;33m\u001b[0m\u001b[1;33m\u001b[0m\u001b[0m\n\u001b[0;32m    432\u001b[0m             \u001b[0mkwargs\u001b[0m\u001b[1;33m[\u001b[0m\u001b[0mk\u001b[0m\u001b[1;33m]\u001b[0m \u001b[1;33m=\u001b[0m \u001b[0marg\u001b[0m\u001b[1;33m\u001b[0m\u001b[1;33m\u001b[0m\u001b[0m\n\u001b[1;32m--> 433\u001b[1;33m         \u001b[1;32mreturn\u001b[0m \u001b[0mf\u001b[0m\u001b[1;33m(\u001b[0m\u001b[1;33m**\u001b[0m\u001b[0mkwargs\u001b[0m\u001b[1;33m)\u001b[0m\u001b[1;33m\u001b[0m\u001b[1;33m\u001b[0m\u001b[0m\n\u001b[0m\u001b[0;32m    434\u001b[0m \u001b[1;33m\u001b[0m\u001b[0m\n\u001b[0;32m    435\u001b[0m     \u001b[1;32mreturn\u001b[0m \u001b[0minner_f\u001b[0m\u001b[1;33m\u001b[0m\u001b[1;33m\u001b[0m\u001b[0m\n",
      "\u001b[1;32mC:\\ProgramData\\Anaconda3\\lib\\site-packages\\xgboost\\sklearn.py\u001b[0m in \u001b[0;36mfit\u001b[1;34m(self, X, y, sample_weight, base_margin, eval_set, eval_metric, early_stopping_rounds, verbose, xgb_model, sample_weight_eval_set, base_margin_eval_set, feature_weights, callbacks)\u001b[0m\n\u001b[0;32m   1156\u001b[0m             \u001b[1;32mraise\u001b[0m \u001b[0mValueError\u001b[0m\u001b[1;33m(\u001b[0m\u001b[1;34m\"Please reshape the input data X into 2-dimensional matrix.\"\u001b[0m\u001b[1;33m)\u001b[0m\u001b[1;33m\u001b[0m\u001b[1;33m\u001b[0m\u001b[0m\n\u001b[0;32m   1157\u001b[0m \u001b[1;33m\u001b[0m\u001b[0m\n\u001b[1;32m-> 1158\u001b[1;33m         train_dmatrix, evals = _wrap_evaluation_matrices(\n\u001b[0m\u001b[0;32m   1159\u001b[0m             \u001b[0mmissing\u001b[0m\u001b[1;33m=\u001b[0m\u001b[0mself\u001b[0m\u001b[1;33m.\u001b[0m\u001b[0mmissing\u001b[0m\u001b[1;33m,\u001b[0m\u001b[1;33m\u001b[0m\u001b[1;33m\u001b[0m\u001b[0m\n\u001b[0;32m   1160\u001b[0m             \u001b[0mX\u001b[0m\u001b[1;33m=\u001b[0m\u001b[0mX\u001b[0m\u001b[1;33m,\u001b[0m\u001b[1;33m\u001b[0m\u001b[1;33m\u001b[0m\u001b[0m\n",
      "\u001b[1;32mC:\\ProgramData\\Anaconda3\\lib\\site-packages\\xgboost\\sklearn.py\u001b[0m in \u001b[0;36m_wrap_evaluation_matrices\u001b[1;34m(missing, X, y, group, qid, sample_weight, base_margin, feature_weights, eval_set, sample_weight_eval_set, base_margin_eval_set, eval_group, eval_qid, create_dmatrix, label_transform)\u001b[0m\n\u001b[0;32m    234\u001b[0m \u001b[1;33m\u001b[0m\u001b[0m\n\u001b[0;32m    235\u001b[0m     \"\"\"\n\u001b[1;32m--> 236\u001b[1;33m     train_dmatrix = create_dmatrix(\n\u001b[0m\u001b[0;32m    237\u001b[0m         \u001b[0mdata\u001b[0m\u001b[1;33m=\u001b[0m\u001b[0mX\u001b[0m\u001b[1;33m,\u001b[0m\u001b[1;33m\u001b[0m\u001b[1;33m\u001b[0m\u001b[0m\n\u001b[0;32m    238\u001b[0m         \u001b[0mlabel\u001b[0m\u001b[1;33m=\u001b[0m\u001b[0mlabel_transform\u001b[0m\u001b[1;33m(\u001b[0m\u001b[0my\u001b[0m\u001b[1;33m)\u001b[0m\u001b[1;33m,\u001b[0m\u001b[1;33m\u001b[0m\u001b[1;33m\u001b[0m\u001b[0m\n",
      "\u001b[1;32mC:\\ProgramData\\Anaconda3\\lib\\site-packages\\xgboost\\sklearn.py\u001b[0m in \u001b[0;36m<lambda>\u001b[1;34m(**kwargs)\u001b[0m\n\u001b[0;32m   1170\u001b[0m             \u001b[0meval_group\u001b[0m\u001b[1;33m=\u001b[0m\u001b[1;32mNone\u001b[0m\u001b[1;33m,\u001b[0m\u001b[1;33m\u001b[0m\u001b[1;33m\u001b[0m\u001b[0m\n\u001b[0;32m   1171\u001b[0m             \u001b[0meval_qid\u001b[0m\u001b[1;33m=\u001b[0m\u001b[1;32mNone\u001b[0m\u001b[1;33m,\u001b[0m\u001b[1;33m\u001b[0m\u001b[1;33m\u001b[0m\u001b[0m\n\u001b[1;32m-> 1172\u001b[1;33m             \u001b[0mcreate_dmatrix\u001b[0m\u001b[1;33m=\u001b[0m\u001b[1;32mlambda\u001b[0m \u001b[1;33m**\u001b[0m\u001b[0mkwargs\u001b[0m\u001b[1;33m:\u001b[0m \u001b[0mDMatrix\u001b[0m\u001b[1;33m(\u001b[0m\u001b[0mnthread\u001b[0m\u001b[1;33m=\u001b[0m\u001b[0mself\u001b[0m\u001b[1;33m.\u001b[0m\u001b[0mn_jobs\u001b[0m\u001b[1;33m,\u001b[0m \u001b[1;33m**\u001b[0m\u001b[0mkwargs\u001b[0m\u001b[1;33m)\u001b[0m\u001b[1;33m,\u001b[0m\u001b[1;33m\u001b[0m\u001b[1;33m\u001b[0m\u001b[0m\n\u001b[0m\u001b[0;32m   1173\u001b[0m             \u001b[0mlabel_transform\u001b[0m\u001b[1;33m=\u001b[0m\u001b[0mlabel_transform\u001b[0m\u001b[1;33m,\u001b[0m\u001b[1;33m\u001b[0m\u001b[1;33m\u001b[0m\u001b[0m\n\u001b[0;32m   1174\u001b[0m         )\n",
      "\u001b[1;32mC:\\ProgramData\\Anaconda3\\lib\\site-packages\\xgboost\\core.py\u001b[0m in \u001b[0;36minner_f\u001b[1;34m(*args, **kwargs)\u001b[0m\n\u001b[0;32m    431\u001b[0m         \u001b[1;32mfor\u001b[0m \u001b[0mk\u001b[0m\u001b[1;33m,\u001b[0m \u001b[0marg\u001b[0m \u001b[1;32min\u001b[0m \u001b[0mzip\u001b[0m\u001b[1;33m(\u001b[0m\u001b[0msig\u001b[0m\u001b[1;33m.\u001b[0m\u001b[0mparameters\u001b[0m\u001b[1;33m,\u001b[0m \u001b[0margs\u001b[0m\u001b[1;33m)\u001b[0m\u001b[1;33m:\u001b[0m\u001b[1;33m\u001b[0m\u001b[1;33m\u001b[0m\u001b[0m\n\u001b[0;32m    432\u001b[0m             \u001b[0mkwargs\u001b[0m\u001b[1;33m[\u001b[0m\u001b[0mk\u001b[0m\u001b[1;33m]\u001b[0m \u001b[1;33m=\u001b[0m \u001b[0marg\u001b[0m\u001b[1;33m\u001b[0m\u001b[1;33m\u001b[0m\u001b[0m\n\u001b[1;32m--> 433\u001b[1;33m         \u001b[1;32mreturn\u001b[0m \u001b[0mf\u001b[0m\u001b[1;33m(\u001b[0m\u001b[1;33m**\u001b[0m\u001b[0mkwargs\u001b[0m\u001b[1;33m)\u001b[0m\u001b[1;33m\u001b[0m\u001b[1;33m\u001b[0m\u001b[0m\n\u001b[0m\u001b[0;32m    434\u001b[0m \u001b[1;33m\u001b[0m\u001b[0m\n\u001b[0;32m    435\u001b[0m     \u001b[1;32mreturn\u001b[0m \u001b[0minner_f\u001b[0m\u001b[1;33m\u001b[0m\u001b[1;33m\u001b[0m\u001b[0m\n",
      "\u001b[1;32mC:\\ProgramData\\Anaconda3\\lib\\site-packages\\xgboost\\core.py\u001b[0m in \u001b[0;36m__init__\u001b[1;34m(self, data, label, weight, base_margin, missing, silent, feature_names, feature_types, nthread, group, qid, label_lower_bound, label_upper_bound, feature_weights, enable_categorical)\u001b[0m\n\u001b[0;32m    559\u001b[0m \u001b[1;33m\u001b[0m\u001b[0m\n\u001b[0;32m    560\u001b[0m         \u001b[1;32mif\u001b[0m \u001b[0mfeature_names\u001b[0m \u001b[1;32mis\u001b[0m \u001b[1;32mnot\u001b[0m \u001b[1;32mNone\u001b[0m\u001b[1;33m:\u001b[0m\u001b[1;33m\u001b[0m\u001b[1;33m\u001b[0m\u001b[0m\n\u001b[1;32m--> 561\u001b[1;33m             \u001b[0mself\u001b[0m\u001b[1;33m.\u001b[0m\u001b[0mfeature_names\u001b[0m \u001b[1;33m=\u001b[0m \u001b[0mfeature_names\u001b[0m\u001b[1;33m\u001b[0m\u001b[1;33m\u001b[0m\u001b[0m\n\u001b[0m\u001b[0;32m    562\u001b[0m         \u001b[1;32mif\u001b[0m \u001b[0mfeature_types\u001b[0m \u001b[1;32mis\u001b[0m \u001b[1;32mnot\u001b[0m \u001b[1;32mNone\u001b[0m\u001b[1;33m:\u001b[0m\u001b[1;33m\u001b[0m\u001b[1;33m\u001b[0m\u001b[0m\n\u001b[0;32m    563\u001b[0m             \u001b[0mself\u001b[0m\u001b[1;33m.\u001b[0m\u001b[0mfeature_types\u001b[0m \u001b[1;33m=\u001b[0m \u001b[0mfeature_types\u001b[0m\u001b[1;33m\u001b[0m\u001b[1;33m\u001b[0m\u001b[0m\n",
      "\u001b[1;32mC:\\ProgramData\\Anaconda3\\lib\\site-packages\\xgboost\\core.py\u001b[0m in \u001b[0;36mfeature_names\u001b[1;34m(self, feature_names)\u001b[0m\n\u001b[0;32m    901\u001b[0m                        \u001b[1;32mnot\u001b[0m \u001b[0many\u001b[0m\u001b[1;33m(\u001b[0m\u001b[0mx\u001b[0m \u001b[1;32min\u001b[0m \u001b[0mf\u001b[0m \u001b[1;32mfor\u001b[0m \u001b[0mx\u001b[0m \u001b[1;32min\u001b[0m \u001b[0mset\u001b[0m\u001b[1;33m(\u001b[0m\u001b[1;33m(\u001b[0m\u001b[1;34m'['\u001b[0m\u001b[1;33m,\u001b[0m \u001b[1;34m']'\u001b[0m\u001b[1;33m,\u001b[0m \u001b[1;34m'<'\u001b[0m\u001b[1;33m)\u001b[0m\u001b[1;33m)\u001b[0m\u001b[1;33m)\u001b[0m\u001b[1;33m\u001b[0m\u001b[1;33m\u001b[0m\u001b[0m\n\u001b[0;32m    902\u001b[0m                        for f in feature_names):\n\u001b[1;32m--> 903\u001b[1;33m                 \u001b[1;32mraise\u001b[0m \u001b[0mValueError\u001b[0m\u001b[1;33m(\u001b[0m\u001b[1;34m'feature_names must be string, and may not contain [, ] or <'\u001b[0m\u001b[1;33m)\u001b[0m\u001b[1;33m\u001b[0m\u001b[1;33m\u001b[0m\u001b[0m\n\u001b[0m\u001b[0;32m    904\u001b[0m             \u001b[0mc_feature_names\u001b[0m \u001b[1;33m=\u001b[0m \u001b[1;33m[\u001b[0m\u001b[0mbytes\u001b[0m\u001b[1;33m(\u001b[0m\u001b[0mf\u001b[0m\u001b[1;33m,\u001b[0m \u001b[0mencoding\u001b[0m\u001b[1;33m=\u001b[0m\u001b[1;34m'utf-8'\u001b[0m\u001b[1;33m)\u001b[0m \u001b[1;32mfor\u001b[0m \u001b[0mf\u001b[0m \u001b[1;32min\u001b[0m \u001b[0mfeature_names\u001b[0m\u001b[1;33m]\u001b[0m\u001b[1;33m\u001b[0m\u001b[1;33m\u001b[0m\u001b[0m\n\u001b[0;32m    905\u001b[0m             c_feature_names = (ctypes.c_char_p *\n",
      "\u001b[1;31mValueError\u001b[0m: feature_names must be string, and may not contain [, ] or <"
     ]
    }
   ],
   "source": [
    "# # Building a XGBoost Model\n",
    "# from xgboost import XGBClassifier\n",
    "# xgb=XGBClassifier(random_state=0)\n",
    "# xgb.fit(X_train,y_train)"
   ]
  },
  {
   "cell_type": "code",
   "execution_count": 74,
   "metadata": {
    "ExecuteTime": {
     "end_time": "2021-06-04T15:05:41.958767Z",
     "start_time": "2021-06-04T15:05:36.445206Z"
    }
   },
   "outputs": [],
   "source": [
    "# Model Evaluation\n",
    "y_pred=clf.predict(X_test)\n",
    "y_pred_tree=dtree.predict(X_test)\n",
    "y_pred_rf=rf.predict(X_test)\n",
    "# y_pred_xgb=xgb.predict(X_test)\n"
   ]
  },
  {
   "cell_type": "code",
   "execution_count": 75,
   "metadata": {
    "ExecuteTime": {
     "end_time": "2021-06-04T15:05:44.896996Z",
     "start_time": "2021-06-04T15:05:44.878997Z"
    }
   },
   "outputs": [],
   "source": [
    "from sklearn import metrics\n",
    "from sklearn.metrics import confusion_matrix"
   ]
  },
  {
   "cell_type": "code",
   "execution_count": 76,
   "metadata": {
    "ExecuteTime": {
     "end_time": "2021-06-04T15:05:46.169939Z",
     "start_time": "2021-06-04T15:05:45.816957Z"
    }
   },
   "outputs": [
    {
     "name": "stdout",
     "output_type": "stream",
     "text": [
      "Accuracy: 0.9963262638328563\n",
      "Precision 0.9639570013349259\n",
      "Recall 0.9672188931970391\n",
      "f1_score 0.9655851924836371\n"
     ]
    }
   ],
   "source": [
    "y_pred_tree=dtree.predict(X_test)\n",
    "from sklearn import metrics\n",
    "print(\"Accuracy:\",metrics.accuracy_score(y_test, y_pred_tree))\n",
    "print(\"Precision\",metrics.precision_score(y_test,y_pred_tree))\n",
    "print(\"Recall\",metrics.recall_score(y_test,y_pred_tree))\n",
    "print(\"f1_score\",metrics.f1_score(y_test,y_pred_tree))"
   ]
  },
  {
   "cell_type": "code",
   "execution_count": 77,
   "metadata": {
    "ExecuteTime": {
     "end_time": "2021-06-04T15:05:49.498693Z",
     "start_time": "2021-06-04T15:05:48.313115Z"
    }
   },
   "outputs": [
    {
     "data": {
      "text/plain": [
       "<sklearn.metrics._plot.confusion_matrix.ConfusionMatrixDisplay at 0x1a31e5d03a0>"
      ]
     },
     "execution_count": 77,
     "metadata": {},
     "output_type": "execute_result"
    },
    {
     "data": {
      "image/png": "[encoded data removed]",
      "text/plain": [
       "<Figure size 432x288 with 2 Axes>"
      ]
     },
     "metadata": {
      "needs_background": "light"
     },
     "output_type": "display_data"
    }
   ],
   "source": [
    "metrics.plot_confusion_matrix(dtree,X_all,Y)"
   ]
  },
  {
   "cell_type": "code",
   "execution_count": 79,
   "metadata": {
    "ExecuteTime": {
     "end_time": "2021-06-04T15:06:05.544382Z",
     "start_time": "2021-06-04T15:06:05.288030Z"
    }
   },
   "outputs": [
    {
     "name": "stdout",
     "output_type": "stream",
     "text": [
      "Accuracy: 0.9976635338487082\n",
      "Precision 0.9997789078045545\n",
      "Recall 0.9563623545999295\n",
      "f1_score 0.9775888160265186\n"
     ]
    }
   ],
   "source": [
    "from sklearn import metrics\n",
    "print(\"Accuracy:\",metrics.accuracy_score(y_test, y_pred_rf))\n",
    "print(\"Precision\",metrics.precision_score(y_test,y_pred_rf))\n",
    "print(\"Recall\",metrics.recall_score(y_test,y_pred_rf))\n",
    "print(\"f1_score\",metrics.f1_score(y_test,y_pred_rf))"
   ]
  },
  {
   "cell_type": "code",
   "execution_count": 80,
   "metadata": {
    "ExecuteTime": {
     "end_time": "2021-06-04T15:06:20.744887Z",
     "start_time": "2021-06-04T15:06:05.546340Z"
    }
   },
   "outputs": [
    {
     "data": {
      "text/plain": [
       "<sklearn.metrics._plot.confusion_matrix.ConfusionMatrixDisplay at 0x1a202603fa0>"
      ]
     },
     "execution_count": 80,
     "metadata": {},
     "output_type": "execute_result"
    },
    {
     "data": {
      "image/png": "[encoded data removed]",
      "text/plain": [
       "<Figure size 432x288 with 2 Axes>"
      ]
     },
     "metadata": {
      "needs_background": "light"
     },
     "output_type": "display_data"
    }
   ],
   "source": [
    "metrics.plot_confusion_matrix(rf,X_all,Y)"
   ]
  },
  {
   "cell_type": "code",
   "execution_count": 81,
   "metadata": {
    "ExecuteTime": {
     "end_time": "2021-06-04T15:06:21.010946Z",
     "start_time": "2021-06-04T15:06:20.746882Z"
    }
   },
   "outputs": [
    {
     "name": "stdout",
     "output_type": "stream",
     "text": [
      "Accuracy: 0.9967432216186978\n",
      "Precision 0.9966437947494033\n",
      "Recall 0.9420514628128305\n",
      "f1_score 0.9685789874243468\n"
     ]
    }
   ],
   "source": [
    "from sklearn import metrics\n",
    "print(\"Accuracy:\",metrics.accuracy_score(y_test, y_pred))\n",
    "print(\"Precision\",metrics.precision_score(y_test,y_pred))\n",
    "print(\"Recall\",metrics.recall_score(y_test,y_pred))\n",
    "print(\"f1_score\",metrics.f1_score(y_test,y_pred))"
   ]
  },
  {
   "cell_type": "code",
   "execution_count": 82,
   "metadata": {
    "ExecuteTime": {
     "end_time": "2021-06-04T15:06:23.809577Z",
     "start_time": "2021-06-04T15:06:21.014806Z"
    }
   },
   "outputs": [
    {
     "data": {
      "text/plain": [
       "<sklearn.metrics._plot.confusion_matrix.ConfusionMatrixDisplay at 0x1a31f17b2e0>"
      ]
     },
     "execution_count": 82,
     "metadata": {},
     "output_type": "execute_result"
    },
    {
     "data": {
      "image/png": "[encoded data removed]",
      "text/plain": [
       "<Figure size 432x288 with 2 Axes>"
      ]
     },
     "metadata": {
      "needs_background": "light"
     },
     "output_type": "display_data"
    }
   ],
   "source": [
    "metrics.plot_confusion_matrix(clf,X_all,Y)"
   ]
  },
  {
   "cell_type": "code",
   "execution_count": 83,
   "metadata": {
    "ExecuteTime": {
     "end_time": "2021-06-04T15:06:23.824667Z",
     "start_time": "2021-06-04T15:06:23.811572Z"
    }
   },
   "outputs": [],
   "source": [
    "# from sklearn import metrics\n",
    "# print(\"Accuracy:\",metrics.accuracy_score(y_test, y_pred_xgb))\n",
    "# print(\"Precision\",metrics.precision_score(y_test,y_pred_xgb))\n",
    "# print(\"Recall\",metrics.recall_score(y_test,y_pred_xgb))\n",
    "# print(\"f1_score\",metrics.f1_score(y_test,y_pred_xgb))"
   ]
  },
  {
   "cell_type": "code",
   "execution_count": 84,
   "metadata": {
    "ExecuteTime": {
     "end_time": "2021-06-04T15:06:23.871194Z",
     "start_time": "2021-06-04T15:06:23.826597Z"
    }
   },
   "outputs": [],
   "source": [
    "# metrics.plot_confusion_matrix(xgb,X_all,Y)"
   ]
  },
  {
   "cell_type": "code",
   "execution_count": 85,
   "metadata": {
    "ExecuteTime": {
     "end_time": "2021-06-04T15:06:23.887193Z",
     "start_time": "2021-06-04T15:06:23.873189Z"
    }
   },
   "outputs": [],
   "source": [
    "# Lorenz Curve"
   ]
  },
  {
   "cell_type": "code",
   "execution_count": 86,
   "metadata": {
    "ExecuteTime": {
     "end_time": "2021-06-04T15:06:23.902185Z",
     "start_time": "2021-06-04T15:06:23.894133Z"
    }
   },
   "outputs": [],
   "source": [
    "#Decsion Tree Lorenz Curve"
   ]
  },
  {
   "cell_type": "code",
   "execution_count": 87,
   "metadata": {
    "ExecuteTime": {
     "end_time": "2021-06-04T15:06:25.971031Z",
     "start_time": "2021-06-04T15:06:23.905104Z"
    }
   },
   "outputs": [
    {
     "data": {
      "text/html": [
       "<div>\n",
       "<style scoped>\n",
       "    .dataframe tbody tr th:only-of-type {\n",
       "        vertical-align: middle;\n",
       "    }\n",
       "\n",
       "    .dataframe tbody tr th {\n",
       "        vertical-align: top;\n",
       "    }\n",
       "\n",
       "    .dataframe thead th {\n",
       "        text-align: right;\n",
       "    }\n",
       "</style>\n",
       "<table border=\"1\" class=\"dataframe\">\n",
       "  <thead>\n",
       "    <tr style=\"text-align: right;\">\n",
       "      <th></th>\n",
       "      <th>P_Rank_RF</th>\n",
       "      <th>count</th>\n",
       "      <th>mean</th>\n",
       "      <th>N_events</th>\n",
       "      <th>cum_events</th>\n",
       "      <th>event_cap</th>\n",
       "      <th>cum_event_cap</th>\n",
       "      <th>random_cap</th>\n",
       "      <th>cum_random_cap</th>\n",
       "      <th>decile</th>\n",
       "      <th>lift_over_random</th>\n",
       "    </tr>\n",
       "  </thead>\n",
       "  <tbody>\n",
       "    <tr>\n",
       "      <th>0</th>\n",
       "      <td>10</td>\n",
       "      <td>88738</td>\n",
       "      <td>0.527350</td>\n",
       "      <td>46796.0</td>\n",
       "      <td>46796.0</td>\n",
       "      <td>0.990853</td>\n",
       "      <td>0.990853</td>\n",
       "      <td>0.100000</td>\n",
       "      <td>0.100000</td>\n",
       "      <td>1</td>\n",
       "      <td>9.908518</td>\n",
       "    </tr>\n",
       "    <tr>\n",
       "      <th>1</th>\n",
       "      <td>9</td>\n",
       "      <td>88738</td>\n",
       "      <td>0.000631</td>\n",
       "      <td>56.0</td>\n",
       "      <td>46852.0</td>\n",
       "      <td>0.001186</td>\n",
       "      <td>0.992039</td>\n",
       "      <td>0.100000</td>\n",
       "      <td>0.200000</td>\n",
       "      <td>2</td>\n",
       "      <td>4.960188</td>\n",
       "    </tr>\n",
       "    <tr>\n",
       "      <th>2</th>\n",
       "      <td>8</td>\n",
       "      <td>88738</td>\n",
       "      <td>0.000293</td>\n",
       "      <td>26.0</td>\n",
       "      <td>46878.0</td>\n",
       "      <td>0.000551</td>\n",
       "      <td>0.992589</td>\n",
       "      <td>0.100000</td>\n",
       "      <td>0.300000</td>\n",
       "      <td>3</td>\n",
       "      <td>3.308627</td>\n",
       "    </tr>\n",
       "    <tr>\n",
       "      <th>3</th>\n",
       "      <td>7</td>\n",
       "      <td>88738</td>\n",
       "      <td>0.000056</td>\n",
       "      <td>5.0</td>\n",
       "      <td>46883.0</td>\n",
       "      <td>0.000106</td>\n",
       "      <td>0.992695</td>\n",
       "      <td>0.100000</td>\n",
       "      <td>0.400000</td>\n",
       "      <td>4</td>\n",
       "      <td>2.481735</td>\n",
       "    </tr>\n",
       "    <tr>\n",
       "      <th>4</th>\n",
       "      <td>6</td>\n",
       "      <td>88737</td>\n",
       "      <td>0.000000</td>\n",
       "      <td>0.0</td>\n",
       "      <td>46883.0</td>\n",
       "      <td>0.000000</td>\n",
       "      <td>0.992695</td>\n",
       "      <td>0.099999</td>\n",
       "      <td>0.499999</td>\n",
       "      <td>5</td>\n",
       "      <td>1.985392</td>\n",
       "    </tr>\n",
       "    <tr>\n",
       "      <th>5</th>\n",
       "      <td>5</td>\n",
       "      <td>88738</td>\n",
       "      <td>0.000631</td>\n",
       "      <td>56.0</td>\n",
       "      <td>46939.0</td>\n",
       "      <td>0.001186</td>\n",
       "      <td>0.993881</td>\n",
       "      <td>0.100000</td>\n",
       "      <td>0.600000</td>\n",
       "      <td>6</td>\n",
       "      <td>1.656469</td>\n",
       "    </tr>\n",
       "    <tr>\n",
       "      <th>6</th>\n",
       "      <td>4</td>\n",
       "      <td>88738</td>\n",
       "      <td>0.000992</td>\n",
       "      <td>88.0</td>\n",
       "      <td>47027.0</td>\n",
       "      <td>0.001863</td>\n",
       "      <td>0.995744</td>\n",
       "      <td>0.100000</td>\n",
       "      <td>0.700000</td>\n",
       "      <td>7</td>\n",
       "      <td>1.422492</td>\n",
       "    </tr>\n",
       "    <tr>\n",
       "      <th>7</th>\n",
       "      <td>3</td>\n",
       "      <td>88738</td>\n",
       "      <td>0.000699</td>\n",
       "      <td>62.0</td>\n",
       "      <td>47089.0</td>\n",
       "      <td>0.001313</td>\n",
       "      <td>0.997057</td>\n",
       "      <td>0.100000</td>\n",
       "      <td>0.800000</td>\n",
       "      <td>8</td>\n",
       "      <td>1.246321</td>\n",
       "    </tr>\n",
       "    <tr>\n",
       "      <th>8</th>\n",
       "      <td>2</td>\n",
       "      <td>88738</td>\n",
       "      <td>0.000721</td>\n",
       "      <td>64.0</td>\n",
       "      <td>47153.0</td>\n",
       "      <td>0.001355</td>\n",
       "      <td>0.998412</td>\n",
       "      <td>0.100000</td>\n",
       "      <td>0.900000</td>\n",
       "      <td>9</td>\n",
       "      <td>1.109347</td>\n",
       "    </tr>\n",
       "    <tr>\n",
       "      <th>9</th>\n",
       "      <td>1</td>\n",
       "      <td>88738</td>\n",
       "      <td>0.000845</td>\n",
       "      <td>75.0</td>\n",
       "      <td>47228.0</td>\n",
       "      <td>0.001588</td>\n",
       "      <td>1.000000</td>\n",
       "      <td>0.100000</td>\n",
       "      <td>1.000000</td>\n",
       "      <td>10</td>\n",
       "      <td>1.000000</td>\n",
       "    </tr>\n",
       "  </tbody>\n",
       "</table>\n",
       "</div>"
      ],
      "text/plain": [
       "   P_Rank_RF  count      mean  N_events  cum_events  event_cap  cum_event_cap  \\\n",
       "0         10  88738  0.527350   46796.0     46796.0   0.990853       0.990853   \n",
       "1          9  88738  0.000631      56.0     46852.0   0.001186       0.992039   \n",
       "2          8  88738  0.000293      26.0     46878.0   0.000551       0.992589   \n",
       "3          7  88738  0.000056       5.0     46883.0   0.000106       0.992695   \n",
       "4          6  88737  0.000000       0.0     46883.0   0.000000       0.992695   \n",
       "5          5  88738  0.000631      56.0     46939.0   0.001186       0.993881   \n",
       "6          4  88738  0.000992      88.0     47027.0   0.001863       0.995744   \n",
       "7          3  88738  0.000699      62.0     47089.0   0.001313       0.997057   \n",
       "8          2  88738  0.000721      64.0     47153.0   0.001355       0.998412   \n",
       "9          1  88738  0.000845      75.0     47228.0   0.001588       1.000000   \n",
       "\n",
       "   random_cap  cum_random_cap  decile  lift_over_random  \n",
       "0    0.100000        0.100000       1          9.908518  \n",
       "1    0.100000        0.200000       2          4.960188  \n",
       "2    0.100000        0.300000       3          3.308627  \n",
       "3    0.100000        0.400000       4          2.481735  \n",
       "4    0.099999        0.499999       5          1.985392  \n",
       "5    0.100000        0.600000       6          1.656469  \n",
       "6    0.100000        0.700000       7          1.422492  \n",
       "7    0.100000        0.800000       8          1.246321  \n",
       "8    0.100000        0.900000       9          1.109347  \n",
       "9    0.100000        1.000000      10          1.000000  "
      ]
     },
     "execution_count": 87,
     "metadata": {},
     "output_type": "execute_result"
    }
   ],
   "source": [
    "y_pred_prob = dtree.predict_proba(X_all)[:, 1]\n",
    "df_loan['y_pred_P']=pd.DataFrame(y_pred_prob)\n",
    "df_loan['P_Rank_RF']=pd.qcut(df_loan['y_pred_P'].rank(method='first').values,10,duplicates='drop').codes+1\n",
    "rank_df=df_loan.groupby('P_Rank_RF')['target'].agg(['count','mean'])\n",
    "rank_df=pd.DataFrame(rank_df)\n",
    "sorted_rank_df=rank_df.sort_values(by='P_Rank_RF',ascending=False)\n",
    "sorted_rank_df['N_events']=rank_df['count']*rank_df['mean']\n",
    "sorted_rank_df['cum_events']=sorted_rank_df['N_events'].cumsum()\n",
    "sorted_rank_df['event_cap']=sorted_rank_df['N_events']/max(sorted_rank_df['N_events'].cumsum())\n",
    "sorted_rank_df['cum_event_cap']=sorted_rank_df['event_cap'].cumsum()\n",
    "sorted_rank_df['random_cap']=sorted_rank_df['count']/max(sorted_rank_df['count'].cumsum())\n",
    "sorted_rank_df['cum_random_cap']=sorted_rank_df['random_cap'].cumsum()\n",
    "sorted_reindexed=sorted_rank_df.reset_index()\n",
    "sorted_reindexed['decile']=sorted_reindexed.index+1\n",
    "sorted_reindexed['lift_over_random']=sorted_reindexed['cum_event_cap']/sorted_reindexed['cum_random_cap']\n",
    "sorted_reindexed"
   ]
  },
  {
   "cell_type": "code",
   "execution_count": 88,
   "metadata": {
    "ExecuteTime": {
     "end_time": "2021-06-04T15:06:26.190579Z",
     "start_time": "2021-06-04T15:06:25.974023Z"
    }
   },
   "outputs": [
    {
     "data": {
      "image/png": "[encoded data removed]",
      "text/plain": [
       "<Figure size 432x288 with 1 Axes>"
      ]
     },
     "metadata": {
      "needs_background": "light"
     },
     "output_type": "display_data"
    }
   ],
   "source": [
    "ax = sns.lineplot( x=\"decile\", y=\"lift_over_random\", data=sorted_reindexed)\n",
    "ax = sns.lineplot( x=\"decile\", y=\"random_cap\", data=sorted_reindexed)"
   ]
  },
  {
   "cell_type": "code",
   "execution_count": 102,
   "metadata": {
    "ExecuteTime": {
     "end_time": "2021-06-04T15:39:42.366722Z",
     "start_time": "2021-06-04T15:39:42.362762Z"
    }
   },
   "outputs": [],
   "source": [
    "# df_loan.groupby('P_Rank_RF')['y_pred_P'].agg(['min','max'])"
   ]
  },
  {
   "cell_type": "code",
   "execution_count": null,
   "metadata": {},
   "outputs": [],
   "source": [
    "#Decsion Random Forest Curve"
   ]
  },
  {
   "cell_type": "code",
   "execution_count": 98,
   "metadata": {
    "ExecuteTime": {
     "end_time": "2021-06-04T15:36:57.137834Z",
     "start_time": "2021-06-04T15:36:41.314603Z"
    }
   },
   "outputs": [
    {
     "data": {
      "text/html": [
       "<div>\n",
       "<style scoped>\n",
       "    .dataframe tbody tr th:only-of-type {\n",
       "        vertical-align: middle;\n",
       "    }\n",
       "\n",
       "    .dataframe tbody tr th {\n",
       "        vertical-align: top;\n",
       "    }\n",
       "\n",
       "    .dataframe thead th {\n",
       "        text-align: right;\n",
       "    }\n",
       "</style>\n",
       "<table border=\"1\" class=\"dataframe\">\n",
       "  <thead>\n",
       "    <tr style=\"text-align: right;\">\n",
       "      <th></th>\n",
       "      <th>P_Rank_RF</th>\n",
       "      <th>count</th>\n",
       "      <th>mean</th>\n",
       "      <th>N_events</th>\n",
       "      <th>cum_events</th>\n",
       "      <th>event_cap</th>\n",
       "      <th>cum_event_cap</th>\n",
       "      <th>random_cap</th>\n",
       "      <th>cum_random_cap</th>\n",
       "      <th>decile</th>\n",
       "      <th>lift_over_random</th>\n",
       "    </tr>\n",
       "  </thead>\n",
       "  <tbody>\n",
       "    <tr>\n",
       "      <th>0</th>\n",
       "      <td>10</td>\n",
       "      <td>88738</td>\n",
       "      <td>0.528736</td>\n",
       "      <td>46919.0</td>\n",
       "      <td>46919.0</td>\n",
       "      <td>0.993457</td>\n",
       "      <td>0.993457</td>\n",
       "      <td>0.100000</td>\n",
       "      <td>0.100000</td>\n",
       "      <td>1</td>\n",
       "      <td>9.934562</td>\n",
       "    </tr>\n",
       "    <tr>\n",
       "      <th>1</th>\n",
       "      <td>9</td>\n",
       "      <td>88738</td>\n",
       "      <td>0.000935</td>\n",
       "      <td>83.0</td>\n",
       "      <td>47002.0</td>\n",
       "      <td>0.001757</td>\n",
       "      <td>0.995215</td>\n",
       "      <td>0.100000</td>\n",
       "      <td>0.200000</td>\n",
       "      <td>2</td>\n",
       "      <td>4.976068</td>\n",
       "    </tr>\n",
       "    <tr>\n",
       "      <th>2</th>\n",
       "      <td>8</td>\n",
       "      <td>88738</td>\n",
       "      <td>0.000462</td>\n",
       "      <td>41.0</td>\n",
       "      <td>47043.0</td>\n",
       "      <td>0.000868</td>\n",
       "      <td>0.996083</td>\n",
       "      <td>0.100000</td>\n",
       "      <td>0.300000</td>\n",
       "      <td>3</td>\n",
       "      <td>3.320272</td>\n",
       "    </tr>\n",
       "    <tr>\n",
       "      <th>3</th>\n",
       "      <td>7</td>\n",
       "      <td>88738</td>\n",
       "      <td>0.000158</td>\n",
       "      <td>14.0</td>\n",
       "      <td>47057.0</td>\n",
       "      <td>0.000296</td>\n",
       "      <td>0.996379</td>\n",
       "      <td>0.100000</td>\n",
       "      <td>0.400000</td>\n",
       "      <td>4</td>\n",
       "      <td>2.490945</td>\n",
       "    </tr>\n",
       "    <tr>\n",
       "      <th>4</th>\n",
       "      <td>6</td>\n",
       "      <td>88737</td>\n",
       "      <td>0.000034</td>\n",
       "      <td>3.0</td>\n",
       "      <td>47060.0</td>\n",
       "      <td>0.000064</td>\n",
       "      <td>0.996443</td>\n",
       "      <td>0.099999</td>\n",
       "      <td>0.499999</td>\n",
       "      <td>5</td>\n",
       "      <td>1.992888</td>\n",
       "    </tr>\n",
       "    <tr>\n",
       "      <th>5</th>\n",
       "      <td>5</td>\n",
       "      <td>88738</td>\n",
       "      <td>0.000023</td>\n",
       "      <td>2.0</td>\n",
       "      <td>47062.0</td>\n",
       "      <td>0.000042</td>\n",
       "      <td>0.996485</td>\n",
       "      <td>0.100000</td>\n",
       "      <td>0.600000</td>\n",
       "      <td>6</td>\n",
       "      <td>1.660810</td>\n",
       "    </tr>\n",
       "    <tr>\n",
       "      <th>6</th>\n",
       "      <td>4</td>\n",
       "      <td>88738</td>\n",
       "      <td>0.000620</td>\n",
       "      <td>55.0</td>\n",
       "      <td>47117.0</td>\n",
       "      <td>0.001165</td>\n",
       "      <td>0.997650</td>\n",
       "      <td>0.100000</td>\n",
       "      <td>0.700000</td>\n",
       "      <td>7</td>\n",
       "      <td>1.425215</td>\n",
       "    </tr>\n",
       "    <tr>\n",
       "      <th>7</th>\n",
       "      <td>3</td>\n",
       "      <td>88738</td>\n",
       "      <td>0.000665</td>\n",
       "      <td>59.0</td>\n",
       "      <td>47176.0</td>\n",
       "      <td>0.001249</td>\n",
       "      <td>0.998899</td>\n",
       "      <td>0.100000</td>\n",
       "      <td>0.800000</td>\n",
       "      <td>8</td>\n",
       "      <td>1.248624</td>\n",
       "    </tr>\n",
       "    <tr>\n",
       "      <th>8</th>\n",
       "      <td>2</td>\n",
       "      <td>88738</td>\n",
       "      <td>0.000237</td>\n",
       "      <td>21.0</td>\n",
       "      <td>47197.0</td>\n",
       "      <td>0.000445</td>\n",
       "      <td>0.999344</td>\n",
       "      <td>0.100000</td>\n",
       "      <td>0.900000</td>\n",
       "      <td>9</td>\n",
       "      <td>1.110382</td>\n",
       "    </tr>\n",
       "    <tr>\n",
       "      <th>9</th>\n",
       "      <td>1</td>\n",
       "      <td>88738</td>\n",
       "      <td>0.000349</td>\n",
       "      <td>31.0</td>\n",
       "      <td>47228.0</td>\n",
       "      <td>0.000656</td>\n",
       "      <td>1.000000</td>\n",
       "      <td>0.100000</td>\n",
       "      <td>1.000000</td>\n",
       "      <td>10</td>\n",
       "      <td>1.000000</td>\n",
       "    </tr>\n",
       "  </tbody>\n",
       "</table>\n",
       "</div>"
      ],
      "text/plain": [
       "   P_Rank_RF  count      mean  N_events  cum_events  event_cap  cum_event_cap  \\\n",
       "0         10  88738  0.528736   46919.0     46919.0   0.993457       0.993457   \n",
       "1          9  88738  0.000935      83.0     47002.0   0.001757       0.995215   \n",
       "2          8  88738  0.000462      41.0     47043.0   0.000868       0.996083   \n",
       "3          7  88738  0.000158      14.0     47057.0   0.000296       0.996379   \n",
       "4          6  88737  0.000034       3.0     47060.0   0.000064       0.996443   \n",
       "5          5  88738  0.000023       2.0     47062.0   0.000042       0.996485   \n",
       "6          4  88738  0.000620      55.0     47117.0   0.001165       0.997650   \n",
       "7          3  88738  0.000665      59.0     47176.0   0.001249       0.998899   \n",
       "8          2  88738  0.000237      21.0     47197.0   0.000445       0.999344   \n",
       "9          1  88738  0.000349      31.0     47228.0   0.000656       1.000000   \n",
       "\n",
       "   random_cap  cum_random_cap  decile  lift_over_random  \n",
       "0    0.100000        0.100000       1          9.934562  \n",
       "1    0.100000        0.200000       2          4.976068  \n",
       "2    0.100000        0.300000       3          3.320272  \n",
       "3    0.100000        0.400000       4          2.490945  \n",
       "4    0.099999        0.499999       5          1.992888  \n",
       "5    0.100000        0.600000       6          1.660810  \n",
       "6    0.100000        0.700000       7          1.425215  \n",
       "7    0.100000        0.800000       8          1.248624  \n",
       "8    0.100000        0.900000       9          1.110382  \n",
       "9    0.100000        1.000000      10          1.000000  "
      ]
     },
     "execution_count": 98,
     "metadata": {},
     "output_type": "execute_result"
    }
   ],
   "source": [
    "y_pred_prob = rf.predict_proba(X_all)[:, 1]\n",
    "df_loan['y_pred_P']=pd.DataFrame(y_pred_prob)\n",
    "df_loan['P_Rank_RF']=pd.qcut(df_loan['y_pred_P'].rank(method='first').values,10,duplicates='drop').codes+1\n",
    "rank_df=df_loan.groupby('P_Rank_RF')['target'].agg(['count','mean'])\n",
    "rank_df=pd.DataFrame(rank_df)\n",
    "sorted_rank_df=rank_df.sort_values(by='P_Rank_RF',ascending=False)\n",
    "sorted_rank_df['N_events']=rank_df['count']*rank_df['mean']\n",
    "sorted_rank_df['cum_events']=sorted_rank_df['N_events'].cumsum()\n",
    "sorted_rank_df['event_cap']=sorted_rank_df['N_events']/max(sorted_rank_df['N_events'].cumsum())\n",
    "sorted_rank_df['cum_event_cap']=sorted_rank_df['event_cap'].cumsum()\n",
    "sorted_rank_df['random_cap']=sorted_rank_df['count']/max(sorted_rank_df['count'].cumsum())\n",
    "sorted_rank_df['cum_random_cap']=sorted_rank_df['random_cap'].cumsum()\n",
    "sorted_reindexed=sorted_rank_df.reset_index()\n",
    "sorted_reindexed['decile']=sorted_reindexed.index+1\n",
    "sorted_reindexed['lift_over_random']=sorted_reindexed['cum_event_cap']/sorted_reindexed['cum_random_cap']\n",
    "sorted_reindexed"
   ]
  },
  {
   "cell_type": "code",
   "execution_count": 99,
   "metadata": {
    "ExecuteTime": {
     "end_time": "2021-06-04T15:37:02.481787Z",
     "start_time": "2021-06-04T15:37:02.180065Z"
    }
   },
   "outputs": [
    {
     "data": {
      "image/png": "[encoded data removed]",
      "text/plain": [
       "<Figure size 432x288 with 1 Axes>"
      ]
     },
     "metadata": {
      "needs_background": "light"
     },
     "output_type": "display_data"
    }
   ],
   "source": [
    "ax = sns.lineplot( x=\"decile\", y=\"lift_over_random\", data=sorted_reindexed)\n",
    "ax = sns.lineplot( x=\"decile\", y=\"random_cap\", data=sorted_reindexed)"
   ]
  },
  {
   "cell_type": "code",
   "execution_count": null,
   "metadata": {},
   "outputs": [],
   "source": [
    "#GBM Curve"
   ]
  },
  {
   "cell_type": "code",
   "execution_count": 100,
   "metadata": {
    "ExecuteTime": {
     "end_time": "2021-06-04T15:37:57.935346Z",
     "start_time": "2021-06-04T15:37:55.310783Z"
    }
   },
   "outputs": [
    {
     "data": {
      "text/html": [
       "<div>\n",
       "<style scoped>\n",
       "    .dataframe tbody tr th:only-of-type {\n",
       "        vertical-align: middle;\n",
       "    }\n",
       "\n",
       "    .dataframe tbody tr th {\n",
       "        vertical-align: top;\n",
       "    }\n",
       "\n",
       "    .dataframe thead th {\n",
       "        text-align: right;\n",
       "    }\n",
       "</style>\n",
       "<table border=\"1\" class=\"dataframe\">\n",
       "  <thead>\n",
       "    <tr style=\"text-align: right;\">\n",
       "      <th></th>\n",
       "      <th>P_Rank_RF</th>\n",
       "      <th>count</th>\n",
       "      <th>mean</th>\n",
       "      <th>N_events</th>\n",
       "      <th>cum_events</th>\n",
       "      <th>event_cap</th>\n",
       "      <th>cum_event_cap</th>\n",
       "      <th>random_cap</th>\n",
       "      <th>cum_random_cap</th>\n",
       "      <th>decile</th>\n",
       "      <th>lift_over_random</th>\n",
       "    </tr>\n",
       "  </thead>\n",
       "  <tbody>\n",
       "    <tr>\n",
       "      <th>0</th>\n",
       "      <td>10</td>\n",
       "      <td>88738</td>\n",
       "      <td>0.517726</td>\n",
       "      <td>45942.0</td>\n",
       "      <td>45942.0</td>\n",
       "      <td>0.972770</td>\n",
       "      <td>0.972770</td>\n",
       "      <td>0.100000</td>\n",
       "      <td>0.100000</td>\n",
       "      <td>1</td>\n",
       "      <td>9.727693</td>\n",
       "    </tr>\n",
       "    <tr>\n",
       "      <th>1</th>\n",
       "      <td>9</td>\n",
       "      <td>88738</td>\n",
       "      <td>0.004305</td>\n",
       "      <td>382.0</td>\n",
       "      <td>46324.0</td>\n",
       "      <td>0.008088</td>\n",
       "      <td>0.980859</td>\n",
       "      <td>0.100000</td>\n",
       "      <td>0.200000</td>\n",
       "      <td>2</td>\n",
       "      <td>4.904289</td>\n",
       "    </tr>\n",
       "    <tr>\n",
       "      <th>2</th>\n",
       "      <td>8</td>\n",
       "      <td>88738</td>\n",
       "      <td>0.002783</td>\n",
       "      <td>247.0</td>\n",
       "      <td>46571.0</td>\n",
       "      <td>0.005230</td>\n",
       "      <td>0.986089</td>\n",
       "      <td>0.100000</td>\n",
       "      <td>0.300000</td>\n",
       "      <td>3</td>\n",
       "      <td>3.286959</td>\n",
       "    </tr>\n",
       "    <tr>\n",
       "      <th>3</th>\n",
       "      <td>7</td>\n",
       "      <td>88738</td>\n",
       "      <td>0.002310</td>\n",
       "      <td>205.0</td>\n",
       "      <td>46776.0</td>\n",
       "      <td>0.004341</td>\n",
       "      <td>0.990429</td>\n",
       "      <td>0.100000</td>\n",
       "      <td>0.400000</td>\n",
       "      <td>4</td>\n",
       "      <td>2.476071</td>\n",
       "    </tr>\n",
       "    <tr>\n",
       "      <th>4</th>\n",
       "      <td>6</td>\n",
       "      <td>88737</td>\n",
       "      <td>0.001555</td>\n",
       "      <td>138.0</td>\n",
       "      <td>46914.0</td>\n",
       "      <td>0.002922</td>\n",
       "      <td>0.993351</td>\n",
       "      <td>0.099999</td>\n",
       "      <td>0.499999</td>\n",
       "      <td>5</td>\n",
       "      <td>1.986705</td>\n",
       "    </tr>\n",
       "    <tr>\n",
       "      <th>5</th>\n",
       "      <td>5</td>\n",
       "      <td>88738</td>\n",
       "      <td>0.001104</td>\n",
       "      <td>98.0</td>\n",
       "      <td>47012.0</td>\n",
       "      <td>0.002075</td>\n",
       "      <td>0.995426</td>\n",
       "      <td>0.100000</td>\n",
       "      <td>0.600000</td>\n",
       "      <td>6</td>\n",
       "      <td>1.659045</td>\n",
       "    </tr>\n",
       "    <tr>\n",
       "      <th>6</th>\n",
       "      <td>4</td>\n",
       "      <td>88738</td>\n",
       "      <td>0.000969</td>\n",
       "      <td>86.0</td>\n",
       "      <td>47098.0</td>\n",
       "      <td>0.001821</td>\n",
       "      <td>0.997247</td>\n",
       "      <td>0.100000</td>\n",
       "      <td>0.700000</td>\n",
       "      <td>7</td>\n",
       "      <td>1.424640</td>\n",
       "    </tr>\n",
       "    <tr>\n",
       "      <th>7</th>\n",
       "      <td>3</td>\n",
       "      <td>88738</td>\n",
       "      <td>0.000631</td>\n",
       "      <td>56.0</td>\n",
       "      <td>47154.0</td>\n",
       "      <td>0.001186</td>\n",
       "      <td>0.998433</td>\n",
       "      <td>0.100000</td>\n",
       "      <td>0.800000</td>\n",
       "      <td>8</td>\n",
       "      <td>1.248042</td>\n",
       "    </tr>\n",
       "    <tr>\n",
       "      <th>8</th>\n",
       "      <td>2</td>\n",
       "      <td>88738</td>\n",
       "      <td>0.000428</td>\n",
       "      <td>38.0</td>\n",
       "      <td>47192.0</td>\n",
       "      <td>0.000805</td>\n",
       "      <td>0.999238</td>\n",
       "      <td>0.100000</td>\n",
       "      <td>0.900000</td>\n",
       "      <td>9</td>\n",
       "      <td>1.110264</td>\n",
       "    </tr>\n",
       "    <tr>\n",
       "      <th>9</th>\n",
       "      <td>1</td>\n",
       "      <td>88738</td>\n",
       "      <td>0.000406</td>\n",
       "      <td>36.0</td>\n",
       "      <td>47228.0</td>\n",
       "      <td>0.000762</td>\n",
       "      <td>1.000000</td>\n",
       "      <td>0.100000</td>\n",
       "      <td>1.000000</td>\n",
       "      <td>10</td>\n",
       "      <td>1.000000</td>\n",
       "    </tr>\n",
       "  </tbody>\n",
       "</table>\n",
       "</div>"
      ],
      "text/plain": [
       "   P_Rank_RF  count      mean  N_events  cum_events  event_cap  cum_event_cap  \\\n",
       "0         10  88738  0.517726   45942.0     45942.0   0.972770       0.972770   \n",
       "1          9  88738  0.004305     382.0     46324.0   0.008088       0.980859   \n",
       "2          8  88738  0.002783     247.0     46571.0   0.005230       0.986089   \n",
       "3          7  88738  0.002310     205.0     46776.0   0.004341       0.990429   \n",
       "4          6  88737  0.001555     138.0     46914.0   0.002922       0.993351   \n",
       "5          5  88738  0.001104      98.0     47012.0   0.002075       0.995426   \n",
       "6          4  88738  0.000969      86.0     47098.0   0.001821       0.997247   \n",
       "7          3  88738  0.000631      56.0     47154.0   0.001186       0.998433   \n",
       "8          2  88738  0.000428      38.0     47192.0   0.000805       0.999238   \n",
       "9          1  88738  0.000406      36.0     47228.0   0.000762       1.000000   \n",
       "\n",
       "   random_cap  cum_random_cap  decile  lift_over_random  \n",
       "0    0.100000        0.100000       1          9.727693  \n",
       "1    0.100000        0.200000       2          4.904289  \n",
       "2    0.100000        0.300000       3          3.286959  \n",
       "3    0.100000        0.400000       4          2.476071  \n",
       "4    0.099999        0.499999       5          1.986705  \n",
       "5    0.100000        0.600000       6          1.659045  \n",
       "6    0.100000        0.700000       7          1.424640  \n",
       "7    0.100000        0.800000       8          1.248042  \n",
       "8    0.100000        0.900000       9          1.110264  \n",
       "9    0.100000        1.000000      10          1.000000  "
      ]
     },
     "execution_count": 100,
     "metadata": {},
     "output_type": "execute_result"
    }
   ],
   "source": [
    "y_pred_prob = clf.predict_proba(X_all)[:, 1]\n",
    "df_loan['y_pred_P']=pd.DataFrame(y_pred_prob)\n",
    "df_loan['P_Rank_RF']=pd.qcut(df_loan['y_pred_P'].rank(method='first').values,10,duplicates='drop').codes+1\n",
    "rank_df=df_loan.groupby('P_Rank_RF')['target'].agg(['count','mean'])\n",
    "rank_df=pd.DataFrame(rank_df)\n",
    "sorted_rank_df=rank_df.sort_values(by='P_Rank_RF',ascending=False)\n",
    "sorted_rank_df['N_events']=rank_df['count']*rank_df['mean']\n",
    "sorted_rank_df['cum_events']=sorted_rank_df['N_events'].cumsum()\n",
    "sorted_rank_df['event_cap']=sorted_rank_df['N_events']/max(sorted_rank_df['N_events'].cumsum())\n",
    "sorted_rank_df['cum_event_cap']=sorted_rank_df['event_cap'].cumsum()\n",
    "sorted_rank_df['random_cap']=sorted_rank_df['count']/max(sorted_rank_df['count'].cumsum())\n",
    "sorted_rank_df['cum_random_cap']=sorted_rank_df['random_cap'].cumsum()\n",
    "sorted_reindexed=sorted_rank_df.reset_index()\n",
    "sorted_reindexed['decile']=sorted_reindexed.index+1\n",
    "sorted_reindexed['lift_over_random']=sorted_reindexed['cum_event_cap']/sorted_reindexed['cum_random_cap']\n",
    "sorted_reindexed"
   ]
  },
  {
   "cell_type": "code",
   "execution_count": 101,
   "metadata": {
    "ExecuteTime": {
     "end_time": "2021-06-04T15:38:05.928694Z",
     "start_time": "2021-06-04T15:38:05.781574Z"
    }
   },
   "outputs": [
    {
     "data": {
      "image/png": "[encoded data removed]",
      "text/plain": [
       "<Figure size 432x288 with 1 Axes>"
      ]
     },
     "metadata": {
      "needs_background": "light"
     },
     "output_type": "display_data"
    }
   ],
   "source": [
    "ax = sns.lineplot( x=\"decile\", y=\"lift_over_random\", data=sorted_reindexed)\n",
    "ax = sns.lineplot( x=\"decile\", y=\"random_cap\", data=sorted_reindexed)"
   ]
  },
  {
   "cell_type": "code",
   "execution_count": 96,
   "metadata": {
    "ExecuteTime": {
     "end_time": "2021-06-04T15:11:17.151880Z",
     "start_time": "2021-06-04T15:11:17.134888Z"
    }
   },
   "outputs": [
    {
     "data": {
      "text/plain": [
       "0    25.285714\n",
       "dtype: float64"
      ]
     },
     "execution_count": 96,
     "metadata": {},
     "output_type": "execute_result"
    }
   ],
   "source": [
    "x=[15, 18, 21, 22, 26, 28, 28]\n",
    "df=pd.DataFrame(x)\n",
    "df.quantile(0.5)\n",
    "df.var()"
   ]
  },
  {
   "cell_type": "code",
   "execution_count": null,
   "metadata": {
    "ExecuteTime": {
     "end_time": "2021-06-04T15:06:26.230957Z",
     "start_time": "2021-06-04T15:06:05.327Z"
    }
   },
   "outputs": [],
   "source": [
    "# Project Conclusion :- \n",
    "# Create a decision tree and show it to stakeholders. This will create awareness about the kind of rules that a Tree might \n",
    "# come up with\n",
    "# Now speak about the benefit of ensembles and how they achieve a higher degress of robustness than a single tree\n",
    "# Now is the time to show that the ensemble is as good if not better than the decison tree\n",
    "# This way you can first sell the idea of a tree based solution and then sell the final product which is an ensemble of the\n",
    "# idea you have already sold(decision tree)"
   ]
  },
  {
   "cell_type": "code",
   "execution_count": null,
   "metadata": {},
   "outputs": [],
   "source": []
  }
 ],
 "metadata": {
  "kernelspec": {
   "display_name": "Python 3",
   "language": "python",
   "name": "python3"
  },
  "language_info": {
   "codemirror_mode": {
    "name": "ipython",
    "version": 3
   },
   "file_extension": ".py",
   "mimetype": "text/x-python",
   "name": "python",
   "nbconvert_exporter": "python",
   "pygments_lexer": "ipython3",
   "version": "3.8.3"
  },
  "toc": {
   "base_numbering": 1,
   "nav_menu": {},
   "number_sections": true,
   "sideBar": true,
   "skip_h1_title": false,
   "title_cell": "Table of Contents",
   "title_sidebar": "Contents",
   "toc_cell": false,
   "toc_position": {},
   "toc_section_display": true,
   "toc_window_display": false
  },
  "varInspector": {
   "cols": {
    "lenName": 16,
    "lenType": 16,
    "lenVar": 40
   },
   "kernels_config": {
    "python": {
     "delete_cmd_postfix": "",
     "delete_cmd_prefix": "del ",
     "library": "var_list.py",
     "varRefreshCmd": "print(var_dic_list())"
    },
    "r": {
     "delete_cmd_postfix": ") ",
     "delete_cmd_prefix": "rm(",
     "library": "var_list.r",
     "varRefreshCmd": "cat(var_dic_list()) "
    }
   },
   "types_to_exclude": [
    "module",
    "function",
    "builtin_function_or_method",
    "instance",
    "_Feature"
   ],
   "window_display": false
  }
 },
 "nbformat": 4,
 "nbformat_minor": 2
}
